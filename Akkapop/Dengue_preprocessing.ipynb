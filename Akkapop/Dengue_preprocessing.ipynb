{
 "cells": [
  {
   "cell_type": "markdown",
   "id": "84cdd109",
   "metadata": {
    "id": "84cdd109"
   },
   "source": [
    "# 1. Import data and libraries"
   ]
  },
  {
   "cell_type": "markdown",
   "id": "67357c17",
   "metadata": {
    "id": "67357c17"
   },
   "source": [
    "**Import libraries**"
   ]
  },
  {
   "cell_type": "code",
   "execution_count": 1,
   "id": "b5705097",
   "metadata": {
    "id": "b5705097"
   },
   "outputs": [],
   "source": [
    "import pandas as pd\n",
    "import numpy as np"
   ]
  },
  {
   "cell_type": "markdown",
   "id": "bcde2143",
   "metadata": {
    "id": "bcde2143"
   },
   "source": [
    "**Import data**\n",
    "* ```df``` as Dengue patient dataset\n",
    "* ```r_day``` as Rainy days dataset\n",
    "* ```r_ml``` as Rainfall dataset\n",
    "* ```h``` as Humidity dataset\n",
    "* ```t_avg``` as Average temperature dataset\n",
    "* ```t_min as``` Minimum temperature dataset\n",
    "* ```t_max as``` Maximum temperature dataset"
   ]
  },
  {
   "cell_type": "code",
   "execution_count": 2,
   "id": "b3a4689d",
   "metadata": {
    "id": "b3a4689d"
   },
   "outputs": [],
   "source": [
    "df = pd.read_csv('dataset/patient_dg.csv')\n",
    "r_day = pd.read_excel('dataset/rain_temp_deathcase/rain_day.xlsx', header = 2)\n",
    "r_ml = pd.read_excel('dataset/rain_temp_deathcase/rain_ml.xlsx', header = 2)\n",
    "h = pd.read_excel('dataset/rain_temp_deathcase/humidity.xlsx', header = 2)\n",
    "t_avg = pd.read_excel('dataset/rain_temp_deathcase/temp_avg.xlsx', header = 2)\n",
    "t_min = pd.read_excel('dataset/rain_temp_deathcase/temp_min.xlsx', header = 2)\n",
    "t_max = pd.read_excel('dataset/rain_temp_deathcase/temp_max.xlsx', header = 2)\n",
    "province_dict = pd.read_csv('dataset/province_translate.csv')"
   ]
  },
  {
   "cell_type": "markdown",
   "id": "1a4798be",
   "metadata": {
    "id": "1a4798be"
   },
   "source": [
    "## 1.1 Dengue patient data preprocessing"
   ]
  },
  {
   "cell_type": "code",
   "execution_count": 3,
   "id": "c44f5b76",
   "metadata": {},
   "outputs": [
    {
     "data": {
      "text/html": [
       "<div>\n",
       "<style scoped>\n",
       "    .dataframe tbody tr th:only-of-type {\n",
       "        vertical-align: middle;\n",
       "    }\n",
       "\n",
       "    .dataframe tbody tr th {\n",
       "        vertical-align: top;\n",
       "    }\n",
       "\n",
       "    .dataframe thead th {\n",
       "        text-align: right;\n",
       "    }\n",
       "</style>\n",
       "<table border=\"1\" class=\"dataframe\">\n",
       "  <thead>\n",
       "    <tr style=\"text-align: right;\">\n",
       "      <th></th>\n",
       "      <th>Changwat E</th>\n",
       "      <th>Odpc</th>\n",
       "      <th>Region</th>\n",
       "      <th>กลุ่มอายุ</th>\n",
       "      <th>Agey</th>\n",
       "      <th>Agey (copy)</th>\n",
       "      <th>Datesick</th>\n",
       "      <th>Number of Records</th>\n",
       "      <th>Sick_YEAR_2019</th>\n",
       "    </tr>\n",
       "  </thead>\n",
       "  <tbody>\n",
       "    <tr>\n",
       "      <th>0</th>\n",
       "      <td>Phrae</td>\n",
       "      <td>สคร.1</td>\n",
       "      <td>ภาคเหนือ</td>\n",
       "      <td>15-24</td>\n",
       "      <td>23</td>\n",
       "      <td>23</td>\n",
       "      <td>10/10/2020</td>\n",
       "      <td>1</td>\n",
       "      <td>NaN</td>\n",
       "    </tr>\n",
       "    <tr>\n",
       "      <th>1</th>\n",
       "      <td>Chiang Rai</td>\n",
       "      <td>สคร.1</td>\n",
       "      <td>ภาคเหนือ</td>\n",
       "      <td>15-24</td>\n",
       "      <td>24</td>\n",
       "      <td>24</td>\n",
       "      <td>9/5/2020</td>\n",
       "      <td>1</td>\n",
       "      <td>NaN</td>\n",
       "    </tr>\n",
       "    <tr>\n",
       "      <th>2</th>\n",
       "      <td>Phitsanulok</td>\n",
       "      <td>สคร.2</td>\n",
       "      <td>ภาคเหนือ</td>\n",
       "      <td>25-34</td>\n",
       "      <td>25</td>\n",
       "      <td>25</td>\n",
       "      <td>5/29/2020</td>\n",
       "      <td>1</td>\n",
       "      <td>NaN</td>\n",
       "    </tr>\n",
       "    <tr>\n",
       "      <th>3</th>\n",
       "      <td>Chiang Mai</td>\n",
       "      <td>สคร.1</td>\n",
       "      <td>ภาคเหนือ</td>\n",
       "      <td>15-24</td>\n",
       "      <td>24</td>\n",
       "      <td>24</td>\n",
       "      <td>3/2/2020</td>\n",
       "      <td>1</td>\n",
       "      <td>NaN</td>\n",
       "    </tr>\n",
       "    <tr>\n",
       "      <th>4</th>\n",
       "      <td>Chiang Mai</td>\n",
       "      <td>สคร.1</td>\n",
       "      <td>ภาคเหนือ</td>\n",
       "      <td>35-59</td>\n",
       "      <td>35</td>\n",
       "      <td>35</td>\n",
       "      <td>3/13/2020</td>\n",
       "      <td>1</td>\n",
       "      <td>NaN</td>\n",
       "    </tr>\n",
       "  </tbody>\n",
       "</table>\n",
       "</div>"
      ],
      "text/plain": [
       "    Changwat E   Odpc    Region กลุ่มอายุ  Agey  Agey (copy)    Datesick  \\\n",
       "0        Phrae  สคร.1  ภาคเหนือ     15-24    23           23  10/10/2020   \n",
       "1   Chiang Rai  สคร.1  ภาคเหนือ     15-24    24           24    9/5/2020   \n",
       "2  Phitsanulok  สคร.2  ภาคเหนือ     25-34    25           25   5/29/2020   \n",
       "3   Chiang Mai  สคร.1  ภาคเหนือ     15-24    24           24    3/2/2020   \n",
       "4   Chiang Mai  สคร.1  ภาคเหนือ     35-59    35           35   3/13/2020   \n",
       "\n",
       "   Number of Records  Sick_YEAR_2019  \n",
       "0                  1             NaN  \n",
       "1                  1             NaN  \n",
       "2                  1             NaN  \n",
       "3                  1             NaN  \n",
       "4                  1             NaN  "
      ]
     },
     "execution_count": 3,
     "metadata": {},
     "output_type": "execute_result"
    }
   ],
   "source": [
    "df.head()"
   ]
  },
  {
   "cell_type": "markdown",
   "id": "7jB0A4BwuZBJ",
   "metadata": {
    "id": "7jB0A4BwuZBJ"
   },
   "source": [
    "### 1.1.1 Rename column to appropriate name"
   ]
  },
  {
   "cell_type": "code",
   "execution_count": 5,
   "id": "659dd20f",
   "metadata": {
    "colab": {
     "base_uri": "https://localhost:8080/",
     "height": 419
    },
    "id": "659dd20f",
    "outputId": "dbaf0de1-2725-444b-ad7f-78b3cdcf6037"
   },
   "outputs": [
    {
     "data": {
      "text/html": [
       "<div>\n",
       "<style scoped>\n",
       "    .dataframe tbody tr th:only-of-type {\n",
       "        vertical-align: middle;\n",
       "    }\n",
       "\n",
       "    .dataframe tbody tr th {\n",
       "        vertical-align: top;\n",
       "    }\n",
       "\n",
       "    .dataframe thead th {\n",
       "        text-align: right;\n",
       "    }\n",
       "</style>\n",
       "<table border=\"1\" class=\"dataframe\">\n",
       "  <thead>\n",
       "    <tr style=\"text-align: right;\">\n",
       "      <th></th>\n",
       "      <th>Province</th>\n",
       "      <th>Odpc</th>\n",
       "      <th>Region</th>\n",
       "      <th>AgeGroup</th>\n",
       "      <th>Agey</th>\n",
       "      <th>Agey (copy)</th>\n",
       "      <th>Datesick</th>\n",
       "      <th>Number of Records</th>\n",
       "      <th>Sick_YEAR_2019</th>\n",
       "    </tr>\n",
       "  </thead>\n",
       "  <tbody>\n",
       "    <tr>\n",
       "      <th>0</th>\n",
       "      <td>Phrae</td>\n",
       "      <td>สคร.1</td>\n",
       "      <td>ภาคเหนือ</td>\n",
       "      <td>15-24</td>\n",
       "      <td>23</td>\n",
       "      <td>23</td>\n",
       "      <td>10/10/2020</td>\n",
       "      <td>1</td>\n",
       "      <td>NaN</td>\n",
       "    </tr>\n",
       "    <tr>\n",
       "      <th>1</th>\n",
       "      <td>Chiang Rai</td>\n",
       "      <td>สคร.1</td>\n",
       "      <td>ภาคเหนือ</td>\n",
       "      <td>15-24</td>\n",
       "      <td>24</td>\n",
       "      <td>24</td>\n",
       "      <td>9/5/2020</td>\n",
       "      <td>1</td>\n",
       "      <td>NaN</td>\n",
       "    </tr>\n",
       "    <tr>\n",
       "      <th>2</th>\n",
       "      <td>Phitsanulok</td>\n",
       "      <td>สคร.2</td>\n",
       "      <td>ภาคเหนือ</td>\n",
       "      <td>25-34</td>\n",
       "      <td>25</td>\n",
       "      <td>25</td>\n",
       "      <td>5/29/2020</td>\n",
       "      <td>1</td>\n",
       "      <td>NaN</td>\n",
       "    </tr>\n",
       "    <tr>\n",
       "      <th>3</th>\n",
       "      <td>Chiang Mai</td>\n",
       "      <td>สคร.1</td>\n",
       "      <td>ภาคเหนือ</td>\n",
       "      <td>15-24</td>\n",
       "      <td>24</td>\n",
       "      <td>24</td>\n",
       "      <td>3/2/2020</td>\n",
       "      <td>1</td>\n",
       "      <td>NaN</td>\n",
       "    </tr>\n",
       "    <tr>\n",
       "      <th>4</th>\n",
       "      <td>Chiang Mai</td>\n",
       "      <td>สคร.1</td>\n",
       "      <td>ภาคเหนือ</td>\n",
       "      <td>35-59</td>\n",
       "      <td>35</td>\n",
       "      <td>35</td>\n",
       "      <td>3/13/2020</td>\n",
       "      <td>1</td>\n",
       "      <td>NaN</td>\n",
       "    </tr>\n",
       "    <tr>\n",
       "      <th>...</th>\n",
       "      <td>...</td>\n",
       "      <td>...</td>\n",
       "      <td>...</td>\n",
       "      <td>...</td>\n",
       "      <td>...</td>\n",
       "      <td>...</td>\n",
       "      <td>...</td>\n",
       "      <td>...</td>\n",
       "      <td>...</td>\n",
       "    </tr>\n",
       "    <tr>\n",
       "      <th>476930</th>\n",
       "      <td>Kanchanaburi</td>\n",
       "      <td>สคร.5</td>\n",
       "      <td>ภาคกลาง</td>\n",
       "      <td>60</td>\n",
       "      <td>66</td>\n",
       "      <td>66</td>\n",
       "      <td>8/2/2016</td>\n",
       "      <td>1</td>\n",
       "      <td>NaN</td>\n",
       "    </tr>\n",
       "    <tr>\n",
       "      <th>476931</th>\n",
       "      <td>Phra Nakhon Si Ayutthaya</td>\n",
       "      <td>สคร.4</td>\n",
       "      <td>ภาคกลาง</td>\n",
       "      <td>35-59</td>\n",
       "      <td>40</td>\n",
       "      <td>40</td>\n",
       "      <td>3/10/2016</td>\n",
       "      <td>1</td>\n",
       "      <td>NaN</td>\n",
       "    </tr>\n",
       "    <tr>\n",
       "      <th>476932</th>\n",
       "      <td>Suphan Buri</td>\n",
       "      <td>สคร.5</td>\n",
       "      <td>ภาคกลาง</td>\n",
       "      <td>60</td>\n",
       "      <td>71</td>\n",
       "      <td>71</td>\n",
       "      <td>10/21/2016</td>\n",
       "      <td>1</td>\n",
       "      <td>NaN</td>\n",
       "    </tr>\n",
       "    <tr>\n",
       "      <th>476933</th>\n",
       "      <td>Samut Prakan</td>\n",
       "      <td>สคร.6</td>\n",
       "      <td>ภาคกลาง</td>\n",
       "      <td>15-24</td>\n",
       "      <td>23</td>\n",
       "      <td>23</td>\n",
       "      <td>2/24/2016</td>\n",
       "      <td>1</td>\n",
       "      <td>NaN</td>\n",
       "    </tr>\n",
       "    <tr>\n",
       "      <th>476934</th>\n",
       "      <td>Phra Nakhon Si Ayutthaya</td>\n",
       "      <td>สคร.4</td>\n",
       "      <td>ภาคกลาง</td>\n",
       "      <td>35-59</td>\n",
       "      <td>51</td>\n",
       "      <td>51</td>\n",
       "      <td>9/20/2016</td>\n",
       "      <td>1</td>\n",
       "      <td>NaN</td>\n",
       "    </tr>\n",
       "  </tbody>\n",
       "</table>\n",
       "<p>476935 rows × 9 columns</p>\n",
       "</div>"
      ],
      "text/plain": [
       "                        Province   Odpc    Region AgeGroup  Agey  Agey (copy)  \\\n",
       "0                          Phrae  สคร.1  ภาคเหนือ    15-24    23           23   \n",
       "1                     Chiang Rai  สคร.1  ภาคเหนือ    15-24    24           24   \n",
       "2                    Phitsanulok  สคร.2  ภาคเหนือ    25-34    25           25   \n",
       "3                     Chiang Mai  สคร.1  ภาคเหนือ    15-24    24           24   \n",
       "4                     Chiang Mai  สคร.1  ภาคเหนือ    35-59    35           35   \n",
       "...                          ...    ...       ...      ...   ...          ...   \n",
       "476930              Kanchanaburi  สคร.5   ภาคกลาง       60    66           66   \n",
       "476931  Phra Nakhon Si Ayutthaya  สคร.4   ภาคกลาง    35-59    40           40   \n",
       "476932               Suphan Buri  สคร.5   ภาคกลาง       60    71           71   \n",
       "476933              Samut Prakan  สคร.6   ภาคกลาง    15-24    23           23   \n",
       "476934  Phra Nakhon Si Ayutthaya  สคร.4   ภาคกลาง    35-59    51           51   \n",
       "\n",
       "          Datesick  Number of Records  Sick_YEAR_2019  \n",
       "0       10/10/2020                  1             NaN  \n",
       "1         9/5/2020                  1             NaN  \n",
       "2        5/29/2020                  1             NaN  \n",
       "3         3/2/2020                  1             NaN  \n",
       "4        3/13/2020                  1             NaN  \n",
       "...            ...                ...             ...  \n",
       "476930    8/2/2016                  1             NaN  \n",
       "476931   3/10/2016                  1             NaN  \n",
       "476932  10/21/2016                  1             NaN  \n",
       "476933   2/24/2016                  1             NaN  \n",
       "476934   9/20/2016                  1             NaN  \n",
       "\n",
       "[476935 rows x 9 columns]"
      ]
     },
     "execution_count": 5,
     "metadata": {},
     "output_type": "execute_result"
    }
   ],
   "source": [
    "# rename column to appropriate name\n",
    "df2 = df.rename(columns={'กลุ่มอายุ': 'AgeGroup',\n",
    "                         'Changwat E':'Province'})\n",
    "df2"
   ]
  },
  {
   "cell_type": "markdown",
   "id": "90f14aee",
   "metadata": {
    "id": "90f14aee"
   },
   "source": [
    "### 1.1.2 Extract year from ```Datesick```"
   ]
  },
  {
   "cell_type": "code",
   "execution_count": 6,
   "id": "0cc9b8b2",
   "metadata": {
    "colab": {
     "base_uri": "https://localhost:8080/",
     "height": 204
    },
    "id": "0cc9b8b2",
    "outputId": "cca4cd89-33f7-449d-88a6-57862c14ae4c",
    "scrolled": true
   },
   "outputs": [
    {
     "data": {
      "text/html": [
       "<div>\n",
       "<style scoped>\n",
       "    .dataframe tbody tr th:only-of-type {\n",
       "        vertical-align: middle;\n",
       "    }\n",
       "\n",
       "    .dataframe tbody tr th {\n",
       "        vertical-align: top;\n",
       "    }\n",
       "\n",
       "    .dataframe thead th {\n",
       "        text-align: right;\n",
       "    }\n",
       "</style>\n",
       "<table border=\"1\" class=\"dataframe\">\n",
       "  <thead>\n",
       "    <tr style=\"text-align: right;\">\n",
       "      <th></th>\n",
       "      <th>Province</th>\n",
       "      <th>Odpc</th>\n",
       "      <th>Region</th>\n",
       "      <th>AgeGroup</th>\n",
       "      <th>Agey</th>\n",
       "      <th>Agey (copy)</th>\n",
       "      <th>Datesick</th>\n",
       "      <th>Number of Records</th>\n",
       "      <th>Sick_YEAR_2019</th>\n",
       "      <th>year</th>\n",
       "    </tr>\n",
       "  </thead>\n",
       "  <tbody>\n",
       "    <tr>\n",
       "      <th>0</th>\n",
       "      <td>Phrae</td>\n",
       "      <td>สคร.1</td>\n",
       "      <td>ภาคเหนือ</td>\n",
       "      <td>15-24</td>\n",
       "      <td>23</td>\n",
       "      <td>23</td>\n",
       "      <td>2020-10-10</td>\n",
       "      <td>1</td>\n",
       "      <td>NaN</td>\n",
       "      <td>2020</td>\n",
       "    </tr>\n",
       "    <tr>\n",
       "      <th>1</th>\n",
       "      <td>Chiang Rai</td>\n",
       "      <td>สคร.1</td>\n",
       "      <td>ภาคเหนือ</td>\n",
       "      <td>15-24</td>\n",
       "      <td>24</td>\n",
       "      <td>24</td>\n",
       "      <td>2020-09-05</td>\n",
       "      <td>1</td>\n",
       "      <td>NaN</td>\n",
       "      <td>2020</td>\n",
       "    </tr>\n",
       "    <tr>\n",
       "      <th>2</th>\n",
       "      <td>Phitsanulok</td>\n",
       "      <td>สคร.2</td>\n",
       "      <td>ภาคเหนือ</td>\n",
       "      <td>25-34</td>\n",
       "      <td>25</td>\n",
       "      <td>25</td>\n",
       "      <td>2020-05-29</td>\n",
       "      <td>1</td>\n",
       "      <td>NaN</td>\n",
       "      <td>2020</td>\n",
       "    </tr>\n",
       "    <tr>\n",
       "      <th>3</th>\n",
       "      <td>Chiang Mai</td>\n",
       "      <td>สคร.1</td>\n",
       "      <td>ภาคเหนือ</td>\n",
       "      <td>15-24</td>\n",
       "      <td>24</td>\n",
       "      <td>24</td>\n",
       "      <td>2020-03-02</td>\n",
       "      <td>1</td>\n",
       "      <td>NaN</td>\n",
       "      <td>2020</td>\n",
       "    </tr>\n",
       "    <tr>\n",
       "      <th>4</th>\n",
       "      <td>Chiang Mai</td>\n",
       "      <td>สคร.1</td>\n",
       "      <td>ภาคเหนือ</td>\n",
       "      <td>35-59</td>\n",
       "      <td>35</td>\n",
       "      <td>35</td>\n",
       "      <td>2020-03-13</td>\n",
       "      <td>1</td>\n",
       "      <td>NaN</td>\n",
       "      <td>2020</td>\n",
       "    </tr>\n",
       "  </tbody>\n",
       "</table>\n",
       "</div>"
      ],
      "text/plain": [
       "      Province   Odpc    Region AgeGroup  Agey  Agey (copy)   Datesick  \\\n",
       "0        Phrae  สคร.1  ภาคเหนือ    15-24    23           23 2020-10-10   \n",
       "1   Chiang Rai  สคร.1  ภาคเหนือ    15-24    24           24 2020-09-05   \n",
       "2  Phitsanulok  สคร.2  ภาคเหนือ    25-34    25           25 2020-05-29   \n",
       "3   Chiang Mai  สคร.1  ภาคเหนือ    15-24    24           24 2020-03-02   \n",
       "4   Chiang Mai  สคร.1  ภาคเหนือ    35-59    35           35 2020-03-13   \n",
       "\n",
       "   Number of Records  Sick_YEAR_2019  year  \n",
       "0                  1             NaN  2020  \n",
       "1                  1             NaN  2020  \n",
       "2                  1             NaN  2020  \n",
       "3                  1             NaN  2020  \n",
       "4                  1             NaN  2020  "
      ]
     },
     "execution_count": 6,
     "metadata": {},
     "output_type": "execute_result"
    }
   ],
   "source": [
    "df2[\"Datesick\"] = pd.to_datetime(df[\"Datesick\"], format='%m/%d/%Y')\n",
    "df2['year'] = df2['Datesick'].map(lambda x: x.year)\n",
    "df2.head()"
   ]
  },
  {
   "cell_type": "markdown",
   "id": "f8e408bd",
   "metadata": {
    "id": "f8e408bd"
   },
   "source": [
    "### 1.1.3 Group patients by ```year, Province, Agegroup```"
   ]
  },
  {
   "cell_type": "code",
   "execution_count": 7,
   "id": "a0bc5b7d",
   "metadata": {
    "colab": {
     "base_uri": "https://localhost:8080/",
     "height": 419
    },
    "id": "a0bc5b7d",
    "outputId": "cc40bdd8-fec3-4e8d-ebf5-88aa966bdddc"
   },
   "outputs": [
    {
     "data": {
      "text/html": [
       "<div>\n",
       "<style scoped>\n",
       "    .dataframe tbody tr th:only-of-type {\n",
       "        vertical-align: middle;\n",
       "    }\n",
       "\n",
       "    .dataframe tbody tr th {\n",
       "        vertical-align: top;\n",
       "    }\n",
       "\n",
       "    .dataframe thead th {\n",
       "        text-align: right;\n",
       "    }\n",
       "</style>\n",
       "<table border=\"1\" class=\"dataframe\">\n",
       "  <thead>\n",
       "    <tr style=\"text-align: right;\">\n",
       "      <th></th>\n",
       "      <th>year</th>\n",
       "      <th>Province</th>\n",
       "      <th>AgeGroup</th>\n",
       "      <th>patient_count</th>\n",
       "    </tr>\n",
       "  </thead>\n",
       "  <tbody>\n",
       "    <tr>\n",
       "      <th>0</th>\n",
       "      <td>2016</td>\n",
       "      <td>Amnat Charoen</td>\n",
       "      <td>0-4</td>\n",
       "      <td>42</td>\n",
       "    </tr>\n",
       "    <tr>\n",
       "      <th>1</th>\n",
       "      <td>2016</td>\n",
       "      <td>Amnat Charoen</td>\n",
       "      <td>10-14</td>\n",
       "      <td>178</td>\n",
       "    </tr>\n",
       "    <tr>\n",
       "      <th>2</th>\n",
       "      <td>2016</td>\n",
       "      <td>Amnat Charoen</td>\n",
       "      <td>15-24</td>\n",
       "      <td>166</td>\n",
       "    </tr>\n",
       "    <tr>\n",
       "      <th>3</th>\n",
       "      <td>2016</td>\n",
       "      <td>Amnat Charoen</td>\n",
       "      <td>25-34</td>\n",
       "      <td>70</td>\n",
       "    </tr>\n",
       "    <tr>\n",
       "      <th>4</th>\n",
       "      <td>2016</td>\n",
       "      <td>Amnat Charoen</td>\n",
       "      <td>35-59</td>\n",
       "      <td>76</td>\n",
       "    </tr>\n",
       "    <tr>\n",
       "      <th>...</th>\n",
       "      <td>...</td>\n",
       "      <td>...</td>\n",
       "      <td>...</td>\n",
       "      <td>...</td>\n",
       "    </tr>\n",
       "    <tr>\n",
       "      <th>3215</th>\n",
       "      <td>2021</td>\n",
       "      <td>Yasothon</td>\n",
       "      <td>15-24</td>\n",
       "      <td>5</td>\n",
       "    </tr>\n",
       "    <tr>\n",
       "      <th>3216</th>\n",
       "      <td>2021</td>\n",
       "      <td>Yasothon</td>\n",
       "      <td>25-34</td>\n",
       "      <td>1</td>\n",
       "    </tr>\n",
       "    <tr>\n",
       "      <th>3217</th>\n",
       "      <td>2021</td>\n",
       "      <td>Yasothon</td>\n",
       "      <td>35-59</td>\n",
       "      <td>3</td>\n",
       "    </tr>\n",
       "    <tr>\n",
       "      <th>3218</th>\n",
       "      <td>2021</td>\n",
       "      <td>Yasothon</td>\n",
       "      <td>5-9</td>\n",
       "      <td>2</td>\n",
       "    </tr>\n",
       "    <tr>\n",
       "      <th>3219</th>\n",
       "      <td>2021</td>\n",
       "      <td>Yasothon</td>\n",
       "      <td>60</td>\n",
       "      <td>1</td>\n",
       "    </tr>\n",
       "  </tbody>\n",
       "</table>\n",
       "<p>3220 rows × 4 columns</p>\n",
       "</div>"
      ],
      "text/plain": [
       "      year       Province AgeGroup  patient_count\n",
       "0     2016  Amnat Charoen      0-4             42\n",
       "1     2016  Amnat Charoen    10-14            178\n",
       "2     2016  Amnat Charoen    15-24            166\n",
       "3     2016  Amnat Charoen    25-34             70\n",
       "4     2016  Amnat Charoen    35-59             76\n",
       "...    ...            ...      ...            ...\n",
       "3215  2021       Yasothon    15-24              5\n",
       "3216  2021       Yasothon    25-34              1\n",
       "3217  2021       Yasothon    35-59              3\n",
       "3218  2021       Yasothon      5-9              2\n",
       "3219  2021       Yasothon       60              1\n",
       "\n",
       "[3220 rows x 4 columns]"
      ]
     },
     "execution_count": 7,
     "metadata": {},
     "output_type": "execute_result"
    }
   ],
   "source": [
    "# count number of patient in each day by/province by agegroup\n",
    "df3 = df2.groupby(['year','Province','AgeGroup'])['Number of Records'].agg('count').unstack(fill_value=0).stack().reset_index()\n",
    "df3 = pd.DataFrame(df3).rename(columns={df3.columns[3]: 'patient_count'})\n",
    "df3"
   ]
  },
  {
   "cell_type": "markdown",
   "id": "5125e429",
   "metadata": {
    "id": "5125e429"
   },
   "source": [
    "**Checking**"
   ]
  },
  {
   "cell_type": "code",
   "execution_count": 8,
   "id": "d2ffe274",
   "metadata": {
    "colab": {
     "base_uri": "https://localhost:8080/",
     "height": 1000
    },
    "id": "d2ffe274",
    "outputId": "32861095-078d-47b3-f836-d2867b607eac"
   },
   "outputs": [
    {
     "data": {
      "text/html": [
       "<div>\n",
       "<style scoped>\n",
       "    .dataframe tbody tr th:only-of-type {\n",
       "        vertical-align: middle;\n",
       "    }\n",
       "\n",
       "    .dataframe tbody tr th {\n",
       "        vertical-align: top;\n",
       "    }\n",
       "\n",
       "    .dataframe thead th {\n",
       "        text-align: right;\n",
       "    }\n",
       "</style>\n",
       "<table border=\"1\" class=\"dataframe\">\n",
       "  <thead>\n",
       "    <tr style=\"text-align: right;\">\n",
       "      <th></th>\n",
       "      <th>year</th>\n",
       "      <th>Province</th>\n",
       "      <th>AgeGroup</th>\n",
       "    </tr>\n",
       "  </thead>\n",
       "  <tbody>\n",
       "    <tr>\n",
       "      <th>0</th>\n",
       "      <td>2016</td>\n",
       "      <td>Amnat Charoen</td>\n",
       "      <td>0-4</td>\n",
       "    </tr>\n",
       "    <tr>\n",
       "      <th>1</th>\n",
       "      <td>2016</td>\n",
       "      <td>Amnat Charoen</td>\n",
       "      <td>10-14</td>\n",
       "    </tr>\n",
       "    <tr>\n",
       "      <th>2</th>\n",
       "      <td>2016</td>\n",
       "      <td>Amnat Charoen</td>\n",
       "      <td>15-24</td>\n",
       "    </tr>\n",
       "    <tr>\n",
       "      <th>3</th>\n",
       "      <td>2016</td>\n",
       "      <td>Amnat Charoen</td>\n",
       "      <td>25-34</td>\n",
       "    </tr>\n",
       "    <tr>\n",
       "      <th>4</th>\n",
       "      <td>2016</td>\n",
       "      <td>Amnat Charoen</td>\n",
       "      <td>35-59</td>\n",
       "    </tr>\n",
       "    <tr>\n",
       "      <th>5</th>\n",
       "      <td>2016</td>\n",
       "      <td>Amnat Charoen</td>\n",
       "      <td>5-9</td>\n",
       "    </tr>\n",
       "    <tr>\n",
       "      <th>6</th>\n",
       "      <td>2016</td>\n",
       "      <td>Amnat Charoen</td>\n",
       "      <td>60</td>\n",
       "    </tr>\n",
       "    <tr>\n",
       "      <th>7</th>\n",
       "      <td>2017</td>\n",
       "      <td>Amnat Charoen</td>\n",
       "      <td>0-4</td>\n",
       "    </tr>\n",
       "    <tr>\n",
       "      <th>8</th>\n",
       "      <td>2017</td>\n",
       "      <td>Amnat Charoen</td>\n",
       "      <td>10-14</td>\n",
       "    </tr>\n",
       "    <tr>\n",
       "      <th>9</th>\n",
       "      <td>2017</td>\n",
       "      <td>Amnat Charoen</td>\n",
       "      <td>15-24</td>\n",
       "    </tr>\n",
       "    <tr>\n",
       "      <th>10</th>\n",
       "      <td>2017</td>\n",
       "      <td>Amnat Charoen</td>\n",
       "      <td>25-34</td>\n",
       "    </tr>\n",
       "    <tr>\n",
       "      <th>11</th>\n",
       "      <td>2017</td>\n",
       "      <td>Amnat Charoen</td>\n",
       "      <td>35-59</td>\n",
       "    </tr>\n",
       "    <tr>\n",
       "      <th>12</th>\n",
       "      <td>2017</td>\n",
       "      <td>Amnat Charoen</td>\n",
       "      <td>5-9</td>\n",
       "    </tr>\n",
       "    <tr>\n",
       "      <th>13</th>\n",
       "      <td>2017</td>\n",
       "      <td>Amnat Charoen</td>\n",
       "      <td>60</td>\n",
       "    </tr>\n",
       "    <tr>\n",
       "      <th>14</th>\n",
       "      <td>2018</td>\n",
       "      <td>Amnat Charoen</td>\n",
       "      <td>0-4</td>\n",
       "    </tr>\n",
       "    <tr>\n",
       "      <th>15</th>\n",
       "      <td>2018</td>\n",
       "      <td>Amnat Charoen</td>\n",
       "      <td>10-14</td>\n",
       "    </tr>\n",
       "    <tr>\n",
       "      <th>16</th>\n",
       "      <td>2018</td>\n",
       "      <td>Amnat Charoen</td>\n",
       "      <td>15-24</td>\n",
       "    </tr>\n",
       "    <tr>\n",
       "      <th>17</th>\n",
       "      <td>2018</td>\n",
       "      <td>Amnat Charoen</td>\n",
       "      <td>25-34</td>\n",
       "    </tr>\n",
       "    <tr>\n",
       "      <th>18</th>\n",
       "      <td>2018</td>\n",
       "      <td>Amnat Charoen</td>\n",
       "      <td>35-59</td>\n",
       "    </tr>\n",
       "    <tr>\n",
       "      <th>19</th>\n",
       "      <td>2018</td>\n",
       "      <td>Amnat Charoen</td>\n",
       "      <td>5-9</td>\n",
       "    </tr>\n",
       "    <tr>\n",
       "      <th>20</th>\n",
       "      <td>2018</td>\n",
       "      <td>Amnat Charoen</td>\n",
       "      <td>60</td>\n",
       "    </tr>\n",
       "    <tr>\n",
       "      <th>21</th>\n",
       "      <td>2019</td>\n",
       "      <td>Amnat Charoen</td>\n",
       "      <td>0-4</td>\n",
       "    </tr>\n",
       "    <tr>\n",
       "      <th>22</th>\n",
       "      <td>2019</td>\n",
       "      <td>Amnat Charoen</td>\n",
       "      <td>10-14</td>\n",
       "    </tr>\n",
       "    <tr>\n",
       "      <th>23</th>\n",
       "      <td>2019</td>\n",
       "      <td>Amnat Charoen</td>\n",
       "      <td>15-24</td>\n",
       "    </tr>\n",
       "    <tr>\n",
       "      <th>24</th>\n",
       "      <td>2019</td>\n",
       "      <td>Amnat Charoen</td>\n",
       "      <td>25-34</td>\n",
       "    </tr>\n",
       "    <tr>\n",
       "      <th>25</th>\n",
       "      <td>2019</td>\n",
       "      <td>Amnat Charoen</td>\n",
       "      <td>35-59</td>\n",
       "    </tr>\n",
       "    <tr>\n",
       "      <th>26</th>\n",
       "      <td>2019</td>\n",
       "      <td>Amnat Charoen</td>\n",
       "      <td>5-9</td>\n",
       "    </tr>\n",
       "    <tr>\n",
       "      <th>27</th>\n",
       "      <td>2019</td>\n",
       "      <td>Amnat Charoen</td>\n",
       "      <td>60</td>\n",
       "    </tr>\n",
       "    <tr>\n",
       "      <th>28</th>\n",
       "      <td>2020</td>\n",
       "      <td>Amnat Charoen</td>\n",
       "      <td>0-4</td>\n",
       "    </tr>\n",
       "    <tr>\n",
       "      <th>29</th>\n",
       "      <td>2020</td>\n",
       "      <td>Amnat Charoen</td>\n",
       "      <td>10-14</td>\n",
       "    </tr>\n",
       "    <tr>\n",
       "      <th>30</th>\n",
       "      <td>2020</td>\n",
       "      <td>Amnat Charoen</td>\n",
       "      <td>15-24</td>\n",
       "    </tr>\n",
       "    <tr>\n",
       "      <th>31</th>\n",
       "      <td>2020</td>\n",
       "      <td>Amnat Charoen</td>\n",
       "      <td>25-34</td>\n",
       "    </tr>\n",
       "    <tr>\n",
       "      <th>32</th>\n",
       "      <td>2020</td>\n",
       "      <td>Amnat Charoen</td>\n",
       "      <td>35-59</td>\n",
       "    </tr>\n",
       "    <tr>\n",
       "      <th>33</th>\n",
       "      <td>2020</td>\n",
       "      <td>Amnat Charoen</td>\n",
       "      <td>5-9</td>\n",
       "    </tr>\n",
       "    <tr>\n",
       "      <th>34</th>\n",
       "      <td>2020</td>\n",
       "      <td>Amnat Charoen</td>\n",
       "      <td>60</td>\n",
       "    </tr>\n",
       "    <tr>\n",
       "      <th>35</th>\n",
       "      <td>2021</td>\n",
       "      <td>Amnat Charoen</td>\n",
       "      <td>0-4</td>\n",
       "    </tr>\n",
       "    <tr>\n",
       "      <th>36</th>\n",
       "      <td>2021</td>\n",
       "      <td>Amnat Charoen</td>\n",
       "      <td>10-14</td>\n",
       "    </tr>\n",
       "    <tr>\n",
       "      <th>37</th>\n",
       "      <td>2021</td>\n",
       "      <td>Amnat Charoen</td>\n",
       "      <td>15-24</td>\n",
       "    </tr>\n",
       "    <tr>\n",
       "      <th>38</th>\n",
       "      <td>2021</td>\n",
       "      <td>Amnat Charoen</td>\n",
       "      <td>25-34</td>\n",
       "    </tr>\n",
       "    <tr>\n",
       "      <th>39</th>\n",
       "      <td>2021</td>\n",
       "      <td>Amnat Charoen</td>\n",
       "      <td>35-59</td>\n",
       "    </tr>\n",
       "    <tr>\n",
       "      <th>40</th>\n",
       "      <td>2021</td>\n",
       "      <td>Amnat Charoen</td>\n",
       "      <td>5-9</td>\n",
       "    </tr>\n",
       "    <tr>\n",
       "      <th>41</th>\n",
       "      <td>2021</td>\n",
       "      <td>Amnat Charoen</td>\n",
       "      <td>60</td>\n",
       "    </tr>\n",
       "  </tbody>\n",
       "</table>\n",
       "</div>"
      ],
      "text/plain": [
       "    year       Province AgeGroup\n",
       "0   2016  Amnat Charoen      0-4\n",
       "1   2016  Amnat Charoen    10-14\n",
       "2   2016  Amnat Charoen    15-24\n",
       "3   2016  Amnat Charoen    25-34\n",
       "4   2016  Amnat Charoen    35-59\n",
       "5   2016  Amnat Charoen      5-9\n",
       "6   2016  Amnat Charoen       60\n",
       "7   2017  Amnat Charoen      0-4\n",
       "8   2017  Amnat Charoen    10-14\n",
       "9   2017  Amnat Charoen    15-24\n",
       "10  2017  Amnat Charoen    25-34\n",
       "11  2017  Amnat Charoen    35-59\n",
       "12  2017  Amnat Charoen      5-9\n",
       "13  2017  Amnat Charoen       60\n",
       "14  2018  Amnat Charoen      0-4\n",
       "15  2018  Amnat Charoen    10-14\n",
       "16  2018  Amnat Charoen    15-24\n",
       "17  2018  Amnat Charoen    25-34\n",
       "18  2018  Amnat Charoen    35-59\n",
       "19  2018  Amnat Charoen      5-9\n",
       "20  2018  Amnat Charoen       60\n",
       "21  2019  Amnat Charoen      0-4\n",
       "22  2019  Amnat Charoen    10-14\n",
       "23  2019  Amnat Charoen    15-24\n",
       "24  2019  Amnat Charoen    25-34\n",
       "25  2019  Amnat Charoen    35-59\n",
       "26  2019  Amnat Charoen      5-9\n",
       "27  2019  Amnat Charoen       60\n",
       "28  2020  Amnat Charoen      0-4\n",
       "29  2020  Amnat Charoen    10-14\n",
       "30  2020  Amnat Charoen    15-24\n",
       "31  2020  Amnat Charoen    25-34\n",
       "32  2020  Amnat Charoen    35-59\n",
       "33  2020  Amnat Charoen      5-9\n",
       "34  2020  Amnat Charoen       60\n",
       "35  2021  Amnat Charoen      0-4\n",
       "36  2021  Amnat Charoen    10-14\n",
       "37  2021  Amnat Charoen    15-24\n",
       "38  2021  Amnat Charoen    25-34\n",
       "39  2021  Amnat Charoen    35-59\n",
       "40  2021  Amnat Charoen      5-9\n",
       "41  2021  Amnat Charoen       60"
      ]
     },
     "execution_count": 8,
     "metadata": {},
     "output_type": "execute_result"
    }
   ],
   "source": [
    "# Check grouping algorithm is working correctly \n",
    "# at Datesick == 1/1/2016, Changwat E == Amnat Charoen\n",
    "# There are 2 records of 10-14 --> match with above record\n",
    "df3.loc[df3['Province']=='Amnat Charoen',['year','Province','AgeGroup']].sort_values(by = ['year', 'AgeGroup'], ignore_index = True)"
   ]
  },
  {
   "cell_type": "markdown",
   "id": "b3d1b5d7",
   "metadata": {
    "id": "b3d1b5d7"
   },
   "source": [
    "### 1.1.4 Applying one hot encoding to ```AgeGroup```"
   ]
  },
  {
   "cell_type": "code",
   "execution_count": 9,
   "id": "de7bbd59",
   "metadata": {
    "colab": {
     "base_uri": "https://localhost:8080/",
     "height": 419
    },
    "id": "de7bbd59",
    "outputId": "6fa9c6f9-2c94-477e-e246-0810b37b8f36"
   },
   "outputs": [
    {
     "data": {
      "text/html": [
       "<div>\n",
       "<style scoped>\n",
       "    .dataframe tbody tr th:only-of-type {\n",
       "        vertical-align: middle;\n",
       "    }\n",
       "\n",
       "    .dataframe tbody tr th {\n",
       "        vertical-align: top;\n",
       "    }\n",
       "\n",
       "    .dataframe thead th {\n",
       "        text-align: right;\n",
       "    }\n",
       "</style>\n",
       "<table border=\"1\" class=\"dataframe\">\n",
       "  <thead>\n",
       "    <tr style=\"text-align: right;\">\n",
       "      <th></th>\n",
       "      <th>year</th>\n",
       "      <th>Province</th>\n",
       "      <th>AgeGroup</th>\n",
       "      <th>patient_count</th>\n",
       "      <th>ag_0-4</th>\n",
       "      <th>ag_10-14</th>\n",
       "      <th>ag_15-24</th>\n",
       "      <th>ag_25-34</th>\n",
       "      <th>ag_35-59</th>\n",
       "      <th>ag_5-9</th>\n",
       "      <th>ag_60</th>\n",
       "    </tr>\n",
       "  </thead>\n",
       "  <tbody>\n",
       "    <tr>\n",
       "      <th>0</th>\n",
       "      <td>2016</td>\n",
       "      <td>Amnat Charoen</td>\n",
       "      <td>0-4</td>\n",
       "      <td>42</td>\n",
       "      <td>1</td>\n",
       "      <td>0</td>\n",
       "      <td>0</td>\n",
       "      <td>0</td>\n",
       "      <td>0</td>\n",
       "      <td>0</td>\n",
       "      <td>0</td>\n",
       "    </tr>\n",
       "    <tr>\n",
       "      <th>1</th>\n",
       "      <td>2016</td>\n",
       "      <td>Amnat Charoen</td>\n",
       "      <td>10-14</td>\n",
       "      <td>178</td>\n",
       "      <td>0</td>\n",
       "      <td>1</td>\n",
       "      <td>0</td>\n",
       "      <td>0</td>\n",
       "      <td>0</td>\n",
       "      <td>0</td>\n",
       "      <td>0</td>\n",
       "    </tr>\n",
       "    <tr>\n",
       "      <th>2</th>\n",
       "      <td>2016</td>\n",
       "      <td>Amnat Charoen</td>\n",
       "      <td>15-24</td>\n",
       "      <td>166</td>\n",
       "      <td>0</td>\n",
       "      <td>0</td>\n",
       "      <td>1</td>\n",
       "      <td>0</td>\n",
       "      <td>0</td>\n",
       "      <td>0</td>\n",
       "      <td>0</td>\n",
       "    </tr>\n",
       "    <tr>\n",
       "      <th>3</th>\n",
       "      <td>2016</td>\n",
       "      <td>Amnat Charoen</td>\n",
       "      <td>25-34</td>\n",
       "      <td>70</td>\n",
       "      <td>0</td>\n",
       "      <td>0</td>\n",
       "      <td>0</td>\n",
       "      <td>1</td>\n",
       "      <td>0</td>\n",
       "      <td>0</td>\n",
       "      <td>0</td>\n",
       "    </tr>\n",
       "    <tr>\n",
       "      <th>4</th>\n",
       "      <td>2016</td>\n",
       "      <td>Amnat Charoen</td>\n",
       "      <td>35-59</td>\n",
       "      <td>76</td>\n",
       "      <td>0</td>\n",
       "      <td>0</td>\n",
       "      <td>0</td>\n",
       "      <td>0</td>\n",
       "      <td>1</td>\n",
       "      <td>0</td>\n",
       "      <td>0</td>\n",
       "    </tr>\n",
       "    <tr>\n",
       "      <th>...</th>\n",
       "      <td>...</td>\n",
       "      <td>...</td>\n",
       "      <td>...</td>\n",
       "      <td>...</td>\n",
       "      <td>...</td>\n",
       "      <td>...</td>\n",
       "      <td>...</td>\n",
       "      <td>...</td>\n",
       "      <td>...</td>\n",
       "      <td>...</td>\n",
       "      <td>...</td>\n",
       "    </tr>\n",
       "    <tr>\n",
       "      <th>3215</th>\n",
       "      <td>2021</td>\n",
       "      <td>Yasothon</td>\n",
       "      <td>15-24</td>\n",
       "      <td>5</td>\n",
       "      <td>0</td>\n",
       "      <td>0</td>\n",
       "      <td>1</td>\n",
       "      <td>0</td>\n",
       "      <td>0</td>\n",
       "      <td>0</td>\n",
       "      <td>0</td>\n",
       "    </tr>\n",
       "    <tr>\n",
       "      <th>3216</th>\n",
       "      <td>2021</td>\n",
       "      <td>Yasothon</td>\n",
       "      <td>25-34</td>\n",
       "      <td>1</td>\n",
       "      <td>0</td>\n",
       "      <td>0</td>\n",
       "      <td>0</td>\n",
       "      <td>1</td>\n",
       "      <td>0</td>\n",
       "      <td>0</td>\n",
       "      <td>0</td>\n",
       "    </tr>\n",
       "    <tr>\n",
       "      <th>3217</th>\n",
       "      <td>2021</td>\n",
       "      <td>Yasothon</td>\n",
       "      <td>35-59</td>\n",
       "      <td>3</td>\n",
       "      <td>0</td>\n",
       "      <td>0</td>\n",
       "      <td>0</td>\n",
       "      <td>0</td>\n",
       "      <td>1</td>\n",
       "      <td>0</td>\n",
       "      <td>0</td>\n",
       "    </tr>\n",
       "    <tr>\n",
       "      <th>3218</th>\n",
       "      <td>2021</td>\n",
       "      <td>Yasothon</td>\n",
       "      <td>5-9</td>\n",
       "      <td>2</td>\n",
       "      <td>0</td>\n",
       "      <td>0</td>\n",
       "      <td>0</td>\n",
       "      <td>0</td>\n",
       "      <td>0</td>\n",
       "      <td>1</td>\n",
       "      <td>0</td>\n",
       "    </tr>\n",
       "    <tr>\n",
       "      <th>3219</th>\n",
       "      <td>2021</td>\n",
       "      <td>Yasothon</td>\n",
       "      <td>60</td>\n",
       "      <td>1</td>\n",
       "      <td>0</td>\n",
       "      <td>0</td>\n",
       "      <td>0</td>\n",
       "      <td>0</td>\n",
       "      <td>0</td>\n",
       "      <td>0</td>\n",
       "      <td>1</td>\n",
       "    </tr>\n",
       "  </tbody>\n",
       "</table>\n",
       "<p>3220 rows × 11 columns</p>\n",
       "</div>"
      ],
      "text/plain": [
       "      year       Province AgeGroup  patient_count  ag_0-4  ag_10-14  ag_15-24  \\\n",
       "0     2016  Amnat Charoen      0-4             42       1         0         0   \n",
       "1     2016  Amnat Charoen    10-14            178       0         1         0   \n",
       "2     2016  Amnat Charoen    15-24            166       0         0         1   \n",
       "3     2016  Amnat Charoen    25-34             70       0         0         0   \n",
       "4     2016  Amnat Charoen    35-59             76       0         0         0   \n",
       "...    ...            ...      ...            ...     ...       ...       ...   \n",
       "3215  2021       Yasothon    15-24              5       0         0         1   \n",
       "3216  2021       Yasothon    25-34              1       0         0         0   \n",
       "3217  2021       Yasothon    35-59              3       0         0         0   \n",
       "3218  2021       Yasothon      5-9              2       0         0         0   \n",
       "3219  2021       Yasothon       60              1       0         0         0   \n",
       "\n",
       "      ag_25-34  ag_35-59  ag_5-9  ag_60  \n",
       "0            0         0       0      0  \n",
       "1            0         0       0      0  \n",
       "2            0         0       0      0  \n",
       "3            1         0       0      0  \n",
       "4            0         1       0      0  \n",
       "...        ...       ...     ...    ...  \n",
       "3215         0         0       0      0  \n",
       "3216         1         0       0      0  \n",
       "3217         0         1       0      0  \n",
       "3218         0         0       1      0  \n",
       "3219         0         0       0      1  \n",
       "\n",
       "[3220 rows x 11 columns]"
      ]
     },
     "execution_count": 9,
     "metadata": {},
     "output_type": "execute_result"
    }
   ],
   "source": [
    "agegroup_dummy = pd.get_dummies(df3.AgeGroup, prefix='ag')\n",
    "df4 = pd.concat([df3, agegroup_dummy], axis=1)\n",
    "df4"
   ]
  },
  {
   "cell_type": "markdown",
   "id": "7d8e9ef8",
   "metadata": {
    "id": "7d8e9ef8"
   },
   "source": [
    "### 1.1.5 Rearrange column"
   ]
  },
  {
   "cell_type": "code",
   "execution_count": 10,
   "id": "9a31287d",
   "metadata": {
    "colab": {
     "base_uri": "https://localhost:8080/",
     "height": 419
    },
    "id": "9a31287d",
    "outputId": "d2e7b294-7dd2-40d5-edaf-7bc0d8049524"
   },
   "outputs": [
    {
     "data": {
      "text/html": [
       "<div>\n",
       "<style scoped>\n",
       "    .dataframe tbody tr th:only-of-type {\n",
       "        vertical-align: middle;\n",
       "    }\n",
       "\n",
       "    .dataframe tbody tr th {\n",
       "        vertical-align: top;\n",
       "    }\n",
       "\n",
       "    .dataframe thead th {\n",
       "        text-align: right;\n",
       "    }\n",
       "</style>\n",
       "<table border=\"1\" class=\"dataframe\">\n",
       "  <thead>\n",
       "    <tr style=\"text-align: right;\">\n",
       "      <th></th>\n",
       "      <th>year</th>\n",
       "      <th>Province</th>\n",
       "      <th>AgeGroup</th>\n",
       "      <th>ag_0-4</th>\n",
       "      <th>ag_5-9</th>\n",
       "      <th>ag_10-14</th>\n",
       "      <th>ag_15-24</th>\n",
       "      <th>ag_25-34</th>\n",
       "      <th>ag_35-59</th>\n",
       "      <th>ag_60</th>\n",
       "      <th>patient_count</th>\n",
       "    </tr>\n",
       "  </thead>\n",
       "  <tbody>\n",
       "    <tr>\n",
       "      <th>0</th>\n",
       "      <td>2016</td>\n",
       "      <td>Amnat Charoen</td>\n",
       "      <td>0-4</td>\n",
       "      <td>1</td>\n",
       "      <td>0</td>\n",
       "      <td>0</td>\n",
       "      <td>0</td>\n",
       "      <td>0</td>\n",
       "      <td>0</td>\n",
       "      <td>0</td>\n",
       "      <td>42</td>\n",
       "    </tr>\n",
       "    <tr>\n",
       "      <th>1</th>\n",
       "      <td>2016</td>\n",
       "      <td>Amnat Charoen</td>\n",
       "      <td>10-14</td>\n",
       "      <td>0</td>\n",
       "      <td>0</td>\n",
       "      <td>1</td>\n",
       "      <td>0</td>\n",
       "      <td>0</td>\n",
       "      <td>0</td>\n",
       "      <td>0</td>\n",
       "      <td>178</td>\n",
       "    </tr>\n",
       "    <tr>\n",
       "      <th>2</th>\n",
       "      <td>2016</td>\n",
       "      <td>Amnat Charoen</td>\n",
       "      <td>15-24</td>\n",
       "      <td>0</td>\n",
       "      <td>0</td>\n",
       "      <td>0</td>\n",
       "      <td>1</td>\n",
       "      <td>0</td>\n",
       "      <td>0</td>\n",
       "      <td>0</td>\n",
       "      <td>166</td>\n",
       "    </tr>\n",
       "    <tr>\n",
       "      <th>3</th>\n",
       "      <td>2016</td>\n",
       "      <td>Amnat Charoen</td>\n",
       "      <td>25-34</td>\n",
       "      <td>0</td>\n",
       "      <td>0</td>\n",
       "      <td>0</td>\n",
       "      <td>0</td>\n",
       "      <td>1</td>\n",
       "      <td>0</td>\n",
       "      <td>0</td>\n",
       "      <td>70</td>\n",
       "    </tr>\n",
       "    <tr>\n",
       "      <th>4</th>\n",
       "      <td>2016</td>\n",
       "      <td>Amnat Charoen</td>\n",
       "      <td>35-59</td>\n",
       "      <td>0</td>\n",
       "      <td>0</td>\n",
       "      <td>0</td>\n",
       "      <td>0</td>\n",
       "      <td>0</td>\n",
       "      <td>1</td>\n",
       "      <td>0</td>\n",
       "      <td>76</td>\n",
       "    </tr>\n",
       "    <tr>\n",
       "      <th>...</th>\n",
       "      <td>...</td>\n",
       "      <td>...</td>\n",
       "      <td>...</td>\n",
       "      <td>...</td>\n",
       "      <td>...</td>\n",
       "      <td>...</td>\n",
       "      <td>...</td>\n",
       "      <td>...</td>\n",
       "      <td>...</td>\n",
       "      <td>...</td>\n",
       "      <td>...</td>\n",
       "    </tr>\n",
       "    <tr>\n",
       "      <th>3215</th>\n",
       "      <td>2021</td>\n",
       "      <td>Yasothon</td>\n",
       "      <td>15-24</td>\n",
       "      <td>0</td>\n",
       "      <td>0</td>\n",
       "      <td>0</td>\n",
       "      <td>1</td>\n",
       "      <td>0</td>\n",
       "      <td>0</td>\n",
       "      <td>0</td>\n",
       "      <td>5</td>\n",
       "    </tr>\n",
       "    <tr>\n",
       "      <th>3216</th>\n",
       "      <td>2021</td>\n",
       "      <td>Yasothon</td>\n",
       "      <td>25-34</td>\n",
       "      <td>0</td>\n",
       "      <td>0</td>\n",
       "      <td>0</td>\n",
       "      <td>0</td>\n",
       "      <td>1</td>\n",
       "      <td>0</td>\n",
       "      <td>0</td>\n",
       "      <td>1</td>\n",
       "    </tr>\n",
       "    <tr>\n",
       "      <th>3217</th>\n",
       "      <td>2021</td>\n",
       "      <td>Yasothon</td>\n",
       "      <td>35-59</td>\n",
       "      <td>0</td>\n",
       "      <td>0</td>\n",
       "      <td>0</td>\n",
       "      <td>0</td>\n",
       "      <td>0</td>\n",
       "      <td>1</td>\n",
       "      <td>0</td>\n",
       "      <td>3</td>\n",
       "    </tr>\n",
       "    <tr>\n",
       "      <th>3218</th>\n",
       "      <td>2021</td>\n",
       "      <td>Yasothon</td>\n",
       "      <td>5-9</td>\n",
       "      <td>0</td>\n",
       "      <td>1</td>\n",
       "      <td>0</td>\n",
       "      <td>0</td>\n",
       "      <td>0</td>\n",
       "      <td>0</td>\n",
       "      <td>0</td>\n",
       "      <td>2</td>\n",
       "    </tr>\n",
       "    <tr>\n",
       "      <th>3219</th>\n",
       "      <td>2021</td>\n",
       "      <td>Yasothon</td>\n",
       "      <td>60</td>\n",
       "      <td>0</td>\n",
       "      <td>0</td>\n",
       "      <td>0</td>\n",
       "      <td>0</td>\n",
       "      <td>0</td>\n",
       "      <td>0</td>\n",
       "      <td>1</td>\n",
       "      <td>1</td>\n",
       "    </tr>\n",
       "  </tbody>\n",
       "</table>\n",
       "<p>3220 rows × 11 columns</p>\n",
       "</div>"
      ],
      "text/plain": [
       "      year       Province AgeGroup  ag_0-4  ag_5-9  ag_10-14  ag_15-24  \\\n",
       "0     2016  Amnat Charoen      0-4       1       0         0         0   \n",
       "1     2016  Amnat Charoen    10-14       0       0         1         0   \n",
       "2     2016  Amnat Charoen    15-24       0       0         0         1   \n",
       "3     2016  Amnat Charoen    25-34       0       0         0         0   \n",
       "4     2016  Amnat Charoen    35-59       0       0         0         0   \n",
       "...    ...            ...      ...     ...     ...       ...       ...   \n",
       "3215  2021       Yasothon    15-24       0       0         0         1   \n",
       "3216  2021       Yasothon    25-34       0       0         0         0   \n",
       "3217  2021       Yasothon    35-59       0       0         0         0   \n",
       "3218  2021       Yasothon      5-9       0       1         0         0   \n",
       "3219  2021       Yasothon       60       0       0         0         0   \n",
       "\n",
       "      ag_25-34  ag_35-59  ag_60  patient_count  \n",
       "0            0         0      0             42  \n",
       "1            0         0      0            178  \n",
       "2            0         0      0            166  \n",
       "3            1         0      0             70  \n",
       "4            0         1      0             76  \n",
       "...        ...       ...    ...            ...  \n",
       "3215         0         0      0              5  \n",
       "3216         1         0      0              1  \n",
       "3217         0         1      0              3  \n",
       "3218         0         0      0              2  \n",
       "3219         0         0      1              1  \n",
       "\n",
       "[3220 rows x 11 columns]"
      ]
     },
     "execution_count": 10,
     "metadata": {},
     "output_type": "execute_result"
    }
   ],
   "source": [
    "cols = df4.columns.tolist()\n",
    "# cols = cols[0:3] + cols[4:5, 8:9] + cols[3:4] # [first 3 col] + [last 3 col (d,m,y)] + [(age group)] + patient count\n",
    "cols = cols[0:3] + cols[4:5] + cols[9:10] + cols[5:9] + cols[10:11] + cols[3:4]\n",
    "df5 = df4[cols]\n",
    "df5"
   ]
  },
  {
   "cell_type": "markdown",
   "id": "8f022f06",
   "metadata": {
    "id": "8f022f06"
   },
   "source": [
    "### 1.1.6 Dengue patient output data"
   ]
  },
  {
   "cell_type": "code",
   "execution_count": null,
   "id": "b9749dca",
   "metadata": {
    "id": "b9749dca"
   },
   "outputs": [],
   "source": [
    "# df5.to_csv('output/dg_group.csv')\n",
    "df5.to_csv('output/dengue_processed.csv', index = False)"
   ]
  },
  {
   "cell_type": "markdown",
   "id": "c5c4c254",
   "metadata": {
    "id": "c5c4c254"
   },
   "source": [
    "## 1.2 Humidity data preprocessing"
   ]
  },
  {
   "cell_type": "markdown",
   "id": "NRJGzLrlucFn",
   "metadata": {
    "id": "NRJGzLrlucFn"
   },
   "source": [
    "### 1.2.1 Remove blank row"
   ]
  },
  {
   "cell_type": "code",
   "execution_count": null,
   "id": "b44e4662",
   "metadata": {
    "colab": {
     "base_uri": "https://localhost:8080/",
     "height": 419
    },
    "id": "b44e4662",
    "outputId": "7681f698-b898-4d4e-b94c-c0e1760c386a"
   },
   "outputs": [],
   "source": [
    "h2 = h[:-2]\n",
    "h2"
   ]
  },
  {
   "cell_type": "markdown",
   "id": "74baaf85",
   "metadata": {
    "id": "74baaf85"
   },
   "source": [
    "### 1.2.2 Rearrange column\n",
    "* Select year 2559, 2560, 2561, 2562 B.E."
   ]
  },
  {
   "cell_type": "code",
   "execution_count": null,
   "id": "b8485f64",
   "metadata": {
    "id": "b8485f64"
   },
   "outputs": [],
   "source": [
    "cols = h.columns.tolist()\n",
    "cols = cols[0:1] + cols[3:7] \n",
    "h3 = h2[cols]"
   ]
  },
  {
   "cell_type": "markdown",
   "id": "89a080af",
   "metadata": {
    "id": "89a080af"
   },
   "source": [
    "### 1.2.3 Rename column"
   ]
  },
  {
   "cell_type": "code",
   "execution_count": null,
   "id": "1ef4793c",
   "metadata": {
    "colab": {
     "base_uri": "https://localhost:8080/",
     "height": 419
    },
    "id": "1ef4793c",
    "outputId": "10f97d21-e8a0-4394-c223-44f8dd135f5d"
   },
   "outputs": [],
   "source": [
    "h3 = h3.rename(columns = {' จังหวัด': 'Province'})\n",
    "h3"
   ]
  },
  {
   "cell_type": "markdown",
   "id": "618fd290",
   "metadata": {
    "id": "618fd290"
   },
   "source": [
    "### 1.2.4 Convert wide data to long data"
   ]
  },
  {
   "cell_type": "code",
   "execution_count": null,
   "id": "15f1286a",
   "metadata": {
    "colab": {
     "base_uri": "https://localhost:8080/",
     "height": 419
    },
    "id": "15f1286a",
    "outputId": "4cca1eb1-daa9-4fa2-86c3-8567dacec441"
   },
   "outputs": [],
   "source": [
    "h4 = pd.melt(h3,id_vars=['Province'],var_name='year', value_name='humidity')\n",
    "h4"
   ]
  },
  {
   "cell_type": "markdown",
   "id": "2473c726",
   "metadata": {
    "id": "2473c726"
   },
   "source": [
    "### 1.2.5 Convert B.E. to A.D."
   ]
  },
  {
   "cell_type": "code",
   "execution_count": null,
   "id": "a2914f4a",
   "metadata": {
    "colab": {
     "base_uri": "https://localhost:8080/",
     "height": 419
    },
    "id": "a2914f4a",
    "outputId": "bb3c1a67-04a0-41a4-afce-167b94caae61"
   },
   "outputs": [],
   "source": [
    "h5 = h4\n",
    "h5['year'] = h4['year'].astype(int) - 543\n",
    "h5"
   ]
  },
  {
   "cell_type": "markdown",
   "id": "OD-Dz9Tl8K-G",
   "metadata": {
    "id": "OD-Dz9Tl8K-G"
   },
   "source": [
    "### 1.2.6 Translate province thai to english"
   ]
  },
  {
   "cell_type": "code",
   "execution_count": null,
   "id": "iJPFeg0RSHGJ",
   "metadata": {
    "colab": {
     "base_uri": "https://localhost:8080/",
     "height": 204
    },
    "id": "iJPFeg0RSHGJ",
    "outputId": "6a13fd2d-c942-4162-d7df-c7e1d2dc3a56"
   },
   "outputs": [],
   "source": [
    "province_dict.head(5)"
   ]
  },
  {
   "cell_type": "code",
   "execution_count": null,
   "id": "icA87uGVDGkf",
   "metadata": {
    "colab": {
     "base_uri": "https://localhost:8080/",
     "height": 419
    },
    "id": "icA87uGVDGkf",
    "outputId": "df4ed8e6-ea2f-4d5d-d05d-7f942077c10c"
   },
   "outputs": [],
   "source": [
    "h6 = pd.merge(h5,\n",
    "              province_dict,\n",
    "              on ='Province',\n",
    "              how ='left')\n",
    "cols = h6.columns.tolist()\n",
    "h6 = h6[cols[1:]]\n",
    "h6 = h6.rename(columns = {\"Province_eng\": \"Province\"})\n",
    "h6"
   ]
  },
  {
   "cell_type": "markdown",
   "id": "f2f1e2b7",
   "metadata": {
    "id": "f2f1e2b7"
   },
   "source": [
    "## 1.3. Average temperature data preprocessing"
   ]
  },
  {
   "cell_type": "markdown",
   "id": "NKnp8dDIuhIe",
   "metadata": {
    "id": "NKnp8dDIuhIe"
   },
   "source": [
    "### 1.3.1 Remove blank row"
   ]
  },
  {
   "cell_type": "code",
   "execution_count": null,
   "id": "115f898c",
   "metadata": {
    "colab": {
     "base_uri": "https://localhost:8080/",
     "height": 419
    },
    "id": "115f898c",
    "outputId": "4d79a58a-ca5f-4828-8d77-bae60a6a0078"
   },
   "outputs": [],
   "source": [
    "t_avg2 = t_avg[:-2]\n",
    "t_avg2"
   ]
  },
  {
   "cell_type": "markdown",
   "id": "d334d0b6",
   "metadata": {
    "id": "d334d0b6"
   },
   "source": [
    "### 1.3.2 Rearrange column\n",
    "* Select year 2559, 2560, 2561, 2562 B.E."
   ]
  },
  {
   "cell_type": "code",
   "execution_count": null,
   "id": "29c65f66",
   "metadata": {
    "colab": {
     "base_uri": "https://localhost:8080/",
     "height": 419
    },
    "id": "29c65f66",
    "outputId": "0cce4765-7ebc-4ba8-eba7-bd7a582e9d56"
   },
   "outputs": [],
   "source": [
    "cols = t_avg.columns.tolist()\n",
    "cols = cols[0:1] + cols[-4:] \n",
    "t_avg3 = t_avg2[cols]\n",
    "t_avg3"
   ]
  },
  {
   "cell_type": "markdown",
   "id": "a197819d",
   "metadata": {
    "id": "a197819d"
   },
   "source": [
    "### 1.3.3 Rename column"
   ]
  },
  {
   "cell_type": "code",
   "execution_count": null,
   "id": "817a9887",
   "metadata": {
    "colab": {
     "base_uri": "https://localhost:8080/",
     "height": 419
    },
    "id": "817a9887",
    "outputId": "e635d458-f7d9-4252-bd59-d21794916c8e"
   },
   "outputs": [],
   "source": [
    "t_avg3 = t_avg3.rename(columns = {' จังหวัด': 'Province'})\n",
    "t_avg3"
   ]
  },
  {
   "cell_type": "markdown",
   "id": "f6f0d36d",
   "metadata": {
    "id": "f6f0d36d"
   },
   "source": [
    "### 1.3.4 Convert wide data to long data"
   ]
  },
  {
   "cell_type": "code",
   "execution_count": null,
   "id": "65612360",
   "metadata": {
    "colab": {
     "base_uri": "https://localhost:8080/",
     "height": 419
    },
    "id": "65612360",
    "outputId": "8a046118-2914-4470-fd43-88443ffa939f"
   },
   "outputs": [],
   "source": [
    "t_avg4 = pd.melt(t_avg3,id_vars=['Province'],var_name='year', value_name='temp_avg')\n",
    "t_avg4"
   ]
  },
  {
   "cell_type": "markdown",
   "id": "7ce3014f",
   "metadata": {
    "id": "7ce3014f"
   },
   "source": [
    "### 1.3.5 Convert B.E. to A.D."
   ]
  },
  {
   "cell_type": "code",
   "execution_count": null,
   "id": "b8c70e78",
   "metadata": {
    "colab": {
     "base_uri": "https://localhost:8080/",
     "height": 419
    },
    "id": "b8c70e78",
    "outputId": "176accaa-2a61-4a53-e879-aa1873143f46"
   },
   "outputs": [],
   "source": [
    "t_avg5 = t_avg4 \n",
    "t_avg5['year'] = t_avg4['year'].astype(int) - 543\n",
    "t_avg5"
   ]
  },
  {
   "cell_type": "markdown",
   "id": "S0kMUV2kDVXR",
   "metadata": {
    "id": "S0kMUV2kDVXR"
   },
   "source": [
    "### 1.3.6 Translate province thai to english"
   ]
  },
  {
   "cell_type": "code",
   "execution_count": null,
   "id": "Psq1AXyhDc6D",
   "metadata": {
    "colab": {
     "base_uri": "https://localhost:8080/",
     "height": 419
    },
    "id": "Psq1AXyhDc6D",
    "outputId": "70d9340f-1928-47fb-e398-3fb4999e9de9"
   },
   "outputs": [],
   "source": [
    "t_avg6 = pd.merge(t_avg5,\n",
    "              province_dict,\n",
    "              on ='Province',\n",
    "              how ='left')\n",
    "cols = t_avg6.columns.tolist()\n",
    "t_avg6 = t_avg6[cols[1:]]\n",
    "t_avg6 = t_avg6.rename(columns = {\"Province_eng\": \"Province\"})\n",
    "t_avg6"
   ]
  },
  {
   "cell_type": "markdown",
   "id": "e05421a7",
   "metadata": {
    "id": "e05421a7"
   },
   "source": [
    "## 1.4 Minimum temperature data preprocessing"
   ]
  },
  {
   "cell_type": "markdown",
   "id": "EQxB1bVluk0O",
   "metadata": {
    "id": "EQxB1bVluk0O"
   },
   "source": [
    "### 1.4.1 Remove blank row"
   ]
  },
  {
   "cell_type": "code",
   "execution_count": null,
   "id": "f6ed77e7",
   "metadata": {
    "colab": {
     "base_uri": "https://localhost:8080/",
     "height": 419
    },
    "id": "f6ed77e7",
    "outputId": "c2a02704-3e1a-485b-c2ef-9ae3b046d5fc"
   },
   "outputs": [],
   "source": [
    "t_min2 = t_min[:-2]\n",
    "t_min2"
   ]
  },
  {
   "cell_type": "markdown",
   "id": "a1292251",
   "metadata": {
    "id": "a1292251"
   },
   "source": [
    "### 1.4.2 Rearrange column\n",
    "* Select year 2559, 2560, 2561, 2562 B.E."
   ]
  },
  {
   "cell_type": "code",
   "execution_count": null,
   "id": "63f95abb",
   "metadata": {
    "colab": {
     "base_uri": "https://localhost:8080/",
     "height": 419
    },
    "id": "63f95abb",
    "outputId": "d3eb6b5c-3127-4d49-9c1c-23417e29ca5f"
   },
   "outputs": [],
   "source": [
    "cols = t_min.columns.tolist()\n",
    "cols = cols[0:1] + cols[-5:-1] \n",
    "t_min3 = t_min2[cols]\n",
    "t_min3"
   ]
  },
  {
   "cell_type": "markdown",
   "id": "e2781806",
   "metadata": {
    "id": "e2781806"
   },
   "source": [
    "### 1.4.3 Rename column"
   ]
  },
  {
   "cell_type": "code",
   "execution_count": null,
   "id": "4f03bb0c",
   "metadata": {
    "colab": {
     "base_uri": "https://localhost:8080/",
     "height": 419
    },
    "id": "4f03bb0c",
    "outputId": "114debb3-fc7f-40fe-c860-b343343153c1"
   },
   "outputs": [],
   "source": [
    "t_min3 = t_min3.rename(columns = {'จังหวัด': 'Province'})\n",
    "t_min3"
   ]
  },
  {
   "cell_type": "markdown",
   "id": "74889ee8",
   "metadata": {
    "id": "74889ee8"
   },
   "source": [
    "### 1.4.4 Convert wide data to long data"
   ]
  },
  {
   "cell_type": "code",
   "execution_count": null,
   "id": "0c345c35",
   "metadata": {
    "colab": {
     "base_uri": "https://localhost:8080/",
     "height": 419
    },
    "id": "0c345c35",
    "outputId": "0feb4b59-25b1-44ed-ef99-fd556d0a34f7"
   },
   "outputs": [],
   "source": [
    "t_min4 = pd.melt(t_min3,id_vars=['Province'],var_name='year', value_name='temp_min')\n",
    "t_min4"
   ]
  },
  {
   "cell_type": "markdown",
   "id": "48f014bf",
   "metadata": {
    "id": "48f014bf"
   },
   "source": [
    "### 1.4.5 Convert B.E. to A.D."
   ]
  },
  {
   "cell_type": "code",
   "execution_count": null,
   "id": "d03537f8",
   "metadata": {
    "colab": {
     "base_uri": "https://localhost:8080/",
     "height": 419
    },
    "id": "d03537f8",
    "outputId": "afa95f6a-7f3c-4997-c649-802c20653e48"
   },
   "outputs": [],
   "source": [
    "t_min5 = t_min4\n",
    "t_min5['year'] = t_min4['year'].astype(int) - 543\n",
    "t_min5"
   ]
  },
  {
   "cell_type": "markdown",
   "id": "pZ6OwUU4Gn97",
   "metadata": {
    "id": "pZ6OwUU4Gn97"
   },
   "source": [
    "### 1.4.6 Translate province thai to english"
   ]
  },
  {
   "cell_type": "code",
   "execution_count": null,
   "id": "ppnPmuMGGqGu",
   "metadata": {
    "colab": {
     "base_uri": "https://localhost:8080/",
     "height": 419
    },
    "id": "ppnPmuMGGqGu",
    "outputId": "aa2017bb-d782-4492-bced-bdcc314a6623"
   },
   "outputs": [],
   "source": [
    "t_min6 = pd.merge(t_min5,\n",
    "              province_dict,\n",
    "              on ='Province',\n",
    "              how ='left')\n",
    "cols = t_min6.columns.tolist()\n",
    "t_min6 = t_min6[cols[1:]]\n",
    "t_min6 = t_min6.rename(columns = {\"Province_eng\": \"Province\"})\n",
    "t_min6"
   ]
  },
  {
   "cell_type": "markdown",
   "id": "_oQHXODw-sL_",
   "metadata": {
    "id": "_oQHXODw-sL_"
   },
   "source": [
    "### 1.4.7 Cleansing data"
   ]
  },
  {
   "cell_type": "code",
   "execution_count": null,
   "id": "oiTiJkUZ-zaO",
   "metadata": {
    "id": "oiTiJkUZ-zaO"
   },
   "outputs": [],
   "source": [
    "t_min6.replace('-', np.nan, inplace = True)"
   ]
  },
  {
   "cell_type": "markdown",
   "id": "833772b2",
   "metadata": {
    "id": "833772b2"
   },
   "source": [
    "## 1.5 Maximum temperature data preprocessing"
   ]
  },
  {
   "cell_type": "markdown",
   "id": "WXi3qbFMsi0T",
   "metadata": {
    "id": "WXi3qbFMsi0T"
   },
   "source": [
    "### 1.5.1 Remove blank row"
   ]
  },
  {
   "cell_type": "code",
   "execution_count": null,
   "id": "fd4a7b53",
   "metadata": {
    "colab": {
     "base_uri": "https://localhost:8080/",
     "height": 419
    },
    "id": "fd4a7b53",
    "outputId": "c874719c-7947-4aee-f38d-97ed71ffc3eb"
   },
   "outputs": [],
   "source": [
    "t_max2 = t_max[:-2]\n",
    "t_max2"
   ]
  },
  {
   "cell_type": "markdown",
   "id": "730235c7",
   "metadata": {
    "id": "730235c7"
   },
   "source": [
    "### 1.5.2 Rearrange column\n",
    "* Select year 2559, 2560, 2561, 2562 B.E."
   ]
  },
  {
   "cell_type": "code",
   "execution_count": null,
   "id": "4f0b7a4a",
   "metadata": {
    "colab": {
     "base_uri": "https://localhost:8080/",
     "height": 419
    },
    "id": "4f0b7a4a",
    "outputId": "b9060b24-6808-44e0-ab8d-1601502e03f0"
   },
   "outputs": [],
   "source": [
    "cols = t_max.columns.tolist()\n",
    "cols = cols[0:1] + cols[-4:] \n",
    "t_max3 = t_max2[cols]\n",
    "t_max3"
   ]
  },
  {
   "cell_type": "markdown",
   "id": "a49f53ca",
   "metadata": {
    "id": "a49f53ca"
   },
   "source": [
    "### 1.5.3 Rename column"
   ]
  },
  {
   "cell_type": "code",
   "execution_count": null,
   "id": "0b551679",
   "metadata": {
    "colab": {
     "base_uri": "https://localhost:8080/",
     "height": 419
    },
    "id": "0b551679",
    "outputId": "9166b797-b591-4902-aa4e-32768c17ef4b"
   },
   "outputs": [],
   "source": [
    "t_max3 = t_max3.rename(columns = {'จังหวัด': 'Province'})\n",
    "t_max3"
   ]
  },
  {
   "cell_type": "markdown",
   "id": "9b4cc8dd",
   "metadata": {
    "id": "9b4cc8dd"
   },
   "source": [
    "### 1.5.4 Convert wide data to long data"
   ]
  },
  {
   "cell_type": "code",
   "execution_count": null,
   "id": "253fb735",
   "metadata": {
    "colab": {
     "base_uri": "https://localhost:8080/",
     "height": 419
    },
    "id": "253fb735",
    "outputId": "55dd9df6-6231-4b54-eca7-85f828c64d4a"
   },
   "outputs": [],
   "source": [
    "t_max4 = pd.melt(t_max3,id_vars=['Province'],var_name='year', value_name='temp_max')\n",
    "t_max4"
   ]
  },
  {
   "cell_type": "markdown",
   "id": "af887b20",
   "metadata": {
    "id": "af887b20"
   },
   "source": [
    "### 1.5.5 Convert B.E. to A.D."
   ]
  },
  {
   "cell_type": "code",
   "execution_count": null,
   "id": "4b3d36d4",
   "metadata": {
    "colab": {
     "base_uri": "https://localhost:8080/",
     "height": 419
    },
    "id": "4b3d36d4",
    "outputId": "70ef7abb-9900-43ac-d740-b2dd86662aee"
   },
   "outputs": [],
   "source": [
    "t_max5 = t_max4\n",
    "t_max5['year'] = t_max4['year'] .astype(int) - 543\n",
    "t_max5"
   ]
  },
  {
   "cell_type": "markdown",
   "id": "H2_spF8JsZzr",
   "metadata": {
    "id": "H2_spF8JsZzr"
   },
   "source": [
    "### 1.5.6 Translate province thai to english"
   ]
  },
  {
   "cell_type": "code",
   "execution_count": null,
   "id": "WbQIW915HKpR",
   "metadata": {
    "colab": {
     "base_uri": "https://localhost:8080/",
     "height": 419
    },
    "id": "WbQIW915HKpR",
    "outputId": "11c22e67-6bce-4501-833f-ada4b109747d"
   },
   "outputs": [],
   "source": [
    "t_max6 = pd.merge(t_max5,\n",
    "              province_dict,\n",
    "              on ='Province',\n",
    "              how ='left')\n",
    "cols = t_max6.columns.tolist()\n",
    "t_max6 = t_max6[cols[1:]]\n",
    "t_max6 = t_max6.rename(columns = {\"Province_eng\": \"Province\"})\n",
    "t_max6"
   ]
  },
  {
   "cell_type": "markdown",
   "id": "8a5d6260",
   "metadata": {
    "id": "8a5d6260"
   },
   "source": [
    "## 1.6 Rainfall data preprocessing"
   ]
  },
  {
   "cell_type": "markdown",
   "id": "gUYmfM22s3Qa",
   "metadata": {
    "id": "gUYmfM22s3Qa"
   },
   "source": [
    "### 1.6.1 Remove blank row"
   ]
  },
  {
   "cell_type": "code",
   "execution_count": null,
   "id": "8467b173",
   "metadata": {
    "colab": {
     "base_uri": "https://localhost:8080/",
     "height": 419
    },
    "id": "8467b173",
    "outputId": "cb7b9e06-67b8-46e2-8cbd-db18d175b0f2"
   },
   "outputs": [],
   "source": [
    "r_ml2 = r_ml[:-2]\n",
    "r_ml2"
   ]
  },
  {
   "cell_type": "markdown",
   "id": "819ae6d2",
   "metadata": {
    "id": "819ae6d2"
   },
   "source": [
    "### 1.6.2 Rearrange column\n",
    "* Select year 2559, 2560, 2561, 2562 B.E."
   ]
  },
  {
   "cell_type": "code",
   "execution_count": null,
   "id": "482f4aaa",
   "metadata": {
    "colab": {
     "base_uri": "https://localhost:8080/",
     "height": 419
    },
    "id": "482f4aaa",
    "outputId": "4274d4ae-6810-4798-d7d2-1bf157b29d84"
   },
   "outputs": [],
   "source": [
    "cols = r_ml.columns.tolist()\n",
    "cols = cols[0:1] + cols[-5:-1] \n",
    "r_ml3 = r_ml2[cols]\n",
    "r_ml3"
   ]
  },
  {
   "cell_type": "markdown",
   "id": "63e149b7",
   "metadata": {
    "id": "63e149b7"
   },
   "source": [
    "### 1.6.3 Rename column"
   ]
  },
  {
   "cell_type": "code",
   "execution_count": null,
   "id": "0fdc6fe1",
   "metadata": {
    "colab": {
     "base_uri": "https://localhost:8080/",
     "height": 419
    },
    "id": "0fdc6fe1",
    "outputId": "adbc43f0-74ec-4019-b82c-e9f7167e1bca"
   },
   "outputs": [],
   "source": [
    "r_ml3 = r_ml3.rename(columns = {' จังหวัด': 'Province'})\n",
    "r_ml3"
   ]
  },
  {
   "cell_type": "markdown",
   "id": "c1149721",
   "metadata": {
    "id": "c1149721"
   },
   "source": [
    "### 1.6.4 Convert wide data to long data"
   ]
  },
  {
   "cell_type": "code",
   "execution_count": null,
   "id": "090461cb",
   "metadata": {
    "colab": {
     "base_uri": "https://localhost:8080/",
     "height": 419
    },
    "id": "090461cb",
    "outputId": "52e86f1f-4eed-4ea4-9f4f-74bcf01a630a"
   },
   "outputs": [],
   "source": [
    "r_ml4 = pd.melt(r_ml3,id_vars=['Province'],var_name='year', value_name='rain_ml')\n",
    "r_ml4"
   ]
  },
  {
   "cell_type": "markdown",
   "id": "78a9e5f9",
   "metadata": {
    "id": "78a9e5f9"
   },
   "source": [
    "### 1.6.5 Convert B.E. to A.D."
   ]
  },
  {
   "cell_type": "code",
   "execution_count": null,
   "id": "1e1ce0c8",
   "metadata": {
    "colab": {
     "base_uri": "https://localhost:8080/",
     "height": 419
    },
    "id": "1e1ce0c8",
    "outputId": "2e3b2d58-cfa4-4342-da08-c0858310ddcf"
   },
   "outputs": [],
   "source": [
    "r_ml5 = r_ml4\n",
    "r_ml5['year'] = r_ml4['year'].astype(int) - 543\n",
    "r_ml5"
   ]
  },
  {
   "cell_type": "markdown",
   "id": "KoijIdPPtBQ7",
   "metadata": {
    "id": "KoijIdPPtBQ7"
   },
   "source": [
    "### 1.6.6 Translate province thai to english"
   ]
  },
  {
   "cell_type": "code",
   "execution_count": null,
   "id": "p9ox-W5EHOB5",
   "metadata": {
    "colab": {
     "base_uri": "https://localhost:8080/",
     "height": 419
    },
    "id": "p9ox-W5EHOB5",
    "outputId": "114023e3-b873-43dc-8a98-b1274d8b1ca5"
   },
   "outputs": [],
   "source": [
    "r_ml6 = pd.merge(r_ml5,\n",
    "              province_dict,\n",
    "              on ='Province',\n",
    "              how ='left')\n",
    "cols = r_ml6.columns.tolist()\n",
    "r_ml6 = r_ml6[cols[1:]]\n",
    "r_ml6 = r_ml6.rename(columns = {\"Province_eng\": \"Province\"})\n",
    "r_ml6"
   ]
  },
  {
   "cell_type": "markdown",
   "id": "744f51f0",
   "metadata": {
    "id": "744f51f0"
   },
   "source": [
    "## 1.7 Rainy day data preprocessing"
   ]
  },
  {
   "cell_type": "markdown",
   "id": "tX1YA7tEtyDu",
   "metadata": {
    "id": "tX1YA7tEtyDu"
   },
   "source": [
    "### 1.7.1 Remove blank row"
   ]
  },
  {
   "cell_type": "code",
   "execution_count": null,
   "id": "ed77f799",
   "metadata": {
    "colab": {
     "base_uri": "https://localhost:8080/",
     "height": 419
    },
    "id": "ed77f799",
    "outputId": "ae229bea-fec0-4400-d55e-1eb622723245"
   },
   "outputs": [],
   "source": [
    "r_day2 = r_day[:-2]\n",
    "r_day2"
   ]
  },
  {
   "cell_type": "markdown",
   "id": "aa073b47",
   "metadata": {
    "id": "aa073b47"
   },
   "source": [
    "### 1.7.2 Rearrange column\n",
    "* Select year 2559, 2560, 2561, 2562 B.E."
   ]
  },
  {
   "cell_type": "code",
   "execution_count": null,
   "id": "67cf7e03",
   "metadata": {
    "colab": {
     "base_uri": "https://localhost:8080/",
     "height": 419
    },
    "id": "67cf7e03",
    "outputId": "83e83422-0ba9-49a8-ba87-f8bf7579d0da"
   },
   "outputs": [],
   "source": [
    "cols = r_day.columns.tolist()\n",
    "cols = cols[0:1] + cols[-5:-1] \n",
    "r_day3 = r_day2[cols]\n",
    "r_day3"
   ]
  },
  {
   "cell_type": "markdown",
   "id": "0ae16676",
   "metadata": {
    "id": "0ae16676"
   },
   "source": [
    "### 1.7.3 Rename column"
   ]
  },
  {
   "cell_type": "code",
   "execution_count": null,
   "id": "a0680476",
   "metadata": {
    "colab": {
     "base_uri": "https://localhost:8080/",
     "height": 419
    },
    "id": "a0680476",
    "outputId": "11700d38-4a4c-4f63-ac7d-3af74acb3bd4"
   },
   "outputs": [],
   "source": [
    "r_day3 = r_day3.rename(columns = {'จังหวัด': 'Province'})\n",
    "r_day3"
   ]
  },
  {
   "cell_type": "markdown",
   "id": "28888b26",
   "metadata": {
    "id": "28888b26"
   },
   "source": [
    "### 1.7.4 Convert wide data to long data"
   ]
  },
  {
   "cell_type": "code",
   "execution_count": null,
   "id": "c88df8a3",
   "metadata": {
    "colab": {
     "base_uri": "https://localhost:8080/",
     "height": 419
    },
    "id": "c88df8a3",
    "outputId": "cc79aca9-333e-4c80-922e-4ccbb4fc2afc"
   },
   "outputs": [],
   "source": [
    "r_day4 = pd.melt(r_day3,id_vars=['Province'],var_name='year', value_name='rain_day')\n",
    "r_day4"
   ]
  },
  {
   "cell_type": "markdown",
   "id": "51fbdcfb",
   "metadata": {
    "id": "51fbdcfb"
   },
   "source": [
    "### 1.7.5 Convert B.E. to A.D."
   ]
  },
  {
   "cell_type": "code",
   "execution_count": null,
   "id": "78db5b15",
   "metadata": {
    "colab": {
     "base_uri": "https://localhost:8080/",
     "height": 419
    },
    "id": "78db5b15",
    "outputId": "9f800add-0cde-4769-bc6e-52969e2017ca"
   },
   "outputs": [],
   "source": [
    "r_day5 = r_day4\n",
    "r_day5['year'] = r_day4['year'].astype(int) - 543\n",
    "r_day5"
   ]
  },
  {
   "cell_type": "markdown",
   "id": "9XpmlxZZtpbX",
   "metadata": {
    "id": "9XpmlxZZtpbX"
   },
   "source": [
    "### 1.7.6 Translate province thai to english"
   ]
  },
  {
   "cell_type": "code",
   "execution_count": null,
   "id": "hjE4VUqmHR3a",
   "metadata": {
    "colab": {
     "base_uri": "https://localhost:8080/",
     "height": 419
    },
    "id": "hjE4VUqmHR3a",
    "outputId": "9d91a58c-3b26-4f56-f5a7-0a09852bc874"
   },
   "outputs": [],
   "source": [
    "r_day6 = pd.merge(r_day5,\n",
    "              province_dict,\n",
    "              on ='Province',\n",
    "              how ='left')\n",
    "cols = r_day6.columns.tolist()\n",
    "r_day6 = r_day6[cols[1:]]\n",
    "r_day6 = r_day6.rename(columns = {\"Province_eng\": \"Province\"})\n",
    "r_day6"
   ]
  },
  {
   "cell_type": "markdown",
   "id": "scbpZf30A59l",
   "metadata": {
    "id": "scbpZf30A59l"
   },
   "source": [
    "### 1.7.7 Cleaning data"
   ]
  },
  {
   "cell_type": "code",
   "execution_count": null,
   "id": "hZ77M-ggA7TH",
   "metadata": {
    "id": "hZ77M-ggA7TH"
   },
   "outputs": [],
   "source": [
    "r_day6.replace('-', np.nan, inplace = True)"
   ]
  },
  {
   "cell_type": "markdown",
   "id": "XpI16PGdxDE3",
   "metadata": {
    "id": "XpI16PGdxDE3"
   },
   "source": [
    "## 1.8 Merge data"
   ]
  },
  {
   "cell_type": "code",
   "execution_count": null,
   "id": "CRmglM7CxIu-",
   "metadata": {
    "colab": {
     "base_uri": "https://localhost:8080/",
     "height": 419
    },
    "id": "CRmglM7CxIu-",
    "outputId": "08536fdd-6a6b-43cd-be93-226cfb9176a5"
   },
   "outputs": [],
   "source": [
    "new_df = pd.merge(df5, h6, \n",
    "                  how = 'left', \n",
    "                  on = ['year', 'Province'])\n",
    "new_df"
   ]
  },
  {
   "cell_type": "code",
   "execution_count": null,
   "id": "4soLptt25Kr3",
   "metadata": {
    "id": "4soLptt25Kr3"
   },
   "outputs": [],
   "source": [
    "new_df = pd.merge(new_df, t_avg6, \n",
    "                  how = 'left', \n",
    "                  on = ['year', 'Province'])"
   ]
  },
  {
   "cell_type": "code",
   "execution_count": null,
   "id": "JsQZlD8E6BBB",
   "metadata": {
    "id": "JsQZlD8E6BBB"
   },
   "outputs": [],
   "source": [
    "new_df = pd.merge(new_df, t_min6, \n",
    "                  how = 'left', \n",
    "                  on = ['year', 'Province'])"
   ]
  },
  {
   "cell_type": "code",
   "execution_count": null,
   "id": "kdajEBH36Cuf",
   "metadata": {
    "id": "kdajEBH36Cuf"
   },
   "outputs": [],
   "source": [
    "new_df = pd.merge(new_df, t_max6, \n",
    "                  how = 'left', \n",
    "                  on = ['year', 'Province'])"
   ]
  },
  {
   "cell_type": "code",
   "execution_count": null,
   "id": "XjBvQb_W6DNU",
   "metadata": {
    "id": "XjBvQb_W6DNU"
   },
   "outputs": [],
   "source": [
    "new_df = pd.merge(new_df, r_ml6, \n",
    "                  how = 'left', \n",
    "                  on = ['year', 'Province'])"
   ]
  },
  {
   "cell_type": "code",
   "execution_count": null,
   "id": "Z7kyISo66Dxp",
   "metadata": {
    "id": "Z7kyISo66Dxp"
   },
   "outputs": [],
   "source": [
    "new_df = pd.merge(new_df, r_day6, \n",
    "                  how = 'left', \n",
    "                  on = ['year', 'Province'])"
   ]
  },
  {
   "cell_type": "code",
   "execution_count": null,
   "id": "JpwbHhuH79tH",
   "metadata": {
    "colab": {
     "base_uri": "https://localhost:8080/",
     "height": 541
    },
    "id": "JpwbHhuH79tH",
    "outputId": "c1c98bce-c501-444d-b8e2-c9e70ce2cf38"
   },
   "outputs": [],
   "source": [
    "new_df"
   ]
  },
  {
   "cell_type": "code",
   "execution_count": null,
   "id": "eS4fIThG6WoF",
   "metadata": {
    "id": "eS4fIThG6WoF"
   },
   "outputs": [],
   "source": [
    "new_df_1 = new_df"
   ]
  },
  {
   "cell_type": "code",
   "execution_count": null,
   "id": "_UgoNv_09My8",
   "metadata": {
    "colab": {
     "base_uri": "https://localhost:8080/",
     "height": 541
    },
    "id": "_UgoNv_09My8",
    "outputId": "3bd378e9-d06b-4310-c373-3b09de1ac823"
   },
   "outputs": [],
   "source": [
    "new_df_1['humidity'].fillna(int(new_df['humidity'].mean()), inplace = True)\n",
    "new_df_1['temp_avg'].fillna(int(new_df['temp_avg'].mean()), inplace = True)\n",
    "new_df_1['temp_min'].fillna(int(new_df['temp_min'].mean()), inplace = True)\n",
    "new_df_1['temp_max'].fillna(int(new_df['temp_max'].mean()), inplace = True)\n",
    "new_df_1['rain_ml'].fillna(int(new_df['rain_ml'].mean()), inplace = True)\n",
    "new_df_1['rain_day'].fillna(int(new_df['rain_day'].mean()), inplace = True)\n",
    "new_df_1"
   ]
  },
  {
   "cell_type": "markdown",
   "id": "obC3hGQsBpna",
   "metadata": {
    "id": "obC3hGQsBpna"
   },
   "source": [
    "## 1.9 Export data for model"
   ]
  },
  {
   "cell_type": "code",
   "execution_count": null,
   "id": "hl1e0Ioy5JDT",
   "metadata": {
    "id": "hl1e0Ioy5JDT"
   },
   "outputs": [],
   "source": [
    "new_df_1.to_csv('output/dengue_processed.csv', index = False)"
   ]
  }
 ],
 "metadata": {
  "colab": {
   "name": "Dengue_preprocessing.ipynb",
   "provenance": []
  },
  "kernelspec": {
   "display_name": "Python 3 (ipykernel)",
   "language": "python",
   "name": "python3"
  },
  "language_info": {
   "codemirror_mode": {
    "name": "ipython",
    "version": 3
   },
   "file_extension": ".py",
   "mimetype": "text/x-python",
   "name": "python",
   "nbconvert_exporter": "python",
   "pygments_lexer": "ipython3",
   "version": "3.8.8"
  }
 },
 "nbformat": 4,
 "nbformat_minor": 5
}
