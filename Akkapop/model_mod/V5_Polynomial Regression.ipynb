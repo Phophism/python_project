{
 "cells": [
  {
   "cell_type": "markdown",
   "metadata": {},
   "source": [
    "## Degue vs Environmental Analysis.\n",
    "\n",
    "\n",
    "### Import Libraries"
   ]
  },
  {
   "cell_type": "code",
   "execution_count": 1,
   "metadata": {},
   "outputs": [],
   "source": [
    "import pandas as pd\n",
    "import numpy as np\n",
    "import seaborn as sns\n",
    "import matplotlib.pyplot as plt\n",
    "import sklearn\n",
    "%matplotlib inline\n",
    "%config InlineBackend.figure_format = 'retina'\n",
    "\n",
    "import warnings\n",
    "warnings.filterwarnings(\"ignore\")"
   ]
  },
  {
   "cell_type": "code",
   "execution_count": 2,
   "metadata": {},
   "outputs": [
    {
     "name": "stdout",
     "output_type": "stream",
     "text": [
      "pandas version: 1.2.5\n",
      "numpy version: 1.20.2\n",
      "seaborn version: 0.11.1\n",
      "sklearn version: 0.24.2\n"
     ]
    }
   ],
   "source": [
    "# Check version\n",
    "print(f'pandas version: {pd.__version__}')\n",
    "print(f'numpy version: {np.__version__}')\n",
    "print(f'seaborn version: {sns.__version__}')\n",
    "print(f'sklearn version: {sklearn.__version__}')"
   ]
  },
  {
   "cell_type": "markdown",
   "metadata": {},
   "source": [
    "### Input Data from CSV file."
   ]
  },
  {
   "cell_type": "code",
   "execution_count": 3,
   "metadata": {},
   "outputs": [],
   "source": [
    "# Read in Data set\n",
    "df= pd.read_csv('../../Nattawat/dengue_preprocessing.csv',header= 0,encoding= 'unicode_escape')"
   ]
  },
  {
   "cell_type": "code",
   "execution_count": 4,
   "metadata": {},
   "outputs": [],
   "source": [
    "df = df.drop(columns=['province', 'year'])"
   ]
  },
  {
   "cell_type": "code",
   "execution_count": 5,
   "metadata": {},
   "outputs": [
    {
     "data": {
      "text/html": [
       "<div>\n",
       "<style scoped>\n",
       "    .dataframe tbody tr th:only-of-type {\n",
       "        vertical-align: middle;\n",
       "    }\n",
       "\n",
       "    .dataframe tbody tr th {\n",
       "        vertical-align: top;\n",
       "    }\n",
       "\n",
       "    .dataframe thead th {\n",
       "        text-align: right;\n",
       "    }\n",
       "</style>\n",
       "<table border=\"1\" class=\"dataframe\">\n",
       "  <thead>\n",
       "    <tr style=\"text-align: right;\">\n",
       "      <th></th>\n",
       "      <th>year_num</th>\n",
       "      <th>province_num</th>\n",
       "      <th>day_raindrop</th>\n",
       "      <th>quant_rain</th>\n",
       "      <th>humbidity_perc</th>\n",
       "      <th>temp_max</th>\n",
       "      <th>temp_min</th>\n",
       "      <th>temp_avg</th>\n",
       "      <th>dead</th>\n",
       "      <th>dead_perc</th>\n",
       "      <th>patient</th>\n",
       "    </tr>\n",
       "  </thead>\n",
       "  <tbody>\n",
       "    <tr>\n",
       "      <th>231</th>\n",
       "      <td>4</td>\n",
       "      <td>1</td>\n",
       "      <td>145</td>\n",
       "      <td>1474.1</td>\n",
       "      <td>80.1</td>\n",
       "      <td>38.8</td>\n",
       "      <td>20.0</td>\n",
       "      <td>27.40</td>\n",
       "      <td>1</td>\n",
       "      <td>0.05</td>\n",
       "      <td>1943</td>\n",
       "    </tr>\n",
       "    <tr>\n",
       "      <th>232</th>\n",
       "      <td>4</td>\n",
       "      <td>2</td>\n",
       "      <td>95</td>\n",
       "      <td>1058.1</td>\n",
       "      <td>72.9</td>\n",
       "      <td>40.0</td>\n",
       "      <td>17.7</td>\n",
       "      <td>29.50</td>\n",
       "      <td>10</td>\n",
       "      <td>0.21</td>\n",
       "      <td>4773</td>\n",
       "    </tr>\n",
       "    <tr>\n",
       "      <th>233</th>\n",
       "      <td>4</td>\n",
       "      <td>3</td>\n",
       "      <td>87</td>\n",
       "      <td>687.4</td>\n",
       "      <td>67.2</td>\n",
       "      <td>42.5</td>\n",
       "      <td>14.1</td>\n",
       "      <td>29.30</td>\n",
       "      <td>1</td>\n",
       "      <td>0.04</td>\n",
       "      <td>2554</td>\n",
       "    </tr>\n",
       "    <tr>\n",
       "      <th>234</th>\n",
       "      <td>4</td>\n",
       "      <td>4</td>\n",
       "      <td>98</td>\n",
       "      <td>1299.6</td>\n",
       "      <td>75.0</td>\n",
       "      <td>41.4</td>\n",
       "      <td>10.0</td>\n",
       "      <td>27.80</td>\n",
       "      <td>0</td>\n",
       "      <td>0.00</td>\n",
       "      <td>1971</td>\n",
       "    </tr>\n",
       "    <tr>\n",
       "      <th>235</th>\n",
       "      <td>4</td>\n",
       "      <td>5</td>\n",
       "      <td>100</td>\n",
       "      <td>1041.7</td>\n",
       "      <td>70.1</td>\n",
       "      <td>42.0</td>\n",
       "      <td>11.4</td>\n",
       "      <td>28.60</td>\n",
       "      <td>0</td>\n",
       "      <td>0.00</td>\n",
       "      <td>938</td>\n",
       "    </tr>\n",
       "    <tr>\n",
       "      <th>...</th>\n",
       "      <td>...</td>\n",
       "      <td>...</td>\n",
       "      <td>...</td>\n",
       "      <td>...</td>\n",
       "      <td>...</td>\n",
       "      <td>...</td>\n",
       "      <td>...</td>\n",
       "      <td>...</td>\n",
       "      <td>...</td>\n",
       "      <td>...</td>\n",
       "      <td>...</td>\n",
       "    </tr>\n",
       "    <tr>\n",
       "      <th>303</th>\n",
       "      <td>4</td>\n",
       "      <td>73</td>\n",
       "      <td>95</td>\n",
       "      <td>1024.0</td>\n",
       "      <td>69.3</td>\n",
       "      <td>40.6</td>\n",
       "      <td>9.9</td>\n",
       "      <td>25.25</td>\n",
       "      <td>0</td>\n",
       "      <td>0.00</td>\n",
       "      <td>1264</td>\n",
       "    </tr>\n",
       "    <tr>\n",
       "      <th>304</th>\n",
       "      <td>4</td>\n",
       "      <td>74</td>\n",
       "      <td>106</td>\n",
       "      <td>1285.7</td>\n",
       "      <td>69.6</td>\n",
       "      <td>42.5</td>\n",
       "      <td>8.5</td>\n",
       "      <td>27.90</td>\n",
       "      <td>3</td>\n",
       "      <td>0.12</td>\n",
       "      <td>2475</td>\n",
       "    </tr>\n",
       "    <tr>\n",
       "      <th>305</th>\n",
       "      <td>4</td>\n",
       "      <td>75</td>\n",
       "      <td>77</td>\n",
       "      <td>842.8</td>\n",
       "      <td>67.5</td>\n",
       "      <td>43.0</td>\n",
       "      <td>13.0</td>\n",
       "      <td>28.80</td>\n",
       "      <td>1</td>\n",
       "      <td>0.15</td>\n",
       "      <td>646</td>\n",
       "    </tr>\n",
       "    <tr>\n",
       "      <th>306</th>\n",
       "      <td>4</td>\n",
       "      <td>76</td>\n",
       "      <td>94</td>\n",
       "      <td>975.4</td>\n",
       "      <td>71.4</td>\n",
       "      <td>42.5</td>\n",
       "      <td>12.4</td>\n",
       "      <td>29.30</td>\n",
       "      <td>0</td>\n",
       "      <td>0.00</td>\n",
       "      <td>1004</td>\n",
       "    </tr>\n",
       "    <tr>\n",
       "      <th>307</th>\n",
       "      <td>4</td>\n",
       "      <td>77</td>\n",
       "      <td>108</td>\n",
       "      <td>1697.7</td>\n",
       "      <td>68.5</td>\n",
       "      <td>40.6</td>\n",
       "      <td>13.7</td>\n",
       "      <td>28.50</td>\n",
       "      <td>9</td>\n",
       "      <td>0.16</td>\n",
       "      <td>5523</td>\n",
       "    </tr>\n",
       "  </tbody>\n",
       "</table>\n",
       "<p>77 rows × 11 columns</p>\n",
       "</div>"
      ],
      "text/plain": [
       "     year_num  province_num  day_raindrop  quant_rain  humbidity_perc  \\\n",
       "231         4             1           145      1474.1            80.1   \n",
       "232         4             2            95      1058.1            72.9   \n",
       "233         4             3            87       687.4            67.2   \n",
       "234         4             4            98      1299.6            75.0   \n",
       "235         4             5           100      1041.7            70.1   \n",
       "..        ...           ...           ...         ...             ...   \n",
       "303         4            73            95      1024.0            69.3   \n",
       "304         4            74           106      1285.7            69.6   \n",
       "305         4            75            77       842.8            67.5   \n",
       "306         4            76            94       975.4            71.4   \n",
       "307         4            77           108      1697.7            68.5   \n",
       "\n",
       "     temp_max  temp_min  temp_avg  dead  dead_perc  patient  \n",
       "231      38.8      20.0     27.40     1       0.05     1943  \n",
       "232      40.0      17.7     29.50    10       0.21     4773  \n",
       "233      42.5      14.1     29.30     1       0.04     2554  \n",
       "234      41.4      10.0     27.80     0       0.00     1971  \n",
       "235      42.0      11.4     28.60     0       0.00      938  \n",
       "..        ...       ...       ...   ...        ...      ...  \n",
       "303      40.6       9.9     25.25     0       0.00     1264  \n",
       "304      42.5       8.5     27.90     3       0.12     2475  \n",
       "305      43.0      13.0     28.80     1       0.15      646  \n",
       "306      42.5      12.4     29.30     0       0.00     1004  \n",
       "307      40.6      13.7     28.50     9       0.16     5523  \n",
       "\n",
       "[77 rows x 11 columns]"
      ]
     },
     "execution_count": 5,
     "metadata": {},
     "output_type": "execute_result"
    }
   ],
   "source": [
    "df = df.loc[df['year_num'] == 4]\n",
    "df"
   ]
  },
  {
   "cell_type": "code",
   "execution_count": 6,
   "metadata": {},
   "outputs": [
    {
     "data": {
      "text/html": [
       "<div>\n",
       "<style scoped>\n",
       "    .dataframe tbody tr th:only-of-type {\n",
       "        vertical-align: middle;\n",
       "    }\n",
       "\n",
       "    .dataframe tbody tr th {\n",
       "        vertical-align: top;\n",
       "    }\n",
       "\n",
       "    .dataframe thead th {\n",
       "        text-align: right;\n",
       "    }\n",
       "</style>\n",
       "<table border=\"1\" class=\"dataframe\">\n",
       "  <thead>\n",
       "    <tr style=\"text-align: right;\">\n",
       "      <th></th>\n",
       "      <th>year_num</th>\n",
       "      <th>province_num</th>\n",
       "      <th>day_raindrop</th>\n",
       "      <th>quant_rain</th>\n",
       "      <th>humbidity_perc</th>\n",
       "      <th>temp_max</th>\n",
       "      <th>temp_min</th>\n",
       "      <th>temp_avg</th>\n",
       "      <th>dead</th>\n",
       "      <th>dead_perc</th>\n",
       "      <th>patient</th>\n",
       "    </tr>\n",
       "  </thead>\n",
       "  <tbody>\n",
       "    <tr>\n",
       "      <th>count</th>\n",
       "      <td>77.0</td>\n",
       "      <td>77.000000</td>\n",
       "      <td>77.000000</td>\n",
       "      <td>77.000000</td>\n",
       "      <td>77.000000</td>\n",
       "      <td>77.000000</td>\n",
       "      <td>77.000000</td>\n",
       "      <td>77.000000</td>\n",
       "      <td>77.000000</td>\n",
       "      <td>77.000000</td>\n",
       "      <td>77.000000</td>\n",
       "    </tr>\n",
       "    <tr>\n",
       "      <th>mean</th>\n",
       "      <td>4.0</td>\n",
       "      <td>39.000000</td>\n",
       "      <td>108.636364</td>\n",
       "      <td>1301.261039</td>\n",
       "      <td>73.259740</td>\n",
       "      <td>40.101299</td>\n",
       "      <td>14.240260</td>\n",
       "      <td>28.282468</td>\n",
       "      <td>1.597403</td>\n",
       "      <td>0.102078</td>\n",
       "      <td>1902.597403</td>\n",
       "    </tr>\n",
       "    <tr>\n",
       "      <th>std</th>\n",
       "      <td>0.0</td>\n",
       "      <td>22.371857</td>\n",
       "      <td>27.950572</td>\n",
       "      <td>765.743855</td>\n",
       "      <td>4.465931</td>\n",
       "      <td>2.231149</td>\n",
       "      <td>4.499481</td>\n",
       "      <td>0.880108</td>\n",
       "      <td>2.249326</td>\n",
       "      <td>0.140013</td>\n",
       "      <td>1643.994640</td>\n",
       "    </tr>\n",
       "    <tr>\n",
       "      <th>min</th>\n",
       "      <td>4.0</td>\n",
       "      <td>1.000000</td>\n",
       "      <td>75.000000</td>\n",
       "      <td>513.200000</td>\n",
       "      <td>63.900000</td>\n",
       "      <td>35.000000</td>\n",
       "      <td>0.600000</td>\n",
       "      <td>25.250000</td>\n",
       "      <td>0.000000</td>\n",
       "      <td>0.000000</td>\n",
       "      <td>229.000000</td>\n",
       "    </tr>\n",
       "    <tr>\n",
       "      <th>25%</th>\n",
       "      <td>4.0</td>\n",
       "      <td>20.000000</td>\n",
       "      <td>91.000000</td>\n",
       "      <td>855.100000</td>\n",
       "      <td>69.700000</td>\n",
       "      <td>38.700000</td>\n",
       "      <td>10.800000</td>\n",
       "      <td>27.700000</td>\n",
       "      <td>0.000000</td>\n",
       "      <td>0.000000</td>\n",
       "      <td>814.000000</td>\n",
       "    </tr>\n",
       "    <tr>\n",
       "      <th>50%</th>\n",
       "      <td>4.0</td>\n",
       "      <td>39.000000</td>\n",
       "      <td>97.000000</td>\n",
       "      <td>1058.100000</td>\n",
       "      <td>72.900000</td>\n",
       "      <td>40.500000</td>\n",
       "      <td>14.100000</td>\n",
       "      <td>28.400000</td>\n",
       "      <td>1.000000</td>\n",
       "      <td>0.060000</td>\n",
       "      <td>1514.000000</td>\n",
       "    </tr>\n",
       "    <tr>\n",
       "      <th>75%</th>\n",
       "      <td>4.0</td>\n",
       "      <td>58.000000</td>\n",
       "      <td>114.000000</td>\n",
       "      <td>1474.100000</td>\n",
       "      <td>76.200000</td>\n",
       "      <td>41.900000</td>\n",
       "      <td>17.700000</td>\n",
       "      <td>29.000000</td>\n",
       "      <td>2.000000</td>\n",
       "      <td>0.150000</td>\n",
       "      <td>2237.000000</td>\n",
       "    </tr>\n",
       "    <tr>\n",
       "      <th>max</th>\n",
       "      <td>4.0</td>\n",
       "      <td>77.000000</td>\n",
       "      <td>185.000000</td>\n",
       "      <td>5287.300000</td>\n",
       "      <td>83.700000</td>\n",
       "      <td>43.400000</td>\n",
       "      <td>23.200000</td>\n",
       "      <td>29.700000</td>\n",
       "      <td>10.000000</td>\n",
       "      <td>0.870000</td>\n",
       "      <td>8279.000000</td>\n",
       "    </tr>\n",
       "  </tbody>\n",
       "</table>\n",
       "</div>"
      ],
      "text/plain": [
       "       year_num  province_num  day_raindrop   quant_rain  humbidity_perc  \\\n",
       "count      77.0     77.000000     77.000000    77.000000       77.000000   \n",
       "mean        4.0     39.000000    108.636364  1301.261039       73.259740   \n",
       "std         0.0     22.371857     27.950572   765.743855        4.465931   \n",
       "min         4.0      1.000000     75.000000   513.200000       63.900000   \n",
       "25%         4.0     20.000000     91.000000   855.100000       69.700000   \n",
       "50%         4.0     39.000000     97.000000  1058.100000       72.900000   \n",
       "75%         4.0     58.000000    114.000000  1474.100000       76.200000   \n",
       "max         4.0     77.000000    185.000000  5287.300000       83.700000   \n",
       "\n",
       "        temp_max   temp_min   temp_avg       dead  dead_perc      patient  \n",
       "count  77.000000  77.000000  77.000000  77.000000  77.000000    77.000000  \n",
       "mean   40.101299  14.240260  28.282468   1.597403   0.102078  1902.597403  \n",
       "std     2.231149   4.499481   0.880108   2.249326   0.140013  1643.994640  \n",
       "min    35.000000   0.600000  25.250000   0.000000   0.000000   229.000000  \n",
       "25%    38.700000  10.800000  27.700000   0.000000   0.000000   814.000000  \n",
       "50%    40.500000  14.100000  28.400000   1.000000   0.060000  1514.000000  \n",
       "75%    41.900000  17.700000  29.000000   2.000000   0.150000  2237.000000  \n",
       "max    43.400000  23.200000  29.700000  10.000000   0.870000  8279.000000  "
      ]
     },
     "execution_count": 6,
     "metadata": {},
     "output_type": "execute_result"
    }
   ],
   "source": [
    "df.describe()"
   ]
  },
  {
   "cell_type": "code",
   "execution_count": 7,
   "metadata": {},
   "outputs": [
    {
     "data": {
      "text/plain": [
       "Index(['year_num', 'province_num', 'day_raindrop', 'quant_rain',\n",
       "       'humbidity_perc', 'temp_max', 'temp_min', 'temp_avg', 'dead',\n",
       "       'dead_perc', 'patient'],\n",
       "      dtype='object')"
      ]
     },
     "execution_count": 7,
     "metadata": {},
     "output_type": "execute_result"
    }
   ],
   "source": [
    "df.columns"
   ]
  },
  {
   "cell_type": "code",
   "execution_count": 8,
   "metadata": {},
   "outputs": [],
   "source": [
    "# Transformation\n",
    "df_num  = df[['day_raindrop', 'quant_rain', 'humbidity_perc','temp_max', 'temp_min', 'temp_avg',]]"
   ]
  },
  {
   "cell_type": "code",
   "execution_count": 9,
   "metadata": {},
   "outputs": [],
   "source": [
    "# Choice of Numerical varialable.\n",
    "\n",
    "#from sklearn.preprocessing import StandardScaler\n",
    "from sklearn.preprocessing import MinMaxScaler"
   ]
  },
  {
   "cell_type": "code",
   "execution_count": 10,
   "metadata": {},
   "outputs": [
    {
     "data": {
      "text/html": [
       "<div>\n",
       "<style scoped>\n",
       "    .dataframe tbody tr th:only-of-type {\n",
       "        vertical-align: middle;\n",
       "    }\n",
       "\n",
       "    .dataframe tbody tr th {\n",
       "        vertical-align: top;\n",
       "    }\n",
       "\n",
       "    .dataframe thead th {\n",
       "        text-align: right;\n",
       "    }\n",
       "</style>\n",
       "<table border=\"1\" class=\"dataframe\">\n",
       "  <thead>\n",
       "    <tr style=\"text-align: right;\">\n",
       "      <th></th>\n",
       "      <th>day_raindrop</th>\n",
       "      <th>quant_rain</th>\n",
       "      <th>humbidity_perc</th>\n",
       "      <th>temp_max</th>\n",
       "      <th>temp_min</th>\n",
       "      <th>temp_avg</th>\n",
       "    </tr>\n",
       "  </thead>\n",
       "  <tbody>\n",
       "    <tr>\n",
       "      <th>303</th>\n",
       "      <td>0.181818</td>\n",
       "      <td>0.106994</td>\n",
       "      <td>0.272727</td>\n",
       "      <td>0.666667</td>\n",
       "      <td>0.411504</td>\n",
       "      <td>0.000000</td>\n",
       "    </tr>\n",
       "    <tr>\n",
       "      <th>304</th>\n",
       "      <td>0.281818</td>\n",
       "      <td>0.161811</td>\n",
       "      <td>0.287879</td>\n",
       "      <td>0.892857</td>\n",
       "      <td>0.349558</td>\n",
       "      <td>0.595506</td>\n",
       "    </tr>\n",
       "    <tr>\n",
       "      <th>305</th>\n",
       "      <td>0.018182</td>\n",
       "      <td>0.069039</td>\n",
       "      <td>0.181818</td>\n",
       "      <td>0.952381</td>\n",
       "      <td>0.548673</td>\n",
       "      <td>0.797753</td>\n",
       "    </tr>\n",
       "    <tr>\n",
       "      <th>306</th>\n",
       "      <td>0.172727</td>\n",
       "      <td>0.096814</td>\n",
       "      <td>0.378788</td>\n",
       "      <td>0.892857</td>\n",
       "      <td>0.522124</td>\n",
       "      <td>0.910112</td>\n",
       "    </tr>\n",
       "    <tr>\n",
       "      <th>307</th>\n",
       "      <td>0.300000</td>\n",
       "      <td>0.248110</td>\n",
       "      <td>0.232323</td>\n",
       "      <td>0.666667</td>\n",
       "      <td>0.579646</td>\n",
       "      <td>0.730337</td>\n",
       "    </tr>\n",
       "  </tbody>\n",
       "</table>\n",
       "</div>"
      ],
      "text/plain": [
       "     day_raindrop  quant_rain  humbidity_perc  temp_max  temp_min  temp_avg\n",
       "303      0.181818    0.106994        0.272727  0.666667  0.411504  0.000000\n",
       "304      0.281818    0.161811        0.287879  0.892857  0.349558  0.595506\n",
       "305      0.018182    0.069039        0.181818  0.952381  0.548673  0.797753\n",
       "306      0.172727    0.096814        0.378788  0.892857  0.522124  0.910112\n",
       "307      0.300000    0.248110        0.232323  0.666667  0.579646  0.730337"
      ]
     },
     "metadata": {},
     "output_type": "display_data"
    }
   ],
   "source": [
    "# Version1: select MinMax\n",
    "\n",
    "num_column = df_num.dtypes[df_num.dtypes != 'object'].index\n",
    "\n",
    "# Initialize a scaler, then apply it to the features\n",
    "scaler = MinMaxScaler() # default=(0, 1)\n",
    "\n",
    "std_transform_feat = pd.DataFrame(data = df_num)\n",
    "std_transform_feat[num_column] = scaler.fit_transform(df_num[num_column])\n",
    "\n",
    "# Show an example of a record with scaling applied\n",
    "display(std_transform_feat.tail())"
   ]
  },
  {
   "cell_type": "code",
   "execution_count": 11,
   "metadata": {},
   "outputs": [],
   "source": [
    "# log transform to target variable impove RMSE value.\n",
    "\n",
    "#df['patient'] = np.log(df['patient'])"
   ]
  },
  {
   "cell_type": "code",
   "execution_count": 12,
   "metadata": {},
   "outputs": [],
   "source": [
    "df_cat = df[['year_num', 'province_num']]\n",
    "y_tar = df[['patient']]"
   ]
  },
  {
   "cell_type": "code",
   "execution_count": 13,
   "metadata": {},
   "outputs": [],
   "source": [
    "# Concat all numerical feature to DataFrame\n",
    "df_pre = pd.concat((df_cat, std_transform_feat,y_tar),axis=1)"
   ]
  },
  {
   "cell_type": "code",
   "execution_count": 14,
   "metadata": {},
   "outputs": [
    {
     "data": {
      "text/html": [
       "<div>\n",
       "<style scoped>\n",
       "    .dataframe tbody tr th:only-of-type {\n",
       "        vertical-align: middle;\n",
       "    }\n",
       "\n",
       "    .dataframe tbody tr th {\n",
       "        vertical-align: top;\n",
       "    }\n",
       "\n",
       "    .dataframe thead th {\n",
       "        text-align: right;\n",
       "    }\n",
       "</style>\n",
       "<table border=\"1\" class=\"dataframe\">\n",
       "  <thead>\n",
       "    <tr style=\"text-align: right;\">\n",
       "      <th></th>\n",
       "      <th>year_num</th>\n",
       "      <th>province_num</th>\n",
       "      <th>day_raindrop</th>\n",
       "      <th>quant_rain</th>\n",
       "      <th>humbidity_perc</th>\n",
       "      <th>temp_max</th>\n",
       "      <th>temp_min</th>\n",
       "      <th>temp_avg</th>\n",
       "      <th>patient</th>\n",
       "    </tr>\n",
       "  </thead>\n",
       "  <tbody>\n",
       "    <tr>\n",
       "      <th>count</th>\n",
       "      <td>77.0</td>\n",
       "      <td>77.00</td>\n",
       "      <td>77.00</td>\n",
       "      <td>77.00</td>\n",
       "      <td>77.00</td>\n",
       "      <td>77.00</td>\n",
       "      <td>77.00</td>\n",
       "      <td>77.00</td>\n",
       "      <td>77.00</td>\n",
       "    </tr>\n",
       "    <tr>\n",
       "      <th>mean</th>\n",
       "      <td>4.0</td>\n",
       "      <td>39.00</td>\n",
       "      <td>0.31</td>\n",
       "      <td>0.17</td>\n",
       "      <td>0.47</td>\n",
       "      <td>0.61</td>\n",
       "      <td>0.60</td>\n",
       "      <td>0.68</td>\n",
       "      <td>1902.60</td>\n",
       "    </tr>\n",
       "    <tr>\n",
       "      <th>std</th>\n",
       "      <td>0.0</td>\n",
       "      <td>22.37</td>\n",
       "      <td>0.25</td>\n",
       "      <td>0.16</td>\n",
       "      <td>0.23</td>\n",
       "      <td>0.27</td>\n",
       "      <td>0.20</td>\n",
       "      <td>0.20</td>\n",
       "      <td>1643.99</td>\n",
       "    </tr>\n",
       "    <tr>\n",
       "      <th>min</th>\n",
       "      <td>4.0</td>\n",
       "      <td>1.00</td>\n",
       "      <td>0.00</td>\n",
       "      <td>0.00</td>\n",
       "      <td>0.00</td>\n",
       "      <td>0.00</td>\n",
       "      <td>0.00</td>\n",
       "      <td>0.00</td>\n",
       "      <td>229.00</td>\n",
       "    </tr>\n",
       "    <tr>\n",
       "      <th>25%</th>\n",
       "      <td>4.0</td>\n",
       "      <td>20.00</td>\n",
       "      <td>0.15</td>\n",
       "      <td>0.07</td>\n",
       "      <td>0.29</td>\n",
       "      <td>0.44</td>\n",
       "      <td>0.45</td>\n",
       "      <td>0.55</td>\n",
       "      <td>814.00</td>\n",
       "    </tr>\n",
       "    <tr>\n",
       "      <th>50%</th>\n",
       "      <td>4.0</td>\n",
       "      <td>39.00</td>\n",
       "      <td>0.20</td>\n",
       "      <td>0.11</td>\n",
       "      <td>0.45</td>\n",
       "      <td>0.65</td>\n",
       "      <td>0.60</td>\n",
       "      <td>0.71</td>\n",
       "      <td>1514.00</td>\n",
       "    </tr>\n",
       "    <tr>\n",
       "      <th>75%</th>\n",
       "      <td>4.0</td>\n",
       "      <td>58.00</td>\n",
       "      <td>0.35</td>\n",
       "      <td>0.20</td>\n",
       "      <td>0.62</td>\n",
       "      <td>0.82</td>\n",
       "      <td>0.76</td>\n",
       "      <td>0.84</td>\n",
       "      <td>2237.00</td>\n",
       "    </tr>\n",
       "    <tr>\n",
       "      <th>max</th>\n",
       "      <td>4.0</td>\n",
       "      <td>77.00</td>\n",
       "      <td>1.00</td>\n",
       "      <td>1.00</td>\n",
       "      <td>1.00</td>\n",
       "      <td>1.00</td>\n",
       "      <td>1.00</td>\n",
       "      <td>1.00</td>\n",
       "      <td>8279.00</td>\n",
       "    </tr>\n",
       "  </tbody>\n",
       "</table>\n",
       "</div>"
      ],
      "text/plain": [
       "       year_num  province_num  day_raindrop  quant_rain  humbidity_perc  \\\n",
       "count      77.0         77.00         77.00       77.00           77.00   \n",
       "mean        4.0         39.00          0.31        0.17            0.47   \n",
       "std         0.0         22.37          0.25        0.16            0.23   \n",
       "min         4.0          1.00          0.00        0.00            0.00   \n",
       "25%         4.0         20.00          0.15        0.07            0.29   \n",
       "50%         4.0         39.00          0.20        0.11            0.45   \n",
       "75%         4.0         58.00          0.35        0.20            0.62   \n",
       "max         4.0         77.00          1.00        1.00            1.00   \n",
       "\n",
       "       temp_max  temp_min  temp_avg  patient  \n",
       "count     77.00     77.00     77.00    77.00  \n",
       "mean       0.61      0.60      0.68  1902.60  \n",
       "std        0.27      0.20      0.20  1643.99  \n",
       "min        0.00      0.00      0.00   229.00  \n",
       "25%        0.44      0.45      0.55   814.00  \n",
       "50%        0.65      0.60      0.71  1514.00  \n",
       "75%        0.82      0.76      0.84  2237.00  \n",
       "max        1.00      1.00      1.00  8279.00  "
      ]
     },
     "execution_count": 14,
     "metadata": {},
     "output_type": "execute_result"
    }
   ],
   "source": [
    "df_pre.describe().round(2)"
   ]
  },
  {
   "cell_type": "markdown",
   "metadata": {},
   "source": [
    "# Building Linear Regression Model\n",
    "\n",
    "1. Selecting features for Polynomial Regression Model\n",
    "2. Train Test Split or CV\n",
    "3. Creating and Training the Model\n",
    "4. Model Evaluation\n",
    "\n",
    "\n",
    "## Selecting features for Polynomial Regression Model"
   ]
  },
  {
   "cell_type": "code",
   "execution_count": 15,
   "metadata": {},
   "outputs": [
    {
     "data": {
      "text/plain": [
       "Index(['year_num', 'province_num', 'day_raindrop', 'quant_rain',\n",
       "       'humbidity_perc', 'temp_max', 'temp_min', 'temp_avg', 'patient'],\n",
       "      dtype='object')"
      ]
     },
     "execution_count": 15,
     "metadata": {},
     "output_type": "execute_result"
    }
   ],
   "source": [
    "df_pre.columns"
   ]
  },
  {
   "cell_type": "code",
   "execution_count": 16,
   "metadata": {},
   "outputs": [],
   "source": [
    "X = df_pre[[ 'day_raindrop', 'quant_rain', 'humbidity_perc','temp_max', 'temp_min', 'temp_avg']]\n",
    "y = df_pre['patient']"
   ]
  },
  {
   "cell_type": "markdown",
   "metadata": {},
   "source": [
    "## Train Test Split\n",
    "\n",
    "This step we will separate data to train (training set) and test (testing set)\n",
    "* training set use for train model \n",
    "* testing set use for  test model or call that Evaluation \n"
   ]
  },
  {
   "cell_type": "code",
   "execution_count": 17,
   "metadata": {},
   "outputs": [],
   "source": [
    "from sklearn.model_selection import train_test_split\n",
    "\n",
    "# Train dataset X0% and Test dataset X0%.\n",
    "X_train, X_test, y_train, y_test = train_test_split(X, y, test_size=0.2,shuffle=1)"
   ]
  },
  {
   "cell_type": "code",
   "execution_count": 18,
   "metadata": {},
   "outputs": [],
   "source": [
    "X_train, y_train = np.array(X_train), np.array(y_train)\n",
    "X_test, y_test = np.array(X_test), np.array(y_test)"
   ]
  },
  {
   "cell_type": "markdown",
   "metadata": {},
   "source": [
    "## Creating and Training the Model"
   ]
  },
  {
   "cell_type": "code",
   "execution_count": 19,
   "metadata": {},
   "outputs": [],
   "source": [
    "from sklearn.linear_model import LinearRegression\n",
    "from sklearn.preprocessing import PolynomialFeatures\n",
    "\n",
    "X_train_poly = PolynomialFeatures(degree=2, include_bias=False).fit_transform(X_train)\n",
    "X_test_poly = PolynomialFeatures(degree=2, include_bias=False).fit_transform(X_test)"
   ]
  },
  {
   "cell_type": "code",
   "execution_count": 20,
   "metadata": {},
   "outputs": [],
   "source": [
    "# Try to use simple model: Linear Regression.\n",
    "model = LinearRegression().fit(X_train_poly, y_train)"
   ]
  },
  {
   "cell_type": "markdown",
   "metadata": {},
   "source": [
    "## Model Evaluation\n",
    "\n",
    "evaluate model by visit coefficients of each item"
   ]
  },
  {
   "cell_type": "code",
   "execution_count": 21,
   "metadata": {},
   "outputs": [
    {
     "name": "stdout",
     "output_type": "stream",
     "text": [
      "coefficient of determination(R_squar_score): 0.48845841302989557\n"
     ]
    }
   ],
   "source": [
    "r_sq = model.score(X_train_poly, y_train)\n",
    "print('coefficient of determination(R_squar_score):', r_sq)"
   ]
  },
  {
   "cell_type": "code",
   "execution_count": 22,
   "metadata": {},
   "outputs": [
    {
     "name": "stdout",
     "output_type": "stream",
     "text": [
      "intercept: 32407.568036173354\n"
     ]
    }
   ],
   "source": [
    "print('intercept:', model.intercept_)"
   ]
  },
  {
   "cell_type": "markdown",
   "metadata": {},
   "source": [
    "## Predictions from our Model"
   ]
  },
  {
   "cell_type": "code",
   "execution_count": 23,
   "metadata": {},
   "outputs": [],
   "source": [
    "# Predicting \n",
    "predictions = model.predict(X_test_poly)"
   ]
  },
  {
   "cell_type": "code",
   "execution_count": 24,
   "metadata": {},
   "outputs": [
    {
     "data": {
      "image/png": "[encoded data removed]",
      "text/plain": [
       "<Figure size 432x288 with 1 Axes>"
      ]
     },
     "metadata": {
      "image/png": {
       "height": 261,
       "width": 409
      },
      "needs_background": "light"
     },
     "output_type": "display_data"
    }
   ],
   "source": [
    "# plot predictions against actual\n",
    "\n",
    "plot_k = sns.scatterplot(y_test,predictions)\n",
    "plot_k.set(xlabel='Actual', ylabel='Prediction')\n",
    "\n",
    "# generate and graph y = x line\n",
    "x_plot = np.linspace(0,7500,10000)\n",
    "y_plot = x_plot\n",
    "\n",
    "plt.plot(x_plot, y_plot, color='r')\n",
    "plt.show()\n",
    "\n",
    "# Simulate linear line"
   ]
  },
  {
   "cell_type": "markdown",
   "metadata": {},
   "source": [
    "## Prediction"
   ]
  },
  {
   "cell_type": "markdown",
   "metadata": {},
   "source": [
    "### Actual value and the predicted value"
   ]
  },
  {
   "cell_type": "code",
   "execution_count": 25,
   "metadata": {},
   "outputs": [],
   "source": [
    "# Province \n",
    "province = pd.Series(['Pattalung','Nakornsrithamarat','Pang-Nga','Surin','Rayong','Prachinburi','Udonthani','Songkhla',\n",
    "           'Lamphoon','Nongbualamphu','Samutsongkram','Nakornrachasrima','Ubonrachathani','Kanjanaburi',\n",
    "           'Trang','Nakornprathom','Nakornprathom','Narathiwat','Amnajcharean','Singburi','Pattalung'])\n",
    "pv = pd.DataFrame(province, columns=[\"Province\"])"
   ]
  },
  {
   "cell_type": "code",
   "execution_count": 26,
   "metadata": {},
   "outputs": [],
   "source": [
    "# Years 2016-2020\n",
    "year = pd.Series(['2016','2020','2019','2019','2020','2017','2018','2017','2017','2016','2018','2016','2020','2020',\n",
    "                  '2020','2017','2018','2017','2020','2020','2017'])\n",
    "years = pd.DataFrame(year, columns=[\"Year\"])"
   ]
  },
  {
   "cell_type": "code",
   "execution_count": 27,
   "metadata": {},
   "outputs": [],
   "source": [
    "#Actual value and the predicted value\n",
    "mlr_diff = pd.DataFrame({'Actual value': y_test, 'Predicted value': predictions})"
   ]
  },
  {
   "cell_type": "code",
   "execution_count": 28,
   "metadata": {},
   "outputs": [
    {
     "data": {
      "text/html": [
       "<div>\n",
       "<style scoped>\n",
       "    .dataframe tbody tr th:only-of-type {\n",
       "        vertical-align: middle;\n",
       "    }\n",
       "\n",
       "    .dataframe tbody tr th {\n",
       "        vertical-align: top;\n",
       "    }\n",
       "\n",
       "    .dataframe thead th {\n",
       "        text-align: right;\n",
       "    }\n",
       "</style>\n",
       "<table border=\"1\" class=\"dataframe\">\n",
       "  <thead>\n",
       "    <tr style=\"text-align: right;\">\n",
       "      <th></th>\n",
       "      <th>Province</th>\n",
       "      <th>Year</th>\n",
       "      <th>Actual value</th>\n",
       "      <th>Predicted value</th>\n",
       "    </tr>\n",
       "  </thead>\n",
       "  <tbody>\n",
       "    <tr>\n",
       "      <th>0</th>\n",
       "      <td>Pattalung</td>\n",
       "      <td>2016</td>\n",
       "      <td>6398.0</td>\n",
       "      <td>-16993.352767</td>\n",
       "    </tr>\n",
       "    <tr>\n",
       "      <th>1</th>\n",
       "      <td>Nakornsrithamarat</td>\n",
       "      <td>2020</td>\n",
       "      <td>2577.0</td>\n",
       "      <td>1843.317103</td>\n",
       "    </tr>\n",
       "    <tr>\n",
       "      <th>2</th>\n",
       "      <td>Pang-Nga</td>\n",
       "      <td>2019</td>\n",
       "      <td>1371.0</td>\n",
       "      <td>2018.325752</td>\n",
       "    </tr>\n",
       "    <tr>\n",
       "      <th>3</th>\n",
       "      <td>Surin</td>\n",
       "      <td>2019</td>\n",
       "      <td>833.0</td>\n",
       "      <td>-1069.638444</td>\n",
       "    </tr>\n",
       "    <tr>\n",
       "      <th>4</th>\n",
       "      <td>Rayong</td>\n",
       "      <td>2020</td>\n",
       "      <td>5523.0</td>\n",
       "      <td>123.465226</td>\n",
       "    </tr>\n",
       "    <tr>\n",
       "      <th>5</th>\n",
       "      <td>Prachinburi</td>\n",
       "      <td>2017</td>\n",
       "      <td>793.0</td>\n",
       "      <td>524.935419</td>\n",
       "    </tr>\n",
       "    <tr>\n",
       "      <th>6</th>\n",
       "      <td>Udonthani</td>\n",
       "      <td>2018</td>\n",
       "      <td>1919.0</td>\n",
       "      <td>-94.908901</td>\n",
       "    </tr>\n",
       "    <tr>\n",
       "      <th>7</th>\n",
       "      <td>Songkhla</td>\n",
       "      <td>2017</td>\n",
       "      <td>690.0</td>\n",
       "      <td>2952.353297</td>\n",
       "    </tr>\n",
       "    <tr>\n",
       "      <th>8</th>\n",
       "      <td>Lamphoon</td>\n",
       "      <td>2017</td>\n",
       "      <td>3441.0</td>\n",
       "      <td>-863.464336</td>\n",
       "    </tr>\n",
       "    <tr>\n",
       "      <th>9</th>\n",
       "      <td>Nongbualamphu</td>\n",
       "      <td>2016</td>\n",
       "      <td>5255.0</td>\n",
       "      <td>2345.486467</td>\n",
       "    </tr>\n",
       "    <tr>\n",
       "      <th>10</th>\n",
       "      <td>Samutsongkram</td>\n",
       "      <td>2018</td>\n",
       "      <td>1514.0</td>\n",
       "      <td>879.792552</td>\n",
       "    </tr>\n",
       "    <tr>\n",
       "      <th>11</th>\n",
       "      <td>Nakornrachasrima</td>\n",
       "      <td>2016</td>\n",
       "      <td>1560.0</td>\n",
       "      <td>3245.464295</td>\n",
       "    </tr>\n",
       "    <tr>\n",
       "      <th>12</th>\n",
       "      <td>Ubonrachathani</td>\n",
       "      <td>2020</td>\n",
       "      <td>491.0</td>\n",
       "      <td>2145.716676</td>\n",
       "    </tr>\n",
       "    <tr>\n",
       "      <th>13</th>\n",
       "      <td>Kanjanaburi</td>\n",
       "      <td>2020</td>\n",
       "      <td>872.0</td>\n",
       "      <td>1422.502684</td>\n",
       "    </tr>\n",
       "    <tr>\n",
       "      <th>14</th>\n",
       "      <td>Trang</td>\n",
       "      <td>2020</td>\n",
       "      <td>471.0</td>\n",
       "      <td>1325.429496</td>\n",
       "    </tr>\n",
       "    <tr>\n",
       "      <th>15</th>\n",
       "      <td>Nakornprathom</td>\n",
       "      <td>2017</td>\n",
       "      <td>1862.0</td>\n",
       "      <td>70.686711</td>\n",
       "    </tr>\n",
       "    <tr>\n",
       "      <th>16</th>\n",
       "      <td>Nakornprathom</td>\n",
       "      <td>2018</td>\n",
       "      <td>NaN</td>\n",
       "      <td>NaN</td>\n",
       "    </tr>\n",
       "    <tr>\n",
       "      <th>17</th>\n",
       "      <td>Narathiwat</td>\n",
       "      <td>2017</td>\n",
       "      <td>NaN</td>\n",
       "      <td>NaN</td>\n",
       "    </tr>\n",
       "    <tr>\n",
       "      <th>18</th>\n",
       "      <td>Amnajcharean</td>\n",
       "      <td>2020</td>\n",
       "      <td>NaN</td>\n",
       "      <td>NaN</td>\n",
       "    </tr>\n",
       "    <tr>\n",
       "      <th>19</th>\n",
       "      <td>Singburi</td>\n",
       "      <td>2020</td>\n",
       "      <td>NaN</td>\n",
       "      <td>NaN</td>\n",
       "    </tr>\n",
       "    <tr>\n",
       "      <th>20</th>\n",
       "      <td>Pattalung</td>\n",
       "      <td>2017</td>\n",
       "      <td>NaN</td>\n",
       "      <td>NaN</td>\n",
       "    </tr>\n",
       "  </tbody>\n",
       "</table>\n",
       "</div>"
      ],
      "text/plain": [
       "             Province  Year  Actual value  Predicted value\n",
       "0           Pattalung  2016        6398.0    -16993.352767\n",
       "1   Nakornsrithamarat  2020        2577.0      1843.317103\n",
       "2            Pang-Nga  2019        1371.0      2018.325752\n",
       "3               Surin  2019         833.0     -1069.638444\n",
       "4              Rayong  2020        5523.0       123.465226\n",
       "5         Prachinburi  2017         793.0       524.935419\n",
       "6           Udonthani  2018        1919.0       -94.908901\n",
       "7            Songkhla  2017         690.0      2952.353297\n",
       "8            Lamphoon  2017        3441.0      -863.464336\n",
       "9       Nongbualamphu  2016        5255.0      2345.486467\n",
       "10      Samutsongkram  2018        1514.0       879.792552\n",
       "11   Nakornrachasrima  2016        1560.0      3245.464295\n",
       "12     Ubonrachathani  2020         491.0      2145.716676\n",
       "13        Kanjanaburi  2020         872.0      1422.502684\n",
       "14              Trang  2020         471.0      1325.429496\n",
       "15      Nakornprathom  2017        1862.0        70.686711\n",
       "16      Nakornprathom  2018           NaN              NaN\n",
       "17         Narathiwat  2017           NaN              NaN\n",
       "18       Amnajcharean  2020           NaN              NaN\n",
       "19           Singburi  2020           NaN              NaN\n",
       "20          Pattalung  2017           NaN              NaN"
      ]
     },
     "execution_count": 28,
     "metadata": {},
     "output_type": "execute_result"
    }
   ],
   "source": [
    "# Show 21 samples to compare Actual value and the predicted value\n",
    "result = pd.concat([pv,years,mlr_diff],axis=1)\n",
    "result.head(21)"
   ]
  },
  {
   "cell_type": "markdown",
   "metadata": {},
   "source": [
    "**Residual Histogram**"
   ]
  },
  {
   "cell_type": "code",
   "execution_count": 29,
   "metadata": {},
   "outputs": [
    {
     "data": {
      "image/png": "[encoded data removed]",
      "text/plain": [
       "<Figure size 432x288 with 1 Axes>"
      ]
     },
     "metadata": {
      "image/png": {
       "height": 248,
       "width": 411
      },
      "needs_background": "light"
     },
     "output_type": "display_data"
    }
   ],
   "source": [
    "sns.distplot((y_test-predictions),bins=50);"
   ]
  },
  {
   "cell_type": "markdown",
   "metadata": {},
   "source": [
    "## Regression Evaluation Metrics\n",
    "\n",
    "\n",
    "Evaluation metrics for regression problems as below:\n",
    "\n",
    "**Coefficient of determination(R2 score)** is used to evaluate the performance of a linear regression model. \n",
    "It is the amount of the variation in the output dependent attribute which is predictable from the input independent variable(s). It is used to check how well-observed results are reproduced by the model, depending on the ratio of total deviation of results described by the model.\n",
    "\n",
    "$$R2= 1- SSres  /  SStot$$\n",
    "\n",
    "**Mean Absolute Error** (MAE): the mean of the absolute value of the errors:\n",
    "\n",
    "$$\\frac 1n\\sum_{i=1}^n|y_i-\\hat{y}_i|$$\n",
    "\n",
    "**Mean Squared Error** (MSE): the mean of the squared errors:\n",
    "\n",
    "$$\\frac 1n\\sum_{i=1}^n(y_i-\\hat{y}_i)^2$$\n",
    "\n",
    "**Root Mean Squared Error** (RMSE): the square root of the mean of the squared errors:\n",
    "\n",
    "$$\\sqrt{\\frac 1n\\sum_{i=1}^n(y_i-\\hat{y}_i)^2}$$\n",
    "\n",
    "**Comparison:**\n",
    "\n",
    "- **MAE** is the easiest to understand, because it's the average error.\n",
    "- **MSE** is more popular than MAE, because MSE \"punishes\" larger errors, which tends to be useful in the real world.\n",
    "- **RMSE** is even more popular than MSE, because RMSE is interpretable in the \"y\" units.\n"
   ]
  },
  {
   "cell_type": "code",
   "execution_count": 30,
   "metadata": {},
   "outputs": [
    {
     "name": "stdout",
     "output_type": "stream",
     "text": [
      "R squared of Training Set: 0.49\n",
      "R squared of Test Set: -10.36\n",
      "Mean Absolute Error (MAE): 3187.7171\n",
      "Root Mean Squared Error (RMSE): 6261.7406\n"
     ]
    }
   ],
   "source": [
    "from sklearn import metrics\n",
    "from sklearn.metrics import mean_squared_error\n",
    "\n",
    "print('R squared of Training Set: {:.2f}'.format(model.score(X_train_poly,y_train)))\n",
    "print('R squared of Test Set: {:.2f}'.format(model.score(X_test_poly,y_test)))\n",
    "print('Mean Absolute Error (MAE): {:.4f}'.format(metrics.mean_absolute_error(y_test, predictions)))\n",
    "print('Root Mean Squared Error (RMSE): {:.4f}'.format(np.sqrt(metrics.mean_squared_error(y_test, predictions))))"
   ]
  }
 ],
 "metadata": {
  "kernelspec": {
   "display_name": "Python 3",
   "language": "python",
   "name": "python3"
  },
  "language_info": {
   "codemirror_mode": {
    "name": "ipython",
    "version": 3
   },
   "file_extension": ".py",
   "mimetype": "text/x-python",
   "name": "python",
   "nbconvert_exporter": "python",
   "pygments_lexer": "ipython3",
   "version": "3.8.8"
  }
 },
 "nbformat": 4,
 "nbformat_minor": 4
}
