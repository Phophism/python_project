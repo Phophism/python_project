{
 "cells": [
  {
   "cell_type": "markdown",
   "metadata": {},
   "source": [
    "## Degue vs Environmental Analysis.\n",
    "\n",
    "\n",
    "### Import Libraries"
   ]
  },
  {
   "cell_type": "code",
   "execution_count": 1,
   "metadata": {},
   "outputs": [],
   "source": [
    "import pandas as pd\n",
    "import numpy as np\n",
    "import seaborn as sns\n",
    "import matplotlib.pyplot as plt\n",
    "import sklearn\n",
    "%matplotlib inline\n",
    "%config InlineBackend.figure_format = 'retina'\n",
    "\n",
    "import warnings\n",
    "warnings.filterwarnings(\"ignore\")"
   ]
  },
  {
   "cell_type": "code",
   "execution_count": 2,
   "metadata": {},
   "outputs": [
    {
     "name": "stdout",
     "output_type": "stream",
     "text": [
      "pandas version: 1.2.5\n",
      "numpy version: 1.20.2\n",
      "seaborn version: 0.11.1\n",
      "sklearn version: 0.24.2\n"
     ]
    }
   ],
   "source": [
    "# Check version\n",
    "print(f'pandas version: {pd.__version__}')\n",
    "print(f'numpy version: {np.__version__}')\n",
    "print(f'seaborn version: {sns.__version__}')\n",
    "print(f'sklearn version: {sklearn.__version__}')"
   ]
  },
  {
   "cell_type": "markdown",
   "metadata": {},
   "source": [
    "### Input Data from CSV file."
   ]
  },
  {
   "cell_type": "code",
   "execution_count": 3,
   "metadata": {},
   "outputs": [],
   "source": [
    "# Read in Data set\n",
    "df= pd.read_csv('../../Nattawat/dengue_preprocessing.csv',header= 0,encoding= 'unicode_escape')"
   ]
  },
  {
   "cell_type": "code",
   "execution_count": 4,
   "metadata": {},
   "outputs": [],
   "source": [
    "# Tempolary data preparation and just use for build model "
   ]
  },
  {
   "cell_type": "code",
   "execution_count": 5,
   "metadata": {},
   "outputs": [],
   "source": [
    "df = df.drop(columns=['province', 'year'])"
   ]
  },
  {
   "cell_type": "code",
   "execution_count": 6,
   "metadata": {},
   "outputs": [
    {
     "data": {
      "text/html": [
       "<div>\n",
       "<style scoped>\n",
       "    .dataframe tbody tr th:only-of-type {\n",
       "        vertical-align: middle;\n",
       "    }\n",
       "\n",
       "    .dataframe tbody tr th {\n",
       "        vertical-align: top;\n",
       "    }\n",
       "\n",
       "    .dataframe thead th {\n",
       "        text-align: right;\n",
       "    }\n",
       "</style>\n",
       "<table border=\"1\" class=\"dataframe\">\n",
       "  <thead>\n",
       "    <tr style=\"text-align: right;\">\n",
       "      <th></th>\n",
       "      <th>year_num</th>\n",
       "      <th>province_num</th>\n",
       "      <th>day_raindrop</th>\n",
       "      <th>quant_rain</th>\n",
       "      <th>humbidity_perc</th>\n",
       "      <th>temp_max</th>\n",
       "      <th>temp_min</th>\n",
       "      <th>temp_avg</th>\n",
       "      <th>dead</th>\n",
       "      <th>dead_perc</th>\n",
       "      <th>patient</th>\n",
       "    </tr>\n",
       "  </thead>\n",
       "  <tbody>\n",
       "    <tr>\n",
       "      <th>0</th>\n",
       "      <td>1</td>\n",
       "      <td>1</td>\n",
       "      <td>137</td>\n",
       "      <td>1976.0</td>\n",
       "      <td>81.9</td>\n",
       "      <td>37.5</td>\n",
       "      <td>18.4</td>\n",
       "      <td>27.2</td>\n",
       "      <td>4</td>\n",
       "      <td>0.23</td>\n",
       "      <td>1714</td>\n",
       "    </tr>\n",
       "    <tr>\n",
       "      <th>1</th>\n",
       "      <td>1</td>\n",
       "      <td>2</td>\n",
       "      <td>113</td>\n",
       "      <td>1907.6</td>\n",
       "      <td>73.6</td>\n",
       "      <td>39.8</td>\n",
       "      <td>19.2</td>\n",
       "      <td>29.2</td>\n",
       "      <td>3</td>\n",
       "      <td>0.05</td>\n",
       "      <td>6291</td>\n",
       "    </tr>\n",
       "    <tr>\n",
       "      <th>2</th>\n",
       "      <td>1</td>\n",
       "      <td>3</td>\n",
       "      <td>97</td>\n",
       "      <td>963.2</td>\n",
       "      <td>67.8</td>\n",
       "      <td>42.3</td>\n",
       "      <td>14.8</td>\n",
       "      <td>29.2</td>\n",
       "      <td>5</td>\n",
       "      <td>0.41</td>\n",
       "      <td>1212</td>\n",
       "    </tr>\n",
       "    <tr>\n",
       "      <th>3</th>\n",
       "      <td>1</td>\n",
       "      <td>4</td>\n",
       "      <td>105</td>\n",
       "      <td>1283.6</td>\n",
       "      <td>77.1</td>\n",
       "      <td>41.8</td>\n",
       "      <td>9.9</td>\n",
       "      <td>27.2</td>\n",
       "      <td>0</td>\n",
       "      <td>0.00</td>\n",
       "      <td>1420</td>\n",
       "    </tr>\n",
       "    <tr>\n",
       "      <th>4</th>\n",
       "      <td>1</td>\n",
       "      <td>5</td>\n",
       "      <td>112</td>\n",
       "      <td>967.0</td>\n",
       "      <td>71.3</td>\n",
       "      <td>41.5</td>\n",
       "      <td>14.4</td>\n",
       "      <td>28.4</td>\n",
       "      <td>1</td>\n",
       "      <td>0.15</td>\n",
       "      <td>669</td>\n",
       "    </tr>\n",
       "    <tr>\n",
       "      <th>...</th>\n",
       "      <td>...</td>\n",
       "      <td>...</td>\n",
       "      <td>...</td>\n",
       "      <td>...</td>\n",
       "      <td>...</td>\n",
       "      <td>...</td>\n",
       "      <td>...</td>\n",
       "      <td>...</td>\n",
       "      <td>...</td>\n",
       "      <td>...</td>\n",
       "      <td>...</td>\n",
       "    </tr>\n",
       "    <tr>\n",
       "      <th>72</th>\n",
       "      <td>1</td>\n",
       "      <td>73</td>\n",
       "      <td>106</td>\n",
       "      <td>1329.9</td>\n",
       "      <td>69.7</td>\n",
       "      <td>41.7</td>\n",
       "      <td>12.6</td>\n",
       "      <td>28.1</td>\n",
       "      <td>1</td>\n",
       "      <td>0.16</td>\n",
       "      <td>616</td>\n",
       "    </tr>\n",
       "    <tr>\n",
       "      <th>73</th>\n",
       "      <td>1</td>\n",
       "      <td>74</td>\n",
       "      <td>117</td>\n",
       "      <td>1129.1</td>\n",
       "      <td>70.6</td>\n",
       "      <td>41.9</td>\n",
       "      <td>9.8</td>\n",
       "      <td>27.5</td>\n",
       "      <td>0</td>\n",
       "      <td>0.00</td>\n",
       "      <td>375</td>\n",
       "    </tr>\n",
       "    <tr>\n",
       "      <th>74</th>\n",
       "      <td>1</td>\n",
       "      <td>75</td>\n",
       "      <td>90</td>\n",
       "      <td>825.6</td>\n",
       "      <td>68.6</td>\n",
       "      <td>41.8</td>\n",
       "      <td>14.0</td>\n",
       "      <td>28.5</td>\n",
       "      <td>1</td>\n",
       "      <td>0.33</td>\n",
       "      <td>302</td>\n",
       "    </tr>\n",
       "    <tr>\n",
       "      <th>75</th>\n",
       "      <td>1</td>\n",
       "      <td>76</td>\n",
       "      <td>105</td>\n",
       "      <td>771.4</td>\n",
       "      <td>71.3</td>\n",
       "      <td>42.4</td>\n",
       "      <td>14.2</td>\n",
       "      <td>29.1</td>\n",
       "      <td>0</td>\n",
       "      <td>0.00</td>\n",
       "      <td>1561</td>\n",
       "    </tr>\n",
       "    <tr>\n",
       "      <th>76</th>\n",
       "      <td>1</td>\n",
       "      <td>77</td>\n",
       "      <td>106</td>\n",
       "      <td>1329.9</td>\n",
       "      <td>69.7</td>\n",
       "      <td>41.7</td>\n",
       "      <td>12.6</td>\n",
       "      <td>28.1</td>\n",
       "      <td>6</td>\n",
       "      <td>0.12</td>\n",
       "      <td>4884</td>\n",
       "    </tr>\n",
       "  </tbody>\n",
       "</table>\n",
       "<p>77 rows × 11 columns</p>\n",
       "</div>"
      ],
      "text/plain": [
       "    year_num  province_num  day_raindrop  quant_rain  humbidity_perc  \\\n",
       "0          1             1           137      1976.0            81.9   \n",
       "1          1             2           113      1907.6            73.6   \n",
       "2          1             3            97       963.2            67.8   \n",
       "3          1             4           105      1283.6            77.1   \n",
       "4          1             5           112       967.0            71.3   \n",
       "..       ...           ...           ...         ...             ...   \n",
       "72         1            73           106      1329.9            69.7   \n",
       "73         1            74           117      1129.1            70.6   \n",
       "74         1            75            90       825.6            68.6   \n",
       "75         1            76           105       771.4            71.3   \n",
       "76         1            77           106      1329.9            69.7   \n",
       "\n",
       "    temp_max  temp_min  temp_avg  dead  dead_perc  patient  \n",
       "0       37.5      18.4      27.2     4       0.23     1714  \n",
       "1       39.8      19.2      29.2     3       0.05     6291  \n",
       "2       42.3      14.8      29.2     5       0.41     1212  \n",
       "3       41.8       9.9      27.2     0       0.00     1420  \n",
       "4       41.5      14.4      28.4     1       0.15      669  \n",
       "..       ...       ...       ...   ...        ...      ...  \n",
       "72      41.7      12.6      28.1     1       0.16      616  \n",
       "73      41.9       9.8      27.5     0       0.00      375  \n",
       "74      41.8      14.0      28.5     1       0.33      302  \n",
       "75      42.4      14.2      29.1     0       0.00     1561  \n",
       "76      41.7      12.6      28.1     6       0.12     4884  \n",
       "\n",
       "[77 rows x 11 columns]"
      ]
     },
     "execution_count": 6,
     "metadata": {},
     "output_type": "execute_result"
    }
   ],
   "source": [
    "df = df.loc[df['year_num'] == 1]\n",
    "df"
   ]
  },
  {
   "cell_type": "code",
   "execution_count": 7,
   "metadata": {},
   "outputs": [
    {
     "data": {
      "text/html": [
       "<div>\n",
       "<style scoped>\n",
       "    .dataframe tbody tr th:only-of-type {\n",
       "        vertical-align: middle;\n",
       "    }\n",
       "\n",
       "    .dataframe tbody tr th {\n",
       "        vertical-align: top;\n",
       "    }\n",
       "\n",
       "    .dataframe thead th {\n",
       "        text-align: right;\n",
       "    }\n",
       "</style>\n",
       "<table border=\"1\" class=\"dataframe\">\n",
       "  <thead>\n",
       "    <tr style=\"text-align: right;\">\n",
       "      <th></th>\n",
       "      <th>year_num</th>\n",
       "      <th>province_num</th>\n",
       "      <th>day_raindrop</th>\n",
       "      <th>quant_rain</th>\n",
       "      <th>humbidity_perc</th>\n",
       "      <th>temp_max</th>\n",
       "      <th>temp_min</th>\n",
       "      <th>temp_avg</th>\n",
       "      <th>dead</th>\n",
       "      <th>dead_perc</th>\n",
       "      <th>patient</th>\n",
       "    </tr>\n",
       "  </thead>\n",
       "  <tbody>\n",
       "    <tr>\n",
       "      <th>count</th>\n",
       "      <td>77.0</td>\n",
       "      <td>77.000000</td>\n",
       "      <td>77.000000</td>\n",
       "      <td>77.000000</td>\n",
       "      <td>77.000000</td>\n",
       "      <td>77.000000</td>\n",
       "      <td>77.000000</td>\n",
       "      <td>77.000000</td>\n",
       "      <td>77.000000</td>\n",
       "      <td>77.000000</td>\n",
       "      <td>77.000000</td>\n",
       "    </tr>\n",
       "    <tr>\n",
       "      <th>mean</th>\n",
       "      <td>1.0</td>\n",
       "      <td>39.000000</td>\n",
       "      <td>116.298701</td>\n",
       "      <td>1375.227273</td>\n",
       "      <td>74.480519</td>\n",
       "      <td>39.741558</td>\n",
       "      <td>14.924675</td>\n",
       "      <td>27.985714</td>\n",
       "      <td>1.857143</td>\n",
       "      <td>0.102857</td>\n",
       "      <td>1596.428571</td>\n",
       "    </tr>\n",
       "    <tr>\n",
       "      <th>std</th>\n",
       "      <td>0.0</td>\n",
       "      <td>22.371857</td>\n",
       "      <td>25.780483</td>\n",
       "      <td>617.275140</td>\n",
       "      <td>4.180312</td>\n",
       "      <td>2.688932</td>\n",
       "      <td>3.419493</td>\n",
       "      <td>0.854048</td>\n",
       "      <td>2.553193</td>\n",
       "      <td>0.119592</td>\n",
       "      <td>1417.353579</td>\n",
       "    </tr>\n",
       "    <tr>\n",
       "      <th>min</th>\n",
       "      <td>1.0</td>\n",
       "      <td>1.000000</td>\n",
       "      <td>76.000000</td>\n",
       "      <td>771.400000</td>\n",
       "      <td>66.500000</td>\n",
       "      <td>24.000000</td>\n",
       "      <td>8.700000</td>\n",
       "      <td>25.300000</td>\n",
       "      <td>0.000000</td>\n",
       "      <td>0.000000</td>\n",
       "      <td>113.000000</td>\n",
       "    </tr>\n",
       "    <tr>\n",
       "      <th>25%</th>\n",
       "      <td>1.0</td>\n",
       "      <td>20.000000</td>\n",
       "      <td>101.000000</td>\n",
       "      <td>960.400000</td>\n",
       "      <td>71.300000</td>\n",
       "      <td>38.500000</td>\n",
       "      <td>12.200000</td>\n",
       "      <td>27.400000</td>\n",
       "      <td>0.000000</td>\n",
       "      <td>0.000000</td>\n",
       "      <td>595.000000</td>\n",
       "    </tr>\n",
       "    <tr>\n",
       "      <th>50%</th>\n",
       "      <td>1.0</td>\n",
       "      <td>39.000000</td>\n",
       "      <td>108.000000</td>\n",
       "      <td>1171.600000</td>\n",
       "      <td>73.600000</td>\n",
       "      <td>40.000000</td>\n",
       "      <td>14.400000</td>\n",
       "      <td>28.000000</td>\n",
       "      <td>1.000000</td>\n",
       "      <td>0.070000</td>\n",
       "      <td>1212.000000</td>\n",
       "    </tr>\n",
       "    <tr>\n",
       "      <th>75%</th>\n",
       "      <td>1.0</td>\n",
       "      <td>58.000000</td>\n",
       "      <td>127.000000</td>\n",
       "      <td>1628.000000</td>\n",
       "      <td>77.700000</td>\n",
       "      <td>41.700000</td>\n",
       "      <td>18.300000</td>\n",
       "      <td>28.600000</td>\n",
       "      <td>3.000000</td>\n",
       "      <td>0.180000</td>\n",
       "      <td>2134.000000</td>\n",
       "    </tr>\n",
       "    <tr>\n",
       "      <th>max</th>\n",
       "      <td>1.0</td>\n",
       "      <td>77.000000</td>\n",
       "      <td>175.000000</td>\n",
       "      <td>3918.400000</td>\n",
       "      <td>83.600000</td>\n",
       "      <td>43.100000</td>\n",
       "      <td>22.900000</td>\n",
       "      <td>29.600000</td>\n",
       "      <td>13.000000</td>\n",
       "      <td>0.460000</td>\n",
       "      <td>7194.000000</td>\n",
       "    </tr>\n",
       "  </tbody>\n",
       "</table>\n",
       "</div>"
      ],
      "text/plain": [
       "       year_num  province_num  day_raindrop   quant_rain  humbidity_perc  \\\n",
       "count      77.0     77.000000     77.000000    77.000000       77.000000   \n",
       "mean        1.0     39.000000    116.298701  1375.227273       74.480519   \n",
       "std         0.0     22.371857     25.780483   617.275140        4.180312   \n",
       "min         1.0      1.000000     76.000000   771.400000       66.500000   \n",
       "25%         1.0     20.000000    101.000000   960.400000       71.300000   \n",
       "50%         1.0     39.000000    108.000000  1171.600000       73.600000   \n",
       "75%         1.0     58.000000    127.000000  1628.000000       77.700000   \n",
       "max         1.0     77.000000    175.000000  3918.400000       83.600000   \n",
       "\n",
       "        temp_max   temp_min   temp_avg       dead  dead_perc      patient  \n",
       "count  77.000000  77.000000  77.000000  77.000000  77.000000    77.000000  \n",
       "mean   39.741558  14.924675  27.985714   1.857143   0.102857  1596.428571  \n",
       "std     2.688932   3.419493   0.854048   2.553193   0.119592  1417.353579  \n",
       "min    24.000000   8.700000  25.300000   0.000000   0.000000   113.000000  \n",
       "25%    38.500000  12.200000  27.400000   0.000000   0.000000   595.000000  \n",
       "50%    40.000000  14.400000  28.000000   1.000000   0.070000  1212.000000  \n",
       "75%    41.700000  18.300000  28.600000   3.000000   0.180000  2134.000000  \n",
       "max    43.100000  22.900000  29.600000  13.000000   0.460000  7194.000000  "
      ]
     },
     "execution_count": 7,
     "metadata": {},
     "output_type": "execute_result"
    }
   ],
   "source": [
    "df.describe()"
   ]
  },
  {
   "cell_type": "code",
   "execution_count": 8,
   "metadata": {},
   "outputs": [
    {
     "data": {
      "text/plain": [
       "Index(['year_num', 'province_num', 'day_raindrop', 'quant_rain',\n",
       "       'humbidity_perc', 'temp_max', 'temp_min', 'temp_avg', 'dead',\n",
       "       'dead_perc', 'patient'],\n",
       "      dtype='object')"
      ]
     },
     "execution_count": 8,
     "metadata": {},
     "output_type": "execute_result"
    }
   ],
   "source": [
    "df.columns"
   ]
  },
  {
   "cell_type": "code",
   "execution_count": 9,
   "metadata": {},
   "outputs": [],
   "source": [
    "# Transformation\n",
    "df_num  = df[['day_raindrop', 'quant_rain', 'humbidity_perc','temp_max', 'temp_min', 'temp_avg']]"
   ]
  },
  {
   "cell_type": "code",
   "execution_count": 10,
   "metadata": {},
   "outputs": [],
   "source": [
    "# Choice of Numerical varialable.\n",
    "\n",
    "#from sklearn.preprocessing import StandardScaler\n",
    "from sklearn.preprocessing import MinMaxScaler"
   ]
  },
  {
   "cell_type": "code",
   "execution_count": 11,
   "metadata": {},
   "outputs": [
    {
     "data": {
      "text/html": [
       "<div>\n",
       "<style scoped>\n",
       "    .dataframe tbody tr th:only-of-type {\n",
       "        vertical-align: middle;\n",
       "    }\n",
       "\n",
       "    .dataframe tbody tr th {\n",
       "        vertical-align: top;\n",
       "    }\n",
       "\n",
       "    .dataframe thead th {\n",
       "        text-align: right;\n",
       "    }\n",
       "</style>\n",
       "<table border=\"1\" class=\"dataframe\">\n",
       "  <thead>\n",
       "    <tr style=\"text-align: right;\">\n",
       "      <th></th>\n",
       "      <th>day_raindrop</th>\n",
       "      <th>quant_rain</th>\n",
       "      <th>humbidity_perc</th>\n",
       "      <th>temp_max</th>\n",
       "      <th>temp_min</th>\n",
       "      <th>temp_avg</th>\n",
       "    </tr>\n",
       "  </thead>\n",
       "  <tbody>\n",
       "    <tr>\n",
       "      <th>72</th>\n",
       "      <td>0.303030</td>\n",
       "      <td>0.177471</td>\n",
       "      <td>0.187135</td>\n",
       "      <td>0.926702</td>\n",
       "      <td>0.274648</td>\n",
       "      <td>0.651163</td>\n",
       "    </tr>\n",
       "    <tr>\n",
       "      <th>73</th>\n",
       "      <td>0.414141</td>\n",
       "      <td>0.113664</td>\n",
       "      <td>0.239766</td>\n",
       "      <td>0.937173</td>\n",
       "      <td>0.077465</td>\n",
       "      <td>0.511628</td>\n",
       "    </tr>\n",
       "    <tr>\n",
       "      <th>74</th>\n",
       "      <td>0.141414</td>\n",
       "      <td>0.017223</td>\n",
       "      <td>0.122807</td>\n",
       "      <td>0.931937</td>\n",
       "      <td>0.373239</td>\n",
       "      <td>0.744186</td>\n",
       "    </tr>\n",
       "    <tr>\n",
       "      <th>75</th>\n",
       "      <td>0.292929</td>\n",
       "      <td>0.000000</td>\n",
       "      <td>0.280702</td>\n",
       "      <td>0.963351</td>\n",
       "      <td>0.387324</td>\n",
       "      <td>0.883721</td>\n",
       "    </tr>\n",
       "    <tr>\n",
       "      <th>76</th>\n",
       "      <td>0.303030</td>\n",
       "      <td>0.177471</td>\n",
       "      <td>0.187135</td>\n",
       "      <td>0.926702</td>\n",
       "      <td>0.274648</td>\n",
       "      <td>0.651163</td>\n",
       "    </tr>\n",
       "  </tbody>\n",
       "</table>\n",
       "</div>"
      ],
      "text/plain": [
       "    day_raindrop  quant_rain  humbidity_perc  temp_max  temp_min  temp_avg\n",
       "72      0.303030    0.177471        0.187135  0.926702  0.274648  0.651163\n",
       "73      0.414141    0.113664        0.239766  0.937173  0.077465  0.511628\n",
       "74      0.141414    0.017223        0.122807  0.931937  0.373239  0.744186\n",
       "75      0.292929    0.000000        0.280702  0.963351  0.387324  0.883721\n",
       "76      0.303030    0.177471        0.187135  0.926702  0.274648  0.651163"
      ]
     },
     "metadata": {},
     "output_type": "display_data"
    }
   ],
   "source": [
    "# Version1: select MinMax\n",
    "\n",
    "num_column = df_num.dtypes[df_num.dtypes != 'object'].index\n",
    "\n",
    "# Initialize a scaler, then apply it to the features\n",
    "scaler = MinMaxScaler() # default=(0, 1)\n",
    "\n",
    "std_transform_feat = pd.DataFrame(data = df_num)\n",
    "std_transform_feat[num_column] = scaler.fit_transform(df_num[num_column])\n",
    "\n",
    "# Show an example of a record with scaling applied\n",
    "display(std_transform_feat.tail())"
   ]
  },
  {
   "cell_type": "code",
   "execution_count": 12,
   "metadata": {},
   "outputs": [],
   "source": [
    "# log transform to target variable impove RMSE value.\n",
    "\n",
    "# df['patient'] = np.log(df['patient'])"
   ]
  },
  {
   "cell_type": "code",
   "execution_count": 13,
   "metadata": {},
   "outputs": [],
   "source": [
    "df_cat = df[['year_num', 'province_num']]\n",
    "y_tar = df[['patient']]"
   ]
  },
  {
   "cell_type": "code",
   "execution_count": 14,
   "metadata": {},
   "outputs": [],
   "source": [
    "# Concat all numerical feature to DataFrame\n",
    "df_pre = pd.concat((df_cat, std_transform_feat,y_tar),axis=1)"
   ]
  },
  {
   "cell_type": "code",
   "execution_count": 15,
   "metadata": {},
   "outputs": [
    {
     "data": {
      "text/html": [
       "<div>\n",
       "<style scoped>\n",
       "    .dataframe tbody tr th:only-of-type {\n",
       "        vertical-align: middle;\n",
       "    }\n",
       "\n",
       "    .dataframe tbody tr th {\n",
       "        vertical-align: top;\n",
       "    }\n",
       "\n",
       "    .dataframe thead th {\n",
       "        text-align: right;\n",
       "    }\n",
       "</style>\n",
       "<table border=\"1\" class=\"dataframe\">\n",
       "  <thead>\n",
       "    <tr style=\"text-align: right;\">\n",
       "      <th></th>\n",
       "      <th>year_num</th>\n",
       "      <th>province_num</th>\n",
       "      <th>day_raindrop</th>\n",
       "      <th>quant_rain</th>\n",
       "      <th>humbidity_perc</th>\n",
       "      <th>temp_max</th>\n",
       "      <th>temp_min</th>\n",
       "      <th>temp_avg</th>\n",
       "      <th>patient</th>\n",
       "    </tr>\n",
       "  </thead>\n",
       "  <tbody>\n",
       "    <tr>\n",
       "      <th>count</th>\n",
       "      <td>77.0</td>\n",
       "      <td>77.00</td>\n",
       "      <td>77.00</td>\n",
       "      <td>77.00</td>\n",
       "      <td>77.00</td>\n",
       "      <td>77.00</td>\n",
       "      <td>77.00</td>\n",
       "      <td>77.00</td>\n",
       "      <td>77.00</td>\n",
       "    </tr>\n",
       "    <tr>\n",
       "      <th>mean</th>\n",
       "      <td>1.0</td>\n",
       "      <td>39.00</td>\n",
       "      <td>0.41</td>\n",
       "      <td>0.19</td>\n",
       "      <td>0.47</td>\n",
       "      <td>0.82</td>\n",
       "      <td>0.44</td>\n",
       "      <td>0.62</td>\n",
       "      <td>1596.43</td>\n",
       "    </tr>\n",
       "    <tr>\n",
       "      <th>std</th>\n",
       "      <td>0.0</td>\n",
       "      <td>22.37</td>\n",
       "      <td>0.26</td>\n",
       "      <td>0.20</td>\n",
       "      <td>0.24</td>\n",
       "      <td>0.14</td>\n",
       "      <td>0.24</td>\n",
       "      <td>0.20</td>\n",
       "      <td>1417.35</td>\n",
       "    </tr>\n",
       "    <tr>\n",
       "      <th>min</th>\n",
       "      <td>1.0</td>\n",
       "      <td>1.00</td>\n",
       "      <td>0.00</td>\n",
       "      <td>0.00</td>\n",
       "      <td>0.00</td>\n",
       "      <td>0.00</td>\n",
       "      <td>0.00</td>\n",
       "      <td>0.00</td>\n",
       "      <td>113.00</td>\n",
       "    </tr>\n",
       "    <tr>\n",
       "      <th>25%</th>\n",
       "      <td>1.0</td>\n",
       "      <td>20.00</td>\n",
       "      <td>0.25</td>\n",
       "      <td>0.06</td>\n",
       "      <td>0.28</td>\n",
       "      <td>0.76</td>\n",
       "      <td>0.25</td>\n",
       "      <td>0.49</td>\n",
       "      <td>595.00</td>\n",
       "    </tr>\n",
       "    <tr>\n",
       "      <th>50%</th>\n",
       "      <td>1.0</td>\n",
       "      <td>39.00</td>\n",
       "      <td>0.32</td>\n",
       "      <td>0.13</td>\n",
       "      <td>0.42</td>\n",
       "      <td>0.84</td>\n",
       "      <td>0.40</td>\n",
       "      <td>0.63</td>\n",
       "      <td>1212.00</td>\n",
       "    </tr>\n",
       "    <tr>\n",
       "      <th>75%</th>\n",
       "      <td>1.0</td>\n",
       "      <td>58.00</td>\n",
       "      <td>0.52</td>\n",
       "      <td>0.27</td>\n",
       "      <td>0.65</td>\n",
       "      <td>0.93</td>\n",
       "      <td>0.68</td>\n",
       "      <td>0.77</td>\n",
       "      <td>2134.00</td>\n",
       "    </tr>\n",
       "    <tr>\n",
       "      <th>max</th>\n",
       "      <td>1.0</td>\n",
       "      <td>77.00</td>\n",
       "      <td>1.00</td>\n",
       "      <td>1.00</td>\n",
       "      <td>1.00</td>\n",
       "      <td>1.00</td>\n",
       "      <td>1.00</td>\n",
       "      <td>1.00</td>\n",
       "      <td>7194.00</td>\n",
       "    </tr>\n",
       "  </tbody>\n",
       "</table>\n",
       "</div>"
      ],
      "text/plain": [
       "       year_num  province_num  day_raindrop  quant_rain  humbidity_perc  \\\n",
       "count      77.0         77.00         77.00       77.00           77.00   \n",
       "mean        1.0         39.00          0.41        0.19            0.47   \n",
       "std         0.0         22.37          0.26        0.20            0.24   \n",
       "min         1.0          1.00          0.00        0.00            0.00   \n",
       "25%         1.0         20.00          0.25        0.06            0.28   \n",
       "50%         1.0         39.00          0.32        0.13            0.42   \n",
       "75%         1.0         58.00          0.52        0.27            0.65   \n",
       "max         1.0         77.00          1.00        1.00            1.00   \n",
       "\n",
       "       temp_max  temp_min  temp_avg  patient  \n",
       "count     77.00     77.00     77.00    77.00  \n",
       "mean       0.82      0.44      0.62  1596.43  \n",
       "std        0.14      0.24      0.20  1417.35  \n",
       "min        0.00      0.00      0.00   113.00  \n",
       "25%        0.76      0.25      0.49   595.00  \n",
       "50%        0.84      0.40      0.63  1212.00  \n",
       "75%        0.93      0.68      0.77  2134.00  \n",
       "max        1.00      1.00      1.00  7194.00  "
      ]
     },
     "execution_count": 15,
     "metadata": {},
     "output_type": "execute_result"
    }
   ],
   "source": [
    "df_pre.describe().round(2)"
   ]
  },
  {
   "cell_type": "markdown",
   "metadata": {},
   "source": [
    "# Building Linear Regression Model\n",
    "\n",
    "1. Features selection for Linear Regression Model\n",
    "2. Train Test Split\n",
    "3. Creating and Training the Model\n",
    "4. Model Evaluation\n",
    "\n",
    "\n",
    "##  Features selection for Linear Regression Model"
   ]
  },
  {
   "cell_type": "code",
   "execution_count": 16,
   "metadata": {},
   "outputs": [
    {
     "data": {
      "text/plain": [
       "Index(['year_num', 'province_num', 'day_raindrop', 'quant_rain',\n",
       "       'humbidity_perc', 'temp_max', 'temp_min', 'temp_avg', 'patient'],\n",
       "      dtype='object')"
      ]
     },
     "execution_count": 16,
     "metadata": {},
     "output_type": "execute_result"
    }
   ],
   "source": [
    "df_pre.columns"
   ]
  },
  {
   "cell_type": "code",
   "execution_count": 17,
   "metadata": {},
   "outputs": [],
   "source": [
    "X = df_pre[[ 'day_raindrop', 'quant_rain', 'humbidity_perc','temp_max', 'temp_min', 'temp_avg']]\n",
    "y = df_pre['patient']\n",
    "\n",
    "# 'year_num', 'province_num', 'day_raindrop', 'quant_rain', 'humbidity_perc',"
   ]
  },
  {
   "cell_type": "code",
   "execution_count": 18,
   "metadata": {},
   "outputs": [],
   "source": [
    "X = np.array(X)\n",
    "#y = np.array(y)"
   ]
  },
  {
   "cell_type": "markdown",
   "metadata": {},
   "source": [
    "## Repeated k-Fold Cross-Validation\n",
    "\n",
    "\n",
    "The scikit-learn Python machine learning library provides an implementation of repeated k-fold cross-validation via the RepeatedKFold class.\n",
    "\n",
    "The main parameters are the number of folds (n_splits), which is the “k” in k-fold cross-validation, and the number of repeats (n_repeats).\n",
    "\n",
    "A good default for k is k=10.\n",
    "\n",
    "A good default for the number of repeats depends on how noisy the estimate of model performance is on the dataset. A value of 3, 5, or 10 repeats is probably a good start. More repeats than 10 are probably not required."
   ]
  },
  {
   "cell_type": "code",
   "execution_count": 19,
   "metadata": {},
   "outputs": [],
   "source": [
    "from sklearn.model_selection import RepeatedKFold \n",
    "\n",
    "kf = RepeatedKFold(n_splits=5, n_repeats=3, random_state=0) #Test 5Folds, 3Repeats\n",
    "\n",
    "for train_index, test_index in kf.split(X):\n",
    "#       print(\"Train:\", train_index, \"Validation:\",test_index)\n",
    "        \n",
    "      X_train, X_test = X[train_index], X[test_index] \n",
    "      y_train, y_test = y[train_index], y[test_index]"
   ]
  },
  {
   "cell_type": "markdown",
   "metadata": {},
   "source": [
    "## Creating and Training the Model"
   ]
  },
  {
   "cell_type": "code",
   "execution_count": 20,
   "metadata": {},
   "outputs": [],
   "source": [
    "from sklearn.linear_model import LinearRegression"
   ]
  },
  {
   "cell_type": "code",
   "execution_count": 21,
   "metadata": {},
   "outputs": [],
   "source": [
    "# Try to use simple model: Linear Regression.\n",
    "lm = LinearRegression()"
   ]
  },
  {
   "cell_type": "code",
   "execution_count": 22,
   "metadata": {},
   "outputs": [],
   "source": [
    "# Import libraries for tuning hyperparameter\n",
    "\n",
    "from sklearn.preprocessing import scale\n",
    "from sklearn.model_selection import cross_val_score\n",
    "from sklearn.model_selection import KFold"
   ]
  },
  {
   "cell_type": "code",
   "execution_count": 23,
   "metadata": {},
   "outputs": [],
   "source": [
    "# Cross-Validation in sklearn"
   ]
  },
  {
   "cell_type": "code",
   "execution_count": 24,
   "metadata": {},
   "outputs": [
    {
     "data": {
      "text/plain": [
       "LinearRegression()"
      ]
     },
     "execution_count": 24,
     "metadata": {},
     "output_type": "execute_result"
    }
   ],
   "source": [
    "# fit the model\n",
    "lm.fit(X_train, y_train)    "
   ]
  },
  {
   "cell_type": "markdown",
   "metadata": {},
   "source": [
    "## Model Evaluation\n",
    "\n",
    "evaluate model by visit coefficients of each item"
   ]
  },
  {
   "cell_type": "code",
   "execution_count": 25,
   "metadata": {},
   "outputs": [
    {
     "data": {
      "text/plain": [
       "array([-0.10947405,  0.05986273, -1.13159222, -1.89164083, -0.58149701])"
      ]
     },
     "execution_count": 25,
     "metadata": {},
     "output_type": "execute_result"
    }
   ],
   "source": [
    "scores = cross_val_score(lm, X_train, y_train, scoring='r2', cv=5)\n",
    "scores"
   ]
  },
  {
   "cell_type": "code",
   "execution_count": 26,
   "metadata": {},
   "outputs": [
    {
     "name": "stdout",
     "output_type": "stream",
     "text": [
      "3465.2975064307248\n"
     ]
    }
   ],
   "source": [
    "# print the intercept\n",
    "print(lm.intercept_)"
   ]
  },
  {
   "cell_type": "markdown",
   "metadata": {},
   "source": [
    "## Predictions from our Model"
   ]
  },
  {
   "cell_type": "code",
   "execution_count": 27,
   "metadata": {},
   "outputs": [],
   "source": [
    "# Predicting \n",
    "predictions = lm.predict(X_test)"
   ]
  },
  {
   "cell_type": "code",
   "execution_count": 28,
   "metadata": {},
   "outputs": [
    {
     "data": {
      "image/png": "[encoded data removed]",
      "text/plain": [
       "<Figure size 432x288 with 1 Axes>"
      ]
     },
     "metadata": {
      "image/png": {
       "height": 261,
       "width": 395
      },
      "needs_background": "light"
     },
     "output_type": "display_data"
    }
   ],
   "source": [
    "# plot predictions against actual\n",
    "\n",
    "plot_k = sns.scatterplot(y_test,predictions)\n",
    "plot_k.set(xlabel='Actual', ylabel='Prediction')\n",
    "\n",
    "# generate and graph y = x line\n",
    "x_plot = np.linspace(0,7500,10000)\n",
    "y_plot = x_plot\n",
    "\n",
    "plt.plot(x_plot, y_plot, color='r')\n",
    "plt.show()\n",
    "\n",
    "# Simulate linear line"
   ]
  },
  {
   "cell_type": "markdown",
   "metadata": {},
   "source": [
    "## Prediction"
   ]
  },
  {
   "cell_type": "markdown",
   "metadata": {},
   "source": [
    "### Actual value and the predicted value"
   ]
  },
  {
   "cell_type": "code",
   "execution_count": 29,
   "metadata": {},
   "outputs": [
    {
     "data": {
      "text/html": [
       "<div>\n",
       "<style scoped>\n",
       "    .dataframe tbody tr th:only-of-type {\n",
       "        vertical-align: middle;\n",
       "    }\n",
       "\n",
       "    .dataframe tbody tr th {\n",
       "        vertical-align: top;\n",
       "    }\n",
       "\n",
       "    .dataframe thead th {\n",
       "        text-align: right;\n",
       "    }\n",
       "</style>\n",
       "<table border=\"1\" class=\"dataframe\">\n",
       "  <thead>\n",
       "    <tr style=\"text-align: right;\">\n",
       "      <th></th>\n",
       "      <th>Actual value</th>\n",
       "      <th>Predicted value</th>\n",
       "    </tr>\n",
       "  </thead>\n",
       "  <tbody>\n",
       "    <tr>\n",
       "      <th>4</th>\n",
       "      <td>669</td>\n",
       "      <td>1718.289427</td>\n",
       "    </tr>\n",
       "    <tr>\n",
       "      <th>11</th>\n",
       "      <td>572</td>\n",
       "      <td>1067.322205</td>\n",
       "    </tr>\n",
       "    <tr>\n",
       "      <th>13</th>\n",
       "      <td>5089</td>\n",
       "      <td>2382.793235</td>\n",
       "    </tr>\n",
       "    <tr>\n",
       "      <th>14</th>\n",
       "      <td>488</td>\n",
       "      <td>1287.371083</td>\n",
       "    </tr>\n",
       "    <tr>\n",
       "      <th>19</th>\n",
       "      <td>802</td>\n",
       "      <td>1571.349373</td>\n",
       "    </tr>\n",
       "    <tr>\n",
       "      <th>22</th>\n",
       "      <td>3653</td>\n",
       "      <td>1529.791534</td>\n",
       "    </tr>\n",
       "    <tr>\n",
       "      <th>26</th>\n",
       "      <td>255</td>\n",
       "      <td>1571.349373</td>\n",
       "    </tr>\n",
       "    <tr>\n",
       "      <th>40</th>\n",
       "      <td>816</td>\n",
       "      <td>1484.184019</td>\n",
       "    </tr>\n",
       "    <tr>\n",
       "      <th>52</th>\n",
       "      <td>710</td>\n",
       "      <td>1746.776537</td>\n",
       "    </tr>\n",
       "    <tr>\n",
       "      <th>60</th>\n",
       "      <td>1518</td>\n",
       "      <td>2137.636010</td>\n",
       "    </tr>\n",
       "    <tr>\n",
       "      <th>61</th>\n",
       "      <td>1284</td>\n",
       "      <td>2137.636010</td>\n",
       "    </tr>\n",
       "    <tr>\n",
       "      <th>66</th>\n",
       "      <td>526</td>\n",
       "      <td>1727.304013</td>\n",
       "    </tr>\n",
       "    <tr>\n",
       "      <th>67</th>\n",
       "      <td>2727</td>\n",
       "      <td>779.744724</td>\n",
       "    </tr>\n",
       "    <tr>\n",
       "      <th>72</th>\n",
       "      <td>616</td>\n",
       "      <td>1976.890315</td>\n",
       "    </tr>\n",
       "    <tr>\n",
       "      <th>74</th>\n",
       "      <td>302</td>\n",
       "      <td>2124.897954</td>\n",
       "    </tr>\n",
       "  </tbody>\n",
       "</table>\n",
       "</div>"
      ],
      "text/plain": [
       "    Actual value  Predicted value\n",
       "4            669      1718.289427\n",
       "11           572      1067.322205\n",
       "13          5089      2382.793235\n",
       "14           488      1287.371083\n",
       "19           802      1571.349373\n",
       "22          3653      1529.791534\n",
       "26           255      1571.349373\n",
       "40           816      1484.184019\n",
       "52           710      1746.776537\n",
       "60          1518      2137.636010\n",
       "61          1284      2137.636010\n",
       "66           526      1727.304013\n",
       "67          2727       779.744724\n",
       "72           616      1976.890315\n",
       "74           302      2124.897954"
      ]
     },
     "execution_count": 29,
     "metadata": {},
     "output_type": "execute_result"
    }
   ],
   "source": [
    "#Actual value and the predicted value\n",
    "mlr_diff = pd.DataFrame({'Actual value': y_test, 'Predicted value': predictions})\n",
    "mlr_diff.head(20)"
   ]
  },
  {
   "cell_type": "markdown",
   "metadata": {},
   "source": [
    "**Residual Histogram**"
   ]
  },
  {
   "cell_type": "code",
   "execution_count": 30,
   "metadata": {},
   "outputs": [
    {
     "data": {
      "image/png": "[encoded data removed]",
      "text/plain": [
       "<Figure size 432x288 with 1 Axes>"
      ]
     },
     "metadata": {
      "image/png": {
       "height": 261,
       "width": 404
      },
      "needs_background": "light"
     },
     "output_type": "display_data"
    }
   ],
   "source": [
    "sns.distplot((y_test-predictions),bins=50)\n",
    "plt.show()"
   ]
  },
  {
   "cell_type": "markdown",
   "metadata": {},
   "source": [
    "## Regression Evaluation Metrics\n",
    "\n",
    "\n",
    "Evaluation metrics for regression problems as below:\n",
    "\n",
    "**Coefficient of determination(R2 score)** is used to evaluate the performance of a linear regression model. \n",
    "It is the amount of the variation in the output dependent attribute which is predictable from the input independent variable(s). It is used to check how well-observed results are reproduced by the model, depending on the ratio of total deviation of results described by the model.\n",
    "\n",
    "$$R2= 1- SSres  /  SStot$$\n",
    "\n",
    "**Mean Absolute Error** (MAE): the mean of the absolute value of the errors:\n",
    "\n",
    "$$\\frac 1n\\sum_{i=1}^n|y_i-\\hat{y}_i|$$\n",
    "\n",
    "**Mean Squared Error** (MSE): the mean of the squared errors:\n",
    "\n",
    "$$\\frac 1n\\sum_{i=1}^n(y_i-\\hat{y}_i)^2$$\n",
    "\n",
    "**Root Mean Squared Error** (RMSE): the square root of the mean of the squared errors:\n",
    "\n",
    "$$\\sqrt{\\frac 1n\\sum_{i=1}^n(y_i-\\hat{y}_i)^2}$$\n",
    "\n",
    "**Comparison:**\n",
    "\n",
    "- **MAE** is the easiest to understand, because it's the average error.\n",
    "- **MSE** is more popular than MAE, because MSE \"punishes\" larger errors, which tends to be useful in the real world.\n",
    "- **RMSE** is even more popular than MSE, because RMSE is interpretable in the \"y\" units.\n"
   ]
  },
  {
   "cell_type": "code",
   "execution_count": 31,
   "metadata": {},
   "outputs": [
    {
     "name": "stdout",
     "output_type": "stream",
     "text": [
      "R squared of Training Set: 0.06\n",
      "R squared of Test Set: -0.06\n",
      "Mean Absolute Error (MAE): 1251.3118\n",
      "Root Mean Squared Error (RMSE): 1394.8840\n"
     ]
    }
   ],
   "source": [
    "from sklearn import metrics\n",
    "from sklearn.metrics import mean_squared_error\n",
    "\n",
    "print('R squared of Training Set: {:.2f}'.format(lm.score(X_train,y_train)))\n",
    "print('R squared of Test Set: {:.2f}'.format(lm.score(X_test,y_test)))\n",
    "print('Mean Absolute Error (MAE): {:.4f}'.format(metrics.mean_absolute_error(y_test, predictions)))\n",
    "print('Root Mean Squared Error (RMSE): {:.4f}'.format(np.sqrt(metrics.mean_squared_error(y_test, predictions))))"
   ]
  }
 ],
 "metadata": {
  "kernelspec": {
   "display_name": "Python 3",
   "language": "python",
   "name": "python3"
  },
  "language_info": {
   "codemirror_mode": {
    "name": "ipython",
    "version": 3
   },
   "file_extension": ".py",
   "mimetype": "text/x-python",
   "name": "python",
   "nbconvert_exporter": "python",
   "pygments_lexer": "ipython3",
   "version": "3.8.8"
  }
 },
 "nbformat": 4,
 "nbformat_minor": 4
}
