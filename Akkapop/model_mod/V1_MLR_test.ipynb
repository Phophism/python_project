{
 "cells": [
  {
   "cell_type": "markdown",
   "metadata": {},
   "source": [
    "## Degue vs Environmental Analysis.\n",
    "\n",
    "\n",
    "### Import Libraries"
   ]
  },
  {
   "cell_type": "code",
   "execution_count": 1,
   "metadata": {},
   "outputs": [],
   "source": [
    "import pandas as pd\n",
    "import numpy as np\n",
    "import seaborn as sns\n",
    "import matplotlib.pyplot as plt\n",
    "import sklearn\n",
    "%matplotlib inline\n",
    "%config InlineBackend.figure_format = 'retina'\n",
    "\n",
    "import warnings\n",
    "warnings.filterwarnings(\"ignore\")"
   ]
  },
  {
   "cell_type": "code",
   "execution_count": 2,
   "metadata": {},
   "outputs": [
    {
     "name": "stdout",
     "output_type": "stream",
     "text": [
      "pandas version: 1.2.5\n",
      "numpy version: 1.20.2\n",
      "seaborn version: 0.11.1\n",
      "sklearn version: 0.24.2\n"
     ]
    }
   ],
   "source": [
    "# Check version\n",
    "print(f'pandas version: {pd.__version__}')\n",
    "print(f'numpy version: {np.__version__}')\n",
    "print(f'seaborn version: {sns.__version__}')\n",
    "print(f'sklearn version: {sklearn.__version__}')"
   ]
  },
  {
   "cell_type": "markdown",
   "metadata": {},
   "source": [
    "### Input Data from CSV file."
   ]
  },
  {
   "cell_type": "code",
   "execution_count": 3,
   "metadata": {},
   "outputs": [],
   "source": [
    "# Read in Data set\n",
    "df= pd.read_csv('../../Nattawat/dengue_preprocessing.csv',header= 0,encoding= 'unicode_escape')"
   ]
  },
  {
   "cell_type": "code",
   "execution_count": 4,
   "metadata": {},
   "outputs": [
    {
     "data": {
      "text/html": [
       "<div>\n",
       "<style scoped>\n",
       "    .dataframe tbody tr th:only-of-type {\n",
       "        vertical-align: middle;\n",
       "    }\n",
       "\n",
       "    .dataframe tbody tr th {\n",
       "        vertical-align: top;\n",
       "    }\n",
       "\n",
       "    .dataframe thead th {\n",
       "        text-align: right;\n",
       "    }\n",
       "</style>\n",
       "<table border=\"1\" class=\"dataframe\">\n",
       "  <thead>\n",
       "    <tr style=\"text-align: right;\">\n",
       "      <th></th>\n",
       "      <th>year</th>\n",
       "      <th>year_num</th>\n",
       "      <th>province</th>\n",
       "      <th>province_num</th>\n",
       "      <th>day_raindrop</th>\n",
       "      <th>quant_rain</th>\n",
       "      <th>humbidity_perc</th>\n",
       "      <th>temp_max</th>\n",
       "      <th>temp_min</th>\n",
       "      <th>temp_avg</th>\n",
       "      <th>dead</th>\n",
       "      <th>dead_perc</th>\n",
       "      <th>patient</th>\n",
       "    </tr>\n",
       "  </thead>\n",
       "  <tbody>\n",
       "    <tr>\n",
       "      <th>0</th>\n",
       "      <td>2016</td>\n",
       "      <td>1</td>\n",
       "      <td>krabi</td>\n",
       "      <td>1</td>\n",
       "      <td>137</td>\n",
       "      <td>1976.0</td>\n",
       "      <td>81.9</td>\n",
       "      <td>37.5</td>\n",
       "      <td>18.4</td>\n",
       "      <td>27.2</td>\n",
       "      <td>4</td>\n",
       "      <td>0.23</td>\n",
       "      <td>1714</td>\n",
       "    </tr>\n",
       "    <tr>\n",
       "      <th>1</th>\n",
       "      <td>2016</td>\n",
       "      <td>1</td>\n",
       "      <td>Bkk</td>\n",
       "      <td>2</td>\n",
       "      <td>113</td>\n",
       "      <td>1907.6</td>\n",
       "      <td>73.6</td>\n",
       "      <td>39.8</td>\n",
       "      <td>19.2</td>\n",
       "      <td>29.2</td>\n",
       "      <td>3</td>\n",
       "      <td>0.05</td>\n",
       "      <td>6291</td>\n",
       "    </tr>\n",
       "    <tr>\n",
       "      <th>2</th>\n",
       "      <td>2016</td>\n",
       "      <td>1</td>\n",
       "      <td>Kranjanaburi</td>\n",
       "      <td>3</td>\n",
       "      <td>97</td>\n",
       "      <td>963.2</td>\n",
       "      <td>67.8</td>\n",
       "      <td>42.3</td>\n",
       "      <td>14.8</td>\n",
       "      <td>29.2</td>\n",
       "      <td>5</td>\n",
       "      <td>0.41</td>\n",
       "      <td>1212</td>\n",
       "    </tr>\n",
       "    <tr>\n",
       "      <th>3</th>\n",
       "      <td>2016</td>\n",
       "      <td>1</td>\n",
       "      <td>Kalasilp</td>\n",
       "      <td>4</td>\n",
       "      <td>105</td>\n",
       "      <td>1283.6</td>\n",
       "      <td>77.1</td>\n",
       "      <td>41.8</td>\n",
       "      <td>9.9</td>\n",
       "      <td>27.2</td>\n",
       "      <td>0</td>\n",
       "      <td>0.00</td>\n",
       "      <td>1420</td>\n",
       "    </tr>\n",
       "    <tr>\n",
       "      <th>4</th>\n",
       "      <td>2016</td>\n",
       "      <td>1</td>\n",
       "      <td>Kampangpech</td>\n",
       "      <td>5</td>\n",
       "      <td>112</td>\n",
       "      <td>967.0</td>\n",
       "      <td>71.3</td>\n",
       "      <td>41.5</td>\n",
       "      <td>14.4</td>\n",
       "      <td>28.4</td>\n",
       "      <td>1</td>\n",
       "      <td>0.15</td>\n",
       "      <td>669</td>\n",
       "    </tr>\n",
       "  </tbody>\n",
       "</table>\n",
       "</div>"
      ],
      "text/plain": [
       "   year  year_num      province  province_num  day_raindrop  quant_rain  \\\n",
       "0  2016         1         krabi             1           137      1976.0   \n",
       "1  2016         1           Bkk             2           113      1907.6   \n",
       "2  2016         1  Kranjanaburi             3            97       963.2   \n",
       "3  2016         1      Kalasilp             4           105      1283.6   \n",
       "4  2016         1   Kampangpech             5           112       967.0   \n",
       "\n",
       "   humbidity_perc  temp_max  temp_min  temp_avg  dead  dead_perc  patient  \n",
       "0            81.9      37.5      18.4      27.2     4       0.23     1714  \n",
       "1            73.6      39.8      19.2      29.2     3       0.05     6291  \n",
       "2            67.8      42.3      14.8      29.2     5       0.41     1212  \n",
       "3            77.1      41.8       9.9      27.2     0       0.00     1420  \n",
       "4            71.3      41.5      14.4      28.4     1       0.15      669  "
      ]
     },
     "execution_count": 4,
     "metadata": {},
     "output_type": "execute_result"
    }
   ],
   "source": [
    "df.head()"
   ]
  },
  {
   "cell_type": "code",
   "execution_count": 5,
   "metadata": {},
   "outputs": [],
   "source": [
    "# Tempolary data preparation and just use for build model "
   ]
  },
  {
   "cell_type": "code",
   "execution_count": 6,
   "metadata": {},
   "outputs": [],
   "source": [
    "df = df.drop(columns=['province', 'year'])"
   ]
  },
  {
   "cell_type": "code",
   "execution_count": 7,
   "metadata": {},
   "outputs": [
    {
     "data": {
      "text/html": [
       "<div>\n",
       "<style scoped>\n",
       "    .dataframe tbody tr th:only-of-type {\n",
       "        vertical-align: middle;\n",
       "    }\n",
       "\n",
       "    .dataframe tbody tr th {\n",
       "        vertical-align: top;\n",
       "    }\n",
       "\n",
       "    .dataframe thead th {\n",
       "        text-align: right;\n",
       "    }\n",
       "</style>\n",
       "<table border=\"1\" class=\"dataframe\">\n",
       "  <thead>\n",
       "    <tr style=\"text-align: right;\">\n",
       "      <th></th>\n",
       "      <th>year_num</th>\n",
       "      <th>province_num</th>\n",
       "      <th>day_raindrop</th>\n",
       "      <th>quant_rain</th>\n",
       "      <th>humbidity_perc</th>\n",
       "      <th>temp_max</th>\n",
       "      <th>temp_min</th>\n",
       "      <th>temp_avg</th>\n",
       "      <th>dead</th>\n",
       "      <th>dead_perc</th>\n",
       "      <th>patient</th>\n",
       "    </tr>\n",
       "  </thead>\n",
       "  <tbody>\n",
       "    <tr>\n",
       "      <th>0</th>\n",
       "      <td>1</td>\n",
       "      <td>1</td>\n",
       "      <td>137</td>\n",
       "      <td>1976.0</td>\n",
       "      <td>81.9</td>\n",
       "      <td>37.5</td>\n",
       "      <td>18.4</td>\n",
       "      <td>27.2</td>\n",
       "      <td>4</td>\n",
       "      <td>0.23</td>\n",
       "      <td>1714</td>\n",
       "    </tr>\n",
       "    <tr>\n",
       "      <th>1</th>\n",
       "      <td>1</td>\n",
       "      <td>2</td>\n",
       "      <td>113</td>\n",
       "      <td>1907.6</td>\n",
       "      <td>73.6</td>\n",
       "      <td>39.8</td>\n",
       "      <td>19.2</td>\n",
       "      <td>29.2</td>\n",
       "      <td>3</td>\n",
       "      <td>0.05</td>\n",
       "      <td>6291</td>\n",
       "    </tr>\n",
       "    <tr>\n",
       "      <th>2</th>\n",
       "      <td>1</td>\n",
       "      <td>3</td>\n",
       "      <td>97</td>\n",
       "      <td>963.2</td>\n",
       "      <td>67.8</td>\n",
       "      <td>42.3</td>\n",
       "      <td>14.8</td>\n",
       "      <td>29.2</td>\n",
       "      <td>5</td>\n",
       "      <td>0.41</td>\n",
       "      <td>1212</td>\n",
       "    </tr>\n",
       "    <tr>\n",
       "      <th>3</th>\n",
       "      <td>1</td>\n",
       "      <td>4</td>\n",
       "      <td>105</td>\n",
       "      <td>1283.6</td>\n",
       "      <td>77.1</td>\n",
       "      <td>41.8</td>\n",
       "      <td>9.9</td>\n",
       "      <td>27.2</td>\n",
       "      <td>0</td>\n",
       "      <td>0.00</td>\n",
       "      <td>1420</td>\n",
       "    </tr>\n",
       "    <tr>\n",
       "      <th>4</th>\n",
       "      <td>1</td>\n",
       "      <td>5</td>\n",
       "      <td>112</td>\n",
       "      <td>967.0</td>\n",
       "      <td>71.3</td>\n",
       "      <td>41.5</td>\n",
       "      <td>14.4</td>\n",
       "      <td>28.4</td>\n",
       "      <td>1</td>\n",
       "      <td>0.15</td>\n",
       "      <td>669</td>\n",
       "    </tr>\n",
       "    <tr>\n",
       "      <th>...</th>\n",
       "      <td>...</td>\n",
       "      <td>...</td>\n",
       "      <td>...</td>\n",
       "      <td>...</td>\n",
       "      <td>...</td>\n",
       "      <td>...</td>\n",
       "      <td>...</td>\n",
       "      <td>...</td>\n",
       "      <td>...</td>\n",
       "      <td>...</td>\n",
       "      <td>...</td>\n",
       "    </tr>\n",
       "    <tr>\n",
       "      <th>72</th>\n",
       "      <td>1</td>\n",
       "      <td>73</td>\n",
       "      <td>106</td>\n",
       "      <td>1329.9</td>\n",
       "      <td>69.7</td>\n",
       "      <td>41.7</td>\n",
       "      <td>12.6</td>\n",
       "      <td>28.1</td>\n",
       "      <td>1</td>\n",
       "      <td>0.16</td>\n",
       "      <td>616</td>\n",
       "    </tr>\n",
       "    <tr>\n",
       "      <th>73</th>\n",
       "      <td>1</td>\n",
       "      <td>74</td>\n",
       "      <td>117</td>\n",
       "      <td>1129.1</td>\n",
       "      <td>70.6</td>\n",
       "      <td>41.9</td>\n",
       "      <td>9.8</td>\n",
       "      <td>27.5</td>\n",
       "      <td>0</td>\n",
       "      <td>0.00</td>\n",
       "      <td>375</td>\n",
       "    </tr>\n",
       "    <tr>\n",
       "      <th>74</th>\n",
       "      <td>1</td>\n",
       "      <td>75</td>\n",
       "      <td>90</td>\n",
       "      <td>825.6</td>\n",
       "      <td>68.6</td>\n",
       "      <td>41.8</td>\n",
       "      <td>14.0</td>\n",
       "      <td>28.5</td>\n",
       "      <td>1</td>\n",
       "      <td>0.33</td>\n",
       "      <td>302</td>\n",
       "    </tr>\n",
       "    <tr>\n",
       "      <th>75</th>\n",
       "      <td>1</td>\n",
       "      <td>76</td>\n",
       "      <td>105</td>\n",
       "      <td>771.4</td>\n",
       "      <td>71.3</td>\n",
       "      <td>42.4</td>\n",
       "      <td>14.2</td>\n",
       "      <td>29.1</td>\n",
       "      <td>0</td>\n",
       "      <td>0.00</td>\n",
       "      <td>1561</td>\n",
       "    </tr>\n",
       "    <tr>\n",
       "      <th>76</th>\n",
       "      <td>1</td>\n",
       "      <td>77</td>\n",
       "      <td>106</td>\n",
       "      <td>1329.9</td>\n",
       "      <td>69.7</td>\n",
       "      <td>41.7</td>\n",
       "      <td>12.6</td>\n",
       "      <td>28.1</td>\n",
       "      <td>6</td>\n",
       "      <td>0.12</td>\n",
       "      <td>4884</td>\n",
       "    </tr>\n",
       "  </tbody>\n",
       "</table>\n",
       "<p>77 rows × 11 columns</p>\n",
       "</div>"
      ],
      "text/plain": [
       "    year_num  province_num  day_raindrop  quant_rain  humbidity_perc  \\\n",
       "0          1             1           137      1976.0            81.9   \n",
       "1          1             2           113      1907.6            73.6   \n",
       "2          1             3            97       963.2            67.8   \n",
       "3          1             4           105      1283.6            77.1   \n",
       "4          1             5           112       967.0            71.3   \n",
       "..       ...           ...           ...         ...             ...   \n",
       "72         1            73           106      1329.9            69.7   \n",
       "73         1            74           117      1129.1            70.6   \n",
       "74         1            75            90       825.6            68.6   \n",
       "75         1            76           105       771.4            71.3   \n",
       "76         1            77           106      1329.9            69.7   \n",
       "\n",
       "    temp_max  temp_min  temp_avg  dead  dead_perc  patient  \n",
       "0       37.5      18.4      27.2     4       0.23     1714  \n",
       "1       39.8      19.2      29.2     3       0.05     6291  \n",
       "2       42.3      14.8      29.2     5       0.41     1212  \n",
       "3       41.8       9.9      27.2     0       0.00     1420  \n",
       "4       41.5      14.4      28.4     1       0.15      669  \n",
       "..       ...       ...       ...   ...        ...      ...  \n",
       "72      41.7      12.6      28.1     1       0.16      616  \n",
       "73      41.9       9.8      27.5     0       0.00      375  \n",
       "74      41.8      14.0      28.5     1       0.33      302  \n",
       "75      42.4      14.2      29.1     0       0.00     1561  \n",
       "76      41.7      12.6      28.1     6       0.12     4884  \n",
       "\n",
       "[77 rows x 11 columns]"
      ]
     },
     "execution_count": 7,
     "metadata": {},
     "output_type": "execute_result"
    }
   ],
   "source": [
    "df = df.loc[df['year_num'] == 1]\n",
    "df"
   ]
  },
  {
   "cell_type": "code",
   "execution_count": 8,
   "metadata": {},
   "outputs": [
    {
     "data": {
      "text/html": [
       "<div>\n",
       "<style scoped>\n",
       "    .dataframe tbody tr th:only-of-type {\n",
       "        vertical-align: middle;\n",
       "    }\n",
       "\n",
       "    .dataframe tbody tr th {\n",
       "        vertical-align: top;\n",
       "    }\n",
       "\n",
       "    .dataframe thead th {\n",
       "        text-align: right;\n",
       "    }\n",
       "</style>\n",
       "<table border=\"1\" class=\"dataframe\">\n",
       "  <thead>\n",
       "    <tr style=\"text-align: right;\">\n",
       "      <th></th>\n",
       "      <th>year_num</th>\n",
       "      <th>province_num</th>\n",
       "      <th>day_raindrop</th>\n",
       "      <th>quant_rain</th>\n",
       "      <th>humbidity_perc</th>\n",
       "      <th>temp_max</th>\n",
       "      <th>temp_min</th>\n",
       "      <th>temp_avg</th>\n",
       "      <th>dead</th>\n",
       "      <th>dead_perc</th>\n",
       "      <th>patient</th>\n",
       "    </tr>\n",
       "  </thead>\n",
       "  <tbody>\n",
       "    <tr>\n",
       "      <th>67</th>\n",
       "      <td>1</td>\n",
       "      <td>68</td>\n",
       "      <td>150</td>\n",
       "      <td>1454.9</td>\n",
       "      <td>83.6</td>\n",
       "      <td>38.5</td>\n",
       "      <td>18.3</td>\n",
       "      <td>27.4</td>\n",
       "      <td>2</td>\n",
       "      <td>0.07</td>\n",
       "      <td>2727</td>\n",
       "    </tr>\n",
       "    <tr>\n",
       "      <th>68</th>\n",
       "      <td>1</td>\n",
       "      <td>69</td>\n",
       "      <td>108</td>\n",
       "      <td>1258.6</td>\n",
       "      <td>71.2</td>\n",
       "      <td>41.3</td>\n",
       "      <td>12.8</td>\n",
       "      <td>28.0</td>\n",
       "      <td>0</td>\n",
       "      <td>0.00</td>\n",
       "      <td>575</td>\n",
       "    </tr>\n",
       "    <tr>\n",
       "      <th>69</th>\n",
       "      <td>1</td>\n",
       "      <td>70</td>\n",
       "      <td>112</td>\n",
       "      <td>1523.5</td>\n",
       "      <td>72.1</td>\n",
       "      <td>41.5</td>\n",
       "      <td>11.5</td>\n",
       "      <td>27.8</td>\n",
       "      <td>0</td>\n",
       "      <td>0.00</td>\n",
       "      <td>215</td>\n",
       "    </tr>\n",
       "    <tr>\n",
       "      <th>70</th>\n",
       "      <td>1</td>\n",
       "      <td>71</td>\n",
       "      <td>109</td>\n",
       "      <td>862.3</td>\n",
       "      <td>73.6</td>\n",
       "      <td>42.4</td>\n",
       "      <td>9.3</td>\n",
       "      <td>26.5</td>\n",
       "      <td>3</td>\n",
       "      <td>0.19</td>\n",
       "      <td>1557</td>\n",
       "    </tr>\n",
       "    <tr>\n",
       "      <th>71</th>\n",
       "      <td>1</td>\n",
       "      <td>72</td>\n",
       "      <td>86</td>\n",
       "      <td>960.4</td>\n",
       "      <td>74.2</td>\n",
       "      <td>40.7</td>\n",
       "      <td>16.2</td>\n",
       "      <td>29.0</td>\n",
       "      <td>0</td>\n",
       "      <td>0.00</td>\n",
       "      <td>1062</td>\n",
       "    </tr>\n",
       "    <tr>\n",
       "      <th>72</th>\n",
       "      <td>1</td>\n",
       "      <td>73</td>\n",
       "      <td>106</td>\n",
       "      <td>1329.9</td>\n",
       "      <td>69.7</td>\n",
       "      <td>41.7</td>\n",
       "      <td>12.6</td>\n",
       "      <td>28.1</td>\n",
       "      <td>1</td>\n",
       "      <td>0.16</td>\n",
       "      <td>616</td>\n",
       "    </tr>\n",
       "    <tr>\n",
       "      <th>73</th>\n",
       "      <td>1</td>\n",
       "      <td>74</td>\n",
       "      <td>117</td>\n",
       "      <td>1129.1</td>\n",
       "      <td>70.6</td>\n",
       "      <td>41.9</td>\n",
       "      <td>9.8</td>\n",
       "      <td>27.5</td>\n",
       "      <td>0</td>\n",
       "      <td>0.00</td>\n",
       "      <td>375</td>\n",
       "    </tr>\n",
       "    <tr>\n",
       "      <th>74</th>\n",
       "      <td>1</td>\n",
       "      <td>75</td>\n",
       "      <td>90</td>\n",
       "      <td>825.6</td>\n",
       "      <td>68.6</td>\n",
       "      <td>41.8</td>\n",
       "      <td>14.0</td>\n",
       "      <td>28.5</td>\n",
       "      <td>1</td>\n",
       "      <td>0.33</td>\n",
       "      <td>302</td>\n",
       "    </tr>\n",
       "    <tr>\n",
       "      <th>75</th>\n",
       "      <td>1</td>\n",
       "      <td>76</td>\n",
       "      <td>105</td>\n",
       "      <td>771.4</td>\n",
       "      <td>71.3</td>\n",
       "      <td>42.4</td>\n",
       "      <td>14.2</td>\n",
       "      <td>29.1</td>\n",
       "      <td>0</td>\n",
       "      <td>0.00</td>\n",
       "      <td>1561</td>\n",
       "    </tr>\n",
       "    <tr>\n",
       "      <th>76</th>\n",
       "      <td>1</td>\n",
       "      <td>77</td>\n",
       "      <td>106</td>\n",
       "      <td>1329.9</td>\n",
       "      <td>69.7</td>\n",
       "      <td>41.7</td>\n",
       "      <td>12.6</td>\n",
       "      <td>28.1</td>\n",
       "      <td>6</td>\n",
       "      <td>0.12</td>\n",
       "      <td>4884</td>\n",
       "    </tr>\n",
       "  </tbody>\n",
       "</table>\n",
       "</div>"
      ],
      "text/plain": [
       "    year_num  province_num  day_raindrop  quant_rain  humbidity_perc  \\\n",
       "67         1            68           150      1454.9            83.6   \n",
       "68         1            69           108      1258.6            71.2   \n",
       "69         1            70           112      1523.5            72.1   \n",
       "70         1            71           109       862.3            73.6   \n",
       "71         1            72            86       960.4            74.2   \n",
       "72         1            73           106      1329.9            69.7   \n",
       "73         1            74           117      1129.1            70.6   \n",
       "74         1            75            90       825.6            68.6   \n",
       "75         1            76           105       771.4            71.3   \n",
       "76         1            77           106      1329.9            69.7   \n",
       "\n",
       "    temp_max  temp_min  temp_avg  dead  dead_perc  patient  \n",
       "67      38.5      18.3      27.4     2       0.07     2727  \n",
       "68      41.3      12.8      28.0     0       0.00      575  \n",
       "69      41.5      11.5      27.8     0       0.00      215  \n",
       "70      42.4       9.3      26.5     3       0.19     1557  \n",
       "71      40.7      16.2      29.0     0       0.00     1062  \n",
       "72      41.7      12.6      28.1     1       0.16      616  \n",
       "73      41.9       9.8      27.5     0       0.00      375  \n",
       "74      41.8      14.0      28.5     1       0.33      302  \n",
       "75      42.4      14.2      29.1     0       0.00     1561  \n",
       "76      41.7      12.6      28.1     6       0.12     4884  "
      ]
     },
     "execution_count": 8,
     "metadata": {},
     "output_type": "execute_result"
    }
   ],
   "source": [
    "df.tail(10)"
   ]
  },
  {
   "cell_type": "code",
   "execution_count": 9,
   "metadata": {},
   "outputs": [
    {
     "data": {
      "text/html": [
       "<div>\n",
       "<style scoped>\n",
       "    .dataframe tbody tr th:only-of-type {\n",
       "        vertical-align: middle;\n",
       "    }\n",
       "\n",
       "    .dataframe tbody tr th {\n",
       "        vertical-align: top;\n",
       "    }\n",
       "\n",
       "    .dataframe thead th {\n",
       "        text-align: right;\n",
       "    }\n",
       "</style>\n",
       "<table border=\"1\" class=\"dataframe\">\n",
       "  <thead>\n",
       "    <tr style=\"text-align: right;\">\n",
       "      <th></th>\n",
       "      <th>year_num</th>\n",
       "      <th>province_num</th>\n",
       "      <th>day_raindrop</th>\n",
       "      <th>quant_rain</th>\n",
       "      <th>humbidity_perc</th>\n",
       "      <th>temp_max</th>\n",
       "      <th>temp_min</th>\n",
       "      <th>temp_avg</th>\n",
       "      <th>dead</th>\n",
       "      <th>dead_perc</th>\n",
       "      <th>patient</th>\n",
       "    </tr>\n",
       "  </thead>\n",
       "  <tbody>\n",
       "    <tr>\n",
       "      <th>count</th>\n",
       "      <td>77.0</td>\n",
       "      <td>77.000000</td>\n",
       "      <td>77.000000</td>\n",
       "      <td>77.000000</td>\n",
       "      <td>77.000000</td>\n",
       "      <td>77.000000</td>\n",
       "      <td>77.000000</td>\n",
       "      <td>77.000000</td>\n",
       "      <td>77.000000</td>\n",
       "      <td>77.000000</td>\n",
       "      <td>77.000000</td>\n",
       "    </tr>\n",
       "    <tr>\n",
       "      <th>mean</th>\n",
       "      <td>1.0</td>\n",
       "      <td>39.000000</td>\n",
       "      <td>116.298701</td>\n",
       "      <td>1375.227273</td>\n",
       "      <td>74.480519</td>\n",
       "      <td>39.741558</td>\n",
       "      <td>14.924675</td>\n",
       "      <td>27.985714</td>\n",
       "      <td>1.857143</td>\n",
       "      <td>0.102857</td>\n",
       "      <td>1596.428571</td>\n",
       "    </tr>\n",
       "    <tr>\n",
       "      <th>std</th>\n",
       "      <td>0.0</td>\n",
       "      <td>22.371857</td>\n",
       "      <td>25.780483</td>\n",
       "      <td>617.275140</td>\n",
       "      <td>4.180312</td>\n",
       "      <td>2.688932</td>\n",
       "      <td>3.419493</td>\n",
       "      <td>0.854048</td>\n",
       "      <td>2.553193</td>\n",
       "      <td>0.119592</td>\n",
       "      <td>1417.353579</td>\n",
       "    </tr>\n",
       "    <tr>\n",
       "      <th>min</th>\n",
       "      <td>1.0</td>\n",
       "      <td>1.000000</td>\n",
       "      <td>76.000000</td>\n",
       "      <td>771.400000</td>\n",
       "      <td>66.500000</td>\n",
       "      <td>24.000000</td>\n",
       "      <td>8.700000</td>\n",
       "      <td>25.300000</td>\n",
       "      <td>0.000000</td>\n",
       "      <td>0.000000</td>\n",
       "      <td>113.000000</td>\n",
       "    </tr>\n",
       "    <tr>\n",
       "      <th>25%</th>\n",
       "      <td>1.0</td>\n",
       "      <td>20.000000</td>\n",
       "      <td>101.000000</td>\n",
       "      <td>960.400000</td>\n",
       "      <td>71.300000</td>\n",
       "      <td>38.500000</td>\n",
       "      <td>12.200000</td>\n",
       "      <td>27.400000</td>\n",
       "      <td>0.000000</td>\n",
       "      <td>0.000000</td>\n",
       "      <td>595.000000</td>\n",
       "    </tr>\n",
       "    <tr>\n",
       "      <th>50%</th>\n",
       "      <td>1.0</td>\n",
       "      <td>39.000000</td>\n",
       "      <td>108.000000</td>\n",
       "      <td>1171.600000</td>\n",
       "      <td>73.600000</td>\n",
       "      <td>40.000000</td>\n",
       "      <td>14.400000</td>\n",
       "      <td>28.000000</td>\n",
       "      <td>1.000000</td>\n",
       "      <td>0.070000</td>\n",
       "      <td>1212.000000</td>\n",
       "    </tr>\n",
       "    <tr>\n",
       "      <th>75%</th>\n",
       "      <td>1.0</td>\n",
       "      <td>58.000000</td>\n",
       "      <td>127.000000</td>\n",
       "      <td>1628.000000</td>\n",
       "      <td>77.700000</td>\n",
       "      <td>41.700000</td>\n",
       "      <td>18.300000</td>\n",
       "      <td>28.600000</td>\n",
       "      <td>3.000000</td>\n",
       "      <td>0.180000</td>\n",
       "      <td>2134.000000</td>\n",
       "    </tr>\n",
       "    <tr>\n",
       "      <th>max</th>\n",
       "      <td>1.0</td>\n",
       "      <td>77.000000</td>\n",
       "      <td>175.000000</td>\n",
       "      <td>3918.400000</td>\n",
       "      <td>83.600000</td>\n",
       "      <td>43.100000</td>\n",
       "      <td>22.900000</td>\n",
       "      <td>29.600000</td>\n",
       "      <td>13.000000</td>\n",
       "      <td>0.460000</td>\n",
       "      <td>7194.000000</td>\n",
       "    </tr>\n",
       "  </tbody>\n",
       "</table>\n",
       "</div>"
      ],
      "text/plain": [
       "       year_num  province_num  day_raindrop   quant_rain  humbidity_perc  \\\n",
       "count      77.0     77.000000     77.000000    77.000000       77.000000   \n",
       "mean        1.0     39.000000    116.298701  1375.227273       74.480519   \n",
       "std         0.0     22.371857     25.780483   617.275140        4.180312   \n",
       "min         1.0      1.000000     76.000000   771.400000       66.500000   \n",
       "25%         1.0     20.000000    101.000000   960.400000       71.300000   \n",
       "50%         1.0     39.000000    108.000000  1171.600000       73.600000   \n",
       "75%         1.0     58.000000    127.000000  1628.000000       77.700000   \n",
       "max         1.0     77.000000    175.000000  3918.400000       83.600000   \n",
       "\n",
       "        temp_max   temp_min   temp_avg       dead  dead_perc      patient  \n",
       "count  77.000000  77.000000  77.000000  77.000000  77.000000    77.000000  \n",
       "mean   39.741558  14.924675  27.985714   1.857143   0.102857  1596.428571  \n",
       "std     2.688932   3.419493   0.854048   2.553193   0.119592  1417.353579  \n",
       "min    24.000000   8.700000  25.300000   0.000000   0.000000   113.000000  \n",
       "25%    38.500000  12.200000  27.400000   0.000000   0.000000   595.000000  \n",
       "50%    40.000000  14.400000  28.000000   1.000000   0.070000  1212.000000  \n",
       "75%    41.700000  18.300000  28.600000   3.000000   0.180000  2134.000000  \n",
       "max    43.100000  22.900000  29.600000  13.000000   0.460000  7194.000000  "
      ]
     },
     "execution_count": 9,
     "metadata": {},
     "output_type": "execute_result"
    }
   ],
   "source": [
    "df.describe()"
   ]
  },
  {
   "cell_type": "code",
   "execution_count": 10,
   "metadata": {},
   "outputs": [
    {
     "data": {
      "image/png": "[encoded data removed]",
      "text/plain": [
       "<Figure size 432x288 with 1 Axes>"
      ]
     },
     "metadata": {
      "image/png": {
       "height": 248,
       "width": 381
      },
      "needs_background": "light"
     },
     "output_type": "display_data"
    }
   ],
   "source": [
    "#find outliers\n",
    "boxplot = df.boxplot(column=['quant_rain'])"
   ]
  },
  {
   "cell_type": "code",
   "execution_count": 11,
   "metadata": {},
   "outputs": [],
   "source": [
    "# Greater than 50000 replace to mean value.(Did it make score drop)\n",
    "\n",
    "#df['patient'] = np.where(df['patient'] > 5000, 4950, df['patient'])\n",
    "#df['quant_rain'] = np.where(df['quant_rain'] > 3000, 2950, df['quant_rain'])"
   ]
  },
  {
   "cell_type": "code",
   "execution_count": 12,
   "metadata": {},
   "outputs": [
    {
     "data": {
      "text/plain": [
       "Index(['year_num', 'province_num', 'day_raindrop', 'quant_rain',\n",
       "       'humbidity_perc', 'temp_max', 'temp_min', 'temp_avg', 'dead',\n",
       "       'dead_perc', 'patient'],\n",
       "      dtype='object')"
      ]
     },
     "execution_count": 12,
     "metadata": {},
     "output_type": "execute_result"
    }
   ],
   "source": [
    "df.columns"
   ]
  },
  {
   "cell_type": "code",
   "execution_count": 13,
   "metadata": {},
   "outputs": [],
   "source": [
    "# Transformation\n",
    "df_num  = df[['day_raindrop', 'quant_rain', 'humbidity_perc','temp_max', 'temp_min', 'temp_avg']]"
   ]
  },
  {
   "cell_type": "code",
   "execution_count": 14,
   "metadata": {},
   "outputs": [],
   "source": [
    "# Choice of Numerical varialable.\n",
    "\n",
    "#from sklearn.preprocessing import StandardScaler\n",
    "from sklearn.preprocessing import MinMaxScaler"
   ]
  },
  {
   "cell_type": "code",
   "execution_count": 15,
   "metadata": {},
   "outputs": [
    {
     "data": {
      "text/html": [
       "<div>\n",
       "<style scoped>\n",
       "    .dataframe tbody tr th:only-of-type {\n",
       "        vertical-align: middle;\n",
       "    }\n",
       "\n",
       "    .dataframe tbody tr th {\n",
       "        vertical-align: top;\n",
       "    }\n",
       "\n",
       "    .dataframe thead th {\n",
       "        text-align: right;\n",
       "    }\n",
       "</style>\n",
       "<table border=\"1\" class=\"dataframe\">\n",
       "  <thead>\n",
       "    <tr style=\"text-align: right;\">\n",
       "      <th></th>\n",
       "      <th>day_raindrop</th>\n",
       "      <th>quant_rain</th>\n",
       "      <th>humbidity_perc</th>\n",
       "      <th>temp_max</th>\n",
       "      <th>temp_min</th>\n",
       "      <th>temp_avg</th>\n",
       "    </tr>\n",
       "  </thead>\n",
       "  <tbody>\n",
       "    <tr>\n",
       "      <th>72</th>\n",
       "      <td>0.303030</td>\n",
       "      <td>0.177471</td>\n",
       "      <td>0.187135</td>\n",
       "      <td>0.926702</td>\n",
       "      <td>0.274648</td>\n",
       "      <td>0.651163</td>\n",
       "    </tr>\n",
       "    <tr>\n",
       "      <th>73</th>\n",
       "      <td>0.414141</td>\n",
       "      <td>0.113664</td>\n",
       "      <td>0.239766</td>\n",
       "      <td>0.937173</td>\n",
       "      <td>0.077465</td>\n",
       "      <td>0.511628</td>\n",
       "    </tr>\n",
       "    <tr>\n",
       "      <th>74</th>\n",
       "      <td>0.141414</td>\n",
       "      <td>0.017223</td>\n",
       "      <td>0.122807</td>\n",
       "      <td>0.931937</td>\n",
       "      <td>0.373239</td>\n",
       "      <td>0.744186</td>\n",
       "    </tr>\n",
       "    <tr>\n",
       "      <th>75</th>\n",
       "      <td>0.292929</td>\n",
       "      <td>0.000000</td>\n",
       "      <td>0.280702</td>\n",
       "      <td>0.963351</td>\n",
       "      <td>0.387324</td>\n",
       "      <td>0.883721</td>\n",
       "    </tr>\n",
       "    <tr>\n",
       "      <th>76</th>\n",
       "      <td>0.303030</td>\n",
       "      <td>0.177471</td>\n",
       "      <td>0.187135</td>\n",
       "      <td>0.926702</td>\n",
       "      <td>0.274648</td>\n",
       "      <td>0.651163</td>\n",
       "    </tr>\n",
       "  </tbody>\n",
       "</table>\n",
       "</div>"
      ],
      "text/plain": [
       "    day_raindrop  quant_rain  humbidity_perc  temp_max  temp_min  temp_avg\n",
       "72      0.303030    0.177471        0.187135  0.926702  0.274648  0.651163\n",
       "73      0.414141    0.113664        0.239766  0.937173  0.077465  0.511628\n",
       "74      0.141414    0.017223        0.122807  0.931937  0.373239  0.744186\n",
       "75      0.292929    0.000000        0.280702  0.963351  0.387324  0.883721\n",
       "76      0.303030    0.177471        0.187135  0.926702  0.274648  0.651163"
      ]
     },
     "metadata": {},
     "output_type": "display_data"
    }
   ],
   "source": [
    "# Version1: select MinMax\n",
    "\n",
    "num_column = df_num.dtypes[df_num.dtypes != 'object'].index\n",
    "\n",
    "# Initialize a scaler, then apply it to the features\n",
    "scaler = MinMaxScaler() # default=(0, 1)\n",
    "\n",
    "std_transform_feat = pd.DataFrame(data = df_num)\n",
    "std_transform_feat[num_column] = scaler.fit_transform(df_num[num_column])\n",
    "\n",
    "# Show an example of a record with scaling applied\n",
    "display(std_transform_feat.tail())"
   ]
  },
  {
   "cell_type": "code",
   "execution_count": 16,
   "metadata": {},
   "outputs": [],
   "source": [
    "## log transform to target variable impove RMSE value.(optional)\n",
    "\n",
    "#df['patient'] = np.log(df['patient'])"
   ]
  },
  {
   "cell_type": "code",
   "execution_count": 17,
   "metadata": {},
   "outputs": [],
   "source": [
    "df_cat = df[['year_num', 'province_num']]\n",
    "y_tar = df[['patient']]"
   ]
  },
  {
   "cell_type": "code",
   "execution_count": 18,
   "metadata": {},
   "outputs": [],
   "source": [
    "## Concat all numerical feature to DataFrame\n",
    "df_pre = pd.concat((df_cat, std_transform_feat,y_tar),axis=1)"
   ]
  },
  {
   "cell_type": "code",
   "execution_count": 19,
   "metadata": {},
   "outputs": [
    {
     "data": {
      "text/html": [
       "<div>\n",
       "<style scoped>\n",
       "    .dataframe tbody tr th:only-of-type {\n",
       "        vertical-align: middle;\n",
       "    }\n",
       "\n",
       "    .dataframe tbody tr th {\n",
       "        vertical-align: top;\n",
       "    }\n",
       "\n",
       "    .dataframe thead th {\n",
       "        text-align: right;\n",
       "    }\n",
       "</style>\n",
       "<table border=\"1\" class=\"dataframe\">\n",
       "  <thead>\n",
       "    <tr style=\"text-align: right;\">\n",
       "      <th></th>\n",
       "      <th>year_num</th>\n",
       "      <th>province_num</th>\n",
       "      <th>day_raindrop</th>\n",
       "      <th>quant_rain</th>\n",
       "      <th>humbidity_perc</th>\n",
       "      <th>temp_max</th>\n",
       "      <th>temp_min</th>\n",
       "      <th>temp_avg</th>\n",
       "      <th>patient</th>\n",
       "    </tr>\n",
       "  </thead>\n",
       "  <tbody>\n",
       "    <tr>\n",
       "      <th>count</th>\n",
       "      <td>77.0</td>\n",
       "      <td>77.00</td>\n",
       "      <td>77.00</td>\n",
       "      <td>77.00</td>\n",
       "      <td>77.00</td>\n",
       "      <td>77.00</td>\n",
       "      <td>77.00</td>\n",
       "      <td>77.00</td>\n",
       "      <td>77.00</td>\n",
       "    </tr>\n",
       "    <tr>\n",
       "      <th>mean</th>\n",
       "      <td>1.0</td>\n",
       "      <td>39.00</td>\n",
       "      <td>0.41</td>\n",
       "      <td>0.19</td>\n",
       "      <td>0.47</td>\n",
       "      <td>0.82</td>\n",
       "      <td>0.44</td>\n",
       "      <td>0.62</td>\n",
       "      <td>1596.43</td>\n",
       "    </tr>\n",
       "    <tr>\n",
       "      <th>std</th>\n",
       "      <td>0.0</td>\n",
       "      <td>22.37</td>\n",
       "      <td>0.26</td>\n",
       "      <td>0.20</td>\n",
       "      <td>0.24</td>\n",
       "      <td>0.14</td>\n",
       "      <td>0.24</td>\n",
       "      <td>0.20</td>\n",
       "      <td>1417.35</td>\n",
       "    </tr>\n",
       "    <tr>\n",
       "      <th>min</th>\n",
       "      <td>1.0</td>\n",
       "      <td>1.00</td>\n",
       "      <td>0.00</td>\n",
       "      <td>0.00</td>\n",
       "      <td>0.00</td>\n",
       "      <td>0.00</td>\n",
       "      <td>0.00</td>\n",
       "      <td>0.00</td>\n",
       "      <td>113.00</td>\n",
       "    </tr>\n",
       "    <tr>\n",
       "      <th>25%</th>\n",
       "      <td>1.0</td>\n",
       "      <td>20.00</td>\n",
       "      <td>0.25</td>\n",
       "      <td>0.06</td>\n",
       "      <td>0.28</td>\n",
       "      <td>0.76</td>\n",
       "      <td>0.25</td>\n",
       "      <td>0.49</td>\n",
       "      <td>595.00</td>\n",
       "    </tr>\n",
       "    <tr>\n",
       "      <th>50%</th>\n",
       "      <td>1.0</td>\n",
       "      <td>39.00</td>\n",
       "      <td>0.32</td>\n",
       "      <td>0.13</td>\n",
       "      <td>0.42</td>\n",
       "      <td>0.84</td>\n",
       "      <td>0.40</td>\n",
       "      <td>0.63</td>\n",
       "      <td>1212.00</td>\n",
       "    </tr>\n",
       "    <tr>\n",
       "      <th>75%</th>\n",
       "      <td>1.0</td>\n",
       "      <td>58.00</td>\n",
       "      <td>0.52</td>\n",
       "      <td>0.27</td>\n",
       "      <td>0.65</td>\n",
       "      <td>0.93</td>\n",
       "      <td>0.68</td>\n",
       "      <td>0.77</td>\n",
       "      <td>2134.00</td>\n",
       "    </tr>\n",
       "    <tr>\n",
       "      <th>max</th>\n",
       "      <td>1.0</td>\n",
       "      <td>77.00</td>\n",
       "      <td>1.00</td>\n",
       "      <td>1.00</td>\n",
       "      <td>1.00</td>\n",
       "      <td>1.00</td>\n",
       "      <td>1.00</td>\n",
       "      <td>1.00</td>\n",
       "      <td>7194.00</td>\n",
       "    </tr>\n",
       "  </tbody>\n",
       "</table>\n",
       "</div>"
      ],
      "text/plain": [
       "       year_num  province_num  day_raindrop  quant_rain  humbidity_perc  \\\n",
       "count      77.0         77.00         77.00       77.00           77.00   \n",
       "mean        1.0         39.00          0.41        0.19            0.47   \n",
       "std         0.0         22.37          0.26        0.20            0.24   \n",
       "min         1.0          1.00          0.00        0.00            0.00   \n",
       "25%         1.0         20.00          0.25        0.06            0.28   \n",
       "50%         1.0         39.00          0.32        0.13            0.42   \n",
       "75%         1.0         58.00          0.52        0.27            0.65   \n",
       "max         1.0         77.00          1.00        1.00            1.00   \n",
       "\n",
       "       temp_max  temp_min  temp_avg  patient  \n",
       "count     77.00     77.00     77.00    77.00  \n",
       "mean       0.82      0.44      0.62  1596.43  \n",
       "std        0.14      0.24      0.20  1417.35  \n",
       "min        0.00      0.00      0.00   113.00  \n",
       "25%        0.76      0.25      0.49   595.00  \n",
       "50%        0.84      0.40      0.63  1212.00  \n",
       "75%        0.93      0.68      0.77  2134.00  \n",
       "max        1.00      1.00      1.00  7194.00  "
      ]
     },
     "execution_count": 19,
     "metadata": {},
     "output_type": "execute_result"
    }
   ],
   "source": [
    "df_pre.describe().round(2)"
   ]
  },
  {
   "cell_type": "code",
   "execution_count": 20,
   "metadata": {},
   "outputs": [],
   "source": [
    "# ## Visaulization corriration in gharph.\n",
    "\n",
    "# sns.pairplot(df_pre)\n",
    "# plt.show()"
   ]
  },
  {
   "cell_type": "code",
   "execution_count": 21,
   "metadata": {},
   "outputs": [
    {
     "data": {
      "image/png": "[encoded data removed]",
      "text/plain": [
       "<Figure size 864x720 with 2 Axes>"
      ]
     },
     "metadata": {
      "image/png": {
       "height": 642,
       "width": 726
      },
      "needs_background": "light"
     },
     "output_type": "display_data"
    }
   ],
   "source": [
    "## Correlation between different variables\n",
    "\n",
    "corr = df_pre.corr()\n",
    "\n",
    "## Set up the matplotlib plot configuration\n",
    "\n",
    "f, ax = plt.subplots(figsize=(12, 10))\n",
    "\n",
    "## Generate a mask for upper traingle\n",
    "\n",
    "mask = np.triu(np.ones_like(corr, dtype=bool))\n",
    "\n",
    "## Configure a custom diverging colormap\n",
    "\n",
    "cmap = sns.diverging_palette(230, 20, as_cmap=True)\n",
    "\n",
    "## Draw the heatmap\n",
    "\n",
    "sns.heatmap(corr, annot=True, mask = mask, cmap=cmap)\n",
    "plt.show()"
   ]
  },
  {
   "cell_type": "markdown",
   "metadata": {},
   "source": [
    "# Building Linear Regression Model\n",
    "\n",
    "1. Features selection for Linear Regression Model\n",
    "2. Train Test Split\n",
    "3. Creating and Training the Model\n",
    "4. Model Evaluation\n",
    "\n",
    "\n",
    "## Features selection for Regression Model"
   ]
  },
  {
   "cell_type": "code",
   "execution_count": 22,
   "metadata": {},
   "outputs": [
    {
     "data": {
      "text/plain": [
       "Index(['year_num', 'province_num', 'day_raindrop', 'quant_rain',\n",
       "       'humbidity_perc', 'temp_max', 'temp_min', 'temp_avg', 'patient'],\n",
       "      dtype='object')"
      ]
     },
     "execution_count": 22,
     "metadata": {},
     "output_type": "execute_result"
    }
   ],
   "source": [
    "df_pre.columns"
   ]
  },
  {
   "cell_type": "code",
   "execution_count": 34,
   "metadata": {},
   "outputs": [],
   "source": [
    "# X = df_pre[['year_num', 'province_num', 'day_raindrop', 'quant_rain', 'humbidity_perc','temp_max', 'temp_min', 'temp_avg', 'dead', 'dead_perc']]\n",
    "X = df_pre[[ 'day_raindrop', 'quant_rain', 'humbidity_perc','temp_max', 'temp_min', 'temp_avg']]\n",
    "y = df_pre['patient']"
   ]
  },
  {
   "cell_type": "markdown",
   "metadata": {},
   "source": [
    "## Train Test Split\n",
    "\n",
    "This step we will separate data to train (training set) and การ test (testing set)\n",
    "* training set use for train model \n",
    "* testing set use for  test model or call that Evaluation \n"
   ]
  },
  {
   "cell_type": "code",
   "execution_count": 24,
   "metadata": {},
   "outputs": [],
   "source": [
    "from sklearn.model_selection import train_test_split"
   ]
  },
  {
   "cell_type": "code",
   "execution_count": 35,
   "metadata": {},
   "outputs": [],
   "source": [
    "# Train dataset 80% and Test dataset 20%.\n",
    "X_train, X_test, y_train, y_test = train_test_split(X, y, test_size=0.20, random_state=17)"
   ]
  },
  {
   "cell_type": "markdown",
   "metadata": {},
   "source": [
    "## Creating and Training the Model"
   ]
  },
  {
   "cell_type": "code",
   "execution_count": 36,
   "metadata": {},
   "outputs": [],
   "source": [
    "from sklearn.linear_model import LinearRegression"
   ]
  },
  {
   "cell_type": "code",
   "execution_count": 37,
   "metadata": {},
   "outputs": [],
   "source": [
    "# Try to use simple model: Linear Regression.\n",
    "lm = LinearRegression()"
   ]
  },
  {
   "cell_type": "code",
   "execution_count": 38,
   "metadata": {},
   "outputs": [
    {
     "data": {
      "text/plain": [
       "LinearRegression()"
      ]
     },
     "execution_count": 38,
     "metadata": {},
     "output_type": "execute_result"
    }
   ],
   "source": [
    "# fit model to Train and test set.\n",
    "lm.fit(X_train,y_train)"
   ]
  },
  {
   "cell_type": "markdown",
   "metadata": {},
   "source": [
    "## Model Evaluation\n",
    "\n",
    "evaluate model by visit coefficients of each item"
   ]
  },
  {
   "cell_type": "code",
   "execution_count": 39,
   "metadata": {},
   "outputs": [
    {
     "name": "stdout",
     "output_type": "stream",
     "text": [
      "4121.790656190087\n"
     ]
    }
   ],
   "source": [
    "# print the intercept\n",
    "print(lm.intercept_)"
   ]
  },
  {
   "cell_type": "code",
   "execution_count": 40,
   "metadata": {},
   "outputs": [
    {
     "data": {
      "text/html": [
       "<div>\n",
       "<style scoped>\n",
       "    .dataframe tbody tr th:only-of-type {\n",
       "        vertical-align: middle;\n",
       "    }\n",
       "\n",
       "    .dataframe tbody tr th {\n",
       "        vertical-align: top;\n",
       "    }\n",
       "\n",
       "    .dataframe thead th {\n",
       "        text-align: right;\n",
       "    }\n",
       "</style>\n",
       "<table border=\"1\" class=\"dataframe\">\n",
       "  <thead>\n",
       "    <tr style=\"text-align: right;\">\n",
       "      <th></th>\n",
       "      <th>Coefficient</th>\n",
       "    </tr>\n",
       "  </thead>\n",
       "  <tbody>\n",
       "    <tr>\n",
       "      <th>day_raindrop</th>\n",
       "      <td>-108.902863</td>\n",
       "    </tr>\n",
       "    <tr>\n",
       "      <th>quant_rain</th>\n",
       "      <td>-30.470131</td>\n",
       "    </tr>\n",
       "    <tr>\n",
       "      <th>humbidity_perc</th>\n",
       "      <td>-2207.258321</td>\n",
       "    </tr>\n",
       "    <tr>\n",
       "      <th>temp_max</th>\n",
       "      <td>-1612.228857</td>\n",
       "    </tr>\n",
       "    <tr>\n",
       "      <th>temp_min</th>\n",
       "      <td>1361.998514</td>\n",
       "    </tr>\n",
       "    <tr>\n",
       "      <th>temp_avg</th>\n",
       "      <td>-1051.985394</td>\n",
       "    </tr>\n",
       "  </tbody>\n",
       "</table>\n",
       "</div>"
      ],
      "text/plain": [
       "                Coefficient\n",
       "day_raindrop    -108.902863\n",
       "quant_rain       -30.470131\n",
       "humbidity_perc -2207.258321\n",
       "temp_max       -1612.228857\n",
       "temp_min        1361.998514\n",
       "temp_avg       -1051.985394"
      ]
     },
     "execution_count": 40,
     "metadata": {},
     "output_type": "execute_result"
    }
   ],
   "source": [
    "# create Data Frame \n",
    "# Data is lm.coef_\n",
    "# labal is name of X.columns\n",
    "# Column is'Coefficient'\n",
    "coeff_df = pd.DataFrame(lm.coef_ , X.columns , columns=['Coefficient'])\n",
    "coeff_df"
   ]
  },
  {
   "cell_type": "markdown",
   "metadata": {},
   "source": [
    "## Predictions from our Model"
   ]
  },
  {
   "cell_type": "code",
   "execution_count": 41,
   "metadata": {},
   "outputs": [],
   "source": [
    "# Predicting X test\n",
    "predictions = lm.predict(X_test)"
   ]
  },
  {
   "cell_type": "code",
   "execution_count": 43,
   "metadata": {},
   "outputs": [
    {
     "data": {
      "image/png": "[encoded data removed]",
      "text/plain": [
       "<Figure size 432x288 with 1 Axes>"
      ]
     },
     "metadata": {
      "image/png": {
       "height": 261,
       "width": 395
      },
      "needs_background": "light"
     },
     "output_type": "display_data"
    }
   ],
   "source": [
    "# plot predictions against actual\n",
    "\n",
    "plot_k = sns.scatterplot(y_test,predictions)\n",
    "plot_k.set(xlabel='Actual', ylabel='Prediction')\n",
    "\n",
    "# generate and graph y = x line\n",
    "\n",
    "x_plot = np.linspace(0,7000,10000)\n",
    "y_plot = x_plot\n",
    "plt.plot(x_plot, y_plot, color='r')\n",
    "plt.show()\n",
    "\n",
    "# Simulate linear line"
   ]
  },
  {
   "cell_type": "markdown",
   "metadata": {},
   "source": [
    "## Prediction"
   ]
  },
  {
   "cell_type": "code",
   "execution_count": 44,
   "metadata": {},
   "outputs": [
    {
     "ename": "KeyError",
     "evalue": "\"None of [Int64Index([112], dtype='int64')] are in the [index]\"",
     "output_type": "error",
     "traceback": [
      "\u001b[1;31m---------------------------------------------------------------------------\u001b[0m",
      "\u001b[1;31mKeyError\u001b[0m                                  Traceback (most recent call last)",
      "\u001b[1;32m<ipython-input-44-3b19e23580ac>\u001b[0m in \u001b[0;36m<module>\u001b[1;34m\u001b[0m\n\u001b[0;32m      3\u001b[0m \u001b[1;31m# input : X_test.loc[[random sample for prediction test]]\u001b[0m\u001b[1;33m\u001b[0m\u001b[1;33m\u001b[0m\u001b[1;33m\u001b[0m\u001b[0m\n\u001b[0;32m      4\u001b[0m \u001b[1;33m\u001b[0m\u001b[0m\n\u001b[1;32m----> 5\u001b[1;33m \u001b[0my_pred\u001b[0m \u001b[1;33m=\u001b[0m \u001b[0mlm\u001b[0m\u001b[1;33m.\u001b[0m\u001b[0mpredict\u001b[0m\u001b[1;33m(\u001b[0m\u001b[0mX_test\u001b[0m\u001b[1;33m.\u001b[0m\u001b[0mloc\u001b[0m\u001b[1;33m[\u001b[0m\u001b[1;33m[\u001b[0m\u001b[1;36m112\u001b[0m\u001b[1;33m]\u001b[0m\u001b[1;33m]\u001b[0m\u001b[1;33m)\u001b[0m\u001b[1;33m\u001b[0m\u001b[1;33m\u001b[0m\u001b[0m\n\u001b[0m\u001b[0;32m      6\u001b[0m \u001b[1;33m\u001b[0m\u001b[0m\n\u001b[0;32m      7\u001b[0m \u001b[0mplt\u001b[0m\u001b[1;33m.\u001b[0m\u001b[0mscatter\u001b[0m\u001b[1;33m(\u001b[0m\u001b[0my_test\u001b[0m\u001b[1;33m.\u001b[0m\u001b[0mloc\u001b[0m\u001b[1;33m[\u001b[0m\u001b[1;33m[\u001b[0m\u001b[1;36m112\u001b[0m\u001b[1;33m]\u001b[0m\u001b[1;33m]\u001b[0m\u001b[1;33m,\u001b[0m  \u001b[0my_pred\u001b[0m\u001b[1;33m)\u001b[0m\u001b[1;33m\u001b[0m\u001b[1;33m\u001b[0m\u001b[0m\n",
      "\u001b[1;32m~\\anaconda3\\lib\\site-packages\\pandas\\core\\indexing.py\u001b[0m in \u001b[0;36m__getitem__\u001b[1;34m(self, key)\u001b[0m\n\u001b[0;32m    893\u001b[0m \u001b[1;33m\u001b[0m\u001b[0m\n\u001b[0;32m    894\u001b[0m             \u001b[0mmaybe_callable\u001b[0m \u001b[1;33m=\u001b[0m \u001b[0mcom\u001b[0m\u001b[1;33m.\u001b[0m\u001b[0mapply_if_callable\u001b[0m\u001b[1;33m(\u001b[0m\u001b[0mkey\u001b[0m\u001b[1;33m,\u001b[0m \u001b[0mself\u001b[0m\u001b[1;33m.\u001b[0m\u001b[0mobj\u001b[0m\u001b[1;33m)\u001b[0m\u001b[1;33m\u001b[0m\u001b[1;33m\u001b[0m\u001b[0m\n\u001b[1;32m--> 895\u001b[1;33m             \u001b[1;32mreturn\u001b[0m \u001b[0mself\u001b[0m\u001b[1;33m.\u001b[0m\u001b[0m_getitem_axis\u001b[0m\u001b[1;33m(\u001b[0m\u001b[0mmaybe_callable\u001b[0m\u001b[1;33m,\u001b[0m \u001b[0maxis\u001b[0m\u001b[1;33m=\u001b[0m\u001b[0maxis\u001b[0m\u001b[1;33m)\u001b[0m\u001b[1;33m\u001b[0m\u001b[1;33m\u001b[0m\u001b[0m\n\u001b[0m\u001b[0;32m    896\u001b[0m \u001b[1;33m\u001b[0m\u001b[0m\n\u001b[0;32m    897\u001b[0m     \u001b[1;32mdef\u001b[0m \u001b[0m_is_scalar_access\u001b[0m\u001b[1;33m(\u001b[0m\u001b[0mself\u001b[0m\u001b[1;33m,\u001b[0m \u001b[0mkey\u001b[0m\u001b[1;33m:\u001b[0m \u001b[0mTuple\u001b[0m\u001b[1;33m)\u001b[0m\u001b[1;33m:\u001b[0m\u001b[1;33m\u001b[0m\u001b[1;33m\u001b[0m\u001b[0m\n",
      "\u001b[1;32m~\\anaconda3\\lib\\site-packages\\pandas\\core\\indexing.py\u001b[0m in \u001b[0;36m_getitem_axis\u001b[1;34m(self, key, axis)\u001b[0m\n\u001b[0;32m   1111\u001b[0m                     \u001b[1;32mraise\u001b[0m \u001b[0mValueError\u001b[0m\u001b[1;33m(\u001b[0m\u001b[1;34m\"Cannot index with multidimensional key\"\u001b[0m\u001b[1;33m)\u001b[0m\u001b[1;33m\u001b[0m\u001b[1;33m\u001b[0m\u001b[0m\n\u001b[0;32m   1112\u001b[0m \u001b[1;33m\u001b[0m\u001b[0m\n\u001b[1;32m-> 1113\u001b[1;33m                 \u001b[1;32mreturn\u001b[0m \u001b[0mself\u001b[0m\u001b[1;33m.\u001b[0m\u001b[0m_getitem_iterable\u001b[0m\u001b[1;33m(\u001b[0m\u001b[0mkey\u001b[0m\u001b[1;33m,\u001b[0m \u001b[0maxis\u001b[0m\u001b[1;33m=\u001b[0m\u001b[0maxis\u001b[0m\u001b[1;33m)\u001b[0m\u001b[1;33m\u001b[0m\u001b[1;33m\u001b[0m\u001b[0m\n\u001b[0m\u001b[0;32m   1114\u001b[0m \u001b[1;33m\u001b[0m\u001b[0m\n\u001b[0;32m   1115\u001b[0m             \u001b[1;31m# nested tuple slicing\u001b[0m\u001b[1;33m\u001b[0m\u001b[1;33m\u001b[0m\u001b[1;33m\u001b[0m\u001b[0m\n",
      "\u001b[1;32m~\\anaconda3\\lib\\site-packages\\pandas\\core\\indexing.py\u001b[0m in \u001b[0;36m_getitem_iterable\u001b[1;34m(self, key, axis)\u001b[0m\n\u001b[0;32m   1051\u001b[0m \u001b[1;33m\u001b[0m\u001b[0m\n\u001b[0;32m   1052\u001b[0m         \u001b[1;31m# A collection of keys\u001b[0m\u001b[1;33m\u001b[0m\u001b[1;33m\u001b[0m\u001b[1;33m\u001b[0m\u001b[0m\n\u001b[1;32m-> 1053\u001b[1;33m         \u001b[0mkeyarr\u001b[0m\u001b[1;33m,\u001b[0m \u001b[0mindexer\u001b[0m \u001b[1;33m=\u001b[0m \u001b[0mself\u001b[0m\u001b[1;33m.\u001b[0m\u001b[0m_get_listlike_indexer\u001b[0m\u001b[1;33m(\u001b[0m\u001b[0mkey\u001b[0m\u001b[1;33m,\u001b[0m \u001b[0maxis\u001b[0m\u001b[1;33m,\u001b[0m \u001b[0mraise_missing\u001b[0m\u001b[1;33m=\u001b[0m\u001b[1;32mFalse\u001b[0m\u001b[1;33m)\u001b[0m\u001b[1;33m\u001b[0m\u001b[1;33m\u001b[0m\u001b[0m\n\u001b[0m\u001b[0;32m   1054\u001b[0m         return self.obj._reindex_with_indexers(\n\u001b[0;32m   1055\u001b[0m             \u001b[1;33m{\u001b[0m\u001b[0maxis\u001b[0m\u001b[1;33m:\u001b[0m \u001b[1;33m[\u001b[0m\u001b[0mkeyarr\u001b[0m\u001b[1;33m,\u001b[0m \u001b[0mindexer\u001b[0m\u001b[1;33m]\u001b[0m\u001b[1;33m}\u001b[0m\u001b[1;33m,\u001b[0m \u001b[0mcopy\u001b[0m\u001b[1;33m=\u001b[0m\u001b[1;32mTrue\u001b[0m\u001b[1;33m,\u001b[0m \u001b[0mallow_dups\u001b[0m\u001b[1;33m=\u001b[0m\u001b[1;32mTrue\u001b[0m\u001b[1;33m\u001b[0m\u001b[1;33m\u001b[0m\u001b[0m\n",
      "\u001b[1;32m~\\anaconda3\\lib\\site-packages\\pandas\\core\\indexing.py\u001b[0m in \u001b[0;36m_get_listlike_indexer\u001b[1;34m(self, key, axis, raise_missing)\u001b[0m\n\u001b[0;32m   1264\u001b[0m             \u001b[0mkeyarr\u001b[0m\u001b[1;33m,\u001b[0m \u001b[0mindexer\u001b[0m\u001b[1;33m,\u001b[0m \u001b[0mnew_indexer\u001b[0m \u001b[1;33m=\u001b[0m \u001b[0max\u001b[0m\u001b[1;33m.\u001b[0m\u001b[0m_reindex_non_unique\u001b[0m\u001b[1;33m(\u001b[0m\u001b[0mkeyarr\u001b[0m\u001b[1;33m)\u001b[0m\u001b[1;33m\u001b[0m\u001b[1;33m\u001b[0m\u001b[0m\n\u001b[0;32m   1265\u001b[0m \u001b[1;33m\u001b[0m\u001b[0m\n\u001b[1;32m-> 1266\u001b[1;33m         \u001b[0mself\u001b[0m\u001b[1;33m.\u001b[0m\u001b[0m_validate_read_indexer\u001b[0m\u001b[1;33m(\u001b[0m\u001b[0mkeyarr\u001b[0m\u001b[1;33m,\u001b[0m \u001b[0mindexer\u001b[0m\u001b[1;33m,\u001b[0m \u001b[0maxis\u001b[0m\u001b[1;33m,\u001b[0m \u001b[0mraise_missing\u001b[0m\u001b[1;33m=\u001b[0m\u001b[0mraise_missing\u001b[0m\u001b[1;33m)\u001b[0m\u001b[1;33m\u001b[0m\u001b[1;33m\u001b[0m\u001b[0m\n\u001b[0m\u001b[0;32m   1267\u001b[0m         \u001b[1;32mreturn\u001b[0m \u001b[0mkeyarr\u001b[0m\u001b[1;33m,\u001b[0m \u001b[0mindexer\u001b[0m\u001b[1;33m\u001b[0m\u001b[1;33m\u001b[0m\u001b[0m\n\u001b[0;32m   1268\u001b[0m \u001b[1;33m\u001b[0m\u001b[0m\n",
      "\u001b[1;32m~\\anaconda3\\lib\\site-packages\\pandas\\core\\indexing.py\u001b[0m in \u001b[0;36m_validate_read_indexer\u001b[1;34m(self, key, indexer, axis, raise_missing)\u001b[0m\n\u001b[0;32m   1306\u001b[0m             \u001b[1;32mif\u001b[0m \u001b[0mmissing\u001b[0m \u001b[1;33m==\u001b[0m \u001b[0mlen\u001b[0m\u001b[1;33m(\u001b[0m\u001b[0mindexer\u001b[0m\u001b[1;33m)\u001b[0m\u001b[1;33m:\u001b[0m\u001b[1;33m\u001b[0m\u001b[1;33m\u001b[0m\u001b[0m\n\u001b[0;32m   1307\u001b[0m                 \u001b[0maxis_name\u001b[0m \u001b[1;33m=\u001b[0m \u001b[0mself\u001b[0m\u001b[1;33m.\u001b[0m\u001b[0mobj\u001b[0m\u001b[1;33m.\u001b[0m\u001b[0m_get_axis_name\u001b[0m\u001b[1;33m(\u001b[0m\u001b[0maxis\u001b[0m\u001b[1;33m)\u001b[0m\u001b[1;33m\u001b[0m\u001b[1;33m\u001b[0m\u001b[0m\n\u001b[1;32m-> 1308\u001b[1;33m                 \u001b[1;32mraise\u001b[0m \u001b[0mKeyError\u001b[0m\u001b[1;33m(\u001b[0m\u001b[1;34mf\"None of [{key}] are in the [{axis_name}]\"\u001b[0m\u001b[1;33m)\u001b[0m\u001b[1;33m\u001b[0m\u001b[1;33m\u001b[0m\u001b[0m\n\u001b[0m\u001b[0;32m   1309\u001b[0m \u001b[1;33m\u001b[0m\u001b[0m\n\u001b[0;32m   1310\u001b[0m             \u001b[0max\u001b[0m \u001b[1;33m=\u001b[0m \u001b[0mself\u001b[0m\u001b[1;33m.\u001b[0m\u001b[0mobj\u001b[0m\u001b[1;33m.\u001b[0m\u001b[0m_get_axis\u001b[0m\u001b[1;33m(\u001b[0m\u001b[0maxis\u001b[0m\u001b[1;33m)\u001b[0m\u001b[1;33m\u001b[0m\u001b[1;33m\u001b[0m\u001b[0m\n",
      "\u001b[1;31mKeyError\u001b[0m: \"None of [Int64Index([112], dtype='int64')] are in the [index]\""
     ]
    }
   ],
   "source": [
    "# Choose one of sample to predict and see result\n",
    "\n",
    "# input : X_test.loc[[random sample for prediction test]]\n",
    "    \n",
    "y_pred = lm.predict(X_test.loc[[112]])\n",
    "\n",
    "plt.scatter(y_test.loc[[112]],  y_pred)\n",
    "print( \"Actual Patient\",float(y_test.loc[[112]] ) )\n",
    "print( \"Predicted Patient\", float( y_pred))"
   ]
  },
  {
   "cell_type": "markdown",
   "metadata": {},
   "source": [
    "**Residual Histogram**"
   ]
  },
  {
   "cell_type": "code",
   "execution_count": 46,
   "metadata": {},
   "outputs": [
    {
     "data": {
      "image/png": "[encoded data removed]",
      "text/plain": [
       "<Figure size 432x288 with 1 Axes>"
      ]
     },
     "metadata": {
      "image/png": {
       "height": 261,
       "width": 404
      },
      "needs_background": "light"
     },
     "output_type": "display_data"
    }
   ],
   "source": [
    "sns.distplot((y_test-predictions),bins=20);"
   ]
  },
  {
   "cell_type": "markdown",
   "metadata": {},
   "source": [
    "### Actual value and the predicted value"
   ]
  },
  {
   "cell_type": "code",
   "execution_count": 48,
   "metadata": {},
   "outputs": [
    {
     "data": {
      "text/html": [
       "<div>\n",
       "<style scoped>\n",
       "    .dataframe tbody tr th:only-of-type {\n",
       "        vertical-align: middle;\n",
       "    }\n",
       "\n",
       "    .dataframe tbody tr th {\n",
       "        vertical-align: top;\n",
       "    }\n",
       "\n",
       "    .dataframe thead th {\n",
       "        text-align: right;\n",
       "    }\n",
       "</style>\n",
       "<table border=\"1\" class=\"dataframe\">\n",
       "  <thead>\n",
       "    <tr style=\"text-align: right;\">\n",
       "      <th></th>\n",
       "      <th>Actual value</th>\n",
       "      <th>Predicted value</th>\n",
       "    </tr>\n",
       "  </thead>\n",
       "  <tbody>\n",
       "    <tr>\n",
       "      <th>16</th>\n",
       "      <td>2134</td>\n",
       "      <td>2248.969243</td>\n",
       "    </tr>\n",
       "    <tr>\n",
       "      <th>29</th>\n",
       "      <td>1353</td>\n",
       "      <td>1531.658119</td>\n",
       "    </tr>\n",
       "    <tr>\n",
       "      <th>60</th>\n",
       "      <td>1518</td>\n",
       "      <td>1872.933663</td>\n",
       "    </tr>\n",
       "    <tr>\n",
       "      <th>33</th>\n",
       "      <td>382</td>\n",
       "      <td>1277.245679</td>\n",
       "    </tr>\n",
       "    <tr>\n",
       "      <th>58</th>\n",
       "      <td>2990</td>\n",
       "      <td>1587.251421</td>\n",
       "    </tr>\n",
       "    <tr>\n",
       "      <th>47</th>\n",
       "      <td>264</td>\n",
       "      <td>1512.477187</td>\n",
       "    </tr>\n",
       "    <tr>\n",
       "      <th>25</th>\n",
       "      <td>530</td>\n",
       "      <td>1325.334909</td>\n",
       "    </tr>\n",
       "    <tr>\n",
       "      <th>70</th>\n",
       "      <td>1557</td>\n",
       "      <td>1378.975580</td>\n",
       "    </tr>\n",
       "    <tr>\n",
       "      <th>36</th>\n",
       "      <td>1183</td>\n",
       "      <td>1433.798033</td>\n",
       "    </tr>\n",
       "    <tr>\n",
       "      <th>71</th>\n",
       "      <td>1062</td>\n",
       "      <td>1519.572327</td>\n",
       "    </tr>\n",
       "  </tbody>\n",
       "</table>\n",
       "</div>"
      ],
      "text/plain": [
       "    Actual value  Predicted value\n",
       "16          2134      2248.969243\n",
       "29          1353      1531.658119\n",
       "60          1518      1872.933663\n",
       "33           382      1277.245679\n",
       "58          2990      1587.251421\n",
       "47           264      1512.477187\n",
       "25           530      1325.334909\n",
       "70          1557      1378.975580\n",
       "36          1183      1433.798033\n",
       "71          1062      1519.572327"
      ]
     },
     "execution_count": 48,
     "metadata": {},
     "output_type": "execute_result"
    }
   ],
   "source": [
    "#Actual value and the predicted value\n",
    "mlr_diff = pd.DataFrame({'Actual value': y_test, 'Predicted value': predictions})\n",
    "mlr_diff.head(10)"
   ]
  },
  {
   "cell_type": "code",
   "execution_count": null,
   "metadata": {},
   "outputs": [],
   "source": [
    "mlr_diff.describe()"
   ]
  },
  {
   "cell_type": "code",
   "execution_count": null,
   "metadata": {},
   "outputs": [],
   "source": [
    "# Expo transform to target variable\n",
    "#y_test_exp = np.exp(y_test)\n",
    "#predictions_exp = np.exp(predictions).round(2)"
   ]
  },
  {
   "cell_type": "code",
   "execution_count": null,
   "metadata": {},
   "outputs": [],
   "source": [
    "#Actual value and the predicted value\n",
    "#mlr_diff = pd.DataFrame({'Actual value': y_test_exp, 'Predicted value': predictions_exp})\n",
    "#mlr_diff.head(20)"
   ]
  },
  {
   "cell_type": "markdown",
   "metadata": {},
   "source": [
    "## Regression Evaluation Metrics\n",
    "\n",
    "\n",
    "Evaluation metrics for regression problems as below:\n",
    "\n",
    "**Coefficient of determination(R2 score)** is used to evaluate the performance of a linear regression model. \n",
    "It is the amount of the variation in the output dependent attribute which is predictable from the input independent variable(s). It is used to check how well-observed results are reproduced by the model, depending on the ratio of total deviation of results described by the model.\n",
    "\n",
    "$$R2= 1- SSres  /  SStot$$\n",
    "\n",
    "**Mean Absolute Error** (MAE): the mean of the absolute value of the errors:\n",
    "\n",
    "$$\\frac 1n\\sum_{i=1}^n|y_i-\\hat{y}_i|$$\n",
    "\n",
    "**Mean Squared Error** (MSE): the mean of the squared errors:\n",
    "\n",
    "$$\\frac 1n\\sum_{i=1}^n(y_i-\\hat{y}_i)^2$$\n",
    "\n",
    "**Root Mean Squared Error** (RMSE): the square root of the mean of the squared errors:\n",
    "\n",
    "$$\\sqrt{\\frac 1n\\sum_{i=1}^n(y_i-\\hat{y}_i)^2}$$\n",
    "\n",
    "**Comparison:**\n",
    "\n",
    "- **MAE** is the easiest to understand, because it's the average error.\n",
    "- **MSE** is more popular than MAE, because MSE \"punishes\" larger errors, which tends to be useful in the real world.\n",
    "- **RMSE** is even more popular than MSE, because RMSE is interpretable in the \"y\" units.\n"
   ]
  },
  {
   "cell_type": "code",
   "execution_count": 49,
   "metadata": {},
   "outputs": [
    {
     "name": "stdout",
     "output_type": "stream",
     "text": [
      "R squared of Training Set: 0.05\n",
      "R squared of Testing Set: 0.00\n",
      "Mean Absolute Error (MAE): 702.7962\n",
      "Root Mean Squared Error (RMSE): 865.0408\n"
     ]
    }
   ],
   "source": [
    "from sklearn import metrics\n",
    "from sklearn.metrics import mean_squared_error\n",
    "\n",
    "print('R squared of Training Set: {:.2f}'.format(lm.score(X_train,y_train)))\n",
    "print('R squared of Testing Set: {:.2f}'.format(lm.score(X_test,y_test)))\n",
    "print('Mean Absolute Error (MAE): {:.4f}'.format(metrics.mean_absolute_error(y_test, predictions)))\n",
    "print('Root Mean Squared Error (RMSE): {:.4f}'.format(np.sqrt(metrics.mean_squared_error(y_test, predictions))))"
   ]
  },
  {
   "cell_type": "markdown",
   "metadata": {},
   "source": [
    "### Record"
   ]
  },
  {
   "cell_type": "code",
   "execution_count": null,
   "metadata": {},
   "outputs": [],
   "source": [
    "# Test1   30/9/2564 16:15  test_size=0.20, random_state=60\n",
    "\n",
    "# Normal linear regression\n",
    "\n",
    "# R squared of Training Set: 39.58\n",
    "# Mean Absolute Error (MAE): 0.6420\n",
    "# Mean Squared Error (MSE): 0.6596\n",
    "# Root Mean Squared Error (RMSE): 0.8122\n",
    "#  "
   ]
  },
  {
   "cell_type": "code",
   "execution_count": null,
   "metadata": {},
   "outputs": [],
   "source": [
    "# Test2  01/10/2021 13.45\n",
    "\n",
    "# Test \"Recursive Feature Elimination: RFE\" result still need all features to use\n",
    "\n",
    "##----Result of testing----##\n",
    "\n",
    "# 1 = 0.2126\n",
    "# 2 = 0.2643\n",
    "# 3 = 0.2476\n",
    "# 4 = 0.2953\n",
    "# 5 = 0.2999\n",
    "# 6 = 0.2816\n",
    "# 7 = 0.2851\n",
    "# 8 = 0.2899\n",
    "# 9 = 0.2897\n",
    "# 10 = 0.2706\n",
    "\n",
    "# Result generated highest score at 0.2431 in 7 Features\n",
    "#[('year', False, 4),\n",
    " #('province_num', False, 6),\n",
    " #('day_raindrop', False, 2),\n",
    " #('quant_rain', False, 3),\n",
    " #('humbidity_perc', False, 5),\n",
    " #('temp_max', True, 1),\n",
    " #('temp_min', True, 1),\n",
    " #('temp_avg', True, 1),\n",
    " #('dead', True, 1),\n",
    " #('dead_perc', True, 1)]\n",
    "\n",
    "# after remove 5 feature we got the result as below\n",
    "# R squared of Training Set: 35.61\n",
    "# Mean Absolute Error (MAE): 0.6306\n",
    "# Mean Squared Error (MSE): 0.6330\n",
    "# Root Mean Squared Error (RMSE): 0.7956\n",
    "\n",
    "# next Plan\n",
    "# 1. Hyperparameter Tuning Using Grid Search Cross-Validation\n",
    "# 2. Search more sample data\n"
   ]
  },
  {
   "cell_type": "code",
   "execution_count": null,
   "metadata": {},
   "outputs": [],
   "source": [
    "# Test3  04/10/2021 16.00\n",
    "\n",
    "###==Hyperparameter Tuning Using Grid Search Cross-Validation==###\n",
    "# n_splits = 5, shuffle = True, random_state = 60\n",
    "\n",
    "\n",
    "# R squared of Training Set: 38.71\n",
    "# Mean Absolute Error (MAE): 0.6383\n",
    "# Mean Squared Error (MSE): 0.6422\n",
    "# Root Mean Squared Error (RMSE): 0.8014\n",
    "\n",
    "# next Plan\n",
    "# 1. Search more sample data"
   ]
  },
  {
   "cell_type": "code",
   "execution_count": null,
   "metadata": {},
   "outputs": [],
   "source": [
    "# Test4 11/10/2021 10:00\n",
    "\n",
    "# Plan changed\n",
    "# 1. take more R2 ,try more than 60"
   ]
  },
  {
   "cell_type": "code",
   "execution_count": null,
   "metadata": {},
   "outputs": [],
   "source": [
    "# Test5 12/10/2021 20:30\n",
    "# Recheck before create report\n",
    "\n",
    "# REF\n",
    "##----Result of training----##\n",
    "# 1 = 0.3624\n",
    "# 2 = 0.5066\n",
    "# 3 = 0.5078\n",
    "# 4 = 0.5103\n",
    "# 5 = 0.5127\n",
    "# 6 = 0.5138\n",
    "# 7 = 0.5138\n",
    "# 8 = 0.5140\n",
    "# 9 = 0.5242\n",
    "# 10 = 0.5246\n",
    "\n",
    "##----Result of testing----##\n",
    "# 1 = 0.5754\n",
    "# 2 = 0.6540\n",
    "# 3 = 0.6500\n",
    "# 4 = 0.6537\n",
    "# 5 = 0.6576 ***\n",
    "# 6 = 0.6539\n",
    "# 7 = 0.6529\n",
    "# 8 = 0.6518\n",
    "# 9 = 0.6401\n",
    "# 10 = 0.6425\n",
    "\n",
    "# Result generated highest score at 0.6576 in 5 Features\n",
    "#[('year', False, 4),\n",
    " #('province_num', False, 6),\n",
    " #('day_raindrop', False, 2),\n",
    " #('quant_rain', False, 3),\n",
    " #('humbidity_perc', False, 5),\n",
    " #('temp_max', True, 1),\n",
    " #('temp_min', True, 1),\n",
    " #('temp_avg', True, 1),\n",
    " #('dead', True, 1),\n",
    " #('dead_perc', True, 1)]\n",
    "    \n",
    "# Result shown that they need more data and more sample size."
   ]
  },
  {
   "cell_type": "code",
   "execution_count": null,
   "metadata": {},
   "outputs": [],
   "source": [
    "# Test6 13/10/2021 09:30\n",
    "# Reporting"
   ]
  },
  {
   "cell_type": "code",
   "execution_count": null,
   "metadata": {},
   "outputs": [],
   "source": [
    "# Create Model Evaluate Report @ 19/10/2021"
   ]
  }
 ],
 "metadata": {
  "kernelspec": {
   "display_name": "Python 3",
   "language": "python",
   "name": "python3"
  },
  "language_info": {
   "codemirror_mode": {
    "name": "ipython",
    "version": 3
   },
   "file_extension": ".py",
   "mimetype": "text/x-python",
   "name": "python",
   "nbconvert_exporter": "python",
   "pygments_lexer": "ipython3",
   "version": "3.8.8"
  }
 },
 "nbformat": 4,
 "nbformat_minor": 4
}
