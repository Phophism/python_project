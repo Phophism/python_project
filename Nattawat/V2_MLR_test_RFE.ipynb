{
 "cells": [
  {
   "cell_type": "markdown",
   "metadata": {},
   "source": [
    "## Degue vs Environmental Analysis.\n",
    "\n",
    "\n",
    "### Import Libraries"
   ]
  },
  {
   "cell_type": "code",
   "execution_count": 1,
   "metadata": {},
   "outputs": [],
   "source": [
    "import pandas as pd\n",
    "import numpy as np\n",
    "import seaborn as sns\n",
    "import matplotlib.pyplot as plt\n",
    "import sklearn\n",
    "%matplotlib inline\n",
    "%config InlineBackend.figure_format = 'retina'\n",
    "\n",
    "import warnings\n",
    "warnings.filterwarnings(\"ignore\")"
   ]
  },
  {
   "cell_type": "code",
   "execution_count": 2,
   "metadata": {},
   "outputs": [
    {
     "name": "stdout",
     "output_type": "stream",
     "text": [
      "pandas version: 1.1.3\n",
      "numpy version: 1.19.2\n",
      "seaborn version: 0.11.0\n",
      "sklearn version: 0.23.2\n"
     ]
    }
   ],
   "source": [
    "# Check version\n",
    "print(f'pandas version: {pd.__version__}')\n",
    "print(f'numpy version: {np.__version__}')\n",
    "print(f'seaborn version: {sns.__version__}')\n",
    "print(f'sklearn version: {sklearn.__version__}')"
   ]
  },
  {
   "cell_type": "markdown",
   "metadata": {},
   "source": [
    "### Input Data from CSV file."
   ]
  },
  {
   "cell_type": "code",
   "execution_count": 3,
   "metadata": {},
   "outputs": [],
   "source": [
    "# Read in Data set\n",
    "df= pd.read_csv('D:Dengi.csv',header= 0,encoding= 'unicode_escape')"
   ]
  },
  {
   "cell_type": "code",
   "execution_count": 4,
   "metadata": {},
   "outputs": [
    {
     "data": {
      "text/html": [
       "<div>\n",
       "<style scoped>\n",
       "    .dataframe tbody tr th:only-of-type {\n",
       "        vertical-align: middle;\n",
       "    }\n",
       "\n",
       "    .dataframe tbody tr th {\n",
       "        vertical-align: top;\n",
       "    }\n",
       "\n",
       "    .dataframe thead th {\n",
       "        text-align: right;\n",
       "    }\n",
       "</style>\n",
       "<table border=\"1\" class=\"dataframe\">\n",
       "  <thead>\n",
       "    <tr style=\"text-align: right;\">\n",
       "      <th></th>\n",
       "      <th>year</th>\n",
       "      <th>province</th>\n",
       "      <th>province_num</th>\n",
       "      <th>day_raindrop</th>\n",
       "      <th>quant_rain</th>\n",
       "      <th>humbidity_perc</th>\n",
       "      <th>temp_max</th>\n",
       "      <th>temp_min</th>\n",
       "      <th>temp_avg</th>\n",
       "      <th>dead</th>\n",
       "      <th>dead_perc</th>\n",
       "      <th>patient</th>\n",
       "    </tr>\n",
       "  </thead>\n",
       "  <tbody>\n",
       "    <tr>\n",
       "      <th>0</th>\n",
       "      <td>2560</td>\n",
       "      <td>¡ÃÐºÕè</td>\n",
       "      <td>2</td>\n",
       "      <td>187</td>\n",
       "      <td>2711.2</td>\n",
       "      <td>84.9</td>\n",
       "      <td>36.6</td>\n",
       "      <td>18.0</td>\n",
       "      <td>26.8</td>\n",
       "      <td>0</td>\n",
       "      <td>0.00</td>\n",
       "      <td>1093</td>\n",
       "    </tr>\n",
       "    <tr>\n",
       "      <th>1</th>\n",
       "      <td>2560</td>\n",
       "      <td>¡ÃØ§à·¾Ï</td>\n",
       "      <td>1</td>\n",
       "      <td>140</td>\n",
       "      <td>2675.8</td>\n",
       "      <td>74.1</td>\n",
       "      <td>39.1</td>\n",
       "      <td>14.6</td>\n",
       "      <td>29.0</td>\n",
       "      <td>14</td>\n",
       "      <td>0.48</td>\n",
       "      <td>2913</td>\n",
       "    </tr>\n",
       "    <tr>\n",
       "      <th>2</th>\n",
       "      <td>2560</td>\n",
       "      <td>¡Ò­¨¹ºØÃÕ</td>\n",
       "      <td>3</td>\n",
       "      <td>116</td>\n",
       "      <td>1230.5</td>\n",
       "      <td>70.1</td>\n",
       "      <td>41.0</td>\n",
       "      <td>13.9</td>\n",
       "      <td>28.8</td>\n",
       "      <td>0</td>\n",
       "      <td>0.00</td>\n",
       "      <td>532</td>\n",
       "    </tr>\n",
       "    <tr>\n",
       "      <th>3</th>\n",
       "      <td>2560</td>\n",
       "      <td>¡ÒÌÊÔ¹¸Øì</td>\n",
       "      <td>4</td>\n",
       "      <td>119</td>\n",
       "      <td>1713.9</td>\n",
       "      <td>77.6</td>\n",
       "      <td>39.5</td>\n",
       "      <td>9.1</td>\n",
       "      <td>26.8</td>\n",
       "      <td>2</td>\n",
       "      <td>0.24</td>\n",
       "      <td>844</td>\n",
       "    </tr>\n",
       "    <tr>\n",
       "      <th>4</th>\n",
       "      <td>2560</td>\n",
       "      <td>¡Óá¾§à¾ªÃ</td>\n",
       "      <td>5</td>\n",
       "      <td>145</td>\n",
       "      <td>1863.8</td>\n",
       "      <td>74.0</td>\n",
       "      <td>39.3</td>\n",
       "      <td>11.9</td>\n",
       "      <td>28.0</td>\n",
       "      <td>0</td>\n",
       "      <td>0.00</td>\n",
       "      <td>592</td>\n",
       "    </tr>\n",
       "  </tbody>\n",
       "</table>\n",
       "</div>"
      ],
      "text/plain": [
       "   year   province  province_num  day_raindrop  quant_rain  humbidity_perc  \\\n",
       "0  2560     ¡ÃÐºÕè             2           187      2711.2            84.9   \n",
       "1  2560   ¡ÃØ§à·¾Ï             1           140      2675.8            74.1   \n",
       "2  2560  ¡Ò­¨¹ºØÃÕ             3           116      1230.5            70.1   \n",
       "3  2560  ¡ÒÌÊÔ¹¸Øì             4           119      1713.9            77.6   \n",
       "4  2560  ¡Óá¾§à¾ªÃ             5           145      1863.8            74.0   \n",
       "\n",
       "   temp_max  temp_min  temp_avg  dead  dead_perc  patient  \n",
       "0      36.6      18.0      26.8     0       0.00     1093  \n",
       "1      39.1      14.6      29.0    14       0.48     2913  \n",
       "2      41.0      13.9      28.8     0       0.00      532  \n",
       "3      39.5       9.1      26.8     2       0.24      844  \n",
       "4      39.3      11.9      28.0     0       0.00      592  "
      ]
     },
     "execution_count": 4,
     "metadata": {},
     "output_type": "execute_result"
    }
   ],
   "source": [
    "df.head()"
   ]
  },
  {
   "cell_type": "code",
   "execution_count": 5,
   "metadata": {},
   "outputs": [],
   "source": [
    "# Tempolary data preparation and just use for build model "
   ]
  },
  {
   "cell_type": "code",
   "execution_count": 6,
   "metadata": {},
   "outputs": [],
   "source": [
    "df = df.drop(columns=['province'])"
   ]
  },
  {
   "cell_type": "code",
   "execution_count": 7,
   "metadata": {},
   "outputs": [
    {
     "data": {
      "text/html": [
       "<div>\n",
       "<style scoped>\n",
       "    .dataframe tbody tr th:only-of-type {\n",
       "        vertical-align: middle;\n",
       "    }\n",
       "\n",
       "    .dataframe tbody tr th {\n",
       "        vertical-align: top;\n",
       "    }\n",
       "\n",
       "    .dataframe thead th {\n",
       "        text-align: right;\n",
       "    }\n",
       "</style>\n",
       "<table border=\"1\" class=\"dataframe\">\n",
       "  <thead>\n",
       "    <tr style=\"text-align: right;\">\n",
       "      <th></th>\n",
       "      <th>year</th>\n",
       "      <th>province_num</th>\n",
       "      <th>day_raindrop</th>\n",
       "      <th>quant_rain</th>\n",
       "      <th>humbidity_perc</th>\n",
       "      <th>temp_max</th>\n",
       "      <th>temp_min</th>\n",
       "      <th>temp_avg</th>\n",
       "      <th>dead</th>\n",
       "      <th>dead_perc</th>\n",
       "      <th>patient</th>\n",
       "    </tr>\n",
       "  </thead>\n",
       "  <tbody>\n",
       "    <tr>\n",
       "      <th>298</th>\n",
       "      <td>2563</td>\n",
       "      <td>68</td>\n",
       "      <td>160</td>\n",
       "      <td>2060.2</td>\n",
       "      <td>82.9</td>\n",
       "      <td>39.5</td>\n",
       "      <td>18.7</td>\n",
       "      <td>29.10</td>\n",
       "      <td>1</td>\n",
       "      <td>0.04</td>\n",
       "      <td>2490</td>\n",
       "    </tr>\n",
       "    <tr>\n",
       "      <th>299</th>\n",
       "      <td>2563</td>\n",
       "      <td>69</td>\n",
       "      <td>110</td>\n",
       "      <td>1391.2</td>\n",
       "      <td>69.4</td>\n",
       "      <td>40.8</td>\n",
       "      <td>11.1</td>\n",
       "      <td>25.95</td>\n",
       "      <td>0</td>\n",
       "      <td>0.00</td>\n",
       "      <td>2834</td>\n",
       "    </tr>\n",
       "    <tr>\n",
       "      <th>300</th>\n",
       "      <td>2563</td>\n",
       "      <td>70</td>\n",
       "      <td>116</td>\n",
       "      <td>1954.6</td>\n",
       "      <td>70.6</td>\n",
       "      <td>41.5</td>\n",
       "      <td>14.2</td>\n",
       "      <td>27.85</td>\n",
       "      <td>1</td>\n",
       "      <td>0.14</td>\n",
       "      <td>733</td>\n",
       "    </tr>\n",
       "    <tr>\n",
       "      <th>301</th>\n",
       "      <td>2563</td>\n",
       "      <td>71</td>\n",
       "      <td>107</td>\n",
       "      <td>1121.0</td>\n",
       "      <td>70.2</td>\n",
       "      <td>43.4</td>\n",
       "      <td>11.4</td>\n",
       "      <td>27.40</td>\n",
       "      <td>0</td>\n",
       "      <td>0.00</td>\n",
       "      <td>743</td>\n",
       "    </tr>\n",
       "    <tr>\n",
       "      <th>302</th>\n",
       "      <td>2563</td>\n",
       "      <td>72</td>\n",
       "      <td>87</td>\n",
       "      <td>904.4</td>\n",
       "      <td>68.4</td>\n",
       "      <td>36.5</td>\n",
       "      <td>18.0</td>\n",
       "      <td>27.25</td>\n",
       "      <td>0</td>\n",
       "      <td>0.00</td>\n",
       "      <td>997</td>\n",
       "    </tr>\n",
       "    <tr>\n",
       "      <th>303</th>\n",
       "      <td>2563</td>\n",
       "      <td>73</td>\n",
       "      <td>111</td>\n",
       "      <td>964.5</td>\n",
       "      <td>68.5</td>\n",
       "      <td>40.6</td>\n",
       "      <td>12.8</td>\n",
       "      <td>26.70</td>\n",
       "      <td>0</td>\n",
       "      <td>0.00</td>\n",
       "      <td>409</td>\n",
       "    </tr>\n",
       "    <tr>\n",
       "      <th>304</th>\n",
       "      <td>2563</td>\n",
       "      <td>74</td>\n",
       "      <td>100</td>\n",
       "      <td>1217.8</td>\n",
       "      <td>69.6</td>\n",
       "      <td>42.5</td>\n",
       "      <td>12.1</td>\n",
       "      <td>27.30</td>\n",
       "      <td>1</td>\n",
       "      <td>0.04</td>\n",
       "      <td>2450</td>\n",
       "    </tr>\n",
       "    <tr>\n",
       "      <th>305</th>\n",
       "      <td>2563</td>\n",
       "      <td>75</td>\n",
       "      <td>86</td>\n",
       "      <td>1086.1</td>\n",
       "      <td>67.5</td>\n",
       "      <td>43.0</td>\n",
       "      <td>14.0</td>\n",
       "      <td>28.50</td>\n",
       "      <td>1</td>\n",
       "      <td>0.17</td>\n",
       "      <td>575</td>\n",
       "    </tr>\n",
       "    <tr>\n",
       "      <th>306</th>\n",
       "      <td>2563</td>\n",
       "      <td>76</td>\n",
       "      <td>92</td>\n",
       "      <td>803.8</td>\n",
       "      <td>71.4</td>\n",
       "      <td>42.5</td>\n",
       "      <td>15.4</td>\n",
       "      <td>28.95</td>\n",
       "      <td>0</td>\n",
       "      <td>0.00</td>\n",
       "      <td>621</td>\n",
       "    </tr>\n",
       "    <tr>\n",
       "      <th>307</th>\n",
       "      <td>2563</td>\n",
       "      <td>77</td>\n",
       "      <td>111</td>\n",
       "      <td>1595.1</td>\n",
       "      <td>68.5</td>\n",
       "      <td>40.6</td>\n",
       "      <td>14.2</td>\n",
       "      <td>27.40</td>\n",
       "      <td>3</td>\n",
       "      <td>0.14</td>\n",
       "      <td>2092</td>\n",
       "    </tr>\n",
       "  </tbody>\n",
       "</table>\n",
       "</div>"
      ],
      "text/plain": [
       "     year  province_num  day_raindrop  quant_rain  humbidity_perc  temp_max  \\\n",
       "298  2563            68           160      2060.2            82.9      39.5   \n",
       "299  2563            69           110      1391.2            69.4      40.8   \n",
       "300  2563            70           116      1954.6            70.6      41.5   \n",
       "301  2563            71           107      1121.0            70.2      43.4   \n",
       "302  2563            72            87       904.4            68.4      36.5   \n",
       "303  2563            73           111       964.5            68.5      40.6   \n",
       "304  2563            74           100      1217.8            69.6      42.5   \n",
       "305  2563            75            86      1086.1            67.5      43.0   \n",
       "306  2563            76            92       803.8            71.4      42.5   \n",
       "307  2563            77           111      1595.1            68.5      40.6   \n",
       "\n",
       "     temp_min  temp_avg  dead  dead_perc  patient  \n",
       "298      18.7     29.10     1       0.04     2490  \n",
       "299      11.1     25.95     0       0.00     2834  \n",
       "300      14.2     27.85     1       0.14      733  \n",
       "301      11.4     27.40     0       0.00      743  \n",
       "302      18.0     27.25     0       0.00      997  \n",
       "303      12.8     26.70     0       0.00      409  \n",
       "304      12.1     27.30     1       0.04     2450  \n",
       "305      14.0     28.50     1       0.17      575  \n",
       "306      15.4     28.95     0       0.00      621  \n",
       "307      14.2     27.40     3       0.14     2092  "
      ]
     },
     "execution_count": 7,
     "metadata": {},
     "output_type": "execute_result"
    }
   ],
   "source": [
    "df.tail(10)"
   ]
  },
  {
   "cell_type": "code",
   "execution_count": 8,
   "metadata": {},
   "outputs": [
    {
     "data": {
      "text/html": [
       "<div>\n",
       "<style scoped>\n",
       "    .dataframe tbody tr th:only-of-type {\n",
       "        vertical-align: middle;\n",
       "    }\n",
       "\n",
       "    .dataframe tbody tr th {\n",
       "        vertical-align: top;\n",
       "    }\n",
       "\n",
       "    .dataframe thead th {\n",
       "        text-align: right;\n",
       "    }\n",
       "</style>\n",
       "<table border=\"1\" class=\"dataframe\">\n",
       "  <thead>\n",
       "    <tr style=\"text-align: right;\">\n",
       "      <th></th>\n",
       "      <th>year</th>\n",
       "      <th>province_num</th>\n",
       "      <th>day_raindrop</th>\n",
       "      <th>quant_rain</th>\n",
       "      <th>humbidity_perc</th>\n",
       "      <th>temp_max</th>\n",
       "      <th>temp_min</th>\n",
       "      <th>temp_avg</th>\n",
       "      <th>dead</th>\n",
       "      <th>dead_perc</th>\n",
       "      <th>patient</th>\n",
       "    </tr>\n",
       "  </thead>\n",
       "  <tbody>\n",
       "    <tr>\n",
       "      <th>count</th>\n",
       "      <td>308.000000</td>\n",
       "      <td>308.00000</td>\n",
       "      <td>308.000000</td>\n",
       "      <td>308.000000</td>\n",
       "      <td>308.000000</td>\n",
       "      <td>308.000000</td>\n",
       "      <td>308.000000</td>\n",
       "      <td>308.00000</td>\n",
       "      <td>308.000000</td>\n",
       "      <td>308.000000</td>\n",
       "      <td>308.000000</td>\n",
       "    </tr>\n",
       "    <tr>\n",
       "      <th>mean</th>\n",
       "      <td>2561.500000</td>\n",
       "      <td>39.00000</td>\n",
       "      <td>124.587662</td>\n",
       "      <td>1585.342857</td>\n",
       "      <td>74.866558</td>\n",
       "      <td>39.389935</td>\n",
       "      <td>14.745455</td>\n",
       "      <td>27.84789</td>\n",
       "      <td>1.233766</td>\n",
       "      <td>0.086786</td>\n",
       "      <td>1356.500000</td>\n",
       "    </tr>\n",
       "    <tr>\n",
       "      <th>std</th>\n",
       "      <td>1.119853</td>\n",
       "      <td>22.26228</td>\n",
       "      <td>30.948556</td>\n",
       "      <td>804.998663</td>\n",
       "      <td>4.432228</td>\n",
       "      <td>2.107856</td>\n",
       "      <td>4.015355</td>\n",
       "      <td>1.06179</td>\n",
       "      <td>2.289452</td>\n",
       "      <td>0.128442</td>\n",
       "      <td>1347.378406</td>\n",
       "    </tr>\n",
       "    <tr>\n",
       "      <th>min</th>\n",
       "      <td>2560.000000</td>\n",
       "      <td>1.00000</td>\n",
       "      <td>75.000000</td>\n",
       "      <td>513.200000</td>\n",
       "      <td>63.900000</td>\n",
       "      <td>34.500000</td>\n",
       "      <td>0.600000</td>\n",
       "      <td>23.60000</td>\n",
       "      <td>0.000000</td>\n",
       "      <td>0.000000</td>\n",
       "      <td>62.000000</td>\n",
       "    </tr>\n",
       "    <tr>\n",
       "      <th>25%</th>\n",
       "      <td>2560.750000</td>\n",
       "      <td>20.00000</td>\n",
       "      <td>100.000000</td>\n",
       "      <td>1057.175000</td>\n",
       "      <td>71.400000</td>\n",
       "      <td>37.900000</td>\n",
       "      <td>11.600000</td>\n",
       "      <td>27.25000</td>\n",
       "      <td>0.000000</td>\n",
       "      <td>0.000000</td>\n",
       "      <td>476.000000</td>\n",
       "    </tr>\n",
       "    <tr>\n",
       "      <th>50%</th>\n",
       "      <td>2561.500000</td>\n",
       "      <td>39.00000</td>\n",
       "      <td>117.000000</td>\n",
       "      <td>1370.850000</td>\n",
       "      <td>74.600000</td>\n",
       "      <td>39.500000</td>\n",
       "      <td>15.000000</td>\n",
       "      <td>27.80000</td>\n",
       "      <td>1.000000</td>\n",
       "      <td>0.030000</td>\n",
       "      <td>894.500000</td>\n",
       "    </tr>\n",
       "    <tr>\n",
       "      <th>75%</th>\n",
       "      <td>2562.250000</td>\n",
       "      <td>58.00000</td>\n",
       "      <td>142.250000</td>\n",
       "      <td>1845.500000</td>\n",
       "      <td>77.625000</td>\n",
       "      <td>40.925000</td>\n",
       "      <td>18.000000</td>\n",
       "      <td>28.60000</td>\n",
       "      <td>1.000000</td>\n",
       "      <td>0.130000</td>\n",
       "      <td>1738.750000</td>\n",
       "    </tr>\n",
       "    <tr>\n",
       "      <th>max</th>\n",
       "      <td>2563.000000</td>\n",
       "      <td>77.00000</td>\n",
       "      <td>220.000000</td>\n",
       "      <td>5287.300000</td>\n",
       "      <td>85.000000</td>\n",
       "      <td>43.400000</td>\n",
       "      <td>23.400000</td>\n",
       "      <td>31.30000</td>\n",
       "      <td>19.000000</td>\n",
       "      <td>0.880000</td>\n",
       "      <td>8279.000000</td>\n",
       "    </tr>\n",
       "  </tbody>\n",
       "</table>\n",
       "</div>"
      ],
      "text/plain": [
       "              year  province_num  day_raindrop   quant_rain  humbidity_perc  \\\n",
       "count   308.000000     308.00000    308.000000   308.000000      308.000000   \n",
       "mean   2561.500000      39.00000    124.587662  1585.342857       74.866558   \n",
       "std       1.119853      22.26228     30.948556   804.998663        4.432228   \n",
       "min    2560.000000       1.00000     75.000000   513.200000       63.900000   \n",
       "25%    2560.750000      20.00000    100.000000  1057.175000       71.400000   \n",
       "50%    2561.500000      39.00000    117.000000  1370.850000       74.600000   \n",
       "75%    2562.250000      58.00000    142.250000  1845.500000       77.625000   \n",
       "max    2563.000000      77.00000    220.000000  5287.300000       85.000000   \n",
       "\n",
       "         temp_max    temp_min   temp_avg        dead   dead_perc      patient  \n",
       "count  308.000000  308.000000  308.00000  308.000000  308.000000   308.000000  \n",
       "mean    39.389935   14.745455   27.84789    1.233766    0.086786  1356.500000  \n",
       "std      2.107856    4.015355    1.06179    2.289452    0.128442  1347.378406  \n",
       "min     34.500000    0.600000   23.60000    0.000000    0.000000    62.000000  \n",
       "25%     37.900000   11.600000   27.25000    0.000000    0.000000   476.000000  \n",
       "50%     39.500000   15.000000   27.80000    1.000000    0.030000   894.500000  \n",
       "75%     40.925000   18.000000   28.60000    1.000000    0.130000  1738.750000  \n",
       "max     43.400000   23.400000   31.30000   19.000000    0.880000  8279.000000  "
      ]
     },
     "execution_count": 8,
     "metadata": {},
     "output_type": "execute_result"
    }
   ],
   "source": [
    "df.describe()"
   ]
  },
  {
   "cell_type": "code",
   "execution_count": 9,
   "metadata": {},
   "outputs": [
    {
     "data": {
      "image/png": "[encoded data removed]",
      "text/plain": [
       "<Figure size 432x288 with 1 Axes>"
      ]
     },
     "metadata": {
      "image/png": {
       "height": 248,
       "width": 381
      },
      "needs_background": "light"
     },
     "output_type": "display_data"
    }
   ],
   "source": [
    "boxplot = df.boxplot(column=['patient'])"
   ]
  },
  {
   "cell_type": "code",
   "execution_count": 10,
   "metadata": {},
   "outputs": [],
   "source": [
    "# Greater than 50000 replace to mean value.\n",
    "\n",
    "#df['patient'] = np.where(df['patient'] > 5000, 4110, df['patient'])"
   ]
  },
  {
   "cell_type": "code",
   "execution_count": 11,
   "metadata": {},
   "outputs": [],
   "source": [
    "#boxplot = df.boxplot(column=['patient'])"
   ]
  },
  {
   "cell_type": "code",
   "execution_count": 12,
   "metadata": {},
   "outputs": [
    {
     "data": {
      "text/plain": [
       "Index(['year', 'province_num', 'day_raindrop', 'quant_rain', 'humbidity_perc',\n",
       "       'temp_max', 'temp_min', 'temp_avg', 'dead', 'dead_perc', 'patient'],\n",
       "      dtype='object')"
      ]
     },
     "execution_count": 12,
     "metadata": {},
     "output_type": "execute_result"
    }
   ],
   "source": [
    "df.columns"
   ]
  },
  {
   "cell_type": "code",
   "execution_count": 13,
   "metadata": {},
   "outputs": [],
   "source": [
    "# Transformation\n",
    "df_num  = df[['day_raindrop', 'quant_rain', 'humbidity_perc','temp_max', 'temp_min', 'temp_avg', 'dead', 'dead_perc']]"
   ]
  },
  {
   "cell_type": "code",
   "execution_count": 14,
   "metadata": {},
   "outputs": [],
   "source": [
    "# Choice of Numerical varialable.\n",
    "\n",
    "#from sklearn.preprocessing import StandardScaler\n",
    "from sklearn.preprocessing import MinMaxScaler"
   ]
  },
  {
   "cell_type": "code",
   "execution_count": 15,
   "metadata": {},
   "outputs": [
    {
     "data": {
      "text/html": [
       "<div>\n",
       "<style scoped>\n",
       "    .dataframe tbody tr th:only-of-type {\n",
       "        vertical-align: middle;\n",
       "    }\n",
       "\n",
       "    .dataframe tbody tr th {\n",
       "        vertical-align: top;\n",
       "    }\n",
       "\n",
       "    .dataframe thead th {\n",
       "        text-align: right;\n",
       "    }\n",
       "</style>\n",
       "<table border=\"1\" class=\"dataframe\">\n",
       "  <thead>\n",
       "    <tr style=\"text-align: right;\">\n",
       "      <th></th>\n",
       "      <th>day_raindrop</th>\n",
       "      <th>quant_rain</th>\n",
       "      <th>humbidity_perc</th>\n",
       "      <th>temp_max</th>\n",
       "      <th>temp_min</th>\n",
       "      <th>temp_avg</th>\n",
       "      <th>dead</th>\n",
       "      <th>dead_perc</th>\n",
       "    </tr>\n",
       "  </thead>\n",
       "  <tbody>\n",
       "    <tr>\n",
       "      <th>303</th>\n",
       "      <td>0.248276</td>\n",
       "      <td>0.094531</td>\n",
       "      <td>0.218009</td>\n",
       "      <td>0.685393</td>\n",
       "      <td>0.535088</td>\n",
       "      <td>0.402597</td>\n",
       "      <td>0.000000</td>\n",
       "      <td>0.000000</td>\n",
       "    </tr>\n",
       "    <tr>\n",
       "      <th>304</th>\n",
       "      <td>0.172414</td>\n",
       "      <td>0.147588</td>\n",
       "      <td>0.270142</td>\n",
       "      <td>0.898876</td>\n",
       "      <td>0.504386</td>\n",
       "      <td>0.480519</td>\n",
       "      <td>0.052632</td>\n",
       "      <td>0.045455</td>\n",
       "    </tr>\n",
       "    <tr>\n",
       "      <th>305</th>\n",
       "      <td>0.075862</td>\n",
       "      <td>0.120002</td>\n",
       "      <td>0.170616</td>\n",
       "      <td>0.955056</td>\n",
       "      <td>0.587719</td>\n",
       "      <td>0.636364</td>\n",
       "      <td>0.052632</td>\n",
       "      <td>0.193182</td>\n",
       "    </tr>\n",
       "    <tr>\n",
       "      <th>306</th>\n",
       "      <td>0.117241</td>\n",
       "      <td>0.060870</td>\n",
       "      <td>0.355450</td>\n",
       "      <td>0.898876</td>\n",
       "      <td>0.649123</td>\n",
       "      <td>0.694805</td>\n",
       "      <td>0.000000</td>\n",
       "      <td>0.000000</td>\n",
       "    </tr>\n",
       "    <tr>\n",
       "      <th>307</th>\n",
       "      <td>0.248276</td>\n",
       "      <td>0.226619</td>\n",
       "      <td>0.218009</td>\n",
       "      <td>0.685393</td>\n",
       "      <td>0.596491</td>\n",
       "      <td>0.493506</td>\n",
       "      <td>0.157895</td>\n",
       "      <td>0.159091</td>\n",
       "    </tr>\n",
       "  </tbody>\n",
       "</table>\n",
       "</div>"
      ],
      "text/plain": [
       "     day_raindrop  quant_rain  humbidity_perc  temp_max  temp_min  temp_avg  \\\n",
       "303      0.248276    0.094531        0.218009  0.685393  0.535088  0.402597   \n",
       "304      0.172414    0.147588        0.270142  0.898876  0.504386  0.480519   \n",
       "305      0.075862    0.120002        0.170616  0.955056  0.587719  0.636364   \n",
       "306      0.117241    0.060870        0.355450  0.898876  0.649123  0.694805   \n",
       "307      0.248276    0.226619        0.218009  0.685393  0.596491  0.493506   \n",
       "\n",
       "         dead  dead_perc  \n",
       "303  0.000000   0.000000  \n",
       "304  0.052632   0.045455  \n",
       "305  0.052632   0.193182  \n",
       "306  0.000000   0.000000  \n",
       "307  0.157895   0.159091  "
      ]
     },
     "metadata": {},
     "output_type": "display_data"
    }
   ],
   "source": [
    "# Version1: select MinMax\n",
    "\n",
    "num_column = df_num.dtypes[df_num.dtypes != 'object'].index\n",
    "\n",
    "# Initialize a scaler, then apply it to the features\n",
    "scaler = MinMaxScaler() # default=(0, 1)\n",
    "\n",
    "std_transform_feat = pd.DataFrame(data = df_num)\n",
    "std_transform_feat[num_column] = scaler.fit_transform(df_num[num_column])\n",
    "\n",
    "# Show an example of a record with scaling applied\n",
    "display(std_transform_feat.tail())"
   ]
  },
  {
   "cell_type": "code",
   "execution_count": 16,
   "metadata": {},
   "outputs": [],
   "source": [
    "## log transform to target variable impove RMSE value.\n",
    "\n",
    "#df['patient'] = np.log(df['patient'])"
   ]
  },
  {
   "cell_type": "code",
   "execution_count": 17,
   "metadata": {},
   "outputs": [],
   "source": [
    "df_cat = df[['year', 'province_num']]\n",
    "y_tar = df[['patient']]"
   ]
  },
  {
   "cell_type": "code",
   "execution_count": 18,
   "metadata": {},
   "outputs": [],
   "source": [
    "## Concat all numerical feature to DataFrame\n",
    "df_pre = pd.concat((df_cat, std_transform_feat,y_tar),axis=1)"
   ]
  },
  {
   "cell_type": "code",
   "execution_count": 19,
   "metadata": {},
   "outputs": [
    {
     "data": {
      "text/html": [
       "<div>\n",
       "<style scoped>\n",
       "    .dataframe tbody tr th:only-of-type {\n",
       "        vertical-align: middle;\n",
       "    }\n",
       "\n",
       "    .dataframe tbody tr th {\n",
       "        vertical-align: top;\n",
       "    }\n",
       "\n",
       "    .dataframe thead th {\n",
       "        text-align: right;\n",
       "    }\n",
       "</style>\n",
       "<table border=\"1\" class=\"dataframe\">\n",
       "  <thead>\n",
       "    <tr style=\"text-align: right;\">\n",
       "      <th></th>\n",
       "      <th>year</th>\n",
       "      <th>province_num</th>\n",
       "      <th>day_raindrop</th>\n",
       "      <th>quant_rain</th>\n",
       "      <th>humbidity_perc</th>\n",
       "      <th>temp_max</th>\n",
       "      <th>temp_min</th>\n",
       "      <th>temp_avg</th>\n",
       "      <th>dead</th>\n",
       "      <th>dead_perc</th>\n",
       "      <th>patient</th>\n",
       "    </tr>\n",
       "  </thead>\n",
       "  <tbody>\n",
       "    <tr>\n",
       "      <th>count</th>\n",
       "      <td>308.00</td>\n",
       "      <td>308.00</td>\n",
       "      <td>308.00</td>\n",
       "      <td>308.00</td>\n",
       "      <td>308.00</td>\n",
       "      <td>308.00</td>\n",
       "      <td>308.00</td>\n",
       "      <td>308.00</td>\n",
       "      <td>308.00</td>\n",
       "      <td>308.00</td>\n",
       "      <td>308.00</td>\n",
       "    </tr>\n",
       "    <tr>\n",
       "      <th>mean</th>\n",
       "      <td>2561.50</td>\n",
       "      <td>39.00</td>\n",
       "      <td>0.34</td>\n",
       "      <td>0.22</td>\n",
       "      <td>0.52</td>\n",
       "      <td>0.55</td>\n",
       "      <td>0.62</td>\n",
       "      <td>0.55</td>\n",
       "      <td>0.06</td>\n",
       "      <td>0.10</td>\n",
       "      <td>1356.50</td>\n",
       "    </tr>\n",
       "    <tr>\n",
       "      <th>std</th>\n",
       "      <td>1.12</td>\n",
       "      <td>22.26</td>\n",
       "      <td>0.21</td>\n",
       "      <td>0.17</td>\n",
       "      <td>0.21</td>\n",
       "      <td>0.24</td>\n",
       "      <td>0.18</td>\n",
       "      <td>0.14</td>\n",
       "      <td>0.12</td>\n",
       "      <td>0.15</td>\n",
       "      <td>1347.38</td>\n",
       "    </tr>\n",
       "    <tr>\n",
       "      <th>min</th>\n",
       "      <td>2560.00</td>\n",
       "      <td>1.00</td>\n",
       "      <td>0.00</td>\n",
       "      <td>0.00</td>\n",
       "      <td>0.00</td>\n",
       "      <td>0.00</td>\n",
       "      <td>0.00</td>\n",
       "      <td>0.00</td>\n",
       "      <td>0.00</td>\n",
       "      <td>0.00</td>\n",
       "      <td>62.00</td>\n",
       "    </tr>\n",
       "    <tr>\n",
       "      <th>25%</th>\n",
       "      <td>2560.75</td>\n",
       "      <td>20.00</td>\n",
       "      <td>0.17</td>\n",
       "      <td>0.11</td>\n",
       "      <td>0.36</td>\n",
       "      <td>0.38</td>\n",
       "      <td>0.48</td>\n",
       "      <td>0.47</td>\n",
       "      <td>0.00</td>\n",
       "      <td>0.00</td>\n",
       "      <td>476.00</td>\n",
       "    </tr>\n",
       "    <tr>\n",
       "      <th>50%</th>\n",
       "      <td>2561.50</td>\n",
       "      <td>39.00</td>\n",
       "      <td>0.29</td>\n",
       "      <td>0.18</td>\n",
       "      <td>0.51</td>\n",
       "      <td>0.56</td>\n",
       "      <td>0.63</td>\n",
       "      <td>0.55</td>\n",
       "      <td>0.05</td>\n",
       "      <td>0.03</td>\n",
       "      <td>894.50</td>\n",
       "    </tr>\n",
       "    <tr>\n",
       "      <th>75%</th>\n",
       "      <td>2562.25</td>\n",
       "      <td>58.00</td>\n",
       "      <td>0.46</td>\n",
       "      <td>0.28</td>\n",
       "      <td>0.65</td>\n",
       "      <td>0.72</td>\n",
       "      <td>0.76</td>\n",
       "      <td>0.65</td>\n",
       "      <td>0.05</td>\n",
       "      <td>0.15</td>\n",
       "      <td>1738.75</td>\n",
       "    </tr>\n",
       "    <tr>\n",
       "      <th>max</th>\n",
       "      <td>2563.00</td>\n",
       "      <td>77.00</td>\n",
       "      <td>1.00</td>\n",
       "      <td>1.00</td>\n",
       "      <td>1.00</td>\n",
       "      <td>1.00</td>\n",
       "      <td>1.00</td>\n",
       "      <td>1.00</td>\n",
       "      <td>1.00</td>\n",
       "      <td>1.00</td>\n",
       "      <td>8279.00</td>\n",
       "    </tr>\n",
       "  </tbody>\n",
       "</table>\n",
       "</div>"
      ],
      "text/plain": [
       "          year  province_num  day_raindrop  quant_rain  humbidity_perc  \\\n",
       "count   308.00        308.00        308.00      308.00          308.00   \n",
       "mean   2561.50         39.00          0.34        0.22            0.52   \n",
       "std       1.12         22.26          0.21        0.17            0.21   \n",
       "min    2560.00          1.00          0.00        0.00            0.00   \n",
       "25%    2560.75         20.00          0.17        0.11            0.36   \n",
       "50%    2561.50         39.00          0.29        0.18            0.51   \n",
       "75%    2562.25         58.00          0.46        0.28            0.65   \n",
       "max    2563.00         77.00          1.00        1.00            1.00   \n",
       "\n",
       "       temp_max  temp_min  temp_avg    dead  dead_perc  patient  \n",
       "count    308.00    308.00    308.00  308.00     308.00   308.00  \n",
       "mean       0.55      0.62      0.55    0.06       0.10  1356.50  \n",
       "std        0.24      0.18      0.14    0.12       0.15  1347.38  \n",
       "min        0.00      0.00      0.00    0.00       0.00    62.00  \n",
       "25%        0.38      0.48      0.47    0.00       0.00   476.00  \n",
       "50%        0.56      0.63      0.55    0.05       0.03   894.50  \n",
       "75%        0.72      0.76      0.65    0.05       0.15  1738.75  \n",
       "max        1.00      1.00      1.00    1.00       1.00  8279.00  "
      ]
     },
     "execution_count": 19,
     "metadata": {},
     "output_type": "execute_result"
    }
   ],
   "source": [
    "df_pre.describe().round(2)"
   ]
  },
  {
   "cell_type": "code",
   "execution_count": 20,
   "metadata": {},
   "outputs": [],
   "source": [
    "## Visaulization corriration in gharph.\n",
    "\n",
    "#sns.pairplot(df_pre)"
   ]
  },
  {
   "cell_type": "code",
   "execution_count": 21,
   "metadata": {},
   "outputs": [],
   "source": [
    "## Correlation between different variables\n",
    "\n",
    "#corr = df_pre.corr()\n",
    "\n",
    "## Set up the matplotlib plot configuration\n",
    "\n",
    "#f, ax = plt.subplots(figsize=(12, 10))\n",
    "\n",
    "## Generate a mask for upper traingle\n",
    "\n",
    "#mask = np.triu(np.ones_like(corr, dtype=bool))\n",
    "\n",
    "## Configure a custom diverging colormap\n",
    "\n",
    "#cmap = sns.diverging_palette(230, 20, as_cmap=True)\n",
    "\n",
    "## Draw the heatmap\n",
    "\n",
    "#sns.heatmap(corr, annot=True, mask = mask, cmap=cmap)"
   ]
  },
  {
   "cell_type": "markdown",
   "metadata": {},
   "source": [
    "# Building Linear Regression Model\n",
    "\n",
    "1. Training a Linear Regression Model\n",
    "2. Train Test Split\n",
    "3. Creating and Training the Model\n",
    "4. Model Evaluation\n",
    "\n",
    "\n",
    "## Training a Linear Regression Model"
   ]
  },
  {
   "cell_type": "code",
   "execution_count": 22,
   "metadata": {},
   "outputs": [
    {
     "data": {
      "text/plain": [
       "Index(['year', 'province_num', 'day_raindrop', 'quant_rain', 'humbidity_perc',\n",
       "       'temp_max', 'temp_min', 'temp_avg', 'dead', 'dead_perc', 'patient'],\n",
       "      dtype='object')"
      ]
     },
     "execution_count": 22,
     "metadata": {},
     "output_type": "execute_result"
    }
   ],
   "source": [
    "df_pre.columns"
   ]
  },
  {
   "cell_type": "code",
   "execution_count": 23,
   "metadata": {},
   "outputs": [],
   "source": [
    "X = df_pre[['year', 'province_num', 'day_raindrop', 'quant_rain', 'humbidity_perc',\n",
    "       'temp_max', 'temp_min', 'temp_avg', 'dead', 'dead_perc'\n",
    "       ]]\n",
    "y = df_pre['patient']"
   ]
  },
  {
   "cell_type": "markdown",
   "metadata": {},
   "source": [
    "## Train Test Split\n",
    "\n",
    "This step we will separate data to train (training set) and การ test (testing set)\n",
    "* training set use for train model \n",
    "* testing set use for  test model or call that Evaluation \n"
   ]
  },
  {
   "cell_type": "code",
   "execution_count": 24,
   "metadata": {},
   "outputs": [],
   "source": [
    "from sklearn.model_selection import train_test_split"
   ]
  },
  {
   "cell_type": "code",
   "execution_count": 25,
   "metadata": {},
   "outputs": [],
   "source": [
    "# Train dataset 80% and Test dataset 20%.\n",
    "X_train, X_test, y_train, y_test = train_test_split(X, y, test_size=0.20, random_state=60)"
   ]
  },
  {
   "cell_type": "markdown",
   "metadata": {},
   "source": [
    "## Creating and Training the Model"
   ]
  },
  {
   "cell_type": "code",
   "execution_count": 26,
   "metadata": {},
   "outputs": [],
   "source": [
    "from sklearn.linear_model import LinearRegression"
   ]
  },
  {
   "cell_type": "code",
   "execution_count": 27,
   "metadata": {},
   "outputs": [],
   "source": [
    "# Try to use simple model: Linear Regression.\n",
    "lm = LinearRegression()"
   ]
  },
  {
   "cell_type": "markdown",
   "metadata": {},
   "source": [
    "### Recursive Feature Elimination"
   ]
  },
  {
   "cell_type": "code",
   "execution_count": 28,
   "metadata": {},
   "outputs": [],
   "source": [
    "# Import libraries for tuning hyperparameter\n",
    "\n",
    "from sklearn.preprocessing import scale\n",
    "from sklearn.feature_selection import RFE\n",
    "from sklearn.model_selection import cross_val_score\n",
    "from sklearn.model_selection import KFold\n",
    "from sklearn.model_selection import GridSearchCV\n",
    "from sklearn.pipeline import make_pipeline"
   ]
  },
  {
   "cell_type": "code",
   "execution_count": 29,
   "metadata": {},
   "outputs": [],
   "source": [
    "# Using RFE\n",
    "# Note that the number of features to be used in the model is a hyperparameter."
   ]
  },
  {
   "cell_type": "code",
   "execution_count": 30,
   "metadata": {},
   "outputs": [
    {
     "data": {
      "text/plain": [
       "10"
      ]
     },
     "execution_count": 30,
     "metadata": {},
     "output_type": "execute_result"
    }
   ],
   "source": [
    "# num of max features\n",
    "len(X_train.columns)"
   ]
  },
  {
   "cell_type": "code",
   "execution_count": 31,
   "metadata": {},
   "outputs": [],
   "source": [
    "# first model with an arbitrary choice of n_features\n",
    "# running RFE with number of features= X\n",
    "\n",
    "rfe = RFE(lm, n_features_to_select=5)             \n",
    "rfe = rfe.fit(X_train, y_train)"
   ]
  },
  {
   "cell_type": "code",
   "execution_count": 32,
   "metadata": {},
   "outputs": [
    {
     "data": {
      "text/plain": [
       "[('year', False, 3),\n",
       " ('province_num', False, 6),\n",
       " ('day_raindrop', True, 1),\n",
       " ('quant_rain', True, 1),\n",
       " ('humbidity_perc', True, 1),\n",
       " ('temp_max', False, 4),\n",
       " ('temp_min', False, 2),\n",
       " ('temp_avg', False, 5),\n",
       " ('dead', True, 1),\n",
       " ('dead_perc', True, 1)]"
      ]
     },
     "execution_count": 32,
     "metadata": {},
     "output_type": "execute_result"
    }
   ],
   "source": [
    "# tuples of (feature name, whether selected, ranking)\n",
    "# **note** that the 'rank' is > 1 for non-selected features\n",
    "\n",
    "list(zip(X_train.columns,rfe.support_,rfe.ranking_))"
   ]
  },
  {
   "cell_type": "code",
   "execution_count": 33,
   "metadata": {},
   "outputs": [
    {
     "name": "stdout",
     "output_type": "stream",
     "text": [
      "0.32225923461280814\n"
     ]
    }
   ],
   "source": [
    "# predict prices of X_test\n",
    "\n",
    "predictions = rfe.predict(X_test)\n",
    "\n",
    "# evaluate the model on test set\n",
    "\n",
    "r2 = sklearn.metrics.r2_score(y_test, predictions)\n",
    "print(r2)"
   ]
  },
  {
   "cell_type": "code",
   "execution_count": 34,
   "metadata": {},
   "outputs": [],
   "source": [
    "##----Result of testing----##\n",
    "\n",
    "# 1 = 0.2126\n",
    "# 2 = 0.2643\n",
    "# 3 = 0.2476\n",
    "# 4 = 0.2953\n",
    "# 5 = 0.2999\n",
    "# 6 = 0.2816\n",
    "# 7 = 0.2851\n",
    "# 8 = 0.2899\n",
    "# 9 = 0.2897\n",
    "# 10 = 0.2706\n",
    "\n",
    "# Result generated highest score at 0.2431 in 7 Features\n",
    "#[('year', False, 4),\n",
    " #('province_num', False, 6),\n",
    " #('day_raindrop', False, 2),\n",
    " #('quant_rain', False, 3),\n",
    " #('humbidity_perc', False, 5),\n",
    " #('temp_max', True, 1),\n",
    " #('temp_min', True, 1),\n",
    " #('temp_avg', True, 1),\n",
    " #('dead', True, 1),\n",
    " #('dead_perc', True, 1)]\n",
    "    \n",
    "# Result shown that they need more data and more sample size."
   ]
  },
  {
   "cell_type": "markdown",
   "metadata": {},
   "source": [
    "## Model Evaluation\n",
    "\n",
    "evaluate model by visit coefficients of each item"
   ]
  },
  {
   "cell_type": "code",
   "execution_count": 35,
   "metadata": {},
   "outputs": [
    {
     "name": "stdout",
     "output_type": "stream",
     "text": [
      "Coefficient of determination(R_squar_score): 0.5566894947559206\n"
     ]
    }
   ],
   "source": [
    "r_sq = rfe.score(X_train,y_train)\n",
    "print('Coefficient of determination(R_squar_score):', r_sq)"
   ]
  },
  {
   "cell_type": "code",
   "execution_count": 36,
   "metadata": {},
   "outputs": [],
   "source": [
    "# print the intercept\n",
    "#print(rfe.intercept_)"
   ]
  },
  {
   "cell_type": "code",
   "execution_count": 37,
   "metadata": {},
   "outputs": [],
   "source": [
    "# create Data Frame \n",
    "# Data is lm.coef_\n",
    "# labal is name of X.columns\n",
    "# Column is'Coefficient'\n",
    "#coeff_df = pd.DataFrame(rfe.coef_ , X.columns , columns=['Coefficient'])\n",
    "#coeff_df"
   ]
  },
  {
   "cell_type": "markdown",
   "metadata": {},
   "source": [
    "## Predictions from our Model"
   ]
  },
  {
   "cell_type": "code",
   "execution_count": 38,
   "metadata": {},
   "outputs": [],
   "source": [
    "# Predicting X test\n",
    "predictions = rfe.predict(X_test)"
   ]
  },
  {
   "cell_type": "code",
   "execution_count": 39,
   "metadata": {},
   "outputs": [
    {
     "data": {
      "text/plain": [
       "[<matplotlib.lines.Line2D at 0x1a22ac93d30>]"
      ]
     },
     "execution_count": 39,
     "metadata": {},
     "output_type": "execute_result"
    },
    {
     "data": {
      "image/png": "[encoded data removed]",
      "text/plain": [
       "<Figure size 432x288 with 1 Axes>"
      ]
     },
     "metadata": {
      "image/png": {
       "height": 261,
       "width": 403
      },
      "needs_background": "light"
     },
     "output_type": "display_data"
    }
   ],
   "source": [
    "# plot predictions against actual\n",
    "\n",
    "plot_k = sns.scatterplot(y_test,predictions)\n",
    "plot_k.set(xlabel='Actual', ylabel='Prediction')\n",
    "# generate and graph y = x line\n",
    "x_plot = np.linspace(3,10,10000)\n",
    "y_plot = x_plot\n",
    "plt.plot(x_plot, y_plot, color='r')\n",
    "\n",
    "# Simulate linear line"
   ]
  },
  {
   "cell_type": "markdown",
   "metadata": {},
   "source": [
    "## Prediction"
   ]
  },
  {
   "cell_type": "code",
   "execution_count": 40,
   "metadata": {},
   "outputs": [
    {
     "name": "stdout",
     "output_type": "stream",
     "text": [
      "Actual Patient 965.0\n",
      "Predicted Patient 1292.9012256782983\n"
     ]
    },
    {
     "data": {
      "image/png": "[encoded data removed]",
      "text/plain": [
       "<Figure size 432x288 with 1 Axes>"
      ]
     },
     "metadata": {
      "image/png": {
       "height": 248,
       "width": 381
      },
      "needs_background": "light"
     },
     "output_type": "display_data"
    }
   ],
   "source": [
    "# Choose one of sample to predict and see result\n",
    "\n",
    "# input : X_test.loc[[random sample for prediction test]]\n",
    "    \n",
    "y_pred = rfe.predict(X_test.loc[[112]])\n",
    "\n",
    "plt.scatter(y_test.loc[[112]],  y_pred)\n",
    "print( \"Actual Patient\",float(y_test.loc[[112]] ) )\n",
    "print( \"Predicted Patient\", float( y_pred))"
   ]
  },
  {
   "cell_type": "markdown",
   "metadata": {},
   "source": [
    "**Residual Histogram**"
   ]
  },
  {
   "cell_type": "code",
   "execution_count": 41,
   "metadata": {},
   "outputs": [
    {
     "data": {
      "image/png": "[encoded data removed]",
      "text/plain": [
       "<Figure size 432x288 with 1 Axes>"
      ]
     },
     "metadata": {
      "image/png": {
       "height": 261,
       "width": 404
      },
      "needs_background": "light"
     },
     "output_type": "display_data"
    }
   ],
   "source": [
    "sns.distplot((y_test-predictions),bins=20);"
   ]
  },
  {
   "cell_type": "markdown",
   "metadata": {},
   "source": [
    "### Actual value and the predicted value"
   ]
  },
  {
   "cell_type": "code",
   "execution_count": 42,
   "metadata": {},
   "outputs": [
    {
     "data": {
      "text/html": [
       "<div>\n",
       "<style scoped>\n",
       "    .dataframe tbody tr th:only-of-type {\n",
       "        vertical-align: middle;\n",
       "    }\n",
       "\n",
       "    .dataframe tbody tr th {\n",
       "        vertical-align: top;\n",
       "    }\n",
       "\n",
       "    .dataframe thead th {\n",
       "        text-align: right;\n",
       "    }\n",
       "</style>\n",
       "<table border=\"1\" class=\"dataframe\">\n",
       "  <thead>\n",
       "    <tr style=\"text-align: right;\">\n",
       "      <th></th>\n",
       "      <th>Actual value</th>\n",
       "      <th>Predicted value</th>\n",
       "    </tr>\n",
       "  </thead>\n",
       "  <tbody>\n",
       "    <tr>\n",
       "      <th>155</th>\n",
       "      <td>4773</td>\n",
       "      <td>5332.047090</td>\n",
       "    </tr>\n",
       "    <tr>\n",
       "      <th>149</th>\n",
       "      <td>179</td>\n",
       "      <td>1046.701907</td>\n",
       "    </tr>\n",
       "    <tr>\n",
       "      <th>299</th>\n",
       "      <td>2834</td>\n",
       "      <td>1012.553410</td>\n",
       "    </tr>\n",
       "    <tr>\n",
       "      <th>203</th>\n",
       "      <td>1015</td>\n",
       "      <td>1075.814899</td>\n",
       "    </tr>\n",
       "    <tr>\n",
       "      <th>92</th>\n",
       "      <td>232</td>\n",
       "      <td>1556.066924</td>\n",
       "    </tr>\n",
       "    <tr>\n",
       "      <th>216</th>\n",
       "      <td>1894</td>\n",
       "      <td>1997.774548</td>\n",
       "    </tr>\n",
       "    <tr>\n",
       "      <th>15</th>\n",
       "      <td>62</td>\n",
       "      <td>1507.934381</td>\n",
       "    </tr>\n",
       "    <tr>\n",
       "      <th>187</th>\n",
       "      <td>229</td>\n",
       "      <td>-1789.989564</td>\n",
       "    </tr>\n",
       "    <tr>\n",
       "      <th>204</th>\n",
       "      <td>1598</td>\n",
       "      <td>1552.298350</td>\n",
       "    </tr>\n",
       "    <tr>\n",
       "      <th>239</th>\n",
       "      <td>2359</td>\n",
       "      <td>1426.656531</td>\n",
       "    </tr>\n",
       "    <tr>\n",
       "      <th>293</th>\n",
       "      <td>1059</td>\n",
       "      <td>1359.014151</td>\n",
       "    </tr>\n",
       "    <tr>\n",
       "      <th>240</th>\n",
       "      <td>808</td>\n",
       "      <td>997.861757</td>\n",
       "    </tr>\n",
       "    <tr>\n",
       "      <th>201</th>\n",
       "      <td>2878</td>\n",
       "      <td>1408.322301</td>\n",
       "    </tr>\n",
       "    <tr>\n",
       "      <th>151</th>\n",
       "      <td>405</td>\n",
       "      <td>1065.582590</td>\n",
       "    </tr>\n",
       "    <tr>\n",
       "      <th>257</th>\n",
       "      <td>840</td>\n",
       "      <td>1016.371193</td>\n",
       "    </tr>\n",
       "    <tr>\n",
       "      <th>29</th>\n",
       "      <td>739</td>\n",
       "      <td>1033.551424</td>\n",
       "    </tr>\n",
       "    <tr>\n",
       "      <th>67</th>\n",
       "      <td>2190</td>\n",
       "      <td>2278.992091</td>\n",
       "    </tr>\n",
       "    <tr>\n",
       "      <th>219</th>\n",
       "      <td>833</td>\n",
       "      <td>1006.111947</td>\n",
       "    </tr>\n",
       "    <tr>\n",
       "      <th>48</th>\n",
       "      <td>208</td>\n",
       "      <td>1537.659761</td>\n",
       "    </tr>\n",
       "    <tr>\n",
       "      <th>289</th>\n",
       "      <td>539</td>\n",
       "      <td>1291.374086</td>\n",
       "    </tr>\n",
       "  </tbody>\n",
       "</table>\n",
       "</div>"
      ],
      "text/plain": [
       "     Actual value  Predicted value\n",
       "155          4773      5332.047090\n",
       "149           179      1046.701907\n",
       "299          2834      1012.553410\n",
       "203          1015      1075.814899\n",
       "92            232      1556.066924\n",
       "216          1894      1997.774548\n",
       "15             62      1507.934381\n",
       "187           229     -1789.989564\n",
       "204          1598      1552.298350\n",
       "239          2359      1426.656531\n",
       "293          1059      1359.014151\n",
       "240           808       997.861757\n",
       "201          2878      1408.322301\n",
       "151           405      1065.582590\n",
       "257           840      1016.371193\n",
       "29            739      1033.551424\n",
       "67           2190      2278.992091\n",
       "219           833      1006.111947\n",
       "48            208      1537.659761\n",
       "289           539      1291.374086"
      ]
     },
     "execution_count": 42,
     "metadata": {},
     "output_type": "execute_result"
    }
   ],
   "source": [
    "#Actual value and the predicted value\n",
    "mlr_diff = pd.DataFrame({'Actual value': y_test, 'Predicted value': predictions})\n",
    "mlr_diff.head(20)"
   ]
  },
  {
   "cell_type": "code",
   "execution_count": 43,
   "metadata": {},
   "outputs": [],
   "source": [
    "# Expo transform to target variable\n",
    "y_test_exp = np.exp(y_test)\n",
    "predictions_exp = np.exp(predictions).round(2)"
   ]
  },
  {
   "cell_type": "code",
   "execution_count": 44,
   "metadata": {},
   "outputs": [],
   "source": [
    "#Actual value and the predicted value\n",
    "#mlr_diff = pd.DataFrame({'Actual value': y_test_exp, 'Predicted value': predictions_exp})\n",
    "#mlr_diff.head(20)"
   ]
  },
  {
   "cell_type": "markdown",
   "metadata": {},
   "source": [
    "## Regression Evaluation Metrics\n",
    "\n",
    "\n",
    "Evaluation metrics for regression problems as below:\n",
    "\n",
    "**Coefficient of determination(R2 score)** is used to evaluate the performance of a linear regression model. \n",
    "It is the amount of the variation in the output dependent attribute which is predictable from the input independent variable(s). It is used to check how well-observed results are reproduced by the model, depending on the ratio of total deviation of results described by the model.\n",
    "\n",
    "$$R2= 1- SSres  /  SStot$$\n",
    "\n",
    "**Mean Absolute Error** (MAE): the mean of the absolute value of the errors:\n",
    "\n",
    "$$\\frac 1n\\sum_{i=1}^n|y_i-\\hat{y}_i|$$\n",
    "\n",
    "**Mean Squared Error** (MSE): the mean of the squared errors:\n",
    "\n",
    "$$\\frac 1n\\sum_{i=1}^n(y_i-\\hat{y}_i)^2$$\n",
    "\n",
    "**Root Mean Squared Error** (RMSE): the square root of the mean of the squared errors:\n",
    "\n",
    "$$\\sqrt{\\frac 1n\\sum_{i=1}^n(y_i-\\hat{y}_i)^2}$$\n",
    "\n",
    "**Comparison:**\n",
    "\n",
    "- **MAE** is the easiest to understand, because it's the average error.\n",
    "- **MSE** is more popular than MAE, because MSE \"punishes\" larger errors, which tends to be useful in the real world.\n",
    "- **RMSE** is even more popular than MSE, because RMSE is interpretable in the \"y\" units.\n"
   ]
  },
  {
   "cell_type": "code",
   "execution_count": 47,
   "metadata": {},
   "outputs": [
    {
     "name": "stdout",
     "output_type": "stream",
     "text": [
      "R squared of Training Set: 55.67\n",
      "R squared of Test Set: 32.23\n",
      "Mean Absolute Error (MAE): 649.0937\n",
      "Mean Squared Error (MSE): 789677.0416\n",
      "Root Mean Squared Error (RMSE): 888.6377\n"
     ]
    }
   ],
   "source": [
    "from sklearn import metrics\n",
    "from sklearn.metrics import mean_squared_error\n",
    "\n",
    "print('R squared of Training Set: {:.2f}'.format(rfe.score(X_train,y_train)*100))\n",
    "print('R squared of Test Set: {:.2f}'.format(rfe.score(X_test,y_test)*100))\n",
    "print('Mean Absolute Error (MAE): {:.4f}'.format(metrics.mean_absolute_error(y_test, predictions)))\n",
    "print('Mean Squared Error (MSE): {:.4f}'.format(metrics.mean_squared_error(y_test, predictions)))\n",
    "print('Root Mean Squared Error (RMSE): {:.4f}'.format(np.sqrt(metrics.mean_squared_error(y_test, predictions))))"
   ]
  },
  {
   "cell_type": "code",
   "execution_count": null,
   "metadata": {},
   "outputs": [],
   "source": []
  }
 ],
 "metadata": {
  "kernelspec": {
   "display_name": "Python 3",
   "language": "python",
   "name": "python3"
  },
  "language_info": {
   "codemirror_mode": {
    "name": "ipython",
    "version": 3
   },
   "file_extension": ".py",
   "mimetype": "text/x-python",
   "name": "python",
   "nbconvert_exporter": "python",
   "pygments_lexer": "ipython3",
   "version": "3.8.5"
  }
 },
 "nbformat": 4,
 "nbformat_minor": 4
}
