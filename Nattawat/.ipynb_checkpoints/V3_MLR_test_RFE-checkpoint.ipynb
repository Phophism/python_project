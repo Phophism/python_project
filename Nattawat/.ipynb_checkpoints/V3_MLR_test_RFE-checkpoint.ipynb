{
 "cells": [
  {
   "cell_type": "markdown",
   "metadata": {},
   "source": [
    "## Degue vs Environmental Analysis.\n",
    "\n",
    "\n",
    "### Import Libraries"
   ]
  },
  {
   "cell_type": "code",
   "execution_count": 1,
   "metadata": {},
   "outputs": [],
   "source": [
    "import pandas as pd\n",
    "import numpy as np\n",
    "import seaborn as sns\n",
    "import matplotlib.pyplot as plt\n",
    "import sklearn\n",
    "%matplotlib inline\n",
    "%config InlineBackend.figure_format = 'retina'\n",
    "\n",
    "import warnings\n",
    "warnings.filterwarnings(\"ignore\")"
   ]
  },
  {
   "cell_type": "code",
   "execution_count": 2,
   "metadata": {},
   "outputs": [
    {
     "name": "stdout",
     "output_type": "stream",
     "text": [
      "pandas version: 1.1.3\n",
      "numpy version: 1.19.2\n",
      "seaborn version: 0.11.0\n",
      "sklearn version: 0.23.2\n"
     ]
    }
   ],
   "source": [
    "# Check version\n",
    "print(f'pandas version: {pd.__version__}')\n",
    "print(f'numpy version: {np.__version__}')\n",
    "print(f'seaborn version: {sns.__version__}')\n",
    "print(f'sklearn version: {sklearn.__version__}')"
   ]
  },
  {
   "cell_type": "markdown",
   "metadata": {},
   "source": [
    "### Input Data from CSV file."
   ]
  },
  {
   "cell_type": "code",
   "execution_count": 3,
   "metadata": {},
   "outputs": [],
   "source": [
    "# Read in Data set\n",
    "df= pd.read_csv('dengue_preprocessing.csv',header= 0,encoding= 'unicode_escape')"
   ]
  },
  {
   "cell_type": "code",
   "execution_count": 4,
   "metadata": {},
   "outputs": [],
   "source": [
    "# Tempolary data preparation and just use for build model "
   ]
  },
  {
   "cell_type": "code",
   "execution_count": 5,
   "metadata": {},
   "outputs": [],
   "source": [
    "df = df.drop(columns=['province', 'year'])"
   ]
  },
  {
   "cell_type": "code",
   "execution_count": 6,
   "metadata": {},
   "outputs": [
    {
     "data": {
      "text/html": [
       "<div>\n",
       "<style scoped>\n",
       "    .dataframe tbody tr th:only-of-type {\n",
       "        vertical-align: middle;\n",
       "    }\n",
       "\n",
       "    .dataframe tbody tr th {\n",
       "        vertical-align: top;\n",
       "    }\n",
       "\n",
       "    .dataframe thead th {\n",
       "        text-align: right;\n",
       "    }\n",
       "</style>\n",
       "<table border=\"1\" class=\"dataframe\">\n",
       "  <thead>\n",
       "    <tr style=\"text-align: right;\">\n",
       "      <th></th>\n",
       "      <th>year_num</th>\n",
       "      <th>province_num</th>\n",
       "      <th>day_raindrop</th>\n",
       "      <th>quant_rain</th>\n",
       "      <th>humbidity_perc</th>\n",
       "      <th>temp_max</th>\n",
       "      <th>temp_min</th>\n",
       "      <th>temp_avg</th>\n",
       "      <th>dead</th>\n",
       "      <th>dead_perc</th>\n",
       "      <th>patient</th>\n",
       "    </tr>\n",
       "  </thead>\n",
       "  <tbody>\n",
       "    <tr>\n",
       "      <th>count</th>\n",
       "      <td>385.000000</td>\n",
       "      <td>385.000000</td>\n",
       "      <td>385.000000</td>\n",
       "      <td>385.000000</td>\n",
       "      <td>385.000000</td>\n",
       "      <td>385.000000</td>\n",
       "      <td>385.000000</td>\n",
       "      <td>385.000000</td>\n",
       "      <td>385.000000</td>\n",
       "      <td>385.000000</td>\n",
       "      <td>385.000000</td>\n",
       "    </tr>\n",
       "    <tr>\n",
       "      <th>mean</th>\n",
       "      <td>3.000000</td>\n",
       "      <td>39.000000</td>\n",
       "      <td>122.929870</td>\n",
       "      <td>1543.319740</td>\n",
       "      <td>74.789351</td>\n",
       "      <td>39.460260</td>\n",
       "      <td>14.781299</td>\n",
       "      <td>27.875455</td>\n",
       "      <td>1.358442</td>\n",
       "      <td>0.090000</td>\n",
       "      <td>1404.485714</td>\n",
       "    </tr>\n",
       "    <tr>\n",
       "      <th>std</th>\n",
       "      <td>1.416054</td>\n",
       "      <td>22.255032</td>\n",
       "      <td>30.138271</td>\n",
       "      <td>774.967638</td>\n",
       "      <td>4.380409</td>\n",
       "      <td>2.236733</td>\n",
       "      <td>3.899928</td>\n",
       "      <td>1.024079</td>\n",
       "      <td>2.354370</td>\n",
       "      <td>0.126734</td>\n",
       "      <td>1363.167218</td>\n",
       "    </tr>\n",
       "    <tr>\n",
       "      <th>min</th>\n",
       "      <td>1.000000</td>\n",
       "      <td>1.000000</td>\n",
       "      <td>75.000000</td>\n",
       "      <td>513.200000</td>\n",
       "      <td>63.900000</td>\n",
       "      <td>24.000000</td>\n",
       "      <td>0.600000</td>\n",
       "      <td>23.600000</td>\n",
       "      <td>0.000000</td>\n",
       "      <td>0.000000</td>\n",
       "      <td>62.000000</td>\n",
       "    </tr>\n",
       "    <tr>\n",
       "      <th>25%</th>\n",
       "      <td>2.000000</td>\n",
       "      <td>20.000000</td>\n",
       "      <td>101.000000</td>\n",
       "      <td>1023.500000</td>\n",
       "      <td>71.400000</td>\n",
       "      <td>37.900000</td>\n",
       "      <td>11.600000</td>\n",
       "      <td>27.300000</td>\n",
       "      <td>0.000000</td>\n",
       "      <td>0.000000</td>\n",
       "      <td>510.000000</td>\n",
       "    </tr>\n",
       "    <tr>\n",
       "      <th>50%</th>\n",
       "      <td>3.000000</td>\n",
       "      <td>39.000000</td>\n",
       "      <td>114.000000</td>\n",
       "      <td>1308.700000</td>\n",
       "      <td>74.300000</td>\n",
       "      <td>39.700000</td>\n",
       "      <td>14.800000</td>\n",
       "      <td>27.900000</td>\n",
       "      <td>1.000000</td>\n",
       "      <td>0.040000</td>\n",
       "      <td>938.000000</td>\n",
       "    </tr>\n",
       "    <tr>\n",
       "      <th>75%</th>\n",
       "      <td>4.000000</td>\n",
       "      <td>58.000000</td>\n",
       "      <td>141.000000</td>\n",
       "      <td>1794.900000</td>\n",
       "      <td>77.700000</td>\n",
       "      <td>41.200000</td>\n",
       "      <td>18.200000</td>\n",
       "      <td>28.600000</td>\n",
       "      <td>2.000000</td>\n",
       "      <td>0.140000</td>\n",
       "      <td>1821.000000</td>\n",
       "    </tr>\n",
       "    <tr>\n",
       "      <th>max</th>\n",
       "      <td>5.000000</td>\n",
       "      <td>77.000000</td>\n",
       "      <td>220.000000</td>\n",
       "      <td>5287.300000</td>\n",
       "      <td>85.000000</td>\n",
       "      <td>43.400000</td>\n",
       "      <td>23.400000</td>\n",
       "      <td>31.300000</td>\n",
       "      <td>19.000000</td>\n",
       "      <td>0.880000</td>\n",
       "      <td>8279.000000</td>\n",
       "    </tr>\n",
       "  </tbody>\n",
       "</table>\n",
       "</div>"
      ],
      "text/plain": [
       "         year_num  province_num  day_raindrop   quant_rain  humbidity_perc  \\\n",
       "count  385.000000    385.000000    385.000000   385.000000      385.000000   \n",
       "mean     3.000000     39.000000    122.929870  1543.319740       74.789351   \n",
       "std      1.416054     22.255032     30.138271   774.967638        4.380409   \n",
       "min      1.000000      1.000000     75.000000   513.200000       63.900000   \n",
       "25%      2.000000     20.000000    101.000000  1023.500000       71.400000   \n",
       "50%      3.000000     39.000000    114.000000  1308.700000       74.300000   \n",
       "75%      4.000000     58.000000    141.000000  1794.900000       77.700000   \n",
       "max      5.000000     77.000000    220.000000  5287.300000       85.000000   \n",
       "\n",
       "         temp_max    temp_min    temp_avg        dead   dead_perc      patient  \n",
       "count  385.000000  385.000000  385.000000  385.000000  385.000000   385.000000  \n",
       "mean    39.460260   14.781299   27.875455    1.358442    0.090000  1404.485714  \n",
       "std      2.236733    3.899928    1.024079    2.354370    0.126734  1363.167218  \n",
       "min     24.000000    0.600000   23.600000    0.000000    0.000000    62.000000  \n",
       "25%     37.900000   11.600000   27.300000    0.000000    0.000000   510.000000  \n",
       "50%     39.700000   14.800000   27.900000    1.000000    0.040000   938.000000  \n",
       "75%     41.200000   18.200000   28.600000    2.000000    0.140000  1821.000000  \n",
       "max     43.400000   23.400000   31.300000   19.000000    0.880000  8279.000000  "
      ]
     },
     "execution_count": 6,
     "metadata": {},
     "output_type": "execute_result"
    }
   ],
   "source": [
    "df.describe()"
   ]
  },
  {
   "cell_type": "code",
   "execution_count": 7,
   "metadata": {},
   "outputs": [
    {
     "data": {
      "text/plain": [
       "Index(['year_num', 'province_num', 'day_raindrop', 'quant_rain',\n",
       "       'humbidity_perc', 'temp_max', 'temp_min', 'temp_avg', 'dead',\n",
       "       'dead_perc', 'patient'],\n",
       "      dtype='object')"
      ]
     },
     "execution_count": 7,
     "metadata": {},
     "output_type": "execute_result"
    }
   ],
   "source": [
    "df.columns"
   ]
  },
  {
   "cell_type": "code",
   "execution_count": 8,
   "metadata": {},
   "outputs": [],
   "source": [
    "# Transformation\n",
    "df_num  = df[['day_raindrop', 'quant_rain', 'humbidity_perc','temp_max', 'temp_min', 'temp_avg', 'dead', 'dead_perc']]"
   ]
  },
  {
   "cell_type": "code",
   "execution_count": 9,
   "metadata": {},
   "outputs": [],
   "source": [
    "# Choice of Numerical varialable.\n",
    "\n",
    "#from sklearn.preprocessing import StandardScaler\n",
    "from sklearn.preprocessing import MinMaxScaler"
   ]
  },
  {
   "cell_type": "code",
   "execution_count": 10,
   "metadata": {},
   "outputs": [
    {
     "data": {
      "text/html": [
       "<div>\n",
       "<style scoped>\n",
       "    .dataframe tbody tr th:only-of-type {\n",
       "        vertical-align: middle;\n",
       "    }\n",
       "\n",
       "    .dataframe tbody tr th {\n",
       "        vertical-align: top;\n",
       "    }\n",
       "\n",
       "    .dataframe thead th {\n",
       "        text-align: right;\n",
       "    }\n",
       "</style>\n",
       "<table border=\"1\" class=\"dataframe\">\n",
       "  <thead>\n",
       "    <tr style=\"text-align: right;\">\n",
       "      <th></th>\n",
       "      <th>day_raindrop</th>\n",
       "      <th>quant_rain</th>\n",
       "      <th>humbidity_perc</th>\n",
       "      <th>temp_max</th>\n",
       "      <th>temp_min</th>\n",
       "      <th>temp_avg</th>\n",
       "      <th>dead</th>\n",
       "      <th>dead_perc</th>\n",
       "    </tr>\n",
       "  </thead>\n",
       "  <tbody>\n",
       "    <tr>\n",
       "      <th>380</th>\n",
       "      <td>0.248276</td>\n",
       "      <td>0.094531</td>\n",
       "      <td>0.218009</td>\n",
       "      <td>0.855670</td>\n",
       "      <td>0.535088</td>\n",
       "      <td>0.402597</td>\n",
       "      <td>0.000000</td>\n",
       "      <td>0.000000</td>\n",
       "    </tr>\n",
       "    <tr>\n",
       "      <th>381</th>\n",
       "      <td>0.172414</td>\n",
       "      <td>0.147588</td>\n",
       "      <td>0.270142</td>\n",
       "      <td>0.953608</td>\n",
       "      <td>0.504386</td>\n",
       "      <td>0.480519</td>\n",
       "      <td>0.052632</td>\n",
       "      <td>0.045455</td>\n",
       "    </tr>\n",
       "    <tr>\n",
       "      <th>382</th>\n",
       "      <td>0.075862</td>\n",
       "      <td>0.120002</td>\n",
       "      <td>0.170616</td>\n",
       "      <td>0.979381</td>\n",
       "      <td>0.587719</td>\n",
       "      <td>0.636364</td>\n",
       "      <td>0.052632</td>\n",
       "      <td>0.193182</td>\n",
       "    </tr>\n",
       "    <tr>\n",
       "      <th>383</th>\n",
       "      <td>0.117241</td>\n",
       "      <td>0.060870</td>\n",
       "      <td>0.355450</td>\n",
       "      <td>0.953608</td>\n",
       "      <td>0.649123</td>\n",
       "      <td>0.694805</td>\n",
       "      <td>0.000000</td>\n",
       "      <td>0.000000</td>\n",
       "    </tr>\n",
       "    <tr>\n",
       "      <th>384</th>\n",
       "      <td>0.248276</td>\n",
       "      <td>0.226619</td>\n",
       "      <td>0.218009</td>\n",
       "      <td>0.855670</td>\n",
       "      <td>0.596491</td>\n",
       "      <td>0.493506</td>\n",
       "      <td>0.157895</td>\n",
       "      <td>0.159091</td>\n",
       "    </tr>\n",
       "  </tbody>\n",
       "</table>\n",
       "</div>"
      ],
      "text/plain": [
       "     day_raindrop  quant_rain  humbidity_perc  temp_max  temp_min  temp_avg  \\\n",
       "380      0.248276    0.094531        0.218009  0.855670  0.535088  0.402597   \n",
       "381      0.172414    0.147588        0.270142  0.953608  0.504386  0.480519   \n",
       "382      0.075862    0.120002        0.170616  0.979381  0.587719  0.636364   \n",
       "383      0.117241    0.060870        0.355450  0.953608  0.649123  0.694805   \n",
       "384      0.248276    0.226619        0.218009  0.855670  0.596491  0.493506   \n",
       "\n",
       "         dead  dead_perc  \n",
       "380  0.000000   0.000000  \n",
       "381  0.052632   0.045455  \n",
       "382  0.052632   0.193182  \n",
       "383  0.000000   0.000000  \n",
       "384  0.157895   0.159091  "
      ]
     },
     "metadata": {},
     "output_type": "display_data"
    }
   ],
   "source": [
    "# Version1: select MinMax\n",
    "\n",
    "num_column = df_num.dtypes[df_num.dtypes != 'object'].index\n",
    "\n",
    "# Initialize a scaler, then apply it to the features\n",
    "scaler = MinMaxScaler() # default=(0, 1)\n",
    "\n",
    "std_transform_feat = pd.DataFrame(data = df_num)\n",
    "std_transform_feat[num_column] = scaler.fit_transform(df_num[num_column])\n",
    "\n",
    "# Show an example of a record with scaling applied\n",
    "display(std_transform_feat.tail())"
   ]
  },
  {
   "cell_type": "code",
   "execution_count": 11,
   "metadata": {},
   "outputs": [],
   "source": [
    "df_cat = df[['year_num', 'province_num']]\n",
    "y_tar = df[['patient']]"
   ]
  },
  {
   "cell_type": "code",
   "execution_count": 12,
   "metadata": {},
   "outputs": [],
   "source": [
    "## Concat all numerical feature to DataFrame\n",
    "df_pre = pd.concat((df_cat, std_transform_feat,y_tar),axis=1)"
   ]
  },
  {
   "cell_type": "code",
   "execution_count": 13,
   "metadata": {},
   "outputs": [
    {
     "data": {
      "text/html": [
       "<div>\n",
       "<style scoped>\n",
       "    .dataframe tbody tr th:only-of-type {\n",
       "        vertical-align: middle;\n",
       "    }\n",
       "\n",
       "    .dataframe tbody tr th {\n",
       "        vertical-align: top;\n",
       "    }\n",
       "\n",
       "    .dataframe thead th {\n",
       "        text-align: right;\n",
       "    }\n",
       "</style>\n",
       "<table border=\"1\" class=\"dataframe\">\n",
       "  <thead>\n",
       "    <tr style=\"text-align: right;\">\n",
       "      <th></th>\n",
       "      <th>year_num</th>\n",
       "      <th>province_num</th>\n",
       "      <th>day_raindrop</th>\n",
       "      <th>quant_rain</th>\n",
       "      <th>humbidity_perc</th>\n",
       "      <th>temp_max</th>\n",
       "      <th>temp_min</th>\n",
       "      <th>temp_avg</th>\n",
       "      <th>dead</th>\n",
       "      <th>dead_perc</th>\n",
       "      <th>patient</th>\n",
       "    </tr>\n",
       "  </thead>\n",
       "  <tbody>\n",
       "    <tr>\n",
       "      <th>count</th>\n",
       "      <td>385.0000</td>\n",
       "      <td>385.000</td>\n",
       "      <td>385.0000</td>\n",
       "      <td>385.0000</td>\n",
       "      <td>385.0000</td>\n",
       "      <td>385.0000</td>\n",
       "      <td>385.0000</td>\n",
       "      <td>385.0000</td>\n",
       "      <td>385.0000</td>\n",
       "      <td>385.0000</td>\n",
       "      <td>385.0000</td>\n",
       "    </tr>\n",
       "    <tr>\n",
       "      <th>mean</th>\n",
       "      <td>3.0000</td>\n",
       "      <td>39.000</td>\n",
       "      <td>0.3306</td>\n",
       "      <td>0.2158</td>\n",
       "      <td>0.5161</td>\n",
       "      <td>0.7969</td>\n",
       "      <td>0.6220</td>\n",
       "      <td>0.5553</td>\n",
       "      <td>0.0715</td>\n",
       "      <td>0.1023</td>\n",
       "      <td>1404.4857</td>\n",
       "    </tr>\n",
       "    <tr>\n",
       "      <th>std</th>\n",
       "      <td>1.4161</td>\n",
       "      <td>22.255</td>\n",
       "      <td>0.2079</td>\n",
       "      <td>0.1623</td>\n",
       "      <td>0.2076</td>\n",
       "      <td>0.1153</td>\n",
       "      <td>0.1710</td>\n",
       "      <td>0.1330</td>\n",
       "      <td>0.1239</td>\n",
       "      <td>0.1440</td>\n",
       "      <td>1363.1672</td>\n",
       "    </tr>\n",
       "    <tr>\n",
       "      <th>min</th>\n",
       "      <td>1.0000</td>\n",
       "      <td>1.000</td>\n",
       "      <td>0.0000</td>\n",
       "      <td>0.0000</td>\n",
       "      <td>0.0000</td>\n",
       "      <td>0.0000</td>\n",
       "      <td>0.0000</td>\n",
       "      <td>0.0000</td>\n",
       "      <td>0.0000</td>\n",
       "      <td>0.0000</td>\n",
       "      <td>62.0000</td>\n",
       "    </tr>\n",
       "    <tr>\n",
       "      <th>25%</th>\n",
       "      <td>2.0000</td>\n",
       "      <td>20.000</td>\n",
       "      <td>0.1793</td>\n",
       "      <td>0.1069</td>\n",
       "      <td>0.3555</td>\n",
       "      <td>0.7165</td>\n",
       "      <td>0.4825</td>\n",
       "      <td>0.4805</td>\n",
       "      <td>0.0000</td>\n",
       "      <td>0.0000</td>\n",
       "      <td>510.0000</td>\n",
       "    </tr>\n",
       "    <tr>\n",
       "      <th>50%</th>\n",
       "      <td>3.0000</td>\n",
       "      <td>39.000</td>\n",
       "      <td>0.2690</td>\n",
       "      <td>0.1666</td>\n",
       "      <td>0.4929</td>\n",
       "      <td>0.8093</td>\n",
       "      <td>0.6228</td>\n",
       "      <td>0.5584</td>\n",
       "      <td>0.0526</td>\n",
       "      <td>0.0455</td>\n",
       "      <td>938.0000</td>\n",
       "    </tr>\n",
       "    <tr>\n",
       "      <th>75%</th>\n",
       "      <td>4.0000</td>\n",
       "      <td>58.000</td>\n",
       "      <td>0.4552</td>\n",
       "      <td>0.2685</td>\n",
       "      <td>0.6540</td>\n",
       "      <td>0.8866</td>\n",
       "      <td>0.7719</td>\n",
       "      <td>0.6494</td>\n",
       "      <td>0.1053</td>\n",
       "      <td>0.1591</td>\n",
       "      <td>1821.0000</td>\n",
       "    </tr>\n",
       "    <tr>\n",
       "      <th>max</th>\n",
       "      <td>5.0000</td>\n",
       "      <td>77.000</td>\n",
       "      <td>1.0000</td>\n",
       "      <td>1.0000</td>\n",
       "      <td>1.0000</td>\n",
       "      <td>1.0000</td>\n",
       "      <td>1.0000</td>\n",
       "      <td>1.0000</td>\n",
       "      <td>1.0000</td>\n",
       "      <td>1.0000</td>\n",
       "      <td>8279.0000</td>\n",
       "    </tr>\n",
       "  </tbody>\n",
       "</table>\n",
       "</div>"
      ],
      "text/plain": [
       "       year_num  province_num  day_raindrop  quant_rain  humbidity_perc  \\\n",
       "count  385.0000       385.000      385.0000    385.0000        385.0000   \n",
       "mean     3.0000        39.000        0.3306      0.2158          0.5161   \n",
       "std      1.4161        22.255        0.2079      0.1623          0.2076   \n",
       "min      1.0000         1.000        0.0000      0.0000          0.0000   \n",
       "25%      2.0000        20.000        0.1793      0.1069          0.3555   \n",
       "50%      3.0000        39.000        0.2690      0.1666          0.4929   \n",
       "75%      4.0000        58.000        0.4552      0.2685          0.6540   \n",
       "max      5.0000        77.000        1.0000      1.0000          1.0000   \n",
       "\n",
       "       temp_max  temp_min  temp_avg      dead  dead_perc    patient  \n",
       "count  385.0000  385.0000  385.0000  385.0000   385.0000   385.0000  \n",
       "mean     0.7969    0.6220    0.5553    0.0715     0.1023  1404.4857  \n",
       "std      0.1153    0.1710    0.1330    0.1239     0.1440  1363.1672  \n",
       "min      0.0000    0.0000    0.0000    0.0000     0.0000    62.0000  \n",
       "25%      0.7165    0.4825    0.4805    0.0000     0.0000   510.0000  \n",
       "50%      0.8093    0.6228    0.5584    0.0526     0.0455   938.0000  \n",
       "75%      0.8866    0.7719    0.6494    0.1053     0.1591  1821.0000  \n",
       "max      1.0000    1.0000    1.0000    1.0000     1.0000  8279.0000  "
      ]
     },
     "execution_count": 13,
     "metadata": {},
     "output_type": "execute_result"
    }
   ],
   "source": [
    "df_pre.describe().round(4)"
   ]
  },
  {
   "cell_type": "markdown",
   "metadata": {},
   "source": [
    "# Building Linear Regression Model\n",
    "\n",
    "1. Features selection for Linear Regression Model\n",
    "2. Train Test Split\n",
    "3. Creating and Training the Model\n",
    "4. Model Evaluation\n",
    "\n",
    "\n",
    "## Features selection for Linear Regression Model"
   ]
  },
  {
   "cell_type": "code",
   "execution_count": 14,
   "metadata": {},
   "outputs": [
    {
     "data": {
      "text/plain": [
       "Index(['year_num', 'province_num', 'day_raindrop', 'quant_rain',\n",
       "       'humbidity_perc', 'temp_max', 'temp_min', 'temp_avg', 'dead',\n",
       "       'dead_perc', 'patient'],\n",
       "      dtype='object')"
      ]
     },
     "execution_count": 14,
     "metadata": {},
     "output_type": "execute_result"
    }
   ],
   "source": [
    "df_pre.columns"
   ]
  },
  {
   "cell_type": "code",
   "execution_count": 15,
   "metadata": {},
   "outputs": [],
   "source": [
    "X = df_pre[['year_num', 'province_num', 'day_raindrop', 'quant_rain', 'humbidity_perc',\n",
    "       'temp_max', 'temp_min', 'temp_avg', 'dead', 'dead_perc'\n",
    "       ]]\n",
    "y = df_pre['patient']"
   ]
  },
  {
   "cell_type": "markdown",
   "metadata": {},
   "source": [
    "## Train Test Split\n",
    "\n",
    "This step we will separate data to train (training set) and การ test (testing set)\n",
    "* training set use for train model \n",
    "* testing set use for  test model or call that Evaluation \n"
   ]
  },
  {
   "cell_type": "code",
   "execution_count": 16,
   "metadata": {},
   "outputs": [],
   "source": [
    "from sklearn.model_selection import train_test_split"
   ]
  },
  {
   "cell_type": "code",
   "execution_count": 17,
   "metadata": {},
   "outputs": [],
   "source": [
    "# Train dataset 80% and Test dataset 20%.\n",
    "X_train, X_test, y_train, y_test = train_test_split(X, y, test_size=0.20, random_state=20)"
   ]
  },
  {
   "cell_type": "markdown",
   "metadata": {},
   "source": [
    "## Creating and Training the Model"
   ]
  },
  {
   "cell_type": "code",
   "execution_count": 18,
   "metadata": {},
   "outputs": [],
   "source": [
    "from sklearn.linear_model import LinearRegression"
   ]
  },
  {
   "cell_type": "code",
   "execution_count": 19,
   "metadata": {},
   "outputs": [],
   "source": [
    "# Try to use simple model: Linear Regression.\n",
    "lm = LinearRegression()"
   ]
  },
  {
   "cell_type": "markdown",
   "metadata": {},
   "source": [
    "### Recursive Feature Elimination\n",
    "\n",
    "Recursive feature elimination (RFE) is a feature selection method that fits a model and removes the weakest feature (or features) until the specified number of features is reached. **[...more](https://www.scikit-yb.org/en/latest/api/model_selection/rfecv.html)**"
   ]
  },
  {
   "cell_type": "code",
   "execution_count": 20,
   "metadata": {},
   "outputs": [],
   "source": [
    "# Import libraries for tuning hyperparameter\n",
    "\n",
    "from sklearn.preprocessing import scale\n",
    "from sklearn.feature_selection import RFE"
   ]
  },
  {
   "cell_type": "code",
   "execution_count": 21,
   "metadata": {},
   "outputs": [],
   "source": [
    "# Using RFE\n",
    "# Note that the number of features to be used in the model is a hyperparameter."
   ]
  },
  {
   "cell_type": "code",
   "execution_count": 22,
   "metadata": {},
   "outputs": [
    {
     "data": {
      "text/plain": [
       "10"
      ]
     },
     "execution_count": 22,
     "metadata": {},
     "output_type": "execute_result"
    }
   ],
   "source": [
    "# num of max features\n",
    "len(X_train.columns)"
   ]
  },
  {
   "cell_type": "code",
   "execution_count": 23,
   "metadata": {},
   "outputs": [
    {
     "data": {
      "text/plain": [
       "[('year_num', False, 3),\n",
       " ('province_num', False, 5),\n",
       " ('day_raindrop', False, 4),\n",
       " ('quant_rain', False, 6),\n",
       " ('humbidity_perc', False, 2),\n",
       " ('temp_max', True, 1),\n",
       " ('temp_min', True, 1),\n",
       " ('temp_avg', True, 1),\n",
       " ('dead', True, 1),\n",
       " ('dead_perc', True, 1)]"
      ]
     },
     "execution_count": 23,
     "metadata": {},
     "output_type": "execute_result"
    }
   ],
   "source": [
    "# first model with an arbitrary choice of n_features\n",
    "# running RFE with number of features= X\n",
    "\n",
    "rfe = RFE(lm, n_features_to_select=5)             \n",
    "rfe = rfe.fit(X_train, y_train)\n",
    "\n",
    "# tuples of (feature name, whether selected, ranking)\n",
    "# **note** that the 'rank' is > 1 for non-selected features\n",
    "\n",
    "list(zip(X_train.columns,rfe.support_,rfe.ranking_))"
   ]
  },
  {
   "cell_type": "code",
   "execution_count": 24,
   "metadata": {},
   "outputs": [
    {
     "name": "stdout",
     "output_type": "stream",
     "text": [
      "Coefficient of determination(R_squar_score): 0.5635585972084691\n"
     ]
    }
   ],
   "source": [
    "r_sq = rfe.score(X_train,y_train)\n",
    "print('Coefficient of determination(R_squar_score):', r_sq)"
   ]
  },
  {
   "cell_type": "code",
   "execution_count": 25,
   "metadata": {},
   "outputs": [
    {
     "name": "stdout",
     "output_type": "stream",
     "text": [
      "0.5163324007465164\n"
     ]
    }
   ],
   "source": [
    "# predict prices of X_test\n",
    "\n",
    "predictions = rfe.predict(X_test)\n",
    "\n",
    "# evaluate the model on test set\n",
    "\n",
    "r2 = sklearn.metrics.r2_score(y_test, predictions)\n",
    "print(r2)"
   ]
  },
  {
   "cell_type": "code",
   "execution_count": 26,
   "metadata": {},
   "outputs": [],
   "source": [
    "##----Result of training----##\n",
    "# 1 = 0.4327\n",
    "# 2 = 0.5597\n",
    "# 3 = 0.5602\n",
    "# 4 = 0.5625\n",
    "# 5 = 0.5636\n",
    "# 6 = 0.5640\n",
    "# 7 = 0.5719\n",
    "# 8 = 0.5719\n",
    "# 9 = 0.5737\n",
    "# 10 = 0.5737\n",
    "\n",
    "##----Result of testing----##\n",
    "# 1 = 0.3667\n",
    "# 2 = 0.5003\n",
    "# 3 = 0.4980\n",
    "# 4 = 0.5038\n",
    "# 5 = 0.5163 ***\n",
    "# 6 = 0.5139\n",
    "# 7 = 0.4930\n",
    "# 8 = 0.4925\n",
    "# 9 = 0.4886\n",
    "# 10 = 0.4887\n",
    "\n",
    "# Result generated highest score at 0.6576 in 5 Features\n",
    "#[('year', False, 3),\n",
    " #('province_num', False, 4),\n",
    " #('day_raindrop', False, 5),\n",
    " #('quant_rain', False, 6),\n",
    " #('humbidity_perc', False, 2),\n",
    " #('temp_max', True, 1),\n",
    " #('temp_min', True, 1),\n",
    " #('temp_avg', True, 1),\n",
    " #('dead', True, 1),\n",
    " #('dead_perc', True, 1)]\n",
    "    \n",
    "# Result shown that they need more data and more sample size."
   ]
  },
  {
   "cell_type": "markdown",
   "metadata": {},
   "source": [
    "## Model Evaluation\n",
    "\n",
    "evaluate model by visit coefficients of each item"
   ]
  },
  {
   "cell_type": "code",
   "execution_count": 27,
   "metadata": {},
   "outputs": [
    {
     "name": "stdout",
     "output_type": "stream",
     "text": [
      "Coefficient of determination(R_squar_score): 0.5635585972084691\n"
     ]
    }
   ],
   "source": [
    "r_sq = rfe.score(X_train,y_train)\n",
    "print('Coefficient of determination(R_squar_score):', r_sq)"
   ]
  },
  {
   "cell_type": "markdown",
   "metadata": {},
   "source": [
    "## Predictions from our Model"
   ]
  },
  {
   "cell_type": "code",
   "execution_count": 28,
   "metadata": {},
   "outputs": [],
   "source": [
    "# Predicting X test\n",
    "predictions = rfe.predict(X_test)"
   ]
  },
  {
   "cell_type": "code",
   "execution_count": 34,
   "metadata": {},
   "outputs": [
    {
     "data": {
      "image/png": "[encoded data removed]",
      "text/plain": [
       "<Figure size 432x288 with 1 Axes>"
      ]
     },
     "metadata": {
      "image/png": {
       "height": 261,
       "width": 395
      },
      "needs_background": "light"
     },
     "output_type": "display_data"
    }
   ],
   "source": [
    "# plot predictions against actual\n",
    "\n",
    "plot_k = sns.scatterplot(y_test,predictions)\n",
    "plot_k.set(xlabel='Actual', ylabel='Prediction')\n",
    "# generate and graph y = x line\n",
    "x_plot = np.linspace(0,6000,10000)\n",
    "y_plot = x_plot\n",
    "plt.plot(x_plot, y_plot, color='r')\n",
    "plt.show()\n",
    "\n",
    "# Simulate linear line"
   ]
  },
  {
   "cell_type": "markdown",
   "metadata": {},
   "source": [
    "## Prediction"
   ]
  },
  {
   "cell_type": "code",
   "execution_count": 35,
   "metadata": {},
   "outputs": [
    {
     "data": {
      "text/html": [
       "<div>\n",
       "<style scoped>\n",
       "    .dataframe tbody tr th:only-of-type {\n",
       "        vertical-align: middle;\n",
       "    }\n",
       "\n",
       "    .dataframe tbody tr th {\n",
       "        vertical-align: top;\n",
       "    }\n",
       "\n",
       "    .dataframe thead th {\n",
       "        text-align: right;\n",
       "    }\n",
       "</style>\n",
       "<table border=\"1\" class=\"dataframe\">\n",
       "  <thead>\n",
       "    <tr style=\"text-align: right;\">\n",
       "      <th></th>\n",
       "      <th>year_num</th>\n",
       "      <th>province_num</th>\n",
       "      <th>day_raindrop</th>\n",
       "      <th>quant_rain</th>\n",
       "      <th>humbidity_perc</th>\n",
       "      <th>temp_max</th>\n",
       "      <th>temp_min</th>\n",
       "      <th>temp_avg</th>\n",
       "      <th>dead</th>\n",
       "      <th>dead_perc</th>\n",
       "    </tr>\n",
       "  </thead>\n",
       "  <tbody>\n",
       "    <tr>\n",
       "      <th>384</th>\n",
       "      <td>5</td>\n",
       "      <td>77</td>\n",
       "      <td>0.248276</td>\n",
       "      <td>0.226619</td>\n",
       "      <td>0.218009</td>\n",
       "      <td>0.85567</td>\n",
       "      <td>0.596491</td>\n",
       "      <td>0.493506</td>\n",
       "      <td>0.157895</td>\n",
       "      <td>0.159091</td>\n",
       "    </tr>\n",
       "  </tbody>\n",
       "</table>\n",
       "</div>"
      ],
      "text/plain": [
       "     year_num  province_num  day_raindrop  quant_rain  humbidity_perc  \\\n",
       "384         5            77      0.248276    0.226619        0.218009   \n",
       "\n",
       "     temp_max  temp_min  temp_avg      dead  dead_perc  \n",
       "384   0.85567  0.596491  0.493506  0.157895   0.159091  "
      ]
     },
     "execution_count": 35,
     "metadata": {},
     "output_type": "execute_result"
    }
   ],
   "source": [
    "X_test.loc[[384]]"
   ]
  },
  {
   "cell_type": "code",
   "execution_count": 36,
   "metadata": {},
   "outputs": [
    {
     "name": "stdout",
     "output_type": "stream",
     "text": [
      "Actual Patient 2092.0\n",
      "Predicted Patient 2102.120490907041\n"
     ]
    },
    {
     "data": {
      "image/png": "[encoded data removed]",
      "text/plain": [
       "<Figure size 432x288 with 1 Axes>"
      ]
     },
     "metadata": {
      "image/png": {
       "height": 248,
       "width": 384
      },
      "needs_background": "light"
     },
     "output_type": "display_data"
    }
   ],
   "source": [
    "# Choose one of sample to predict and see result\n",
    "\n",
    "# input : X_test.loc[[random sample for prediction test]]\n",
    "\n",
    "y_pred = rfe.predict(X_test.loc[[384]])\n",
    "\n",
    "plt.scatter(y_test.loc[[384]],  y_pred)\n",
    "print( \"Actual Patient\",float(y_test.loc[[384]] ) )\n",
    "print( \"Predicted Patient\", float( y_pred))"
   ]
  },
  {
   "cell_type": "markdown",
   "metadata": {},
   "source": [
    "**Residual Histogram**"
   ]
  },
  {
   "cell_type": "code",
   "execution_count": 31,
   "metadata": {},
   "outputs": [
    {
     "data": {
      "image/png": "[encoded data removed]",
      "text/plain": [
       "<Figure size 432x288 with 1 Axes>"
      ]
     },
     "metadata": {
      "image/png": {
       "height": 264,
       "width": 404
      },
      "needs_background": "light"
     },
     "output_type": "display_data"
    }
   ],
   "source": [
    "sns.distplot((y_test-predictions),bins=50);"
   ]
  },
  {
   "cell_type": "markdown",
   "metadata": {},
   "source": [
    "### Actual value and the predicted value"
   ]
  },
  {
   "cell_type": "code",
   "execution_count": 32,
   "metadata": {},
   "outputs": [
    {
     "data": {
      "text/html": [
       "<div>\n",
       "<style scoped>\n",
       "    .dataframe tbody tr th:only-of-type {\n",
       "        vertical-align: middle;\n",
       "    }\n",
       "\n",
       "    .dataframe tbody tr th {\n",
       "        vertical-align: top;\n",
       "    }\n",
       "\n",
       "    .dataframe thead th {\n",
       "        text-align: right;\n",
       "    }\n",
       "</style>\n",
       "<table border=\"1\" class=\"dataframe\">\n",
       "  <thead>\n",
       "    <tr style=\"text-align: right;\">\n",
       "      <th></th>\n",
       "      <th>Actual value</th>\n",
       "      <th>Predicted value</th>\n",
       "    </tr>\n",
       "  </thead>\n",
       "  <tbody>\n",
       "    <tr>\n",
       "      <th>9</th>\n",
       "      <td>601</td>\n",
       "      <td>920.527725</td>\n",
       "    </tr>\n",
       "    <tr>\n",
       "      <th>172</th>\n",
       "      <td>1950</td>\n",
       "      <td>1437.889270</td>\n",
       "    </tr>\n",
       "    <tr>\n",
       "      <th>281</th>\n",
       "      <td>1598</td>\n",
       "      <td>1653.332676</td>\n",
       "    </tr>\n",
       "    <tr>\n",
       "      <th>309</th>\n",
       "      <td>3276</td>\n",
       "      <td>5633.356891</td>\n",
       "    </tr>\n",
       "    <tr>\n",
       "      <th>311</th>\n",
       "      <td>1604</td>\n",
       "      <td>1448.055883</td>\n",
       "    </tr>\n",
       "    <tr>\n",
       "      <th>56</th>\n",
       "      <td>2160</td>\n",
       "      <td>1720.131374</td>\n",
       "    </tr>\n",
       "    <tr>\n",
       "      <th>13</th>\n",
       "      <td>5089</td>\n",
       "      <td>2825.093467</td>\n",
       "    </tr>\n",
       "    <tr>\n",
       "      <th>384</th>\n",
       "      <td>2092</td>\n",
       "      <td>2102.120491</td>\n",
       "    </tr>\n",
       "    <tr>\n",
       "      <th>254</th>\n",
       "      <td>1228</td>\n",
       "      <td>1874.883311</td>\n",
       "    </tr>\n",
       "    <tr>\n",
       "      <th>368</th>\n",
       "      <td>135</td>\n",
       "      <td>1161.938453</td>\n",
       "    </tr>\n",
       "  </tbody>\n",
       "</table>\n",
       "</div>"
      ],
      "text/plain": [
       "     Actual value  Predicted value\n",
       "9             601       920.527725\n",
       "172          1950      1437.889270\n",
       "281          1598      1653.332676\n",
       "309          3276      5633.356891\n",
       "311          1604      1448.055883\n",
       "56           2160      1720.131374\n",
       "13           5089      2825.093467\n",
       "384          2092      2102.120491\n",
       "254          1228      1874.883311\n",
       "368           135      1161.938453"
      ]
     },
     "execution_count": 32,
     "metadata": {},
     "output_type": "execute_result"
    }
   ],
   "source": [
    "#Actual value and the predicted value\n",
    "mlr_diff = pd.DataFrame({'Actual value': y_test, 'Predicted value': predictions})\n",
    "mlr_diff.head(10)"
   ]
  },
  {
   "cell_type": "markdown",
   "metadata": {},
   "source": [
    "## Regression Evaluation Metrics\n",
    "\n",
    "\n",
    "Evaluation metrics for regression problems as below:\n",
    "\n",
    "**Coefficient of determination(R2 score)** is used to evaluate the performance of a linear regression model. \n",
    "It is the amount of the variation in the output dependent attribute which is predictable from the input independent variable(s). It is used to check how well-observed results are reproduced by the model, depending on the ratio of total deviation of results described by the model.\n",
    "\n",
    "$$R2= 1- SSres  /  SStot$$\n",
    "\n",
    "**Mean Absolute Error** (MAE): the mean of the absolute value of the errors:\n",
    "\n",
    "$$\\frac 1n\\sum_{i=1}^n|y_i-\\hat{y}_i|$$\n",
    "\n",
    "**Mean Squared Error** (MSE): the mean of the squared errors:\n",
    "\n",
    "$$\\frac 1n\\sum_{i=1}^n(y_i-\\hat{y}_i)^2$$\n",
    "\n",
    "**Root Mean Squared Error** (RMSE): the square root of the mean of the squared errors:\n",
    "\n",
    "$$\\sqrt{\\frac 1n\\sum_{i=1}^n(y_i-\\hat{y}_i)^2}$$\n",
    "\n",
    "**Comparison:**\n",
    "\n",
    "- **MAE** is the easiest to understand, because it's the average error.\n",
    "- **MSE** is more popular than MAE, because MSE \"punishes\" larger errors, which tends to be useful in the real world.\n",
    "- **RMSE** is even more popular than MSE, because RMSE is interpretable in the \"y\" units.\n"
   ]
  },
  {
   "cell_type": "code",
   "execution_count": 33,
   "metadata": {},
   "outputs": [
    {
     "name": "stdout",
     "output_type": "stream",
     "text": [
      "R squared of Training Set: 0.56\n",
      "R squared of Test Set: 0.52\n",
      "Mean Absolute Error (MAE): 605.2248\n",
      "Root Mean Squared Error (RMSE): 790.5984\n"
     ]
    }
   ],
   "source": [
    "from sklearn import metrics\n",
    "from sklearn.metrics import mean_squared_error\n",
    "\n",
    "print('R squared of Training Set: {:.2f}'.format(rfe.score(X_train,y_train)))\n",
    "print('R squared of Test Set: {:.2f}'.format(rfe.score(X_test,y_test)))\n",
    "print('Mean Absolute Error (MAE): {:.4f}'.format(metrics.mean_absolute_error(y_test, predictions)))\n",
    "print('Root Mean Squared Error (RMSE): {:.4f}'.format(np.sqrt(metrics.mean_squared_error(y_test, predictions))))"
   ]
  }
 ],
 "metadata": {
  "kernelspec": {
   "display_name": "Python 3",
   "language": "python",
   "name": "python3"
  },
  "language_info": {
   "codemirror_mode": {
    "name": "ipython",
    "version": 3
   },
   "file_extension": ".py",
   "mimetype": "text/x-python",
   "name": "python",
   "nbconvert_exporter": "python",
   "pygments_lexer": "ipython3",
   "version": "3.8.5"
  }
 },
 "nbformat": 4,
 "nbformat_minor": 4
}
