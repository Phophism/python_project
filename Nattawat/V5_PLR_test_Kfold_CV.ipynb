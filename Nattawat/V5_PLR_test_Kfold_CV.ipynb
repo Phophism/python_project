{
 "cells": [
  {
   "cell_type": "markdown",
   "metadata": {},
   "source": [
    "## Degue vs Environmental Analysis.\n",
    "\n",
    "\n",
    "### Import Libraries"
   ]
  },
  {
   "cell_type": "code",
   "execution_count": 1,
   "metadata": {},
   "outputs": [],
   "source": [
    "import pandas as pd\n",
    "import numpy as np\n",
    "import seaborn as sns\n",
    "import matplotlib.pyplot as plt\n",
    "import sklearn\n",
    "%matplotlib inline\n",
    "%config InlineBackend.figure_format = 'retina'\n",
    "\n",
    "import warnings\n",
    "warnings.filterwarnings(\"ignore\")"
   ]
  },
  {
   "cell_type": "code",
   "execution_count": 2,
   "metadata": {},
   "outputs": [
    {
     "name": "stdout",
     "output_type": "stream",
     "text": [
      "pandas version: 1.3.2\n",
      "numpy version: 1.20.3\n",
      "seaborn version: 0.11.2\n",
      "sklearn version: 0.24.2\n"
     ]
    }
   ],
   "source": [
    "# Check version\n",
    "print(f'pandas version: {pd.__version__}')\n",
    "print(f'numpy version: {np.__version__}')\n",
    "print(f'seaborn version: {sns.__version__}')\n",
    "print(f'sklearn version: {sklearn.__version__}')"
   ]
  },
  {
   "cell_type": "markdown",
   "metadata": {},
   "source": [
    "### Input Data from CSV file."
   ]
  },
  {
   "cell_type": "code",
   "execution_count": 3,
   "metadata": {},
   "outputs": [],
   "source": [
    "# Read in Data set\n",
    "df= pd.read_csv('dengue_preprocessing.csv',header= 0,encoding= 'unicode_escape')"
   ]
  },
  {
   "cell_type": "code",
   "execution_count": 4,
   "metadata": {},
   "outputs": [],
   "source": [
    "df = df.drop(columns=['province', 'year'])"
   ]
  },
  {
   "cell_type": "code",
   "execution_count": 5,
   "metadata": {},
   "outputs": [
    {
     "data": {
      "text/html": [
       "<div>\n",
       "<style scoped>\n",
       "    .dataframe tbody tr th:only-of-type {\n",
       "        vertical-align: middle;\n",
       "    }\n",
       "\n",
       "    .dataframe tbody tr th {\n",
       "        vertical-align: top;\n",
       "    }\n",
       "\n",
       "    .dataframe thead th {\n",
       "        text-align: right;\n",
       "    }\n",
       "</style>\n",
       "<table border=\"1\" class=\"dataframe\">\n",
       "  <thead>\n",
       "    <tr style=\"text-align: right;\">\n",
       "      <th></th>\n",
       "      <th>year_num</th>\n",
       "      <th>province_num</th>\n",
       "      <th>day_raindrop</th>\n",
       "      <th>quant_rain</th>\n",
       "      <th>humbidity_perc</th>\n",
       "      <th>temp_max</th>\n",
       "      <th>temp_min</th>\n",
       "      <th>temp_avg</th>\n",
       "      <th>dead</th>\n",
       "      <th>dead_perc</th>\n",
       "      <th>patient</th>\n",
       "    </tr>\n",
       "  </thead>\n",
       "  <tbody>\n",
       "    <tr>\n",
       "      <th>count</th>\n",
       "      <td>385.000000</td>\n",
       "      <td>385.000000</td>\n",
       "      <td>385.000000</td>\n",
       "      <td>385.000000</td>\n",
       "      <td>385.000000</td>\n",
       "      <td>385.000000</td>\n",
       "      <td>385.000000</td>\n",
       "      <td>385.000000</td>\n",
       "      <td>385.000000</td>\n",
       "      <td>385.000000</td>\n",
       "      <td>385.000000</td>\n",
       "    </tr>\n",
       "    <tr>\n",
       "      <th>mean</th>\n",
       "      <td>3.000000</td>\n",
       "      <td>39.000000</td>\n",
       "      <td>122.929870</td>\n",
       "      <td>1543.319740</td>\n",
       "      <td>74.789351</td>\n",
       "      <td>39.460260</td>\n",
       "      <td>14.781299</td>\n",
       "      <td>27.875455</td>\n",
       "      <td>1.358442</td>\n",
       "      <td>0.090000</td>\n",
       "      <td>1404.485714</td>\n",
       "    </tr>\n",
       "    <tr>\n",
       "      <th>std</th>\n",
       "      <td>1.416054</td>\n",
       "      <td>22.255032</td>\n",
       "      <td>30.138271</td>\n",
       "      <td>774.967638</td>\n",
       "      <td>4.380409</td>\n",
       "      <td>2.236733</td>\n",
       "      <td>3.899928</td>\n",
       "      <td>1.024079</td>\n",
       "      <td>2.354370</td>\n",
       "      <td>0.126734</td>\n",
       "      <td>1363.167218</td>\n",
       "    </tr>\n",
       "    <tr>\n",
       "      <th>min</th>\n",
       "      <td>1.000000</td>\n",
       "      <td>1.000000</td>\n",
       "      <td>75.000000</td>\n",
       "      <td>513.200000</td>\n",
       "      <td>63.900000</td>\n",
       "      <td>24.000000</td>\n",
       "      <td>0.600000</td>\n",
       "      <td>23.600000</td>\n",
       "      <td>0.000000</td>\n",
       "      <td>0.000000</td>\n",
       "      <td>62.000000</td>\n",
       "    </tr>\n",
       "    <tr>\n",
       "      <th>25%</th>\n",
       "      <td>2.000000</td>\n",
       "      <td>20.000000</td>\n",
       "      <td>101.000000</td>\n",
       "      <td>1023.500000</td>\n",
       "      <td>71.400000</td>\n",
       "      <td>37.900000</td>\n",
       "      <td>11.600000</td>\n",
       "      <td>27.300000</td>\n",
       "      <td>0.000000</td>\n",
       "      <td>0.000000</td>\n",
       "      <td>510.000000</td>\n",
       "    </tr>\n",
       "    <tr>\n",
       "      <th>50%</th>\n",
       "      <td>3.000000</td>\n",
       "      <td>39.000000</td>\n",
       "      <td>114.000000</td>\n",
       "      <td>1308.700000</td>\n",
       "      <td>74.300000</td>\n",
       "      <td>39.700000</td>\n",
       "      <td>14.800000</td>\n",
       "      <td>27.900000</td>\n",
       "      <td>1.000000</td>\n",
       "      <td>0.040000</td>\n",
       "      <td>938.000000</td>\n",
       "    </tr>\n",
       "    <tr>\n",
       "      <th>75%</th>\n",
       "      <td>4.000000</td>\n",
       "      <td>58.000000</td>\n",
       "      <td>141.000000</td>\n",
       "      <td>1794.900000</td>\n",
       "      <td>77.700000</td>\n",
       "      <td>41.200000</td>\n",
       "      <td>18.200000</td>\n",
       "      <td>28.600000</td>\n",
       "      <td>2.000000</td>\n",
       "      <td>0.140000</td>\n",
       "      <td>1821.000000</td>\n",
       "    </tr>\n",
       "    <tr>\n",
       "      <th>max</th>\n",
       "      <td>5.000000</td>\n",
       "      <td>77.000000</td>\n",
       "      <td>220.000000</td>\n",
       "      <td>5287.300000</td>\n",
       "      <td>85.000000</td>\n",
       "      <td>43.400000</td>\n",
       "      <td>23.400000</td>\n",
       "      <td>31.300000</td>\n",
       "      <td>19.000000</td>\n",
       "      <td>0.880000</td>\n",
       "      <td>8279.000000</td>\n",
       "    </tr>\n",
       "  </tbody>\n",
       "</table>\n",
       "</div>"
      ],
      "text/plain": [
       "         year_num  province_num  day_raindrop   quant_rain  humbidity_perc  \\\n",
       "count  385.000000    385.000000    385.000000   385.000000      385.000000   \n",
       "mean     3.000000     39.000000    122.929870  1543.319740       74.789351   \n",
       "std      1.416054     22.255032     30.138271   774.967638        4.380409   \n",
       "min      1.000000      1.000000     75.000000   513.200000       63.900000   \n",
       "25%      2.000000     20.000000    101.000000  1023.500000       71.400000   \n",
       "50%      3.000000     39.000000    114.000000  1308.700000       74.300000   \n",
       "75%      4.000000     58.000000    141.000000  1794.900000       77.700000   \n",
       "max      5.000000     77.000000    220.000000  5287.300000       85.000000   \n",
       "\n",
       "         temp_max    temp_min    temp_avg        dead   dead_perc      patient  \n",
       "count  385.000000  385.000000  385.000000  385.000000  385.000000   385.000000  \n",
       "mean    39.460260   14.781299   27.875455    1.358442    0.090000  1404.485714  \n",
       "std      2.236733    3.899928    1.024079    2.354370    0.126734  1363.167218  \n",
       "min     24.000000    0.600000   23.600000    0.000000    0.000000    62.000000  \n",
       "25%     37.900000   11.600000   27.300000    0.000000    0.000000   510.000000  \n",
       "50%     39.700000   14.800000   27.900000    1.000000    0.040000   938.000000  \n",
       "75%     41.200000   18.200000   28.600000    2.000000    0.140000  1821.000000  \n",
       "max     43.400000   23.400000   31.300000   19.000000    0.880000  8279.000000  "
      ]
     },
     "execution_count": 5,
     "metadata": {},
     "output_type": "execute_result"
    }
   ],
   "source": [
    "df.describe()"
   ]
  },
  {
   "cell_type": "code",
   "execution_count": 6,
   "metadata": {},
   "outputs": [
    {
     "data": {
      "text/plain": [
       "Index(['year_num', 'province_num', 'day_raindrop', 'quant_rain',\n",
       "       'humbidity_perc', 'temp_max', 'temp_min', 'temp_avg', 'dead',\n",
       "       'dead_perc', 'patient'],\n",
       "      dtype='object')"
      ]
     },
     "execution_count": 6,
     "metadata": {},
     "output_type": "execute_result"
    }
   ],
   "source": [
    "df.columns"
   ]
  },
  {
   "cell_type": "code",
   "execution_count": 7,
   "metadata": {},
   "outputs": [],
   "source": [
    "# Transformation\n",
    "df_num  = df[['day_raindrop', 'quant_rain', 'humbidity_perc','temp_max', 'temp_min', 'temp_avg', 'dead', 'dead_perc']]"
   ]
  },
  {
   "cell_type": "code",
   "execution_count": 8,
   "metadata": {},
   "outputs": [],
   "source": [
    "# Choice of Numerical varialable.\n",
    "\n",
    "#from sklearn.preprocessing import StandardScaler\n",
    "from sklearn.preprocessing import MinMaxScaler"
   ]
  },
  {
   "cell_type": "code",
   "execution_count": 9,
   "metadata": {},
   "outputs": [
    {
     "data": {
      "text/html": [
       "<div>\n",
       "<style scoped>\n",
       "    .dataframe tbody tr th:only-of-type {\n",
       "        vertical-align: middle;\n",
       "    }\n",
       "\n",
       "    .dataframe tbody tr th {\n",
       "        vertical-align: top;\n",
       "    }\n",
       "\n",
       "    .dataframe thead th {\n",
       "        text-align: right;\n",
       "    }\n",
       "</style>\n",
       "<table border=\"1\" class=\"dataframe\">\n",
       "  <thead>\n",
       "    <tr style=\"text-align: right;\">\n",
       "      <th></th>\n",
       "      <th>day_raindrop</th>\n",
       "      <th>quant_rain</th>\n",
       "      <th>humbidity_perc</th>\n",
       "      <th>temp_max</th>\n",
       "      <th>temp_min</th>\n",
       "      <th>temp_avg</th>\n",
       "      <th>dead</th>\n",
       "      <th>dead_perc</th>\n",
       "    </tr>\n",
       "  </thead>\n",
       "  <tbody>\n",
       "    <tr>\n",
       "      <th>380</th>\n",
       "      <td>0.248276</td>\n",
       "      <td>0.094531</td>\n",
       "      <td>0.218009</td>\n",
       "      <td>0.855670</td>\n",
       "      <td>0.535088</td>\n",
       "      <td>0.402597</td>\n",
       "      <td>0.000000</td>\n",
       "      <td>0.000000</td>\n",
       "    </tr>\n",
       "    <tr>\n",
       "      <th>381</th>\n",
       "      <td>0.172414</td>\n",
       "      <td>0.147588</td>\n",
       "      <td>0.270142</td>\n",
       "      <td>0.953608</td>\n",
       "      <td>0.504386</td>\n",
       "      <td>0.480519</td>\n",
       "      <td>0.052632</td>\n",
       "      <td>0.045455</td>\n",
       "    </tr>\n",
       "    <tr>\n",
       "      <th>382</th>\n",
       "      <td>0.075862</td>\n",
       "      <td>0.120002</td>\n",
       "      <td>0.170616</td>\n",
       "      <td>0.979381</td>\n",
       "      <td>0.587719</td>\n",
       "      <td>0.636364</td>\n",
       "      <td>0.052632</td>\n",
       "      <td>0.193182</td>\n",
       "    </tr>\n",
       "    <tr>\n",
       "      <th>383</th>\n",
       "      <td>0.117241</td>\n",
       "      <td>0.060870</td>\n",
       "      <td>0.355450</td>\n",
       "      <td>0.953608</td>\n",
       "      <td>0.649123</td>\n",
       "      <td>0.694805</td>\n",
       "      <td>0.000000</td>\n",
       "      <td>0.000000</td>\n",
       "    </tr>\n",
       "    <tr>\n",
       "      <th>384</th>\n",
       "      <td>0.248276</td>\n",
       "      <td>0.226619</td>\n",
       "      <td>0.218009</td>\n",
       "      <td>0.855670</td>\n",
       "      <td>0.596491</td>\n",
       "      <td>0.493506</td>\n",
       "      <td>0.157895</td>\n",
       "      <td>0.159091</td>\n",
       "    </tr>\n",
       "  </tbody>\n",
       "</table>\n",
       "</div>"
      ],
      "text/plain": [
       "     day_raindrop  quant_rain  humbidity_perc  temp_max  temp_min  temp_avg  \\\n",
       "380      0.248276    0.094531        0.218009  0.855670  0.535088  0.402597   \n",
       "381      0.172414    0.147588        0.270142  0.953608  0.504386  0.480519   \n",
       "382      0.075862    0.120002        0.170616  0.979381  0.587719  0.636364   \n",
       "383      0.117241    0.060870        0.355450  0.953608  0.649123  0.694805   \n",
       "384      0.248276    0.226619        0.218009  0.855670  0.596491  0.493506   \n",
       "\n",
       "         dead  dead_perc  \n",
       "380  0.000000   0.000000  \n",
       "381  0.052632   0.045455  \n",
       "382  0.052632   0.193182  \n",
       "383  0.000000   0.000000  \n",
       "384  0.157895   0.159091  "
      ]
     },
     "metadata": {},
     "output_type": "display_data"
    }
   ],
   "source": [
    "# Version1: select MinMax\n",
    "\n",
    "num_column = df_num.dtypes[df_num.dtypes != 'object'].index\n",
    "\n",
    "# Initialize a scaler, then apply it to the features\n",
    "scaler = MinMaxScaler() # default=(0, 1)\n",
    "\n",
    "std_transform_feat = pd.DataFrame(data = df_num)\n",
    "std_transform_feat[num_column] = scaler.fit_transform(df_num[num_column])\n",
    "\n",
    "# Show an example of a record with scaling applied\n",
    "display(std_transform_feat.tail())"
   ]
  },
  {
   "cell_type": "code",
   "execution_count": 10,
   "metadata": {},
   "outputs": [],
   "source": [
    "# log transform to target variable impove RMSE value.\n",
    "\n",
    "#df['patient'] = np.log(df['patient'])"
   ]
  },
  {
   "cell_type": "code",
   "execution_count": 11,
   "metadata": {},
   "outputs": [],
   "source": [
    "df_cat = df[['year_num', 'province_num']]\n",
    "y_tar = df[['patient']]"
   ]
  },
  {
   "cell_type": "code",
   "execution_count": 12,
   "metadata": {},
   "outputs": [],
   "source": [
    "# Concat all numerical feature to DataFrame\n",
    "df_pre = pd.concat((df_cat, std_transform_feat,y_tar),axis=1)"
   ]
  },
  {
   "cell_type": "code",
   "execution_count": 13,
   "metadata": {},
   "outputs": [
    {
     "data": {
      "text/html": [
       "<div>\n",
       "<style scoped>\n",
       "    .dataframe tbody tr th:only-of-type {\n",
       "        vertical-align: middle;\n",
       "    }\n",
       "\n",
       "    .dataframe tbody tr th {\n",
       "        vertical-align: top;\n",
       "    }\n",
       "\n",
       "    .dataframe thead th {\n",
       "        text-align: right;\n",
       "    }\n",
       "</style>\n",
       "<table border=\"1\" class=\"dataframe\">\n",
       "  <thead>\n",
       "    <tr style=\"text-align: right;\">\n",
       "      <th></th>\n",
       "      <th>year_num</th>\n",
       "      <th>province_num</th>\n",
       "      <th>day_raindrop</th>\n",
       "      <th>quant_rain</th>\n",
       "      <th>humbidity_perc</th>\n",
       "      <th>temp_max</th>\n",
       "      <th>temp_min</th>\n",
       "      <th>temp_avg</th>\n",
       "      <th>dead</th>\n",
       "      <th>dead_perc</th>\n",
       "      <th>patient</th>\n",
       "    </tr>\n",
       "  </thead>\n",
       "  <tbody>\n",
       "    <tr>\n",
       "      <th>count</th>\n",
       "      <td>385.00</td>\n",
       "      <td>385.00</td>\n",
       "      <td>385.00</td>\n",
       "      <td>385.00</td>\n",
       "      <td>385.00</td>\n",
       "      <td>385.00</td>\n",
       "      <td>385.00</td>\n",
       "      <td>385.00</td>\n",
       "      <td>385.00</td>\n",
       "      <td>385.00</td>\n",
       "      <td>385.00</td>\n",
       "    </tr>\n",
       "    <tr>\n",
       "      <th>mean</th>\n",
       "      <td>3.00</td>\n",
       "      <td>39.00</td>\n",
       "      <td>0.33</td>\n",
       "      <td>0.22</td>\n",
       "      <td>0.52</td>\n",
       "      <td>0.80</td>\n",
       "      <td>0.62</td>\n",
       "      <td>0.56</td>\n",
       "      <td>0.07</td>\n",
       "      <td>0.10</td>\n",
       "      <td>1404.49</td>\n",
       "    </tr>\n",
       "    <tr>\n",
       "      <th>std</th>\n",
       "      <td>1.42</td>\n",
       "      <td>22.26</td>\n",
       "      <td>0.21</td>\n",
       "      <td>0.16</td>\n",
       "      <td>0.21</td>\n",
       "      <td>0.12</td>\n",
       "      <td>0.17</td>\n",
       "      <td>0.13</td>\n",
       "      <td>0.12</td>\n",
       "      <td>0.14</td>\n",
       "      <td>1363.17</td>\n",
       "    </tr>\n",
       "    <tr>\n",
       "      <th>min</th>\n",
       "      <td>1.00</td>\n",
       "      <td>1.00</td>\n",
       "      <td>0.00</td>\n",
       "      <td>0.00</td>\n",
       "      <td>0.00</td>\n",
       "      <td>0.00</td>\n",
       "      <td>0.00</td>\n",
       "      <td>0.00</td>\n",
       "      <td>0.00</td>\n",
       "      <td>0.00</td>\n",
       "      <td>62.00</td>\n",
       "    </tr>\n",
       "    <tr>\n",
       "      <th>25%</th>\n",
       "      <td>2.00</td>\n",
       "      <td>20.00</td>\n",
       "      <td>0.18</td>\n",
       "      <td>0.11</td>\n",
       "      <td>0.36</td>\n",
       "      <td>0.72</td>\n",
       "      <td>0.48</td>\n",
       "      <td>0.48</td>\n",
       "      <td>0.00</td>\n",
       "      <td>0.00</td>\n",
       "      <td>510.00</td>\n",
       "    </tr>\n",
       "    <tr>\n",
       "      <th>50%</th>\n",
       "      <td>3.00</td>\n",
       "      <td>39.00</td>\n",
       "      <td>0.27</td>\n",
       "      <td>0.17</td>\n",
       "      <td>0.49</td>\n",
       "      <td>0.81</td>\n",
       "      <td>0.62</td>\n",
       "      <td>0.56</td>\n",
       "      <td>0.05</td>\n",
       "      <td>0.05</td>\n",
       "      <td>938.00</td>\n",
       "    </tr>\n",
       "    <tr>\n",
       "      <th>75%</th>\n",
       "      <td>4.00</td>\n",
       "      <td>58.00</td>\n",
       "      <td>0.46</td>\n",
       "      <td>0.27</td>\n",
       "      <td>0.65</td>\n",
       "      <td>0.89</td>\n",
       "      <td>0.77</td>\n",
       "      <td>0.65</td>\n",
       "      <td>0.11</td>\n",
       "      <td>0.16</td>\n",
       "      <td>1821.00</td>\n",
       "    </tr>\n",
       "    <tr>\n",
       "      <th>max</th>\n",
       "      <td>5.00</td>\n",
       "      <td>77.00</td>\n",
       "      <td>1.00</td>\n",
       "      <td>1.00</td>\n",
       "      <td>1.00</td>\n",
       "      <td>1.00</td>\n",
       "      <td>1.00</td>\n",
       "      <td>1.00</td>\n",
       "      <td>1.00</td>\n",
       "      <td>1.00</td>\n",
       "      <td>8279.00</td>\n",
       "    </tr>\n",
       "  </tbody>\n",
       "</table>\n",
       "</div>"
      ],
      "text/plain": [
       "       year_num  province_num  day_raindrop  quant_rain  humbidity_perc  \\\n",
       "count    385.00        385.00        385.00      385.00          385.00   \n",
       "mean       3.00         39.00          0.33        0.22            0.52   \n",
       "std        1.42         22.26          0.21        0.16            0.21   \n",
       "min        1.00          1.00          0.00        0.00            0.00   \n",
       "25%        2.00         20.00          0.18        0.11            0.36   \n",
       "50%        3.00         39.00          0.27        0.17            0.49   \n",
       "75%        4.00         58.00          0.46        0.27            0.65   \n",
       "max        5.00         77.00          1.00        1.00            1.00   \n",
       "\n",
       "       temp_max  temp_min  temp_avg    dead  dead_perc  patient  \n",
       "count    385.00    385.00    385.00  385.00     385.00   385.00  \n",
       "mean       0.80      0.62      0.56    0.07       0.10  1404.49  \n",
       "std        0.12      0.17      0.13    0.12       0.14  1363.17  \n",
       "min        0.00      0.00      0.00    0.00       0.00    62.00  \n",
       "25%        0.72      0.48      0.48    0.00       0.00   510.00  \n",
       "50%        0.81      0.62      0.56    0.05       0.05   938.00  \n",
       "75%        0.89      0.77      0.65    0.11       0.16  1821.00  \n",
       "max        1.00      1.00      1.00    1.00       1.00  8279.00  "
      ]
     },
     "execution_count": 13,
     "metadata": {},
     "output_type": "execute_result"
    }
   ],
   "source": [
    "df_pre.describe().round(2)"
   ]
  },
  {
   "cell_type": "markdown",
   "metadata": {},
   "source": [
    "# Building Linear Regression Model\n",
    "\n",
    "1. Selecting features for Polynomial Regression Model\n",
    "2. Train Test Split or CV\n",
    "3. Creating and Training the Model\n",
    "4. Model Evaluation\n",
    "\n",
    "\n",
    "## Selecting features for Polynomial Regression Model"
   ]
  },
  {
   "cell_type": "code",
   "execution_count": 14,
   "metadata": {},
   "outputs": [
    {
     "data": {
      "text/plain": [
       "Index(['year_num', 'province_num', 'day_raindrop', 'quant_rain',\n",
       "       'humbidity_perc', 'temp_max', 'temp_min', 'temp_avg', 'dead',\n",
       "       'dead_perc', 'patient'],\n",
       "      dtype='object')"
      ]
     },
     "execution_count": 14,
     "metadata": {},
     "output_type": "execute_result"
    }
   ],
   "source": [
    "df_pre.columns"
   ]
  },
  {
   "cell_type": "code",
   "execution_count": 15,
   "metadata": {},
   "outputs": [],
   "source": [
    "X = df_pre[['year_num', 'province_num', 'day_raindrop', 'quant_rain', 'humbidity_perc','temp_max', 'temp_min', 'temp_avg', 'dead', 'dead_perc']]\n",
    "y = df_pre['patient']\n",
    "\n",
    "# 'year_num', 'province_num', 'day_raindrop', 'quant_rain', 'humbidity_perc',"
   ]
  },
  {
   "cell_type": "markdown",
   "metadata": {},
   "source": [
    "## Train Test Split\n",
    "\n",
    "This step we will separate data to train (training set) and test (testing set)\n",
    "* training set use for train model \n",
    "* testing set use for  test model or call that Evaluation \n"
   ]
  },
  {
   "cell_type": "code",
   "execution_count": 16,
   "metadata": {},
   "outputs": [],
   "source": [
    "from sklearn.model_selection import train_test_split\n",
    "\n",
    "# Train dataset X0% and Test dataset X0%.\n",
    "X_train, X_test, y_train, y_test = train_test_split(X, y, test_size=0.2, random_state=17)"
   ]
  },
  {
   "cell_type": "markdown",
   "metadata": {},
   "source": [
    "### K-folds Cross varidation (optional)"
   ]
  },
  {
   "cell_type": "markdown",
   "metadata": {},
   "source": [
    "from sklearn.model_selection import RepeatedKFold \n",
    "\n",
    "kf = RepeatedKFold(n_splits=5, n_repeats=2, random_state=0) \n",
    "\n",
    "for train_index, test_index in kf.split(X):\n",
    "      print(\"Train:\", train_index, \"Validation:\",test_index)\n",
    "        \n",
    "      X_train, X_test = X[train_index], X[test_index] \n",
    "      y_train, y_test = y[train_index], y[test_index]"
   ]
  },
  {
   "cell_type": "code",
   "execution_count": 17,
   "metadata": {},
   "outputs": [],
   "source": [
    "X_train, y_train = np.array(X_train), np.array(y_train)\n",
    "X_test, y_test = np.array(X_test), np.array(y_test)"
   ]
  },
  {
   "cell_type": "markdown",
   "metadata": {},
   "source": [
    "## Creating and Training the Model"
   ]
  },
  {
   "cell_type": "code",
   "execution_count": 18,
   "metadata": {},
   "outputs": [],
   "source": [
    "from sklearn.linear_model import LinearRegression\n",
    "from sklearn.preprocessing import PolynomialFeatures\n",
    "\n",
    "X_train_poly = PolynomialFeatures(degree=2, include_bias=False).fit_transform(X_train)\n",
    "X_test_poly = PolynomialFeatures(degree=2, include_bias=False).fit_transform(X_test)"
   ]
  },
  {
   "cell_type": "code",
   "execution_count": 19,
   "metadata": {},
   "outputs": [],
   "source": [
    "# Try to use simple model: Linear Regression.\n",
    "model = LinearRegression().fit(X_train_poly, y_train)"
   ]
  },
  {
   "cell_type": "markdown",
   "metadata": {},
   "source": [
    "## Model Evaluation\n",
    "\n",
    "evaluate model by visit coefficients of each item"
   ]
  },
  {
   "cell_type": "code",
   "execution_count": 20,
   "metadata": {},
   "outputs": [
    {
     "name": "stdout",
     "output_type": "stream",
     "text": [
      "coefficient of determination(R_squar_score): 0.8341915411193735\n"
     ]
    }
   ],
   "source": [
    "r_sq = model.score(X_train_poly, y_train)\n",
    "print('coefficient of determination(R_squar_score):', r_sq)"
   ]
  },
  {
   "cell_type": "code",
   "execution_count": 21,
   "metadata": {},
   "outputs": [
    {
     "name": "stdout",
     "output_type": "stream",
     "text": [
      "intercept: 8478.313860334949\n"
     ]
    }
   ],
   "source": [
    "print('intercept:', model.intercept_)"
   ]
  },
  {
   "cell_type": "markdown",
   "metadata": {},
   "source": [
    "## Predictions from our Model"
   ]
  },
  {
   "cell_type": "code",
   "execution_count": 22,
   "metadata": {},
   "outputs": [],
   "source": [
    "# Predicting \n",
    "predictions = model.predict(X_test_poly)"
   ]
  },
  {
   "cell_type": "code",
   "execution_count": 30,
   "metadata": {},
   "outputs": [
    {
     "data": {
      "image/png": "[encoded data removed]",
      "text/plain": [
       "<Figure size 432x288 with 1 Axes>"
      ]
     },
     "metadata": {
      "image/png": {
       "height": 261,
       "width": 395
      },
      "needs_background": "light"
     },
     "output_type": "display_data"
    }
   ],
   "source": [
    "# plot predictions against actual\n",
    "\n",
    "plot_k = sns.scatterplot(y_test,predictions)\n",
    "plot_k.set(xlabel='Actual', ylabel='Prediction')\n",
    "# generate and graph y = x line\n",
    "x_plot = np.linspace(0,7500,10000)\n",
    "y_plot = x_plot\n",
    "plt.plot(x_plot, y_plot, color='r')\n",
    "plt.show()\n",
    "\n",
    "# Simulate linear line"
   ]
  },
  {
   "cell_type": "markdown",
   "metadata": {},
   "source": [
    "## Prediction"
   ]
  },
  {
   "cell_type": "markdown",
   "metadata": {},
   "source": [
    "### Actual value and the predicted value"
   ]
  },
  {
   "cell_type": "code",
   "execution_count": 24,
   "metadata": {},
   "outputs": [],
   "source": [
    "# Province \n",
    "province = pd.Series(['Pattalung','Nakornsrithamarat','Pang-Nga','Surin','Rayong','Prachinburi','Udonthani','Songkhla',\n",
    "           'Lamphoon','Nongbualamphu','Samutsongkram','Nakornrachasrima','Ubonrachathani','Kanjanaburi',\n",
    "           'Trang','Nakornprathom','Nakornprathom','Narathiwat','Amnajcharean','Singburi','Pattalung'])\n",
    "pv = pd.DataFrame(province, columns=[\"Province\"])"
   ]
  },
  {
   "cell_type": "code",
   "execution_count": 25,
   "metadata": {},
   "outputs": [],
   "source": [
    "# Years 2016-2020\n",
    "year = pd.Series(['2016','2020','2019','2019','2020','2017','2018','2017','2017','2016','2018','2016','2020','2020',\n",
    "                  '2020','2017','2018','2017','2020','2020','2017'])\n",
    "years = pd.DataFrame(year, columns=[\"Year\"])"
   ]
  },
  {
   "cell_type": "code",
   "execution_count": 26,
   "metadata": {},
   "outputs": [],
   "source": [
    "#Actual value and the predicted value\n",
    "mlr_diff = pd.DataFrame({'Actual value': y_test, 'Predicted value': predictions})"
   ]
  },
  {
   "cell_type": "code",
   "execution_count": 27,
   "metadata": {},
   "outputs": [
    {
     "data": {
      "text/html": [
       "<div>\n",
       "<style scoped>\n",
       "    .dataframe tbody tr th:only-of-type {\n",
       "        vertical-align: middle;\n",
       "    }\n",
       "\n",
       "    .dataframe tbody tr th {\n",
       "        vertical-align: top;\n",
       "    }\n",
       "\n",
       "    .dataframe thead th {\n",
       "        text-align: right;\n",
       "    }\n",
       "</style>\n",
       "<table border=\"1\" class=\"dataframe\">\n",
       "  <thead>\n",
       "    <tr style=\"text-align: right;\">\n",
       "      <th></th>\n",
       "      <th>Province</th>\n",
       "      <th>Year</th>\n",
       "      <th>Actual value</th>\n",
       "      <th>Predicted value</th>\n",
       "    </tr>\n",
       "  </thead>\n",
       "  <tbody>\n",
       "    <tr>\n",
       "      <th>0</th>\n",
       "      <td>Pattalung</td>\n",
       "      <td>2016</td>\n",
       "      <td>837</td>\n",
       "      <td>670.859924</td>\n",
       "    </tr>\n",
       "    <tr>\n",
       "      <th>1</th>\n",
       "      <td>Nakornsrithamarat</td>\n",
       "      <td>2020</td>\n",
       "      <td>3419</td>\n",
       "      <td>4024.796426</td>\n",
       "    </tr>\n",
       "    <tr>\n",
       "      <th>2</th>\n",
       "      <td>Pang-Nga</td>\n",
       "      <td>2019</td>\n",
       "      <td>929</td>\n",
       "      <td>1467.842953</td>\n",
       "    </tr>\n",
       "    <tr>\n",
       "      <th>3</th>\n",
       "      <td>Surin</td>\n",
       "      <td>2019</td>\n",
       "      <td>3600</td>\n",
       "      <td>2796.975016</td>\n",
       "    </tr>\n",
       "    <tr>\n",
       "      <th>4</th>\n",
       "      <td>Rayong</td>\n",
       "      <td>2020</td>\n",
       "      <td>1155</td>\n",
       "      <td>853.749229</td>\n",
       "    </tr>\n",
       "    <tr>\n",
       "      <th>5</th>\n",
       "      <td>Prachinburi</td>\n",
       "      <td>2017</td>\n",
       "      <td>295</td>\n",
       "      <td>442.073246</td>\n",
       "    </tr>\n",
       "    <tr>\n",
       "      <th>6</th>\n",
       "      <td>Udonthani</td>\n",
       "      <td>2018</td>\n",
       "      <td>1542</td>\n",
       "      <td>1350.976802</td>\n",
       "    </tr>\n",
       "    <tr>\n",
       "      <th>7</th>\n",
       "      <td>Songkhla</td>\n",
       "      <td>2017</td>\n",
       "      <td>7314</td>\n",
       "      <td>7472.123127</td>\n",
       "    </tr>\n",
       "    <tr>\n",
       "      <th>8</th>\n",
       "      <td>Lamphoon</td>\n",
       "      <td>2017</td>\n",
       "      <td>271</td>\n",
       "      <td>-244.214709</td>\n",
       "    </tr>\n",
       "    <tr>\n",
       "      <th>9</th>\n",
       "      <td>Nongbualamphu</td>\n",
       "      <td>2016</td>\n",
       "      <td>1557</td>\n",
       "      <td>845.457907</td>\n",
       "    </tr>\n",
       "    <tr>\n",
       "      <th>10</th>\n",
       "      <td>Samutsongkram</td>\n",
       "      <td>2018</td>\n",
       "      <td>368</td>\n",
       "      <td>221.065791</td>\n",
       "    </tr>\n",
       "    <tr>\n",
       "      <th>11</th>\n",
       "      <td>Nakornrachasrima</td>\n",
       "      <td>2016</td>\n",
       "      <td>7194</td>\n",
       "      <td>9131.088890</td>\n",
       "    </tr>\n",
       "    <tr>\n",
       "      <th>12</th>\n",
       "      <td>Ubonrachathani</td>\n",
       "      <td>2020</td>\n",
       "      <td>2092</td>\n",
       "      <td>2635.773511</td>\n",
       "    </tr>\n",
       "    <tr>\n",
       "      <th>13</th>\n",
       "      <td>Kanjanaburi</td>\n",
       "      <td>2020</td>\n",
       "      <td>1491</td>\n",
       "      <td>1769.509950</td>\n",
       "    </tr>\n",
       "    <tr>\n",
       "      <th>14</th>\n",
       "      <td>Trang</td>\n",
       "      <td>2020</td>\n",
       "      <td>3211</td>\n",
       "      <td>3225.647126</td>\n",
       "    </tr>\n",
       "    <tr>\n",
       "      <th>15</th>\n",
       "      <td>Nakornprathom</td>\n",
       "      <td>2017</td>\n",
       "      <td>580</td>\n",
       "      <td>551.858753</td>\n",
       "    </tr>\n",
       "    <tr>\n",
       "      <th>16</th>\n",
       "      <td>Nakornprathom</td>\n",
       "      <td>2018</td>\n",
       "      <td>1950</td>\n",
       "      <td>1488.552027</td>\n",
       "    </tr>\n",
       "    <tr>\n",
       "      <th>17</th>\n",
       "      <td>Narathiwat</td>\n",
       "      <td>2017</td>\n",
       "      <td>5770</td>\n",
       "      <td>4025.746853</td>\n",
       "    </tr>\n",
       "    <tr>\n",
       "      <th>18</th>\n",
       "      <td>Amnajcharean</td>\n",
       "      <td>2020</td>\n",
       "      <td>409</td>\n",
       "      <td>1911.091981</td>\n",
       "    </tr>\n",
       "    <tr>\n",
       "      <th>19</th>\n",
       "      <td>Singburi</td>\n",
       "      <td>2020</td>\n",
       "      <td>790</td>\n",
       "      <td>482.214393</td>\n",
       "    </tr>\n",
       "    <tr>\n",
       "      <th>20</th>\n",
       "      <td>Pattalung</td>\n",
       "      <td>2017</td>\n",
       "      <td>1821</td>\n",
       "      <td>1323.725309</td>\n",
       "    </tr>\n",
       "  </tbody>\n",
       "</table>\n",
       "</div>"
      ],
      "text/plain": [
       "             Province  Year  Actual value  Predicted value\n",
       "0           Pattalung  2016           837       670.859924\n",
       "1   Nakornsrithamarat  2020          3419      4024.796426\n",
       "2            Pang-Nga  2019           929      1467.842953\n",
       "3               Surin  2019          3600      2796.975016\n",
       "4              Rayong  2020          1155       853.749229\n",
       "5         Prachinburi  2017           295       442.073246\n",
       "6           Udonthani  2018          1542      1350.976802\n",
       "7            Songkhla  2017          7314      7472.123127\n",
       "8            Lamphoon  2017           271      -244.214709\n",
       "9       Nongbualamphu  2016          1557       845.457907\n",
       "10      Samutsongkram  2018           368       221.065791\n",
       "11   Nakornrachasrima  2016          7194      9131.088890\n",
       "12     Ubonrachathani  2020          2092      2635.773511\n",
       "13        Kanjanaburi  2020          1491      1769.509950\n",
       "14              Trang  2020          3211      3225.647126\n",
       "15      Nakornprathom  2017           580       551.858753\n",
       "16      Nakornprathom  2018          1950      1488.552027\n",
       "17         Narathiwat  2017          5770      4025.746853\n",
       "18       Amnajcharean  2020           409      1911.091981\n",
       "19           Singburi  2020           790       482.214393\n",
       "20          Pattalung  2017          1821      1323.725309"
      ]
     },
     "execution_count": 27,
     "metadata": {},
     "output_type": "execute_result"
    }
   ],
   "source": [
    "# Show 21 samples to compare Actual value and the predicted value\n",
    "result = pd.concat([pv,years,mlr_diff],axis=1)\n",
    "result.head(21)"
   ]
  },
  {
   "cell_type": "markdown",
   "metadata": {},
   "source": [
    "**Residual Histogram**"
   ]
  },
  {
   "cell_type": "code",
   "execution_count": 28,
   "metadata": {},
   "outputs": [
    {
     "data": {
      "image/png": "[encoded data removed]",
      "text/plain": [
       "<Figure size 432x288 with 1 Axes>"
      ]
     },
     "metadata": {
      "image/png": {
       "height": 250,
       "width": 404
      },
      "needs_background": "light"
     },
     "output_type": "display_data"
    }
   ],
   "source": [
    "sns.distplot((y_test-predictions),bins=50);"
   ]
  },
  {
   "cell_type": "markdown",
   "metadata": {},
   "source": [
    "## Regression Evaluation Metrics\n",
    "\n",
    "\n",
    "Evaluation metrics for regression problems as below:\n",
    "\n",
    "**Coefficient of determination(R2 score)** is used to evaluate the performance of a linear regression model. \n",
    "It is the amount of the variation in the output dependent attribute which is predictable from the input independent variable(s). It is used to check how well-observed results are reproduced by the model, depending on the ratio of total deviation of results described by the model.\n",
    "\n",
    "$$R2= 1- SSres  /  SStot$$\n",
    "\n",
    "**Mean Absolute Error** (MAE): the mean of the absolute value of the errors:\n",
    "\n",
    "$$\\frac 1n\\sum_{i=1}^n|y_i-\\hat{y}_i|$$\n",
    "\n",
    "**Mean Squared Error** (MSE): the mean of the squared errors:\n",
    "\n",
    "$$\\frac 1n\\sum_{i=1}^n(y_i-\\hat{y}_i)^2$$\n",
    "\n",
    "**Root Mean Squared Error** (RMSE): the square root of the mean of the squared errors:\n",
    "\n",
    "$$\\sqrt{\\frac 1n\\sum_{i=1}^n(y_i-\\hat{y}_i)^2}$$\n",
    "\n",
    "**Comparison:**\n",
    "\n",
    "- **MAE** is the easiest to understand, because it's the average error.\n",
    "- **MSE** is more popular than MAE, because MSE \"punishes\" larger errors, which tends to be useful in the real world.\n",
    "- **RMSE** is even more popular than MSE, because RMSE is interpretable in the \"y\" units.\n"
   ]
  },
  {
   "cell_type": "code",
   "execution_count": 31,
   "metadata": {},
   "outputs": [
    {
     "name": "stdout",
     "output_type": "stream",
     "text": [
      "R squared of Training Set: 0.83\n",
      "R squared of Test Set: 0.78\n",
      "Mean Absolute Error (MAE): 544.9456\n",
      "Root Mean Squared Error (RMSE): 753.6509\n"
     ]
    }
   ],
   "source": [
    "from sklearn import metrics\n",
    "from sklearn.metrics import mean_squared_error\n",
    "\n",
    "print('R squared of Training Set: {:.2f}'.format(model.score(X_train_poly,y_train)))\n",
    "print('R squared of Test Set: {:.2f}'.format(model.score(X_test_poly,y_test)))\n",
    "print('Mean Absolute Error (MAE): {:.4f}'.format(metrics.mean_absolute_error(y_test, predictions)))\n",
    "print('Root Mean Squared Error (RMSE): {:.4f}'.format(np.sqrt(metrics.mean_squared_error(y_test, predictions))))"
   ]
  }
 ],
 "metadata": {
  "kernelspec": {
   "display_name": "Python 3 (ipykernel)",
   "language": "python",
   "name": "python3"
  },
  "language_info": {
   "codemirror_mode": {
    "name": "ipython",
    "version": 3
   },
   "file_extension": ".py",
   "mimetype": "text/x-python",
   "name": "python",
   "nbconvert_exporter": "python",
   "pygments_lexer": "ipython3",
   "version": "3.8.8"
  }
 },
 "nbformat": 4,
 "nbformat_minor": 4
}
