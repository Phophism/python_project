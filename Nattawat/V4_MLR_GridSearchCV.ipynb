{
 "cells": [
  {
   "cell_type": "markdown",
   "metadata": {},
   "source": [
    "## Degue vs Environmental Analysis.\n",
    "\n",
    "\n",
    "### Import Libraries"
   ]
  },
  {
   "cell_type": "code",
   "execution_count": 1,
   "metadata": {},
   "outputs": [],
   "source": [
    "import pandas as pd\n",
    "import numpy as np\n",
    "import seaborn as sns\n",
    "import matplotlib.pyplot as plt\n",
    "import sklearn\n",
    "%matplotlib inline\n",
    "%config InlineBackend.figure_format = 'retina'\n",
    "\n",
    "import warnings\n",
    "warnings.filterwarnings(\"ignore\")"
   ]
  },
  {
   "cell_type": "code",
   "execution_count": 2,
   "metadata": {},
   "outputs": [
    {
     "name": "stdout",
     "output_type": "stream",
     "text": [
      "pandas version: 1.1.3\n",
      "numpy version: 1.19.2\n",
      "seaborn version: 0.11.0\n",
      "sklearn version: 0.23.2\n"
     ]
    }
   ],
   "source": [
    "# Check version\n",
    "print(f'pandas version: {pd.__version__}')\n",
    "print(f'numpy version: {np.__version__}')\n",
    "print(f'seaborn version: {sns.__version__}')\n",
    "print(f'sklearn version: {sklearn.__version__}')"
   ]
  },
  {
   "cell_type": "markdown",
   "metadata": {},
   "source": [
    "### Input Data from CSV file."
   ]
  },
  {
   "cell_type": "code",
   "execution_count": 3,
   "metadata": {},
   "outputs": [],
   "source": [
    "# Read in Data set\n",
    "df= pd.read_csv('dengue_preprocessing.csv',header= 0,encoding= 'unicode_escape')"
   ]
  },
  {
   "cell_type": "code",
   "execution_count": 4,
   "metadata": {},
   "outputs": [],
   "source": [
    "# Tempolary data preparation and just use for build model "
   ]
  },
  {
   "cell_type": "code",
   "execution_count": 5,
   "metadata": {},
   "outputs": [],
   "source": [
    "df = df.drop(columns=['province', 'year'])"
   ]
  },
  {
   "cell_type": "code",
   "execution_count": 6,
   "metadata": {},
   "outputs": [
    {
     "data": {
      "text/html": [
       "<div>\n",
       "<style scoped>\n",
       "    .dataframe tbody tr th:only-of-type {\n",
       "        vertical-align: middle;\n",
       "    }\n",
       "\n",
       "    .dataframe tbody tr th {\n",
       "        vertical-align: top;\n",
       "    }\n",
       "\n",
       "    .dataframe thead th {\n",
       "        text-align: right;\n",
       "    }\n",
       "</style>\n",
       "<table border=\"1\" class=\"dataframe\">\n",
       "  <thead>\n",
       "    <tr style=\"text-align: right;\">\n",
       "      <th></th>\n",
       "      <th>year_num</th>\n",
       "      <th>province_num</th>\n",
       "      <th>day_raindrop</th>\n",
       "      <th>quant_rain</th>\n",
       "      <th>humbidity_perc</th>\n",
       "      <th>temp_max</th>\n",
       "      <th>temp_min</th>\n",
       "      <th>temp_avg</th>\n",
       "      <th>dead</th>\n",
       "      <th>dead_perc</th>\n",
       "      <th>patient</th>\n",
       "    </tr>\n",
       "  </thead>\n",
       "  <tbody>\n",
       "    <tr>\n",
       "      <th>count</th>\n",
       "      <td>385.000000</td>\n",
       "      <td>385.000000</td>\n",
       "      <td>385.000000</td>\n",
       "      <td>385.000000</td>\n",
       "      <td>385.000000</td>\n",
       "      <td>385.000000</td>\n",
       "      <td>385.000000</td>\n",
       "      <td>385.000000</td>\n",
       "      <td>385.000000</td>\n",
       "      <td>385.000000</td>\n",
       "      <td>385.000000</td>\n",
       "    </tr>\n",
       "    <tr>\n",
       "      <th>mean</th>\n",
       "      <td>3.000000</td>\n",
       "      <td>39.000000</td>\n",
       "      <td>122.929870</td>\n",
       "      <td>1543.319740</td>\n",
       "      <td>74.789351</td>\n",
       "      <td>39.460260</td>\n",
       "      <td>14.781299</td>\n",
       "      <td>27.875455</td>\n",
       "      <td>1.358442</td>\n",
       "      <td>0.090000</td>\n",
       "      <td>1404.485714</td>\n",
       "    </tr>\n",
       "    <tr>\n",
       "      <th>std</th>\n",
       "      <td>1.416054</td>\n",
       "      <td>22.255032</td>\n",
       "      <td>30.138271</td>\n",
       "      <td>774.967638</td>\n",
       "      <td>4.380409</td>\n",
       "      <td>2.236733</td>\n",
       "      <td>3.899928</td>\n",
       "      <td>1.024079</td>\n",
       "      <td>2.354370</td>\n",
       "      <td>0.126734</td>\n",
       "      <td>1363.167218</td>\n",
       "    </tr>\n",
       "    <tr>\n",
       "      <th>min</th>\n",
       "      <td>1.000000</td>\n",
       "      <td>1.000000</td>\n",
       "      <td>75.000000</td>\n",
       "      <td>513.200000</td>\n",
       "      <td>63.900000</td>\n",
       "      <td>24.000000</td>\n",
       "      <td>0.600000</td>\n",
       "      <td>23.600000</td>\n",
       "      <td>0.000000</td>\n",
       "      <td>0.000000</td>\n",
       "      <td>62.000000</td>\n",
       "    </tr>\n",
       "    <tr>\n",
       "      <th>25%</th>\n",
       "      <td>2.000000</td>\n",
       "      <td>20.000000</td>\n",
       "      <td>101.000000</td>\n",
       "      <td>1023.500000</td>\n",
       "      <td>71.400000</td>\n",
       "      <td>37.900000</td>\n",
       "      <td>11.600000</td>\n",
       "      <td>27.300000</td>\n",
       "      <td>0.000000</td>\n",
       "      <td>0.000000</td>\n",
       "      <td>510.000000</td>\n",
       "    </tr>\n",
       "    <tr>\n",
       "      <th>50%</th>\n",
       "      <td>3.000000</td>\n",
       "      <td>39.000000</td>\n",
       "      <td>114.000000</td>\n",
       "      <td>1308.700000</td>\n",
       "      <td>74.300000</td>\n",
       "      <td>39.700000</td>\n",
       "      <td>14.800000</td>\n",
       "      <td>27.900000</td>\n",
       "      <td>1.000000</td>\n",
       "      <td>0.040000</td>\n",
       "      <td>938.000000</td>\n",
       "    </tr>\n",
       "    <tr>\n",
       "      <th>75%</th>\n",
       "      <td>4.000000</td>\n",
       "      <td>58.000000</td>\n",
       "      <td>141.000000</td>\n",
       "      <td>1794.900000</td>\n",
       "      <td>77.700000</td>\n",
       "      <td>41.200000</td>\n",
       "      <td>18.200000</td>\n",
       "      <td>28.600000</td>\n",
       "      <td>2.000000</td>\n",
       "      <td>0.140000</td>\n",
       "      <td>1821.000000</td>\n",
       "    </tr>\n",
       "    <tr>\n",
       "      <th>max</th>\n",
       "      <td>5.000000</td>\n",
       "      <td>77.000000</td>\n",
       "      <td>220.000000</td>\n",
       "      <td>5287.300000</td>\n",
       "      <td>85.000000</td>\n",
       "      <td>43.400000</td>\n",
       "      <td>23.400000</td>\n",
       "      <td>31.300000</td>\n",
       "      <td>19.000000</td>\n",
       "      <td>0.880000</td>\n",
       "      <td>8279.000000</td>\n",
       "    </tr>\n",
       "  </tbody>\n",
       "</table>\n",
       "</div>"
      ],
      "text/plain": [
       "         year_num  province_num  day_raindrop   quant_rain  humbidity_perc  \\\n",
       "count  385.000000    385.000000    385.000000   385.000000      385.000000   \n",
       "mean     3.000000     39.000000    122.929870  1543.319740       74.789351   \n",
       "std      1.416054     22.255032     30.138271   774.967638        4.380409   \n",
       "min      1.000000      1.000000     75.000000   513.200000       63.900000   \n",
       "25%      2.000000     20.000000    101.000000  1023.500000       71.400000   \n",
       "50%      3.000000     39.000000    114.000000  1308.700000       74.300000   \n",
       "75%      4.000000     58.000000    141.000000  1794.900000       77.700000   \n",
       "max      5.000000     77.000000    220.000000  5287.300000       85.000000   \n",
       "\n",
       "         temp_max    temp_min    temp_avg        dead   dead_perc      patient  \n",
       "count  385.000000  385.000000  385.000000  385.000000  385.000000   385.000000  \n",
       "mean    39.460260   14.781299   27.875455    1.358442    0.090000  1404.485714  \n",
       "std      2.236733    3.899928    1.024079    2.354370    0.126734  1363.167218  \n",
       "min     24.000000    0.600000   23.600000    0.000000    0.000000    62.000000  \n",
       "25%     37.900000   11.600000   27.300000    0.000000    0.000000   510.000000  \n",
       "50%     39.700000   14.800000   27.900000    1.000000    0.040000   938.000000  \n",
       "75%     41.200000   18.200000   28.600000    2.000000    0.140000  1821.000000  \n",
       "max     43.400000   23.400000   31.300000   19.000000    0.880000  8279.000000  "
      ]
     },
     "execution_count": 6,
     "metadata": {},
     "output_type": "execute_result"
    }
   ],
   "source": [
    "df.describe()"
   ]
  },
  {
   "cell_type": "code",
   "execution_count": 7,
   "metadata": {},
   "outputs": [
    {
     "data": {
      "text/plain": [
       "Index(['year_num', 'province_num', 'day_raindrop', 'quant_rain',\n",
       "       'humbidity_perc', 'temp_max', 'temp_min', 'temp_avg', 'dead',\n",
       "       'dead_perc', 'patient'],\n",
       "      dtype='object')"
      ]
     },
     "execution_count": 7,
     "metadata": {},
     "output_type": "execute_result"
    }
   ],
   "source": [
    "df.columns"
   ]
  },
  {
   "cell_type": "code",
   "execution_count": 8,
   "metadata": {},
   "outputs": [],
   "source": [
    "# Transformation\n",
    "df_num  = df[['day_raindrop', 'quant_rain', 'humbidity_perc','temp_max', 'temp_min', 'temp_avg', 'dead', 'dead_perc']]"
   ]
  },
  {
   "cell_type": "code",
   "execution_count": 9,
   "metadata": {},
   "outputs": [],
   "source": [
    "# Choice of Numerical varialable.\n",
    "\n",
    "#from sklearn.preprocessing import StandardScaler\n",
    "from sklearn.preprocessing import MinMaxScaler"
   ]
  },
  {
   "cell_type": "code",
   "execution_count": 10,
   "metadata": {},
   "outputs": [
    {
     "data": {
      "text/html": [
       "<div>\n",
       "<style scoped>\n",
       "    .dataframe tbody tr th:only-of-type {\n",
       "        vertical-align: middle;\n",
       "    }\n",
       "\n",
       "    .dataframe tbody tr th {\n",
       "        vertical-align: top;\n",
       "    }\n",
       "\n",
       "    .dataframe thead th {\n",
       "        text-align: right;\n",
       "    }\n",
       "</style>\n",
       "<table border=\"1\" class=\"dataframe\">\n",
       "  <thead>\n",
       "    <tr style=\"text-align: right;\">\n",
       "      <th></th>\n",
       "      <th>day_raindrop</th>\n",
       "      <th>quant_rain</th>\n",
       "      <th>humbidity_perc</th>\n",
       "      <th>temp_max</th>\n",
       "      <th>temp_min</th>\n",
       "      <th>temp_avg</th>\n",
       "      <th>dead</th>\n",
       "      <th>dead_perc</th>\n",
       "    </tr>\n",
       "  </thead>\n",
       "  <tbody>\n",
       "    <tr>\n",
       "      <th>380</th>\n",
       "      <td>0.248276</td>\n",
       "      <td>0.094531</td>\n",
       "      <td>0.218009</td>\n",
       "      <td>0.855670</td>\n",
       "      <td>0.535088</td>\n",
       "      <td>0.402597</td>\n",
       "      <td>0.000000</td>\n",
       "      <td>0.000000</td>\n",
       "    </tr>\n",
       "    <tr>\n",
       "      <th>381</th>\n",
       "      <td>0.172414</td>\n",
       "      <td>0.147588</td>\n",
       "      <td>0.270142</td>\n",
       "      <td>0.953608</td>\n",
       "      <td>0.504386</td>\n",
       "      <td>0.480519</td>\n",
       "      <td>0.052632</td>\n",
       "      <td>0.045455</td>\n",
       "    </tr>\n",
       "    <tr>\n",
       "      <th>382</th>\n",
       "      <td>0.075862</td>\n",
       "      <td>0.120002</td>\n",
       "      <td>0.170616</td>\n",
       "      <td>0.979381</td>\n",
       "      <td>0.587719</td>\n",
       "      <td>0.636364</td>\n",
       "      <td>0.052632</td>\n",
       "      <td>0.193182</td>\n",
       "    </tr>\n",
       "    <tr>\n",
       "      <th>383</th>\n",
       "      <td>0.117241</td>\n",
       "      <td>0.060870</td>\n",
       "      <td>0.355450</td>\n",
       "      <td>0.953608</td>\n",
       "      <td>0.649123</td>\n",
       "      <td>0.694805</td>\n",
       "      <td>0.000000</td>\n",
       "      <td>0.000000</td>\n",
       "    </tr>\n",
       "    <tr>\n",
       "      <th>384</th>\n",
       "      <td>0.248276</td>\n",
       "      <td>0.226619</td>\n",
       "      <td>0.218009</td>\n",
       "      <td>0.855670</td>\n",
       "      <td>0.596491</td>\n",
       "      <td>0.493506</td>\n",
       "      <td>0.157895</td>\n",
       "      <td>0.159091</td>\n",
       "    </tr>\n",
       "  </tbody>\n",
       "</table>\n",
       "</div>"
      ],
      "text/plain": [
       "     day_raindrop  quant_rain  humbidity_perc  temp_max  temp_min  temp_avg  \\\n",
       "380      0.248276    0.094531        0.218009  0.855670  0.535088  0.402597   \n",
       "381      0.172414    0.147588        0.270142  0.953608  0.504386  0.480519   \n",
       "382      0.075862    0.120002        0.170616  0.979381  0.587719  0.636364   \n",
       "383      0.117241    0.060870        0.355450  0.953608  0.649123  0.694805   \n",
       "384      0.248276    0.226619        0.218009  0.855670  0.596491  0.493506   \n",
       "\n",
       "         dead  dead_perc  \n",
       "380  0.000000   0.000000  \n",
       "381  0.052632   0.045455  \n",
       "382  0.052632   0.193182  \n",
       "383  0.000000   0.000000  \n",
       "384  0.157895   0.159091  "
      ]
     },
     "metadata": {},
     "output_type": "display_data"
    }
   ],
   "source": [
    "# Version1: select MinMax\n",
    "\n",
    "num_column = df_num.dtypes[df_num.dtypes != 'object'].index\n",
    "\n",
    "# Initialize a scaler, then apply it to the features\n",
    "scaler = MinMaxScaler() # default=(0, 1)\n",
    "\n",
    "std_transform_feat = pd.DataFrame(data = df_num)\n",
    "std_transform_feat[num_column] = scaler.fit_transform(df_num[num_column])\n",
    "\n",
    "# Show an example of a record with scaling applied\n",
    "display(std_transform_feat.tail())"
   ]
  },
  {
   "cell_type": "code",
   "execution_count": 11,
   "metadata": {},
   "outputs": [],
   "source": [
    "# log transform to target variable impove RMSE value.\n",
    "\n",
    "#df['patient'] = np.log(df['patient'])"
   ]
  },
  {
   "cell_type": "code",
   "execution_count": 12,
   "metadata": {},
   "outputs": [],
   "source": [
    "df_cat = df[['year_num', 'province_num']]\n",
    "y_tar = df[['patient']]"
   ]
  },
  {
   "cell_type": "code",
   "execution_count": 13,
   "metadata": {},
   "outputs": [],
   "source": [
    "# Concat all numerical feature to DataFrame\n",
    "df_pre = pd.concat((df_cat, std_transform_feat,y_tar),axis=1)"
   ]
  },
  {
   "cell_type": "code",
   "execution_count": 14,
   "metadata": {},
   "outputs": [
    {
     "data": {
      "text/html": [
       "<div>\n",
       "<style scoped>\n",
       "    .dataframe tbody tr th:only-of-type {\n",
       "        vertical-align: middle;\n",
       "    }\n",
       "\n",
       "    .dataframe tbody tr th {\n",
       "        vertical-align: top;\n",
       "    }\n",
       "\n",
       "    .dataframe thead th {\n",
       "        text-align: right;\n",
       "    }\n",
       "</style>\n",
       "<table border=\"1\" class=\"dataframe\">\n",
       "  <thead>\n",
       "    <tr style=\"text-align: right;\">\n",
       "      <th></th>\n",
       "      <th>year_num</th>\n",
       "      <th>province_num</th>\n",
       "      <th>day_raindrop</th>\n",
       "      <th>quant_rain</th>\n",
       "      <th>humbidity_perc</th>\n",
       "      <th>temp_max</th>\n",
       "      <th>temp_min</th>\n",
       "      <th>temp_avg</th>\n",
       "      <th>dead</th>\n",
       "      <th>dead_perc</th>\n",
       "      <th>patient</th>\n",
       "    </tr>\n",
       "  </thead>\n",
       "  <tbody>\n",
       "    <tr>\n",
       "      <th>count</th>\n",
       "      <td>385.00</td>\n",
       "      <td>385.00</td>\n",
       "      <td>385.00</td>\n",
       "      <td>385.00</td>\n",
       "      <td>385.00</td>\n",
       "      <td>385.00</td>\n",
       "      <td>385.00</td>\n",
       "      <td>385.00</td>\n",
       "      <td>385.00</td>\n",
       "      <td>385.00</td>\n",
       "      <td>385.00</td>\n",
       "    </tr>\n",
       "    <tr>\n",
       "      <th>mean</th>\n",
       "      <td>3.00</td>\n",
       "      <td>39.00</td>\n",
       "      <td>0.33</td>\n",
       "      <td>0.22</td>\n",
       "      <td>0.52</td>\n",
       "      <td>0.80</td>\n",
       "      <td>0.62</td>\n",
       "      <td>0.56</td>\n",
       "      <td>0.07</td>\n",
       "      <td>0.10</td>\n",
       "      <td>1404.49</td>\n",
       "    </tr>\n",
       "    <tr>\n",
       "      <th>std</th>\n",
       "      <td>1.42</td>\n",
       "      <td>22.26</td>\n",
       "      <td>0.21</td>\n",
       "      <td>0.16</td>\n",
       "      <td>0.21</td>\n",
       "      <td>0.12</td>\n",
       "      <td>0.17</td>\n",
       "      <td>0.13</td>\n",
       "      <td>0.12</td>\n",
       "      <td>0.14</td>\n",
       "      <td>1363.17</td>\n",
       "    </tr>\n",
       "    <tr>\n",
       "      <th>min</th>\n",
       "      <td>1.00</td>\n",
       "      <td>1.00</td>\n",
       "      <td>0.00</td>\n",
       "      <td>0.00</td>\n",
       "      <td>0.00</td>\n",
       "      <td>0.00</td>\n",
       "      <td>0.00</td>\n",
       "      <td>0.00</td>\n",
       "      <td>0.00</td>\n",
       "      <td>0.00</td>\n",
       "      <td>62.00</td>\n",
       "    </tr>\n",
       "    <tr>\n",
       "      <th>25%</th>\n",
       "      <td>2.00</td>\n",
       "      <td>20.00</td>\n",
       "      <td>0.18</td>\n",
       "      <td>0.11</td>\n",
       "      <td>0.36</td>\n",
       "      <td>0.72</td>\n",
       "      <td>0.48</td>\n",
       "      <td>0.48</td>\n",
       "      <td>0.00</td>\n",
       "      <td>0.00</td>\n",
       "      <td>510.00</td>\n",
       "    </tr>\n",
       "    <tr>\n",
       "      <th>50%</th>\n",
       "      <td>3.00</td>\n",
       "      <td>39.00</td>\n",
       "      <td>0.27</td>\n",
       "      <td>0.17</td>\n",
       "      <td>0.49</td>\n",
       "      <td>0.81</td>\n",
       "      <td>0.62</td>\n",
       "      <td>0.56</td>\n",
       "      <td>0.05</td>\n",
       "      <td>0.05</td>\n",
       "      <td>938.00</td>\n",
       "    </tr>\n",
       "    <tr>\n",
       "      <th>75%</th>\n",
       "      <td>4.00</td>\n",
       "      <td>58.00</td>\n",
       "      <td>0.46</td>\n",
       "      <td>0.27</td>\n",
       "      <td>0.65</td>\n",
       "      <td>0.89</td>\n",
       "      <td>0.77</td>\n",
       "      <td>0.65</td>\n",
       "      <td>0.11</td>\n",
       "      <td>0.16</td>\n",
       "      <td>1821.00</td>\n",
       "    </tr>\n",
       "    <tr>\n",
       "      <th>max</th>\n",
       "      <td>5.00</td>\n",
       "      <td>77.00</td>\n",
       "      <td>1.00</td>\n",
       "      <td>1.00</td>\n",
       "      <td>1.00</td>\n",
       "      <td>1.00</td>\n",
       "      <td>1.00</td>\n",
       "      <td>1.00</td>\n",
       "      <td>1.00</td>\n",
       "      <td>1.00</td>\n",
       "      <td>8279.00</td>\n",
       "    </tr>\n",
       "  </tbody>\n",
       "</table>\n",
       "</div>"
      ],
      "text/plain": [
       "       year_num  province_num  day_raindrop  quant_rain  humbidity_perc  \\\n",
       "count    385.00        385.00        385.00      385.00          385.00   \n",
       "mean       3.00         39.00          0.33        0.22            0.52   \n",
       "std        1.42         22.26          0.21        0.16            0.21   \n",
       "min        1.00          1.00          0.00        0.00            0.00   \n",
       "25%        2.00         20.00          0.18        0.11            0.36   \n",
       "50%        3.00         39.00          0.27        0.17            0.49   \n",
       "75%        4.00         58.00          0.46        0.27            0.65   \n",
       "max        5.00         77.00          1.00        1.00            1.00   \n",
       "\n",
       "       temp_max  temp_min  temp_avg    dead  dead_perc  patient  \n",
       "count    385.00    385.00    385.00  385.00     385.00   385.00  \n",
       "mean       0.80      0.62      0.56    0.07       0.10  1404.49  \n",
       "std        0.12      0.17      0.13    0.12       0.14  1363.17  \n",
       "min        0.00      0.00      0.00    0.00       0.00    62.00  \n",
       "25%        0.72      0.48      0.48    0.00       0.00   510.00  \n",
       "50%        0.81      0.62      0.56    0.05       0.05   938.00  \n",
       "75%        0.89      0.77      0.65    0.11       0.16  1821.00  \n",
       "max        1.00      1.00      1.00    1.00       1.00  8279.00  "
      ]
     },
     "execution_count": 14,
     "metadata": {},
     "output_type": "execute_result"
    }
   ],
   "source": [
    "df_pre.describe().round(2)"
   ]
  },
  {
   "cell_type": "markdown",
   "metadata": {},
   "source": [
    "# Building Linear Regression Model\n",
    "\n",
    "1. Features selection for Linear Regression Model\n",
    "2. Train Test Split\n",
    "3. Creating and Training the Model\n",
    "4. Model Evaluation\n",
    "\n",
    "\n",
    "## Features selection for Regression Model"
   ]
  },
  {
   "cell_type": "code",
   "execution_count": 15,
   "metadata": {},
   "outputs": [
    {
     "data": {
      "text/plain": [
       "Index(['year_num', 'province_num', 'day_raindrop', 'quant_rain',\n",
       "       'humbidity_perc', 'temp_max', 'temp_min', 'temp_avg', 'dead',\n",
       "       'dead_perc', 'patient'],\n",
       "      dtype='object')"
      ]
     },
     "execution_count": 15,
     "metadata": {},
     "output_type": "execute_result"
    }
   ],
   "source": [
    "df_pre.columns"
   ]
  },
  {
   "cell_type": "code",
   "execution_count": 16,
   "metadata": {},
   "outputs": [],
   "source": [
    "X = df_pre[['year_num', 'province_num', 'day_raindrop', 'quant_rain', 'humbidity_perc',\n",
    "       'temp_max', 'temp_min', 'temp_avg', 'dead', 'dead_perc'\n",
    "       ]]\n",
    "y = df_pre['patient']"
   ]
  },
  {
   "cell_type": "markdown",
   "metadata": {},
   "source": [
    "## Train Test Split\n",
    "\n",
    "This step we will separate data to train (training set) and การ test (testing set)\n",
    "* training set use for train model \n",
    "* testing set use for  test model or call that Evaluation \n"
   ]
  },
  {
   "cell_type": "code",
   "execution_count": 17,
   "metadata": {},
   "outputs": [],
   "source": [
    "from sklearn.model_selection import train_test_split"
   ]
  },
  {
   "cell_type": "code",
   "execution_count": 18,
   "metadata": {},
   "outputs": [],
   "source": [
    "# Train dataset 80% and Test dataset 20%.\n",
    "X_train, X_test, y_train, y_test = train_test_split(X, y, test_size=0.2, random_state=17)"
   ]
  },
  {
   "cell_type": "markdown",
   "metadata": {},
   "source": [
    "## Creating and Training the Model"
   ]
  },
  {
   "cell_type": "code",
   "execution_count": 19,
   "metadata": {},
   "outputs": [],
   "source": [
    "from sklearn.linear_model import LinearRegression"
   ]
  },
  {
   "cell_type": "code",
   "execution_count": 20,
   "metadata": {},
   "outputs": [],
   "source": [
    "# Import libraries for tuning hyperparameter\n",
    "\n",
    "from sklearn.preprocessing import scale\n",
    "from sklearn.feature_selection import RFE\n",
    "#from mlxtend.feature_selection import SequentialFeatureSelector as SFS\n",
    "\n",
    "from sklearn.model_selection import cross_val_score\n",
    "from sklearn.model_selection import KFold\n",
    "from sklearn.model_selection import GridSearchCV\n",
    "from sklearn.pipeline import make_pipeline"
   ]
  },
  {
   "cell_type": "code",
   "execution_count": 21,
   "metadata": {},
   "outputs": [
    {
     "data": {
      "text/plain": [
       "10"
      ]
     },
     "execution_count": 21,
     "metadata": {},
     "output_type": "execute_result"
    }
   ],
   "source": [
    "# number of features in X_train\n",
    "len(X_train.columns)"
   ]
  },
  {
   "cell_type": "code",
   "execution_count": 22,
   "metadata": {},
   "outputs": [
    {
     "name": "stdout",
     "output_type": "stream",
     "text": [
      "Fitting 5 folds for each of 10 candidates, totalling 50 fits\n"
     ]
    },
    {
     "name": "stderr",
     "output_type": "stream",
     "text": [
      "[Parallel(n_jobs=1)]: Using backend SequentialBackend with 1 concurrent workers.\n",
      "[Parallel(n_jobs=1)]: Done  50 out of  50 | elapsed:    0.5s finished\n"
     ]
    },
    {
     "data": {
      "text/plain": [
       "GridSearchCV(cv=KFold(n_splits=5, random_state=80, shuffle=False),\n",
       "             estimator=RFE(estimator=LinearRegression()),\n",
       "             param_grid=[{'n_features_to_select': [1, 2, 3, 4, 5, 6, 7, 8, 9,\n",
       "                                                   10]}],\n",
       "             return_train_score=True, scoring='r2', verbose=1)"
      ]
     },
     "execution_count": 22,
     "metadata": {},
     "output_type": "execute_result"
    }
   ],
   "source": [
    "# step-1: create a cross-validation scheme\n",
    "folds = KFold(n_splits = 5, shuffle = False, random_state = 80)\n",
    "\n",
    "# step-2: specify range of hyperparameters to tune\n",
    "hyper_params = [{'n_features_to_select': list(range(1, 11))}]\n",
    "\n",
    "\n",
    "# step-3: perform grid search\n",
    "# 3.1 specify model\n",
    "lm = LinearRegression()\n",
    "lm.fit(X_train, y_train)\n",
    "# Optional\n",
    "rfe = RFE(lm)   # Recursive Feature Elimination\n",
    "#sfs = SFS(lm)   # Sequential Feature Selector\n",
    "\n",
    "# 3.2 call GridSearchCV()\n",
    "model_cv = GridSearchCV(estimator = rfe, \n",
    "                        param_grid = hyper_params, \n",
    "                        scoring= 'r2', \n",
    "                        cv = folds, \n",
    "                        verbose = 1,\n",
    "                        return_train_score=True)      \n",
    "\n",
    "# fit the model\n",
    "model_cv.fit(X_train, y_train)                "
   ]
  },
  {
   "cell_type": "code",
   "execution_count": 23,
   "metadata": {},
   "outputs": [
    {
     "data": {
      "text/plain": [
       "{'n_features_to_select': 2}"
      ]
     },
     "execution_count": 23,
     "metadata": {},
     "output_type": "execute_result"
    }
   ],
   "source": [
    "model_cv.best_params_"
   ]
  },
  {
   "cell_type": "code",
   "execution_count": 24,
   "metadata": {},
   "outputs": [
    {
     "data": {
      "text/plain": [
       "RFE(estimator=LinearRegression(), n_features_to_select=2)"
      ]
     },
     "execution_count": 24,
     "metadata": {},
     "output_type": "execute_result"
    }
   ],
   "source": [
    "model_cv.best_estimator_"
   ]
  },
  {
   "cell_type": "code",
   "execution_count": 25,
   "metadata": {},
   "outputs": [
    {
     "data": {
      "text/plain": [
       "0.43713718025373155"
      ]
     },
     "execution_count": 25,
     "metadata": {},
     "output_type": "execute_result"
    }
   ],
   "source": [
    "model_cv.best_score_"
   ]
  },
  {
   "cell_type": "code",
   "execution_count": 26,
   "metadata": {},
   "outputs": [
    {
     "data": {
      "text/html": [
       "<div>\n",
       "<style scoped>\n",
       "    .dataframe tbody tr th:only-of-type {\n",
       "        vertical-align: middle;\n",
       "    }\n",
       "\n",
       "    .dataframe tbody tr th {\n",
       "        vertical-align: top;\n",
       "    }\n",
       "\n",
       "    .dataframe thead th {\n",
       "        text-align: right;\n",
       "    }\n",
       "</style>\n",
       "<table border=\"1\" class=\"dataframe\">\n",
       "  <thead>\n",
       "    <tr style=\"text-align: right;\">\n",
       "      <th></th>\n",
       "      <th>mean_fit_time</th>\n",
       "      <th>std_fit_time</th>\n",
       "      <th>mean_score_time</th>\n",
       "      <th>std_score_time</th>\n",
       "      <th>param_n_features_to_select</th>\n",
       "      <th>params</th>\n",
       "      <th>split0_test_score</th>\n",
       "      <th>split1_test_score</th>\n",
       "      <th>split2_test_score</th>\n",
       "      <th>split3_test_score</th>\n",
       "      <th>...</th>\n",
       "      <th>mean_test_score</th>\n",
       "      <th>std_test_score</th>\n",
       "      <th>rank_test_score</th>\n",
       "      <th>split0_train_score</th>\n",
       "      <th>split1_train_score</th>\n",
       "      <th>split2_train_score</th>\n",
       "      <th>split3_train_score</th>\n",
       "      <th>split4_train_score</th>\n",
       "      <th>mean_train_score</th>\n",
       "      <th>std_train_score</th>\n",
       "    </tr>\n",
       "  </thead>\n",
       "  <tbody>\n",
       "    <tr>\n",
       "      <th>0</th>\n",
       "      <td>0.020536</td>\n",
       "      <td>0.006106</td>\n",
       "      <td>0.003468</td>\n",
       "      <td>0.006935</td>\n",
       "      <td>1</td>\n",
       "      <td>{'n_features_to_select': 1}</td>\n",
       "      <td>0.050482</td>\n",
       "      <td>0.428281</td>\n",
       "      <td>0.453916</td>\n",
       "      <td>0.441032</td>\n",
       "      <td>...</td>\n",
       "      <td>0.277850</td>\n",
       "      <td>0.200379</td>\n",
       "      <td>10</td>\n",
       "      <td>0.409379</td>\n",
       "      <td>0.324357</td>\n",
       "      <td>0.325124</td>\n",
       "      <td>0.347459</td>\n",
       "      <td>0.398823</td>\n",
       "      <td>0.361029</td>\n",
       "      <td>0.036288</td>\n",
       "    </tr>\n",
       "    <tr>\n",
       "      <th>1</th>\n",
       "      <td>0.012053</td>\n",
       "      <td>0.006641</td>\n",
       "      <td>0.010384</td>\n",
       "      <td>0.016948</td>\n",
       "      <td>2</td>\n",
       "      <td>{'n_features_to_select': 2}</td>\n",
       "      <td>0.230318</td>\n",
       "      <td>0.574209</td>\n",
       "      <td>0.523927</td>\n",
       "      <td>0.617101</td>\n",
       "      <td>...</td>\n",
       "      <td>0.437137</td>\n",
       "      <td>0.167507</td>\n",
       "      <td>1</td>\n",
       "      <td>0.548530</td>\n",
       "      <td>0.466222</td>\n",
       "      <td>0.494695</td>\n",
       "      <td>0.485778</td>\n",
       "      <td>0.535192</td>\n",
       "      <td>0.506083</td>\n",
       "      <td>0.030919</td>\n",
       "    </tr>\n",
       "    <tr>\n",
       "      <th>2</th>\n",
       "      <td>0.010131</td>\n",
       "      <td>0.004287</td>\n",
       "      <td>0.001750</td>\n",
       "      <td>0.002619</td>\n",
       "      <td>3</td>\n",
       "      <td>{'n_features_to_select': 3}</td>\n",
       "      <td>0.233599</td>\n",
       "      <td>0.557440</td>\n",
       "      <td>0.522848</td>\n",
       "      <td>0.620083</td>\n",
       "      <td>...</td>\n",
       "      <td>0.435168</td>\n",
       "      <td>0.164211</td>\n",
       "      <td>2</td>\n",
       "      <td>0.549386</td>\n",
       "      <td>0.473470</td>\n",
       "      <td>0.494907</td>\n",
       "      <td>0.485840</td>\n",
       "      <td>0.536430</td>\n",
       "      <td>0.508007</td>\n",
       "      <td>0.029583</td>\n",
       "    </tr>\n",
       "    <tr>\n",
       "      <th>3</th>\n",
       "      <td>0.005440</td>\n",
       "      <td>0.006786</td>\n",
       "      <td>0.003324</td>\n",
       "      <td>0.006161</td>\n",
       "      <td>4</td>\n",
       "      <td>{'n_features_to_select': 4}</td>\n",
       "      <td>0.081360</td>\n",
       "      <td>0.552626</td>\n",
       "      <td>0.520639</td>\n",
       "      <td>0.599383</td>\n",
       "      <td>...</td>\n",
       "      <td>0.399865</td>\n",
       "      <td>0.201524</td>\n",
       "      <td>7</td>\n",
       "      <td>0.566737</td>\n",
       "      <td>0.479655</td>\n",
       "      <td>0.497877</td>\n",
       "      <td>0.492529</td>\n",
       "      <td>0.538300</td>\n",
       "      <td>0.515020</td>\n",
       "      <td>0.032456</td>\n",
       "    </tr>\n",
       "    <tr>\n",
       "      <th>4</th>\n",
       "      <td>0.006461</td>\n",
       "      <td>0.007921</td>\n",
       "      <td>0.000000</td>\n",
       "      <td>0.000000</td>\n",
       "      <td>5</td>\n",
       "      <td>{'n_features_to_select': 5}</td>\n",
       "      <td>0.066079</td>\n",
       "      <td>0.553289</td>\n",
       "      <td>0.517331</td>\n",
       "      <td>0.594158</td>\n",
       "      <td>...</td>\n",
       "      <td>0.394454</td>\n",
       "      <td>0.205651</td>\n",
       "      <td>9</td>\n",
       "      <td>0.571048</td>\n",
       "      <td>0.480730</td>\n",
       "      <td>0.498468</td>\n",
       "      <td>0.492971</td>\n",
       "      <td>0.539524</td>\n",
       "      <td>0.516548</td>\n",
       "      <td>0.033657</td>\n",
       "    </tr>\n",
       "    <tr>\n",
       "      <th>5</th>\n",
       "      <td>0.002611</td>\n",
       "      <td>0.003334</td>\n",
       "      <td>0.002006</td>\n",
       "      <td>0.003104</td>\n",
       "      <td>6</td>\n",
       "      <td>{'n_features_to_select': 6}</td>\n",
       "      <td>0.062595</td>\n",
       "      <td>0.553166</td>\n",
       "      <td>0.516604</td>\n",
       "      <td>0.597319</td>\n",
       "      <td>...</td>\n",
       "      <td>0.395351</td>\n",
       "      <td>0.206452</td>\n",
       "      <td>8</td>\n",
       "      <td>0.571257</td>\n",
       "      <td>0.481946</td>\n",
       "      <td>0.498490</td>\n",
       "      <td>0.493084</td>\n",
       "      <td>0.540282</td>\n",
       "      <td>0.517012</td>\n",
       "      <td>0.033554</td>\n",
       "    </tr>\n",
       "    <tr>\n",
       "      <th>6</th>\n",
       "      <td>0.004034</td>\n",
       "      <td>0.003357</td>\n",
       "      <td>0.000817</td>\n",
       "      <td>0.001000</td>\n",
       "      <td>7</td>\n",
       "      <td>{'n_features_to_select': 7}</td>\n",
       "      <td>0.095839</td>\n",
       "      <td>0.548694</td>\n",
       "      <td>0.497697</td>\n",
       "      <td>0.595087</td>\n",
       "      <td>...</td>\n",
       "      <td>0.402847</td>\n",
       "      <td>0.188327</td>\n",
       "      <td>6</td>\n",
       "      <td>0.572296</td>\n",
       "      <td>0.482434</td>\n",
       "      <td>0.519328</td>\n",
       "      <td>0.493246</td>\n",
       "      <td>0.551181</td>\n",
       "      <td>0.523697</td>\n",
       "      <td>0.033959</td>\n",
       "    </tr>\n",
       "    <tr>\n",
       "      <th>7</th>\n",
       "      <td>0.001111</td>\n",
       "      <td>0.001448</td>\n",
       "      <td>0.000855</td>\n",
       "      <td>0.001711</td>\n",
       "      <td>8</td>\n",
       "      <td>{'n_features_to_select': 8}</td>\n",
       "      <td>0.098188</td>\n",
       "      <td>0.547176</td>\n",
       "      <td>0.499684</td>\n",
       "      <td>0.611627</td>\n",
       "      <td>...</td>\n",
       "      <td>0.406802</td>\n",
       "      <td>0.190939</td>\n",
       "      <td>3</td>\n",
       "      <td>0.572302</td>\n",
       "      <td>0.497931</td>\n",
       "      <td>0.519458</td>\n",
       "      <td>0.504406</td>\n",
       "      <td>0.551225</td>\n",
       "      <td>0.529064</td>\n",
       "      <td>0.028391</td>\n",
       "    </tr>\n",
       "    <tr>\n",
       "      <th>8</th>\n",
       "      <td>0.003963</td>\n",
       "      <td>0.001131</td>\n",
       "      <td>0.001727</td>\n",
       "      <td>0.000267</td>\n",
       "      <td>9</td>\n",
       "      <td>{'n_features_to_select': 9}</td>\n",
       "      <td>0.091401</td>\n",
       "      <td>0.547506</td>\n",
       "      <td>0.501298</td>\n",
       "      <td>0.612073</td>\n",
       "      <td>...</td>\n",
       "      <td>0.405908</td>\n",
       "      <td>0.193451</td>\n",
       "      <td>4</td>\n",
       "      <td>0.573470</td>\n",
       "      <td>0.497939</td>\n",
       "      <td>0.519472</td>\n",
       "      <td>0.504413</td>\n",
       "      <td>0.551225</td>\n",
       "      <td>0.529304</td>\n",
       "      <td>0.028744</td>\n",
       "    </tr>\n",
       "    <tr>\n",
       "      <th>9</th>\n",
       "      <td>0.002331</td>\n",
       "      <td>0.003901</td>\n",
       "      <td>0.001904</td>\n",
       "      <td>0.003109</td>\n",
       "      <td>10</td>\n",
       "      <td>{'n_features_to_select': 10}</td>\n",
       "      <td>0.091452</td>\n",
       "      <td>0.547687</td>\n",
       "      <td>0.494665</td>\n",
       "      <td>0.612664</td>\n",
       "      <td>...</td>\n",
       "      <td>0.404684</td>\n",
       "      <td>0.192994</td>\n",
       "      <td>5</td>\n",
       "      <td>0.573470</td>\n",
       "      <td>0.497945</td>\n",
       "      <td>0.521243</td>\n",
       "      <td>0.504420</td>\n",
       "      <td>0.551226</td>\n",
       "      <td>0.529661</td>\n",
       "      <td>0.028629</td>\n",
       "    </tr>\n",
       "  </tbody>\n",
       "</table>\n",
       "<p>10 rows × 21 columns</p>\n",
       "</div>"
      ],
      "text/plain": [
       "   mean_fit_time  std_fit_time  mean_score_time  std_score_time  \\\n",
       "0       0.020536      0.006106         0.003468        0.006935   \n",
       "1       0.012053      0.006641         0.010384        0.016948   \n",
       "2       0.010131      0.004287         0.001750        0.002619   \n",
       "3       0.005440      0.006786         0.003324        0.006161   \n",
       "4       0.006461      0.007921         0.000000        0.000000   \n",
       "5       0.002611      0.003334         0.002006        0.003104   \n",
       "6       0.004034      0.003357         0.000817        0.001000   \n",
       "7       0.001111      0.001448         0.000855        0.001711   \n",
       "8       0.003963      0.001131         0.001727        0.000267   \n",
       "9       0.002331      0.003901         0.001904        0.003109   \n",
       "\n",
       "  param_n_features_to_select                        params  split0_test_score  \\\n",
       "0                          1   {'n_features_to_select': 1}           0.050482   \n",
       "1                          2   {'n_features_to_select': 2}           0.230318   \n",
       "2                          3   {'n_features_to_select': 3}           0.233599   \n",
       "3                          4   {'n_features_to_select': 4}           0.081360   \n",
       "4                          5   {'n_features_to_select': 5}           0.066079   \n",
       "5                          6   {'n_features_to_select': 6}           0.062595   \n",
       "6                          7   {'n_features_to_select': 7}           0.095839   \n",
       "7                          8   {'n_features_to_select': 8}           0.098188   \n",
       "8                          9   {'n_features_to_select': 9}           0.091401   \n",
       "9                         10  {'n_features_to_select': 10}           0.091452   \n",
       "\n",
       "   split1_test_score  split2_test_score  split3_test_score  ...  \\\n",
       "0           0.428281           0.453916           0.441032  ...   \n",
       "1           0.574209           0.523927           0.617101  ...   \n",
       "2           0.557440           0.522848           0.620083  ...   \n",
       "3           0.552626           0.520639           0.599383  ...   \n",
       "4           0.553289           0.517331           0.594158  ...   \n",
       "5           0.553166           0.516604           0.597319  ...   \n",
       "6           0.548694           0.497697           0.595087  ...   \n",
       "7           0.547176           0.499684           0.611627  ...   \n",
       "8           0.547506           0.501298           0.612073  ...   \n",
       "9           0.547687           0.494665           0.612664  ...   \n",
       "\n",
       "   mean_test_score  std_test_score  rank_test_score  split0_train_score  \\\n",
       "0         0.277850        0.200379               10            0.409379   \n",
       "1         0.437137        0.167507                1            0.548530   \n",
       "2         0.435168        0.164211                2            0.549386   \n",
       "3         0.399865        0.201524                7            0.566737   \n",
       "4         0.394454        0.205651                9            0.571048   \n",
       "5         0.395351        0.206452                8            0.571257   \n",
       "6         0.402847        0.188327                6            0.572296   \n",
       "7         0.406802        0.190939                3            0.572302   \n",
       "8         0.405908        0.193451                4            0.573470   \n",
       "9         0.404684        0.192994                5            0.573470   \n",
       "\n",
       "   split1_train_score  split2_train_score  split3_train_score  \\\n",
       "0            0.324357            0.325124            0.347459   \n",
       "1            0.466222            0.494695            0.485778   \n",
       "2            0.473470            0.494907            0.485840   \n",
       "3            0.479655            0.497877            0.492529   \n",
       "4            0.480730            0.498468            0.492971   \n",
       "5            0.481946            0.498490            0.493084   \n",
       "6            0.482434            0.519328            0.493246   \n",
       "7            0.497931            0.519458            0.504406   \n",
       "8            0.497939            0.519472            0.504413   \n",
       "9            0.497945            0.521243            0.504420   \n",
       "\n",
       "   split4_train_score  mean_train_score  std_train_score  \n",
       "0            0.398823          0.361029         0.036288  \n",
       "1            0.535192          0.506083         0.030919  \n",
       "2            0.536430          0.508007         0.029583  \n",
       "3            0.538300          0.515020         0.032456  \n",
       "4            0.539524          0.516548         0.033657  \n",
       "5            0.540282          0.517012         0.033554  \n",
       "6            0.551181          0.523697         0.033959  \n",
       "7            0.551225          0.529064         0.028391  \n",
       "8            0.551225          0.529304         0.028744  \n",
       "9            0.551226          0.529661         0.028629  \n",
       "\n",
       "[10 rows x 21 columns]"
      ]
     },
     "execution_count": 26,
     "metadata": {},
     "output_type": "execute_result"
    }
   ],
   "source": [
    "# cv results\n",
    "cv_results = pd.DataFrame(model_cv.cv_results_)\n",
    "cv_results"
   ]
  },
  {
   "cell_type": "code",
   "execution_count": 40,
   "metadata": {},
   "outputs": [
    {
     "data": {
      "text/plain": [
       "<matplotlib.legend.Legend at 0x2c3dd707490>"
      ]
     },
     "execution_count": 40,
     "metadata": {},
     "output_type": "execute_result"
    },
    {
     "data": {
      "image/png": "[encoded data removed]",
      "text/plain": [
       "<Figure size 1152x432 with 1 Axes>"
      ]
     },
     "metadata": {
      "image/png": {
       "height": 386,
       "width": 949
      },
      "needs_background": "light"
     },
     "output_type": "display_data"
    }
   ],
   "source": [
    "# plotting cv results\n",
    "plt.figure(figsize=(16,6))\n",
    "\n",
    "plt.plot(cv_results[\"param_n_features_to_select\"], cv_results[\"mean_test_score\"])    #mean_test_score\n",
    "plt.plot(cv_results[\"param_n_features_to_select\"], cv_results[\"mean_train_score\"])   #mean_train_score\n",
    "plt.xlabel('number of features')\n",
    "plt.ylabel('r-squared')\n",
    "plt.title(\"Optimal Number of Features\")\n",
    "plt.legend(['test score', 'train score'], loc='upper left')"
   ]
  },
  {
   "cell_type": "markdown",
   "metadata": {},
   "source": [
    "## Model Evaluation\n",
    "\n",
    "evaluate model by visit coefficients of each item"
   ]
  },
  {
   "cell_type": "code",
   "execution_count": 28,
   "metadata": {},
   "outputs": [
    {
     "name": "stdout",
     "output_type": "stream",
     "text": [
      "Coefficient of determination(R_squar_score): 0.5066131065159912\n"
     ]
    }
   ],
   "source": [
    "r_sq = model_cv.score(X_train,y_train)\n",
    "print('Coefficient of determination(R_squar_score):', r_sq)"
   ]
  },
  {
   "cell_type": "markdown",
   "metadata": {},
   "source": [
    "## Predictions from our Model"
   ]
  },
  {
   "cell_type": "code",
   "execution_count": 29,
   "metadata": {},
   "outputs": [],
   "source": [
    "# Predicting X test\n",
    "predictions = model_cv.predict(X_test)"
   ]
  },
  {
   "cell_type": "code",
   "execution_count": 30,
   "metadata": {},
   "outputs": [
    {
     "data": {
      "text/plain": [
       "count      77.00\n",
       "mean     1604.84\n",
       "std      1617.69\n",
       "min       179.00\n",
       "25%       580.00\n",
       "50%      1081.00\n",
       "75%      1624.00\n",
       "max      7314.00\n",
       "Name: patient, dtype: float64"
      ]
     },
     "execution_count": 30,
     "metadata": {},
     "output_type": "execute_result"
    }
   ],
   "source": [
    "y_test.describe().round(2)"
   ]
  },
  {
   "cell_type": "code",
   "execution_count": 31,
   "metadata": {},
   "outputs": [],
   "source": [
    "# predictions.describe().round(2)"
   ]
  },
  {
   "cell_type": "code",
   "execution_count": 32,
   "metadata": {},
   "outputs": [
    {
     "data": {
      "text/plain": [
       "[<matplotlib.lines.Line2D at 0x2c3dd6632b0>]"
      ]
     },
     "execution_count": 32,
     "metadata": {},
     "output_type": "execute_result"
    },
    {
     "data": {
      "image/png": "[encoded data removed]",
      "text/plain": [
       "<Figure size 432x288 with 1 Axes>"
      ]
     },
     "metadata": {
      "image/png": {
       "height": 261,
       "width": 401
      },
      "needs_background": "light"
     },
     "output_type": "display_data"
    }
   ],
   "source": [
    "# plot predictions against actual\n",
    "\n",
    "plot_k = sns.scatterplot(y_test,predictions)\n",
    "plot_k.set(xlabel='Actual', ylabel='Prediction')\n",
    "\n",
    "# generate and graph y = x line\n",
    "x_plot = np.linspace(0,7500,10000)\n",
    "y_plot = x_plot\n",
    "plt.plot(x_plot, y_plot, color='r')\n",
    "\n",
    "# Simulate linear line"
   ]
  },
  {
   "cell_type": "markdown",
   "metadata": {},
   "source": [
    "## Prediction"
   ]
  },
  {
   "cell_type": "code",
   "execution_count": 33,
   "metadata": {},
   "outputs": [],
   "source": [
    "# Choose one of sample to predict and see result\n",
    "\n",
    "# input : X_test.loc[[random sample for prediction test]]\n",
    "    \n",
    "#y_pred = model_cv.predict(X_test.loc[[90]])\n",
    "\n",
    "#plt.scatter(y_test.loc[[90]],  y_pred)\n",
    "#print( \"Actual Patient\",float(y_test.loc[[90]] ) )\n",
    "#print( \"Predicted Patient\", float( y_pred))"
   ]
  },
  {
   "cell_type": "markdown",
   "metadata": {},
   "source": [
    "**Residual Histogram**"
   ]
  },
  {
   "cell_type": "code",
   "execution_count": 34,
   "metadata": {},
   "outputs": [
    {
     "data": {
      "image/png": "[encoded data removed]",
      "text/plain": [
       "<Figure size 432x288 with 1 Axes>"
      ]
     },
     "metadata": {
      "image/png": {
       "height": 261,
       "width": 404
      },
      "needs_background": "light"
     },
     "output_type": "display_data"
    }
   ],
   "source": [
    "sns.distplot((y_test-predictions),bins=50);"
   ]
  },
  {
   "cell_type": "markdown",
   "metadata": {},
   "source": [
    "### Actual value and the predicted value"
   ]
  },
  {
   "cell_type": "code",
   "execution_count": 35,
   "metadata": {},
   "outputs": [
    {
     "data": {
      "text/html": [
       "<div>\n",
       "<style scoped>\n",
       "    .dataframe tbody tr th:only-of-type {\n",
       "        vertical-align: middle;\n",
       "    }\n",
       "\n",
       "    .dataframe tbody tr th {\n",
       "        vertical-align: top;\n",
       "    }\n",
       "\n",
       "    .dataframe thead th {\n",
       "        text-align: right;\n",
       "    }\n",
       "</style>\n",
       "<table border=\"1\" class=\"dataframe\">\n",
       "  <thead>\n",
       "    <tr style=\"text-align: right;\">\n",
       "      <th></th>\n",
       "      <th>Actual value</th>\n",
       "      <th>Predicted value</th>\n",
       "    </tr>\n",
       "  </thead>\n",
       "  <tbody>\n",
       "    <tr>\n",
       "      <th>35</th>\n",
       "      <td>837</td>\n",
       "      <td>1075.951300</td>\n",
       "    </tr>\n",
       "    <tr>\n",
       "      <th>329</th>\n",
       "      <td>3419</td>\n",
       "      <td>2685.170384</td>\n",
       "    </tr>\n",
       "    <tr>\n",
       "      <th>265</th>\n",
       "      <td>929</td>\n",
       "      <td>1075.951300</td>\n",
       "    </tr>\n",
       "    <tr>\n",
       "      <th>299</th>\n",
       "      <td>3600</td>\n",
       "      <td>1880.560842</td>\n",
       "    </tr>\n",
       "    <tr>\n",
       "      <th>190</th>\n",
       "      <td>1155</td>\n",
       "      <td>1075.951300</td>\n",
       "    </tr>\n",
       "    <tr>\n",
       "      <th>107</th>\n",
       "      <td>295</td>\n",
       "      <td>1075.951300</td>\n",
       "    </tr>\n",
       "    <tr>\n",
       "      <th>227</th>\n",
       "      <td>1542</td>\n",
       "      <td>1335.858730</td>\n",
       "    </tr>\n",
       "    <tr>\n",
       "      <th>134</th>\n",
       "      <td>7314</td>\n",
       "      <td>8746.937925</td>\n",
       "    </tr>\n",
       "    <tr>\n",
       "      <th>130</th>\n",
       "      <td>271</td>\n",
       "      <td>-135.580460</td>\n",
       "    </tr>\n",
       "    <tr>\n",
       "      <th>70</th>\n",
       "      <td>1557</td>\n",
       "      <td>1808.207810</td>\n",
       "    </tr>\n",
       "    <tr>\n",
       "      <th>214</th>\n",
       "      <td>368</td>\n",
       "      <td>1075.951300</td>\n",
       "    </tr>\n",
       "    <tr>\n",
       "      <th>20</th>\n",
       "      <td>7194</td>\n",
       "      <td>7302.694711</td>\n",
       "    </tr>\n",
       "    <tr>\n",
       "      <th>384</th>\n",
       "      <td>2092</td>\n",
       "      <td>2045.536711</td>\n",
       "    </tr>\n",
       "    <tr>\n",
       "      <th>310</th>\n",
       "      <td>1491</td>\n",
       "      <td>1288.392950</td>\n",
       "    </tr>\n",
       "    <tr>\n",
       "      <th>322</th>\n",
       "      <td>3211</td>\n",
       "      <td>2282.865613</td>\n",
       "    </tr>\n",
       "    <tr>\n",
       "      <th>95</th>\n",
       "      <td>580</td>\n",
       "      <td>813.735146</td>\n",
       "    </tr>\n",
       "    <tr>\n",
       "      <th>172</th>\n",
       "      <td>1950</td>\n",
       "      <td>1383.324510</td>\n",
       "    </tr>\n",
       "    <tr>\n",
       "      <th>101</th>\n",
       "      <td>5770</td>\n",
       "      <td>2472.728734</td>\n",
       "    </tr>\n",
       "    <tr>\n",
       "      <th>380</th>\n",
       "      <td>409</td>\n",
       "      <td>1075.951300</td>\n",
       "    </tr>\n",
       "    <tr>\n",
       "      <th>372</th>\n",
       "      <td>790</td>\n",
       "      <td>834.004951</td>\n",
       "    </tr>\n",
       "  </tbody>\n",
       "</table>\n",
       "</div>"
      ],
      "text/plain": [
       "     Actual value  Predicted value\n",
       "35            837      1075.951300\n",
       "329          3419      2685.170384\n",
       "265           929      1075.951300\n",
       "299          3600      1880.560842\n",
       "190          1155      1075.951300\n",
       "107           295      1075.951300\n",
       "227          1542      1335.858730\n",
       "134          7314      8746.937925\n",
       "130           271      -135.580460\n",
       "70           1557      1808.207810\n",
       "214           368      1075.951300\n",
       "20           7194      7302.694711\n",
       "384          2092      2045.536711\n",
       "310          1491      1288.392950\n",
       "322          3211      2282.865613\n",
       "95            580       813.735146\n",
       "172          1950      1383.324510\n",
       "101          5770      2472.728734\n",
       "380           409      1075.951300\n",
       "372           790       834.004951"
      ]
     },
     "execution_count": 35,
     "metadata": {},
     "output_type": "execute_result"
    }
   ],
   "source": [
    "#Actual value and the predicted value\n",
    "mlr_diff = pd.DataFrame({'Actual value': y_test, 'Predicted value': predictions})\n",
    "mlr_diff.head(20)"
   ]
  },
  {
   "cell_type": "markdown",
   "metadata": {},
   "source": [
    "## Regression Evaluation Metrics\n",
    "\n",
    "\n",
    "Evaluation metrics for regression problems as below:\n",
    "\n",
    "**Coefficient of determination(R2 score)** is used to evaluate the performance of a linear regression model. \n",
    "It is the amount of the variation in the output dependent attribute which is predictable from the input independent variable(s). It is used to check how well-observed results are reproduced by the model, depending on the ratio of total deviation of results described by the model.\n",
    "\n",
    "$$R2= 1- SSres  /  SStot$$\n",
    "\n",
    "**Mean Absolute Error** (MAE): the mean of the absolute value of the errors:\n",
    "\n",
    "$$\\frac 1n\\sum_{i=1}^n|y_i-\\hat{y}_i|$$\n",
    "\n",
    "**Mean Squared Error** (MSE): the mean of the squared errors:\n",
    "\n",
    "$$\\frac 1n\\sum_{i=1}^n(y_i-\\hat{y}_i)^2$$\n",
    "\n",
    "**Root Mean Squared Error** (RMSE): the square root of the mean of the squared errors:\n",
    "\n",
    "$$\\sqrt{\\frac 1n\\sum_{i=1}^n(y_i-\\hat{y}_i)^2}$$\n",
    "\n",
    "**Comparison:**\n",
    "\n",
    "- **MAE** is the easiest to understand, because it's the average error.\n",
    "- **MSE** is more popular than MAE, because MSE \"punishes\" larger errors, which tends to be useful in the real world.\n",
    "- **RMSE** is even more popular than MSE, because RMSE is interpretable in the \"y\" units.\n"
   ]
  },
  {
   "cell_type": "code",
   "execution_count": 36,
   "metadata": {},
   "outputs": [
    {
     "name": "stdout",
     "output_type": "stream",
     "text": [
      "R squared of Training Set: 50.66\n",
      "R squared of Test Set: 65.40\n",
      "Mean Absolute Error (MAE): 613.4758\n",
      "Root Mean Squared Error (RMSE): 945.3093\n"
     ]
    }
   ],
   "source": [
    "from sklearn import metrics\n",
    "from sklearn.metrics import mean_squared_error\n",
    "\n",
    "print('R squared of Training Set: {:.2f}'.format(model_cv.score(X_train,y_train)*100))\n",
    "print('R squared of Test Set: {:.2f}'.format(model_cv.score(X_test,y_test)*100))\n",
    "print('Mean Absolute Error (MAE): {:.4f}'.format(metrics.mean_absolute_error(y_test, predictions)))\n",
    "print('Root Mean Squared Error (RMSE): {:.4f}'.format(np.sqrt(metrics.mean_squared_error(y_test, predictions))))"
   ]
  }
 ],
 "metadata": {
  "kernelspec": {
   "display_name": "Python 3",
   "language": "python",
   "name": "python3"
  },
  "language_info": {
   "codemirror_mode": {
    "name": "ipython",
    "version": 3
   },
   "file_extension": ".py",
   "mimetype": "text/x-python",
   "name": "python",
   "nbconvert_exporter": "python",
   "pygments_lexer": "ipython3",
   "version": "3.8.5"
  }
 },
 "nbformat": 4,
 "nbformat_minor": 4
}
