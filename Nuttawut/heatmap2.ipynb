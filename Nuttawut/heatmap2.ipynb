{
 "cells": [
  {
   "cell_type": "code",
   "execution_count": 2,
   "id": "06a55d0e",
   "metadata": {},
   "outputs": [],
   "source": [
    "import pandas as pd\n",
    "# import plotly.express as px"
   ]
  },
  {
   "cell_type": "code",
   "execution_count": 5,
   "id": "ad2f35d6",
   "metadata": {},
   "outputs": [
    {
     "ename": "FileNotFoundError",
     "evalue": "[Errno 2] No such file or directory: '../thailand_lalong.csv'",
     "output_type": "error",
     "traceback": [
      "\u001b[1;31m---------------------------------------------------------------------------\u001b[0m",
      "\u001b[1;31mFileNotFoundError\u001b[0m                         Traceback (most recent call last)",
      "\u001b[1;32mC:\\Users\\SONRAM~1\\AppData\\Local\\Temp/ipykernel_18260/344065707.py\u001b[0m in \u001b[0;36m<module>\u001b[1;34m\u001b[0m\n\u001b[1;32m----> 1\u001b[1;33m \u001b[0mdf\u001b[0m \u001b[1;33m=\u001b[0m \u001b[0mpd\u001b[0m\u001b[1;33m.\u001b[0m\u001b[0mread_csv\u001b[0m\u001b[1;33m(\u001b[0m\u001b[1;34m'../thailand_lalong.csv'\u001b[0m\u001b[1;33m)\u001b[0m\u001b[1;33m\u001b[0m\u001b[1;33m\u001b[0m\u001b[0m\n\u001b[0m\u001b[0;32m      2\u001b[0m \u001b[0mdf1\u001b[0m \u001b[1;33m=\u001b[0m \u001b[0mpd\u001b[0m\u001b[1;33m.\u001b[0m\u001b[0mread_csv\u001b[0m\u001b[1;33m(\u001b[0m\u001b[1;34m'../Users/GitHub/python_project/Akkapop/output/dengue_processed_for_regression.csv'\u001b[0m\u001b[1;33m)\u001b[0m\u001b[1;33m\u001b[0m\u001b[1;33m\u001b[0m\u001b[0m\n",
      "\u001b[1;32mC:\\anaconda3\\lib\\site-packages\\pandas\\util\\_decorators.py\u001b[0m in \u001b[0;36mwrapper\u001b[1;34m(*args, **kwargs)\u001b[0m\n\u001b[0;32m    309\u001b[0m                     \u001b[0mstacklevel\u001b[0m\u001b[1;33m=\u001b[0m\u001b[0mstacklevel\u001b[0m\u001b[1;33m,\u001b[0m\u001b[1;33m\u001b[0m\u001b[1;33m\u001b[0m\u001b[0m\n\u001b[0;32m    310\u001b[0m                 )\n\u001b[1;32m--> 311\u001b[1;33m             \u001b[1;32mreturn\u001b[0m \u001b[0mfunc\u001b[0m\u001b[1;33m(\u001b[0m\u001b[1;33m*\u001b[0m\u001b[0margs\u001b[0m\u001b[1;33m,\u001b[0m \u001b[1;33m**\u001b[0m\u001b[0mkwargs\u001b[0m\u001b[1;33m)\u001b[0m\u001b[1;33m\u001b[0m\u001b[1;33m\u001b[0m\u001b[0m\n\u001b[0m\u001b[0;32m    312\u001b[0m \u001b[1;33m\u001b[0m\u001b[0m\n\u001b[0;32m    313\u001b[0m         \u001b[1;32mreturn\u001b[0m \u001b[0mwrapper\u001b[0m\u001b[1;33m\u001b[0m\u001b[1;33m\u001b[0m\u001b[0m\n",
      "\u001b[1;32mC:\\anaconda3\\lib\\site-packages\\pandas\\io\\parsers\\readers.py\u001b[0m in \u001b[0;36mread_csv\u001b[1;34m(filepath_or_buffer, sep, delimiter, header, names, index_col, usecols, squeeze, prefix, mangle_dupe_cols, dtype, engine, converters, true_values, false_values, skipinitialspace, skiprows, skipfooter, nrows, na_values, keep_default_na, na_filter, verbose, skip_blank_lines, parse_dates, infer_datetime_format, keep_date_col, date_parser, dayfirst, cache_dates, iterator, chunksize, compression, thousands, decimal, lineterminator, quotechar, quoting, doublequote, escapechar, comment, encoding, encoding_errors, dialect, error_bad_lines, warn_bad_lines, on_bad_lines, delim_whitespace, low_memory, memory_map, float_precision, storage_options)\u001b[0m\n\u001b[0;32m    584\u001b[0m     \u001b[0mkwds\u001b[0m\u001b[1;33m.\u001b[0m\u001b[0mupdate\u001b[0m\u001b[1;33m(\u001b[0m\u001b[0mkwds_defaults\u001b[0m\u001b[1;33m)\u001b[0m\u001b[1;33m\u001b[0m\u001b[1;33m\u001b[0m\u001b[0m\n\u001b[0;32m    585\u001b[0m \u001b[1;33m\u001b[0m\u001b[0m\n\u001b[1;32m--> 586\u001b[1;33m     \u001b[1;32mreturn\u001b[0m \u001b[0m_read\u001b[0m\u001b[1;33m(\u001b[0m\u001b[0mfilepath_or_buffer\u001b[0m\u001b[1;33m,\u001b[0m \u001b[0mkwds\u001b[0m\u001b[1;33m)\u001b[0m\u001b[1;33m\u001b[0m\u001b[1;33m\u001b[0m\u001b[0m\n\u001b[0m\u001b[0;32m    587\u001b[0m \u001b[1;33m\u001b[0m\u001b[0m\n\u001b[0;32m    588\u001b[0m \u001b[1;33m\u001b[0m\u001b[0m\n",
      "\u001b[1;32mC:\\anaconda3\\lib\\site-packages\\pandas\\io\\parsers\\readers.py\u001b[0m in \u001b[0;36m_read\u001b[1;34m(filepath_or_buffer, kwds)\u001b[0m\n\u001b[0;32m    480\u001b[0m \u001b[1;33m\u001b[0m\u001b[0m\n\u001b[0;32m    481\u001b[0m     \u001b[1;31m# Create the parser.\u001b[0m\u001b[1;33m\u001b[0m\u001b[1;33m\u001b[0m\u001b[1;33m\u001b[0m\u001b[0m\n\u001b[1;32m--> 482\u001b[1;33m     \u001b[0mparser\u001b[0m \u001b[1;33m=\u001b[0m \u001b[0mTextFileReader\u001b[0m\u001b[1;33m(\u001b[0m\u001b[0mfilepath_or_buffer\u001b[0m\u001b[1;33m,\u001b[0m \u001b[1;33m**\u001b[0m\u001b[0mkwds\u001b[0m\u001b[1;33m)\u001b[0m\u001b[1;33m\u001b[0m\u001b[1;33m\u001b[0m\u001b[0m\n\u001b[0m\u001b[0;32m    483\u001b[0m \u001b[1;33m\u001b[0m\u001b[0m\n\u001b[0;32m    484\u001b[0m     \u001b[1;32mif\u001b[0m \u001b[0mchunksize\u001b[0m \u001b[1;32mor\u001b[0m \u001b[0miterator\u001b[0m\u001b[1;33m:\u001b[0m\u001b[1;33m\u001b[0m\u001b[1;33m\u001b[0m\u001b[0m\n",
      "\u001b[1;32mC:\\anaconda3\\lib\\site-packages\\pandas\\io\\parsers\\readers.py\u001b[0m in \u001b[0;36m__init__\u001b[1;34m(self, f, engine, **kwds)\u001b[0m\n\u001b[0;32m    809\u001b[0m             \u001b[0mself\u001b[0m\u001b[1;33m.\u001b[0m\u001b[0moptions\u001b[0m\u001b[1;33m[\u001b[0m\u001b[1;34m\"has_index_names\"\u001b[0m\u001b[1;33m]\u001b[0m \u001b[1;33m=\u001b[0m \u001b[0mkwds\u001b[0m\u001b[1;33m[\u001b[0m\u001b[1;34m\"has_index_names\"\u001b[0m\u001b[1;33m]\u001b[0m\u001b[1;33m\u001b[0m\u001b[1;33m\u001b[0m\u001b[0m\n\u001b[0;32m    810\u001b[0m \u001b[1;33m\u001b[0m\u001b[0m\n\u001b[1;32m--> 811\u001b[1;33m         \u001b[0mself\u001b[0m\u001b[1;33m.\u001b[0m\u001b[0m_engine\u001b[0m \u001b[1;33m=\u001b[0m \u001b[0mself\u001b[0m\u001b[1;33m.\u001b[0m\u001b[0m_make_engine\u001b[0m\u001b[1;33m(\u001b[0m\u001b[0mself\u001b[0m\u001b[1;33m.\u001b[0m\u001b[0mengine\u001b[0m\u001b[1;33m)\u001b[0m\u001b[1;33m\u001b[0m\u001b[1;33m\u001b[0m\u001b[0m\n\u001b[0m\u001b[0;32m    812\u001b[0m \u001b[1;33m\u001b[0m\u001b[0m\n\u001b[0;32m    813\u001b[0m     \u001b[1;32mdef\u001b[0m \u001b[0mclose\u001b[0m\u001b[1;33m(\u001b[0m\u001b[0mself\u001b[0m\u001b[1;33m)\u001b[0m\u001b[1;33m:\u001b[0m\u001b[1;33m\u001b[0m\u001b[1;33m\u001b[0m\u001b[0m\n",
      "\u001b[1;32mC:\\anaconda3\\lib\\site-packages\\pandas\\io\\parsers\\readers.py\u001b[0m in \u001b[0;36m_make_engine\u001b[1;34m(self, engine)\u001b[0m\n\u001b[0;32m   1038\u001b[0m             )\n\u001b[0;32m   1039\u001b[0m         \u001b[1;31m# error: Too many arguments for \"ParserBase\"\u001b[0m\u001b[1;33m\u001b[0m\u001b[1;33m\u001b[0m\u001b[1;33m\u001b[0m\u001b[0m\n\u001b[1;32m-> 1040\u001b[1;33m         \u001b[1;32mreturn\u001b[0m \u001b[0mmapping\u001b[0m\u001b[1;33m[\u001b[0m\u001b[0mengine\u001b[0m\u001b[1;33m]\u001b[0m\u001b[1;33m(\u001b[0m\u001b[0mself\u001b[0m\u001b[1;33m.\u001b[0m\u001b[0mf\u001b[0m\u001b[1;33m,\u001b[0m \u001b[1;33m**\u001b[0m\u001b[0mself\u001b[0m\u001b[1;33m.\u001b[0m\u001b[0moptions\u001b[0m\u001b[1;33m)\u001b[0m  \u001b[1;31m# type: ignore[call-arg]\u001b[0m\u001b[1;33m\u001b[0m\u001b[1;33m\u001b[0m\u001b[0m\n\u001b[0m\u001b[0;32m   1041\u001b[0m \u001b[1;33m\u001b[0m\u001b[0m\n\u001b[0;32m   1042\u001b[0m     \u001b[1;32mdef\u001b[0m \u001b[0m_failover_to_python\u001b[0m\u001b[1;33m(\u001b[0m\u001b[0mself\u001b[0m\u001b[1;33m)\u001b[0m\u001b[1;33m:\u001b[0m\u001b[1;33m\u001b[0m\u001b[1;33m\u001b[0m\u001b[0m\n",
      "\u001b[1;32mC:\\anaconda3\\lib\\site-packages\\pandas\\io\\parsers\\c_parser_wrapper.py\u001b[0m in \u001b[0;36m__init__\u001b[1;34m(self, src, **kwds)\u001b[0m\n\u001b[0;32m     49\u001b[0m \u001b[1;33m\u001b[0m\u001b[0m\n\u001b[0;32m     50\u001b[0m         \u001b[1;31m# open handles\u001b[0m\u001b[1;33m\u001b[0m\u001b[1;33m\u001b[0m\u001b[1;33m\u001b[0m\u001b[0m\n\u001b[1;32m---> 51\u001b[1;33m         \u001b[0mself\u001b[0m\u001b[1;33m.\u001b[0m\u001b[0m_open_handles\u001b[0m\u001b[1;33m(\u001b[0m\u001b[0msrc\u001b[0m\u001b[1;33m,\u001b[0m \u001b[0mkwds\u001b[0m\u001b[1;33m)\u001b[0m\u001b[1;33m\u001b[0m\u001b[1;33m\u001b[0m\u001b[0m\n\u001b[0m\u001b[0;32m     52\u001b[0m         \u001b[1;32massert\u001b[0m \u001b[0mself\u001b[0m\u001b[1;33m.\u001b[0m\u001b[0mhandles\u001b[0m \u001b[1;32mis\u001b[0m \u001b[1;32mnot\u001b[0m \u001b[1;32mNone\u001b[0m\u001b[1;33m\u001b[0m\u001b[1;33m\u001b[0m\u001b[0m\n\u001b[0;32m     53\u001b[0m \u001b[1;33m\u001b[0m\u001b[0m\n",
      "\u001b[1;32mC:\\anaconda3\\lib\\site-packages\\pandas\\io\\parsers\\base_parser.py\u001b[0m in \u001b[0;36m_open_handles\u001b[1;34m(self, src, kwds)\u001b[0m\n\u001b[0;32m    220\u001b[0m         \u001b[0mLet\u001b[0m \u001b[0mthe\u001b[0m \u001b[0mreaders\u001b[0m \u001b[0mopen\u001b[0m \u001b[0mIOHandles\u001b[0m \u001b[0mafter\u001b[0m \u001b[0mthey\u001b[0m \u001b[0mare\u001b[0m \u001b[0mdone\u001b[0m \u001b[1;32mwith\u001b[0m \u001b[0mtheir\u001b[0m \u001b[0mpotential\u001b[0m \u001b[0mraises\u001b[0m\u001b[1;33m.\u001b[0m\u001b[1;33m\u001b[0m\u001b[1;33m\u001b[0m\u001b[0m\n\u001b[0;32m    221\u001b[0m         \"\"\"\n\u001b[1;32m--> 222\u001b[1;33m         self.handles = get_handle(\n\u001b[0m\u001b[0;32m    223\u001b[0m             \u001b[0msrc\u001b[0m\u001b[1;33m,\u001b[0m\u001b[1;33m\u001b[0m\u001b[1;33m\u001b[0m\u001b[0m\n\u001b[0;32m    224\u001b[0m             \u001b[1;34m\"r\"\u001b[0m\u001b[1;33m,\u001b[0m\u001b[1;33m\u001b[0m\u001b[1;33m\u001b[0m\u001b[0m\n",
      "\u001b[1;32mC:\\anaconda3\\lib\\site-packages\\pandas\\io\\common.py\u001b[0m in \u001b[0;36mget_handle\u001b[1;34m(path_or_buf, mode, encoding, compression, memory_map, is_text, errors, storage_options)\u001b[0m\n\u001b[0;32m    699\u001b[0m         \u001b[1;32mif\u001b[0m \u001b[0mioargs\u001b[0m\u001b[1;33m.\u001b[0m\u001b[0mencoding\u001b[0m \u001b[1;32mand\u001b[0m \u001b[1;34m\"b\"\u001b[0m \u001b[1;32mnot\u001b[0m \u001b[1;32min\u001b[0m \u001b[0mioargs\u001b[0m\u001b[1;33m.\u001b[0m\u001b[0mmode\u001b[0m\u001b[1;33m:\u001b[0m\u001b[1;33m\u001b[0m\u001b[1;33m\u001b[0m\u001b[0m\n\u001b[0;32m    700\u001b[0m             \u001b[1;31m# Encoding\u001b[0m\u001b[1;33m\u001b[0m\u001b[1;33m\u001b[0m\u001b[1;33m\u001b[0m\u001b[0m\n\u001b[1;32m--> 701\u001b[1;33m             handle = open(\n\u001b[0m\u001b[0;32m    702\u001b[0m                 \u001b[0mhandle\u001b[0m\u001b[1;33m,\u001b[0m\u001b[1;33m\u001b[0m\u001b[1;33m\u001b[0m\u001b[0m\n\u001b[0;32m    703\u001b[0m                 \u001b[0mioargs\u001b[0m\u001b[1;33m.\u001b[0m\u001b[0mmode\u001b[0m\u001b[1;33m,\u001b[0m\u001b[1;33m\u001b[0m\u001b[1;33m\u001b[0m\u001b[0m\n",
      "\u001b[1;31mFileNotFoundError\u001b[0m: [Errno 2] No such file or directory: '../thailand_lalong.csv'"
     ]
    }
   ],
   "source": [
    "df = pd.read_csv('../thailand_lalong.csv')\n",
    "df1 = pd.read_csv('../Users/GitHub/python_project/Akkapop/output/dengue_processed_for_regression.csv')"
   ]
  },
  {
   "cell_type": "code",
   "execution_count": 3,
   "id": "ec88e628",
   "metadata": {},
   "outputs": [
    {
     "data": {
      "text/html": [
       "<div>\n",
       "<style scoped>\n",
       "    .dataframe tbody tr th:only-of-type {\n",
       "        vertical-align: middle;\n",
       "    }\n",
       "\n",
       "    .dataframe tbody tr th {\n",
       "        vertical-align: top;\n",
       "    }\n",
       "\n",
       "    .dataframe thead th {\n",
       "        text-align: right;\n",
       "    }\n",
       "</style>\n",
       "<table border=\"1\" class=\"dataframe\">\n",
       "  <thead>\n",
       "    <tr style=\"text-align: right;\">\n",
       "      <th></th>\n",
       "      <th>year</th>\n",
       "      <th>Province</th>\n",
       "      <th>patient_count</th>\n",
       "      <th>humidity</th>\n",
       "      <th>temp_avg</th>\n",
       "      <th>temp_min</th>\n",
       "      <th>temp_max</th>\n",
       "      <th>rain_ml</th>\n",
       "      <th>rain_day</th>\n",
       "    </tr>\n",
       "  </thead>\n",
       "  <tbody>\n",
       "    <tr>\n",
       "      <th>0</th>\n",
       "      <td>2016</td>\n",
       "      <td>Amnat Charoen</td>\n",
       "      <td>676</td>\n",
       "      <td>75.0</td>\n",
       "      <td>27.0</td>\n",
       "      <td>13.0</td>\n",
       "      <td>39.0</td>\n",
       "      <td>1638.0</td>\n",
       "      <td>130</td>\n",
       "    </tr>\n",
       "    <tr>\n",
       "      <th>1</th>\n",
       "      <td>2016</td>\n",
       "      <td>Ang Thong</td>\n",
       "      <td>286</td>\n",
       "      <td>75.0</td>\n",
       "      <td>27.0</td>\n",
       "      <td>13.0</td>\n",
       "      <td>39.0</td>\n",
       "      <td>1638.0</td>\n",
       "      <td>130</td>\n",
       "    </tr>\n",
       "    <tr>\n",
       "      <th>2</th>\n",
       "      <td>2016</td>\n",
       "      <td>Bangkok</td>\n",
       "      <td>14932</td>\n",
       "      <td>75.0</td>\n",
       "      <td>27.0</td>\n",
       "      <td>13.0</td>\n",
       "      <td>39.0</td>\n",
       "      <td>1638.0</td>\n",
       "      <td>130</td>\n",
       "    </tr>\n",
       "    <tr>\n",
       "      <th>3</th>\n",
       "      <td>2016</td>\n",
       "      <td>Bueng Kan</td>\n",
       "      <td>1266</td>\n",
       "      <td>75.0</td>\n",
       "      <td>27.0</td>\n",
       "      <td>13.0</td>\n",
       "      <td>39.0</td>\n",
       "      <td>1638.0</td>\n",
       "      <td>130</td>\n",
       "    </tr>\n",
       "    <tr>\n",
       "      <th>4</th>\n",
       "      <td>2016</td>\n",
       "      <td>Buri Ram</td>\n",
       "      <td>1500</td>\n",
       "      <td>76.6</td>\n",
       "      <td>27.4</td>\n",
       "      <td>8.5</td>\n",
       "      <td>43.2</td>\n",
       "      <td>1370.7</td>\n",
       "      <td>93</td>\n",
       "    </tr>\n",
       "  </tbody>\n",
       "</table>\n",
       "</div>"
      ],
      "text/plain": [
       "   year       Province  patient_count  humidity  temp_avg  temp_min  temp_max  \\\n",
       "0  2016  Amnat Charoen            676      75.0      27.0      13.0      39.0   \n",
       "1  2016      Ang Thong            286      75.0      27.0      13.0      39.0   \n",
       "2  2016        Bangkok          14932      75.0      27.0      13.0      39.0   \n",
       "3  2016      Bueng Kan           1266      75.0      27.0      13.0      39.0   \n",
       "4  2016       Buri Ram           1500      76.6      27.4       8.5      43.2   \n",
       "\n",
       "   rain_ml  rain_day  \n",
       "0   1638.0       130  \n",
       "1   1638.0       130  \n",
       "2   1638.0       130  \n",
       "3   1638.0       130  \n",
       "4   1370.7        93  "
      ]
     },
     "execution_count": 3,
     "metadata": {},
     "output_type": "execute_result"
    }
   ],
   "source": [
    "df1.head()"
   ]
  },
  {
   "cell_type": "code",
   "execution_count": 4,
   "id": "42052484",
   "metadata": {},
   "outputs": [
    {
     "data": {
      "text/html": [
       "<div>\n",
       "<style scoped>\n",
       "    .dataframe tbody tr th:only-of-type {\n",
       "        vertical-align: middle;\n",
       "    }\n",
       "\n",
       "    .dataframe tbody tr th {\n",
       "        vertical-align: top;\n",
       "    }\n",
       "\n",
       "    .dataframe thead th {\n",
       "        text-align: right;\n",
       "    }\n",
       "</style>\n",
       "<table border=\"1\" class=\"dataframe\">\n",
       "  <thead>\n",
       "    <tr style=\"text-align: right;\">\n",
       "      <th></th>\n",
       "      <th>Province</th>\n",
       "      <th>latitude</th>\n",
       "      <th>longitude</th>\n",
       "    </tr>\n",
       "  </thead>\n",
       "  <tbody>\n",
       "    <tr>\n",
       "      <th>0</th>\n",
       "      <td>Amnat Charoen</td>\n",
       "      <td>15.51</td>\n",
       "      <td>104.38</td>\n",
       "    </tr>\n",
       "    <tr>\n",
       "      <th>1</th>\n",
       "      <td>Ang Thong</td>\n",
       "      <td>14.35</td>\n",
       "      <td>100.31</td>\n",
       "    </tr>\n",
       "    <tr>\n",
       "      <th>2</th>\n",
       "      <td>Bangkok</td>\n",
       "      <td>13.45</td>\n",
       "      <td>100.35</td>\n",
       "    </tr>\n",
       "    <tr>\n",
       "      <th>3</th>\n",
       "      <td>Bueng Kan</td>\n",
       "      <td>18.23</td>\n",
       "      <td>103.37</td>\n",
       "    </tr>\n",
       "    <tr>\n",
       "      <th>4</th>\n",
       "      <td>Buri Ram</td>\n",
       "      <td>15.00</td>\n",
       "      <td>103.00</td>\n",
       "    </tr>\n",
       "  </tbody>\n",
       "</table>\n",
       "</div>"
      ],
      "text/plain": [
       "        Province  latitude  longitude\n",
       "0  Amnat Charoen     15.51     104.38\n",
       "1      Ang Thong     14.35     100.31\n",
       "2        Bangkok     13.45     100.35\n",
       "3      Bueng Kan     18.23     103.37\n",
       "4       Buri Ram     15.00     103.00"
      ]
     },
     "execution_count": 4,
     "metadata": {},
     "output_type": "execute_result"
    }
   ],
   "source": [
    "df.head()"
   ]
  },
  {
   "cell_type": "code",
   "execution_count": 5,
   "id": "09a1bace",
   "metadata": {},
   "outputs": [],
   "source": [
    "heatmap_df = pd.merge(df1,df,on='Province')"
   ]
  },
  {
   "cell_type": "code",
   "execution_count": 6,
   "id": "96840779",
   "metadata": {},
   "outputs": [
    {
     "data": {
      "text/html": [
       "<div>\n",
       "<style scoped>\n",
       "    .dataframe tbody tr th:only-of-type {\n",
       "        vertical-align: middle;\n",
       "    }\n",
       "\n",
       "    .dataframe tbody tr th {\n",
       "        vertical-align: top;\n",
       "    }\n",
       "\n",
       "    .dataframe thead th {\n",
       "        text-align: right;\n",
       "    }\n",
       "</style>\n",
       "<table border=\"1\" class=\"dataframe\">\n",
       "  <thead>\n",
       "    <tr style=\"text-align: right;\">\n",
       "      <th></th>\n",
       "      <th>year</th>\n",
       "      <th>Province</th>\n",
       "      <th>patient_count</th>\n",
       "      <th>humidity</th>\n",
       "      <th>temp_avg</th>\n",
       "      <th>temp_min</th>\n",
       "      <th>temp_max</th>\n",
       "      <th>rain_ml</th>\n",
       "      <th>rain_day</th>\n",
       "      <th>latitude</th>\n",
       "      <th>longitude</th>\n",
       "    </tr>\n",
       "  </thead>\n",
       "  <tbody>\n",
       "    <tr>\n",
       "      <th>0</th>\n",
       "      <td>2016</td>\n",
       "      <td>Amnat Charoen</td>\n",
       "      <td>676</td>\n",
       "      <td>75.0</td>\n",
       "      <td>27.0</td>\n",
       "      <td>13.0</td>\n",
       "      <td>39.0</td>\n",
       "      <td>1638.0</td>\n",
       "      <td>130</td>\n",
       "      <td>15.51</td>\n",
       "      <td>104.38</td>\n",
       "    </tr>\n",
       "    <tr>\n",
       "      <th>1</th>\n",
       "      <td>2017</td>\n",
       "      <td>Amnat Charoen</td>\n",
       "      <td>137</td>\n",
       "      <td>75.0</td>\n",
       "      <td>27.0</td>\n",
       "      <td>13.0</td>\n",
       "      <td>39.0</td>\n",
       "      <td>1638.0</td>\n",
       "      <td>130</td>\n",
       "      <td>15.51</td>\n",
       "      <td>104.38</td>\n",
       "    </tr>\n",
       "    <tr>\n",
       "      <th>2</th>\n",
       "      <td>2018</td>\n",
       "      <td>Amnat Charoen</td>\n",
       "      <td>199</td>\n",
       "      <td>75.0</td>\n",
       "      <td>27.0</td>\n",
       "      <td>13.0</td>\n",
       "      <td>39.0</td>\n",
       "      <td>1638.0</td>\n",
       "      <td>130</td>\n",
       "      <td>15.51</td>\n",
       "      <td>104.38</td>\n",
       "    </tr>\n",
       "    <tr>\n",
       "      <th>3</th>\n",
       "      <td>2019</td>\n",
       "      <td>Amnat Charoen</td>\n",
       "      <td>549</td>\n",
       "      <td>75.0</td>\n",
       "      <td>27.0</td>\n",
       "      <td>13.0</td>\n",
       "      <td>39.0</td>\n",
       "      <td>1638.0</td>\n",
       "      <td>130</td>\n",
       "      <td>15.51</td>\n",
       "      <td>104.38</td>\n",
       "    </tr>\n",
       "    <tr>\n",
       "      <th>4</th>\n",
       "      <td>2020</td>\n",
       "      <td>Amnat Charoen</td>\n",
       "      <td>166</td>\n",
       "      <td>75.0</td>\n",
       "      <td>27.0</td>\n",
       "      <td>13.0</td>\n",
       "      <td>39.0</td>\n",
       "      <td>1638.0</td>\n",
       "      <td>130</td>\n",
       "      <td>15.51</td>\n",
       "      <td>104.38</td>\n",
       "    </tr>\n",
       "    <tr>\n",
       "      <th>5</th>\n",
       "      <td>2016</td>\n",
       "      <td>Ang Thong</td>\n",
       "      <td>286</td>\n",
       "      <td>75.0</td>\n",
       "      <td>27.0</td>\n",
       "      <td>13.0</td>\n",
       "      <td>39.0</td>\n",
       "      <td>1638.0</td>\n",
       "      <td>130</td>\n",
       "      <td>14.35</td>\n",
       "      <td>100.31</td>\n",
       "    </tr>\n",
       "    <tr>\n",
       "      <th>6</th>\n",
       "      <td>2017</td>\n",
       "      <td>Ang Thong</td>\n",
       "      <td>267</td>\n",
       "      <td>75.0</td>\n",
       "      <td>27.0</td>\n",
       "      <td>13.0</td>\n",
       "      <td>39.0</td>\n",
       "      <td>1638.0</td>\n",
       "      <td>130</td>\n",
       "      <td>14.35</td>\n",
       "      <td>100.31</td>\n",
       "    </tr>\n",
       "    <tr>\n",
       "      <th>7</th>\n",
       "      <td>2018</td>\n",
       "      <td>Ang Thong</td>\n",
       "      <td>258</td>\n",
       "      <td>75.0</td>\n",
       "      <td>27.0</td>\n",
       "      <td>13.0</td>\n",
       "      <td>39.0</td>\n",
       "      <td>1638.0</td>\n",
       "      <td>130</td>\n",
       "      <td>14.35</td>\n",
       "      <td>100.31</td>\n",
       "    </tr>\n",
       "    <tr>\n",
       "      <th>8</th>\n",
       "      <td>2019</td>\n",
       "      <td>Ang Thong</td>\n",
       "      <td>281</td>\n",
       "      <td>75.0</td>\n",
       "      <td>27.0</td>\n",
       "      <td>13.0</td>\n",
       "      <td>39.0</td>\n",
       "      <td>1638.0</td>\n",
       "      <td>130</td>\n",
       "      <td>14.35</td>\n",
       "      <td>100.31</td>\n",
       "    </tr>\n",
       "    <tr>\n",
       "      <th>9</th>\n",
       "      <td>2020</td>\n",
       "      <td>Ang Thong</td>\n",
       "      <td>483</td>\n",
       "      <td>75.0</td>\n",
       "      <td>27.0</td>\n",
       "      <td>13.0</td>\n",
       "      <td>39.0</td>\n",
       "      <td>1638.0</td>\n",
       "      <td>130</td>\n",
       "      <td>14.35</td>\n",
       "      <td>100.31</td>\n",
       "    </tr>\n",
       "    <tr>\n",
       "      <th>10</th>\n",
       "      <td>2016</td>\n",
       "      <td>Bangkok</td>\n",
       "      <td>14932</td>\n",
       "      <td>75.0</td>\n",
       "      <td>27.0</td>\n",
       "      <td>13.0</td>\n",
       "      <td>39.0</td>\n",
       "      <td>1638.0</td>\n",
       "      <td>130</td>\n",
       "      <td>13.45</td>\n",
       "      <td>100.35</td>\n",
       "    </tr>\n",
       "    <tr>\n",
       "      <th>11</th>\n",
       "      <td>2017</td>\n",
       "      <td>Bangkok</td>\n",
       "      <td>9036</td>\n",
       "      <td>75.0</td>\n",
       "      <td>27.0</td>\n",
       "      <td>13.0</td>\n",
       "      <td>39.0</td>\n",
       "      <td>1638.0</td>\n",
       "      <td>130</td>\n",
       "      <td>13.45</td>\n",
       "      <td>100.35</td>\n",
       "    </tr>\n",
       "    <tr>\n",
       "      <th>12</th>\n",
       "      <td>2018</td>\n",
       "      <td>Bangkok</td>\n",
       "      <td>9012</td>\n",
       "      <td>75.0</td>\n",
       "      <td>27.0</td>\n",
       "      <td>13.0</td>\n",
       "      <td>39.0</td>\n",
       "      <td>1638.0</td>\n",
       "      <td>130</td>\n",
       "      <td>13.45</td>\n",
       "      <td>100.35</td>\n",
       "    </tr>\n",
       "    <tr>\n",
       "      <th>13</th>\n",
       "      <td>2019</td>\n",
       "      <td>Bangkok</td>\n",
       "      <td>14020</td>\n",
       "      <td>75.0</td>\n",
       "      <td>27.0</td>\n",
       "      <td>13.0</td>\n",
       "      <td>39.0</td>\n",
       "      <td>1638.0</td>\n",
       "      <td>130</td>\n",
       "      <td>13.45</td>\n",
       "      <td>100.35</td>\n",
       "    </tr>\n",
       "    <tr>\n",
       "      <th>14</th>\n",
       "      <td>2020</td>\n",
       "      <td>Bangkok</td>\n",
       "      <td>5820</td>\n",
       "      <td>75.0</td>\n",
       "      <td>27.0</td>\n",
       "      <td>13.0</td>\n",
       "      <td>39.0</td>\n",
       "      <td>1638.0</td>\n",
       "      <td>130</td>\n",
       "      <td>13.45</td>\n",
       "      <td>100.35</td>\n",
       "    </tr>\n",
       "    <tr>\n",
       "      <th>15</th>\n",
       "      <td>2016</td>\n",
       "      <td>Bueng Kan</td>\n",
       "      <td>1266</td>\n",
       "      <td>75.0</td>\n",
       "      <td>27.0</td>\n",
       "      <td>13.0</td>\n",
       "      <td>39.0</td>\n",
       "      <td>1638.0</td>\n",
       "      <td>130</td>\n",
       "      <td>18.23</td>\n",
       "      <td>103.37</td>\n",
       "    </tr>\n",
       "    <tr>\n",
       "      <th>16</th>\n",
       "      <td>2017</td>\n",
       "      <td>Bueng Kan</td>\n",
       "      <td>210</td>\n",
       "      <td>75.0</td>\n",
       "      <td>27.0</td>\n",
       "      <td>13.0</td>\n",
       "      <td>39.0</td>\n",
       "      <td>1638.0</td>\n",
       "      <td>130</td>\n",
       "      <td>18.23</td>\n",
       "      <td>103.37</td>\n",
       "    </tr>\n",
       "    <tr>\n",
       "      <th>17</th>\n",
       "      <td>2018</td>\n",
       "      <td>Bueng Kan</td>\n",
       "      <td>386</td>\n",
       "      <td>75.0</td>\n",
       "      <td>27.0</td>\n",
       "      <td>13.0</td>\n",
       "      <td>39.0</td>\n",
       "      <td>1638.0</td>\n",
       "      <td>130</td>\n",
       "      <td>18.23</td>\n",
       "      <td>103.37</td>\n",
       "    </tr>\n",
       "    <tr>\n",
       "      <th>18</th>\n",
       "      <td>2019</td>\n",
       "      <td>Bueng Kan</td>\n",
       "      <td>873</td>\n",
       "      <td>75.0</td>\n",
       "      <td>27.0</td>\n",
       "      <td>13.0</td>\n",
       "      <td>39.0</td>\n",
       "      <td>1638.0</td>\n",
       "      <td>130</td>\n",
       "      <td>18.23</td>\n",
       "      <td>103.37</td>\n",
       "    </tr>\n",
       "    <tr>\n",
       "      <th>19</th>\n",
       "      <td>2020</td>\n",
       "      <td>Bueng Kan</td>\n",
       "      <td>683</td>\n",
       "      <td>75.0</td>\n",
       "      <td>27.0</td>\n",
       "      <td>13.0</td>\n",
       "      <td>39.0</td>\n",
       "      <td>1638.0</td>\n",
       "      <td>130</td>\n",
       "      <td>18.23</td>\n",
       "      <td>103.37</td>\n",
       "    </tr>\n",
       "    <tr>\n",
       "      <th>20</th>\n",
       "      <td>2016</td>\n",
       "      <td>Buri Ram</td>\n",
       "      <td>1500</td>\n",
       "      <td>76.6</td>\n",
       "      <td>27.4</td>\n",
       "      <td>8.5</td>\n",
       "      <td>43.2</td>\n",
       "      <td>1370.7</td>\n",
       "      <td>93</td>\n",
       "      <td>15.00</td>\n",
       "      <td>103.00</td>\n",
       "    </tr>\n",
       "    <tr>\n",
       "      <th>21</th>\n",
       "      <td>2017</td>\n",
       "      <td>Buri Ram</td>\n",
       "      <td>622</td>\n",
       "      <td>80.2</td>\n",
       "      <td>26.4</td>\n",
       "      <td>9.3</td>\n",
       "      <td>39.5</td>\n",
       "      <td>1873.8</td>\n",
       "      <td>118</td>\n",
       "      <td>15.00</td>\n",
       "      <td>103.00</td>\n",
       "    </tr>\n",
       "    <tr>\n",
       "      <th>22</th>\n",
       "      <td>2018</td>\n",
       "      <td>Buri Ram</td>\n",
       "      <td>1479</td>\n",
       "      <td>77.7</td>\n",
       "      <td>26.7</td>\n",
       "      <td>11.3</td>\n",
       "      <td>39.3</td>\n",
       "      <td>831.6</td>\n",
       "      <td>94</td>\n",
       "      <td>15.00</td>\n",
       "      <td>103.00</td>\n",
       "    </tr>\n",
       "    <tr>\n",
       "      <th>23</th>\n",
       "      <td>2019</td>\n",
       "      <td>Buri Ram</td>\n",
       "      <td>3860</td>\n",
       "      <td>75.7</td>\n",
       "      <td>27.6</td>\n",
       "      <td>12.1</td>\n",
       "      <td>40.2</td>\n",
       "      <td>1261.7</td>\n",
       "      <td>114</td>\n",
       "      <td>15.00</td>\n",
       "      <td>103.00</td>\n",
       "    </tr>\n",
       "    <tr>\n",
       "      <th>24</th>\n",
       "      <td>2020</td>\n",
       "      <td>Buri Ram</td>\n",
       "      <td>1330</td>\n",
       "      <td>75.0</td>\n",
       "      <td>27.0</td>\n",
       "      <td>13.0</td>\n",
       "      <td>39.0</td>\n",
       "      <td>1638.0</td>\n",
       "      <td>130</td>\n",
       "      <td>15.00</td>\n",
       "      <td>103.00</td>\n",
       "    </tr>\n",
       "    <tr>\n",
       "      <th>25</th>\n",
       "      <td>2016</td>\n",
       "      <td>Chachoengsao</td>\n",
       "      <td>792</td>\n",
       "      <td>78.4</td>\n",
       "      <td>27.7</td>\n",
       "      <td>11.6</td>\n",
       "      <td>41.0</td>\n",
       "      <td>1319.4</td>\n",
       "      <td>130</td>\n",
       "      <td>13.42</td>\n",
       "      <td>101.05</td>\n",
       "    </tr>\n",
       "    <tr>\n",
       "      <th>26</th>\n",
       "      <td>2017</td>\n",
       "      <td>Chachoengsao</td>\n",
       "      <td>442</td>\n",
       "      <td>80.3</td>\n",
       "      <td>27.0</td>\n",
       "      <td>11.8</td>\n",
       "      <td>38.5</td>\n",
       "      <td>1865.3</td>\n",
       "      <td>157</td>\n",
       "      <td>13.42</td>\n",
       "      <td>101.05</td>\n",
       "    </tr>\n",
       "    <tr>\n",
       "      <th>27</th>\n",
       "      <td>2018</td>\n",
       "      <td>Chachoengsao</td>\n",
       "      <td>1578</td>\n",
       "      <td>81.6</td>\n",
       "      <td>26.8</td>\n",
       "      <td>15.0</td>\n",
       "      <td>36.5</td>\n",
       "      <td>1884.7</td>\n",
       "      <td>156</td>\n",
       "      <td>13.42</td>\n",
       "      <td>101.05</td>\n",
       "    </tr>\n",
       "    <tr>\n",
       "      <th>28</th>\n",
       "      <td>2019</td>\n",
       "      <td>Chachoengsao</td>\n",
       "      <td>1143</td>\n",
       "      <td>77.4</td>\n",
       "      <td>27.6</td>\n",
       "      <td>14.4</td>\n",
       "      <td>39.5</td>\n",
       "      <td>920.5</td>\n",
       "      <td>109</td>\n",
       "      <td>13.42</td>\n",
       "      <td>101.05</td>\n",
       "    </tr>\n",
       "    <tr>\n",
       "      <th>29</th>\n",
       "      <td>2020</td>\n",
       "      <td>Chachoengsao</td>\n",
       "      <td>213</td>\n",
       "      <td>75.0</td>\n",
       "      <td>27.0</td>\n",
       "      <td>13.0</td>\n",
       "      <td>39.0</td>\n",
       "      <td>1638.0</td>\n",
       "      <td>130</td>\n",
       "      <td>13.42</td>\n",
       "      <td>101.05</td>\n",
       "    </tr>\n",
       "    <tr>\n",
       "      <th>30</th>\n",
       "      <td>2016</td>\n",
       "      <td>Chai Nat</td>\n",
       "      <td>274</td>\n",
       "      <td>72.2</td>\n",
       "      <td>28.8</td>\n",
       "      <td>12.2</td>\n",
       "      <td>41.8</td>\n",
       "      <td>1182.3</td>\n",
       "      <td>101</td>\n",
       "      <td>15.11</td>\n",
       "      <td>100.08</td>\n",
       "    </tr>\n",
       "    <tr>\n",
       "      <th>31</th>\n",
       "      <td>2017</td>\n",
       "      <td>Chai Nat</td>\n",
       "      <td>195</td>\n",
       "      <td>76.4</td>\n",
       "      <td>28.1</td>\n",
       "      <td>13.0</td>\n",
       "      <td>39.6</td>\n",
       "      <td>1195.9</td>\n",
       "      <td>118</td>\n",
       "      <td>15.11</td>\n",
       "      <td>100.08</td>\n",
       "    </tr>\n",
       "    <tr>\n",
       "      <th>32</th>\n",
       "      <td>2018</td>\n",
       "      <td>Chai Nat</td>\n",
       "      <td>164</td>\n",
       "      <td>76.8</td>\n",
       "      <td>28.0</td>\n",
       "      <td>15.8</td>\n",
       "      <td>39.0</td>\n",
       "      <td>791.7</td>\n",
       "      <td>102</td>\n",
       "      <td>15.11</td>\n",
       "      <td>100.08</td>\n",
       "    </tr>\n",
       "    <tr>\n",
       "      <th>33</th>\n",
       "      <td>2019</td>\n",
       "      <td>Chai Nat</td>\n",
       "      <td>341</td>\n",
       "      <td>72.1</td>\n",
       "      <td>28.6</td>\n",
       "      <td>13.8</td>\n",
       "      <td>41.0</td>\n",
       "      <td>739.0</td>\n",
       "      <td>89</td>\n",
       "      <td>15.11</td>\n",
       "      <td>100.08</td>\n",
       "    </tr>\n",
       "    <tr>\n",
       "      <th>34</th>\n",
       "      <td>2020</td>\n",
       "      <td>Chai Nat</td>\n",
       "      <td>709</td>\n",
       "      <td>75.0</td>\n",
       "      <td>27.0</td>\n",
       "      <td>13.0</td>\n",
       "      <td>39.0</td>\n",
       "      <td>1638.0</td>\n",
       "      <td>130</td>\n",
       "      <td>15.11</td>\n",
       "      <td>100.08</td>\n",
       "    </tr>\n",
       "    <tr>\n",
       "      <th>35</th>\n",
       "      <td>2016</td>\n",
       "      <td>Chaiyaphum</td>\n",
       "      <td>1222</td>\n",
       "      <td>70.0</td>\n",
       "      <td>28.2</td>\n",
       "      <td>11.4</td>\n",
       "      <td>42.6</td>\n",
       "      <td>1234.8</td>\n",
       "      <td>100</td>\n",
       "      <td>15.48</td>\n",
       "      <td>102.02</td>\n",
       "    </tr>\n",
       "    <tr>\n",
       "      <th>36</th>\n",
       "      <td>2017</td>\n",
       "      <td>Chaiyaphum</td>\n",
       "      <td>273</td>\n",
       "      <td>70.7</td>\n",
       "      <td>27.7</td>\n",
       "      <td>11.4</td>\n",
       "      <td>40.6</td>\n",
       "      <td>1135.9</td>\n",
       "      <td>107</td>\n",
       "      <td>15.48</td>\n",
       "      <td>102.02</td>\n",
       "    </tr>\n",
       "    <tr>\n",
       "      <th>37</th>\n",
       "      <td>2018</td>\n",
       "      <td>Chaiyaphum</td>\n",
       "      <td>773</td>\n",
       "      <td>69.5</td>\n",
       "      <td>27.6</td>\n",
       "      <td>12.6</td>\n",
       "      <td>40.6</td>\n",
       "      <td>911.6</td>\n",
       "      <td>113</td>\n",
       "      <td>15.48</td>\n",
       "      <td>102.02</td>\n",
       "    </tr>\n",
       "    <tr>\n",
       "      <th>38</th>\n",
       "      <td>2019</td>\n",
       "      <td>Chaiyaphum</td>\n",
       "      <td>2690</td>\n",
       "      <td>63.9</td>\n",
       "      <td>28.8</td>\n",
       "      <td>13.2</td>\n",
       "      <td>42.5</td>\n",
       "      <td>774.8</td>\n",
       "      <td>78</td>\n",
       "      <td>15.48</td>\n",
       "      <td>102.02</td>\n",
       "    </tr>\n",
       "    <tr>\n",
       "      <th>39</th>\n",
       "      <td>2020</td>\n",
       "      <td>Chaiyaphum</td>\n",
       "      <td>2496</td>\n",
       "      <td>75.0</td>\n",
       "      <td>27.0</td>\n",
       "      <td>13.0</td>\n",
       "      <td>39.0</td>\n",
       "      <td>1638.0</td>\n",
       "      <td>130</td>\n",
       "      <td>15.48</td>\n",
       "      <td>102.02</td>\n",
       "    </tr>\n",
       "    <tr>\n",
       "      <th>40</th>\n",
       "      <td>2016</td>\n",
       "      <td>Chanthaburi</td>\n",
       "      <td>1420</td>\n",
       "      <td>78.1</td>\n",
       "      <td>28.4</td>\n",
       "      <td>15.4</td>\n",
       "      <td>37.0</td>\n",
       "      <td>3400.6</td>\n",
       "      <td>167</td>\n",
       "      <td>12.38</td>\n",
       "      <td>102.12</td>\n",
       "    </tr>\n",
       "    <tr>\n",
       "      <th>41</th>\n",
       "      <td>2017</td>\n",
       "      <td>Chanthaburi</td>\n",
       "      <td>359</td>\n",
       "      <td>79.1</td>\n",
       "      <td>28.0</td>\n",
       "      <td>16.0</td>\n",
       "      <td>36.5</td>\n",
       "      <td>3681.6</td>\n",
       "      <td>177</td>\n",
       "      <td>12.38</td>\n",
       "      <td>102.12</td>\n",
       "    </tr>\n",
       "    <tr>\n",
       "      <th>42</th>\n",
       "      <td>2018</td>\n",
       "      <td>Chanthaburi</td>\n",
       "      <td>418</td>\n",
       "      <td>78.6</td>\n",
       "      <td>28.0</td>\n",
       "      <td>18.2</td>\n",
       "      <td>36.2</td>\n",
       "      <td>2341.3</td>\n",
       "      <td>171</td>\n",
       "      <td>12.38</td>\n",
       "      <td>102.12</td>\n",
       "    </tr>\n",
       "    <tr>\n",
       "      <th>43</th>\n",
       "      <td>2019</td>\n",
       "      <td>Chanthaburi</td>\n",
       "      <td>1961</td>\n",
       "      <td>77.6</td>\n",
       "      <td>28.5</td>\n",
       "      <td>18.0</td>\n",
       "      <td>36.4</td>\n",
       "      <td>2538.0</td>\n",
       "      <td>156</td>\n",
       "      <td>12.38</td>\n",
       "      <td>102.12</td>\n",
       "    </tr>\n",
       "    <tr>\n",
       "      <th>44</th>\n",
       "      <td>2020</td>\n",
       "      <td>Chanthaburi</td>\n",
       "      <td>660</td>\n",
       "      <td>75.0</td>\n",
       "      <td>27.0</td>\n",
       "      <td>13.0</td>\n",
       "      <td>39.0</td>\n",
       "      <td>1638.0</td>\n",
       "      <td>130</td>\n",
       "      <td>12.38</td>\n",
       "      <td>102.12</td>\n",
       "    </tr>\n",
       "    <tr>\n",
       "      <th>45</th>\n",
       "      <td>2016</td>\n",
       "      <td>Chiang Mai</td>\n",
       "      <td>9508</td>\n",
       "      <td>70.3</td>\n",
       "      <td>27.3</td>\n",
       "      <td>10.0</td>\n",
       "      <td>42.5</td>\n",
       "      <td>1179.3</td>\n",
       "      <td>135</td>\n",
       "      <td>18.47</td>\n",
       "      <td>98.59</td>\n",
       "    </tr>\n",
       "    <tr>\n",
       "      <th>46</th>\n",
       "      <td>2017</td>\n",
       "      <td>Chiang Mai</td>\n",
       "      <td>2194</td>\n",
       "      <td>71.4</td>\n",
       "      <td>27.0</td>\n",
       "      <td>9.6</td>\n",
       "      <td>40.5</td>\n",
       "      <td>1419.6</td>\n",
       "      <td>141</td>\n",
       "      <td>18.47</td>\n",
       "      <td>98.59</td>\n",
       "    </tr>\n",
       "    <tr>\n",
       "      <th>47</th>\n",
       "      <td>2018</td>\n",
       "      <td>Chiang Mai</td>\n",
       "      <td>1558</td>\n",
       "      <td>70.5</td>\n",
       "      <td>26.9</td>\n",
       "      <td>12.5</td>\n",
       "      <td>39.8</td>\n",
       "      <td>972.4</td>\n",
       "      <td>129</td>\n",
       "      <td>18.47</td>\n",
       "      <td>98.59</td>\n",
       "    </tr>\n",
       "    <tr>\n",
       "      <th>48</th>\n",
       "      <td>2019</td>\n",
       "      <td>Chiang Mai</td>\n",
       "      <td>3893</td>\n",
       "      <td>65.8</td>\n",
       "      <td>27.5</td>\n",
       "      <td>10.5</td>\n",
       "      <td>41.6</td>\n",
       "      <td>972.1</td>\n",
       "      <td>112</td>\n",
       "      <td>18.47</td>\n",
       "      <td>98.59</td>\n",
       "    </tr>\n",
       "    <tr>\n",
       "      <th>49</th>\n",
       "      <td>2020</td>\n",
       "      <td>Chiang Mai</td>\n",
       "      <td>3273</td>\n",
       "      <td>75.0</td>\n",
       "      <td>27.0</td>\n",
       "      <td>13.0</td>\n",
       "      <td>39.0</td>\n",
       "      <td>1638.0</td>\n",
       "      <td>130</td>\n",
       "      <td>18.47</td>\n",
       "      <td>98.59</td>\n",
       "    </tr>\n",
       "  </tbody>\n",
       "</table>\n",
       "</div>"
      ],
      "text/plain": [
       "    year       Province  patient_count  humidity  temp_avg  temp_min  \\\n",
       "0   2016  Amnat Charoen            676      75.0      27.0      13.0   \n",
       "1   2017  Amnat Charoen            137      75.0      27.0      13.0   \n",
       "2   2018  Amnat Charoen            199      75.0      27.0      13.0   \n",
       "3   2019  Amnat Charoen            549      75.0      27.0      13.0   \n",
       "4   2020  Amnat Charoen            166      75.0      27.0      13.0   \n",
       "5   2016      Ang Thong            286      75.0      27.0      13.0   \n",
       "6   2017      Ang Thong            267      75.0      27.0      13.0   \n",
       "7   2018      Ang Thong            258      75.0      27.0      13.0   \n",
       "8   2019      Ang Thong            281      75.0      27.0      13.0   \n",
       "9   2020      Ang Thong            483      75.0      27.0      13.0   \n",
       "10  2016        Bangkok          14932      75.0      27.0      13.0   \n",
       "11  2017        Bangkok           9036      75.0      27.0      13.0   \n",
       "12  2018        Bangkok           9012      75.0      27.0      13.0   \n",
       "13  2019        Bangkok          14020      75.0      27.0      13.0   \n",
       "14  2020        Bangkok           5820      75.0      27.0      13.0   \n",
       "15  2016      Bueng Kan           1266      75.0      27.0      13.0   \n",
       "16  2017      Bueng Kan            210      75.0      27.0      13.0   \n",
       "17  2018      Bueng Kan            386      75.0      27.0      13.0   \n",
       "18  2019      Bueng Kan            873      75.0      27.0      13.0   \n",
       "19  2020      Bueng Kan            683      75.0      27.0      13.0   \n",
       "20  2016       Buri Ram           1500      76.6      27.4       8.5   \n",
       "21  2017       Buri Ram            622      80.2      26.4       9.3   \n",
       "22  2018       Buri Ram           1479      77.7      26.7      11.3   \n",
       "23  2019       Buri Ram           3860      75.7      27.6      12.1   \n",
       "24  2020       Buri Ram           1330      75.0      27.0      13.0   \n",
       "25  2016   Chachoengsao            792      78.4      27.7      11.6   \n",
       "26  2017   Chachoengsao            442      80.3      27.0      11.8   \n",
       "27  2018   Chachoengsao           1578      81.6      26.8      15.0   \n",
       "28  2019   Chachoengsao           1143      77.4      27.6      14.4   \n",
       "29  2020   Chachoengsao            213      75.0      27.0      13.0   \n",
       "30  2016       Chai Nat            274      72.2      28.8      12.2   \n",
       "31  2017       Chai Nat            195      76.4      28.1      13.0   \n",
       "32  2018       Chai Nat            164      76.8      28.0      15.8   \n",
       "33  2019       Chai Nat            341      72.1      28.6      13.8   \n",
       "34  2020       Chai Nat            709      75.0      27.0      13.0   \n",
       "35  2016     Chaiyaphum           1222      70.0      28.2      11.4   \n",
       "36  2017     Chaiyaphum            273      70.7      27.7      11.4   \n",
       "37  2018     Chaiyaphum            773      69.5      27.6      12.6   \n",
       "38  2019     Chaiyaphum           2690      63.9      28.8      13.2   \n",
       "39  2020     Chaiyaphum           2496      75.0      27.0      13.0   \n",
       "40  2016    Chanthaburi           1420      78.1      28.4      15.4   \n",
       "41  2017    Chanthaburi            359      79.1      28.0      16.0   \n",
       "42  2018    Chanthaburi            418      78.6      28.0      18.2   \n",
       "43  2019    Chanthaburi           1961      77.6      28.5      18.0   \n",
       "44  2020    Chanthaburi            660      75.0      27.0      13.0   \n",
       "45  2016     Chiang Mai           9508      70.3      27.3      10.0   \n",
       "46  2017     Chiang Mai           2194      71.4      27.0       9.6   \n",
       "47  2018     Chiang Mai           1558      70.5      26.9      12.5   \n",
       "48  2019     Chiang Mai           3893      65.8      27.5      10.5   \n",
       "49  2020     Chiang Mai           3273      75.0      27.0      13.0   \n",
       "\n",
       "    temp_max  rain_ml  rain_day  latitude  longitude  \n",
       "0       39.0   1638.0       130     15.51     104.38  \n",
       "1       39.0   1638.0       130     15.51     104.38  \n",
       "2       39.0   1638.0       130     15.51     104.38  \n",
       "3       39.0   1638.0       130     15.51     104.38  \n",
       "4       39.0   1638.0       130     15.51     104.38  \n",
       "5       39.0   1638.0       130     14.35     100.31  \n",
       "6       39.0   1638.0       130     14.35     100.31  \n",
       "7       39.0   1638.0       130     14.35     100.31  \n",
       "8       39.0   1638.0       130     14.35     100.31  \n",
       "9       39.0   1638.0       130     14.35     100.31  \n",
       "10      39.0   1638.0       130     13.45     100.35  \n",
       "11      39.0   1638.0       130     13.45     100.35  \n",
       "12      39.0   1638.0       130     13.45     100.35  \n",
       "13      39.0   1638.0       130     13.45     100.35  \n",
       "14      39.0   1638.0       130     13.45     100.35  \n",
       "15      39.0   1638.0       130     18.23     103.37  \n",
       "16      39.0   1638.0       130     18.23     103.37  \n",
       "17      39.0   1638.0       130     18.23     103.37  \n",
       "18      39.0   1638.0       130     18.23     103.37  \n",
       "19      39.0   1638.0       130     18.23     103.37  \n",
       "20      43.2   1370.7        93     15.00     103.00  \n",
       "21      39.5   1873.8       118     15.00     103.00  \n",
       "22      39.3    831.6        94     15.00     103.00  \n",
       "23      40.2   1261.7       114     15.00     103.00  \n",
       "24      39.0   1638.0       130     15.00     103.00  \n",
       "25      41.0   1319.4       130     13.42     101.05  \n",
       "26      38.5   1865.3       157     13.42     101.05  \n",
       "27      36.5   1884.7       156     13.42     101.05  \n",
       "28      39.5    920.5       109     13.42     101.05  \n",
       "29      39.0   1638.0       130     13.42     101.05  \n",
       "30      41.8   1182.3       101     15.11     100.08  \n",
       "31      39.6   1195.9       118     15.11     100.08  \n",
       "32      39.0    791.7       102     15.11     100.08  \n",
       "33      41.0    739.0        89     15.11     100.08  \n",
       "34      39.0   1638.0       130     15.11     100.08  \n",
       "35      42.6   1234.8       100     15.48     102.02  \n",
       "36      40.6   1135.9       107     15.48     102.02  \n",
       "37      40.6    911.6       113     15.48     102.02  \n",
       "38      42.5    774.8        78     15.48     102.02  \n",
       "39      39.0   1638.0       130     15.48     102.02  \n",
       "40      37.0   3400.6       167     12.38     102.12  \n",
       "41      36.5   3681.6       177     12.38     102.12  \n",
       "42      36.2   2341.3       171     12.38     102.12  \n",
       "43      36.4   2538.0       156     12.38     102.12  \n",
       "44      39.0   1638.0       130     12.38     102.12  \n",
       "45      42.5   1179.3       135     18.47      98.59  \n",
       "46      40.5   1419.6       141     18.47      98.59  \n",
       "47      39.8    972.4       129     18.47      98.59  \n",
       "48      41.6    972.1       112     18.47      98.59  \n",
       "49      39.0   1638.0       130     18.47      98.59  "
      ]
     },
     "execution_count": 6,
     "metadata": {},
     "output_type": "execute_result"
    }
   ],
   "source": [
    "heatmap_df.head(50)"
   ]
  },
  {
   "cell_type": "code",
   "execution_count": 16,
   "id": "09984741",
   "metadata": {},
   "outputs": [
    {
     "data": {
      "text/html": [
       "<div>\n",
       "<style scoped>\n",
       "    .dataframe tbody tr th:only-of-type {\n",
       "        vertical-align: middle;\n",
       "    }\n",
       "\n",
       "    .dataframe tbody tr th {\n",
       "        vertical-align: top;\n",
       "    }\n",
       "\n",
       "    .dataframe thead th {\n",
       "        text-align: right;\n",
       "    }\n",
       "</style>\n",
       "<table border=\"1\" class=\"dataframe\">\n",
       "  <thead>\n",
       "    <tr style=\"text-align: right;\">\n",
       "      <th></th>\n",
       "      <th>patient_count</th>\n",
       "      <th>rain_ml</th>\n",
       "      <th>latitude</th>\n",
       "      <th>longitude</th>\n",
       "    </tr>\n",
       "  </thead>\n",
       "  <tbody>\n",
       "    <tr>\n",
       "      <th>0</th>\n",
       "      <td>676</td>\n",
       "      <td>1638.0</td>\n",
       "      <td>15.51</td>\n",
       "      <td>104.38</td>\n",
       "    </tr>\n",
       "    <tr>\n",
       "      <th>1</th>\n",
       "      <td>137</td>\n",
       "      <td>1638.0</td>\n",
       "      <td>15.51</td>\n",
       "      <td>104.38</td>\n",
       "    </tr>\n",
       "    <tr>\n",
       "      <th>2</th>\n",
       "      <td>199</td>\n",
       "      <td>1638.0</td>\n",
       "      <td>15.51</td>\n",
       "      <td>104.38</td>\n",
       "    </tr>\n",
       "    <tr>\n",
       "      <th>3</th>\n",
       "      <td>549</td>\n",
       "      <td>1638.0</td>\n",
       "      <td>15.51</td>\n",
       "      <td>104.38</td>\n",
       "    </tr>\n",
       "    <tr>\n",
       "      <th>4</th>\n",
       "      <td>166</td>\n",
       "      <td>1638.0</td>\n",
       "      <td>15.51</td>\n",
       "      <td>104.38</td>\n",
       "    </tr>\n",
       "  </tbody>\n",
       "</table>\n",
       "</div>"
      ],
      "text/plain": [
       "   patient_count  rain_ml  latitude  longitude\n",
       "0            676   1638.0     15.51     104.38\n",
       "1            137   1638.0     15.51     104.38\n",
       "2            199   1638.0     15.51     104.38\n",
       "3            549   1638.0     15.51     104.38\n",
       "4            166   1638.0     15.51     104.38"
      ]
     },
     "execution_count": 16,
     "metadata": {},
     "output_type": "execute_result"
    }
   ],
   "source": [
    "heatmap_df_2020 = heatmap_df.filter([\"year\" == 2020, \"patient_count\",\"rain_ml\", \"latitude\", \"longitude\"])\n",
    "heatmap_df_2020.head()"
   ]
  },
  {
   "cell_type": "code",
   "execution_count": 20,
   "id": "831c3187",
   "metadata": {},
   "outputs": [
    {
     "data": {
      "application/vnd.plotly.v1+json": {
       "config": {
        "plotlyServerURL": "https://plot.ly"
       },
       "data": [
        {
         "coloraxis": "coloraxis",
         "hovertemplate": "patient_count=%{z}<br>latitude=%{lat}<br>longitude=%{lon}<extra></extra>",
         "lat": [
          15.51,
          15.51,
          15.51,
          15.51,
          15.51,
          14.35,
          14.35,
          14.35,
          14.35,
          14.35,
          13.45,
          13.45,
          13.45,
          13.45,
          13.45,
          18.23,
          18.23,
          18.23,
          18.23,
          18.23,
          15,
          15,
          15,
          15,
          15,
          13.42,
          13.42,
          13.42,
          13.42,
          13.42,
          15.11,
          15.11,
          15.11,
          15.11,
          15.11,
          15.48,
          15.48,
          15.48,
          15.48,
          15.48,
          12.38,
          12.38,
          12.38,
          12.38,
          12.38,
          18.47,
          18.47,
          18.47,
          18.47,
          18.47,
          19.52,
          19.52,
          19.52,
          19.52,
          19.52,
          13.21,
          13.21,
          13.21,
          13.21,
          13.21,
          10.35,
          10.35,
          10.35,
          10.35,
          10.35,
          16.26,
          16.26,
          16.26,
          16.26,
          16.26,
          16.28,
          16.28,
          16.28,
          16.28,
          16.28,
          14.02,
          14.02,
          14.02,
          14.02,
          14.02,
          16.3,
          16.3,
          16.3,
          16.3,
          16.3,
          8.04,
          8.04,
          8.04,
          8.04,
          8.04,
          18.16,
          18.16,
          18.16,
          18.16,
          18.16,
          18.4,
          18.4,
          18.4,
          18.4,
          18.4,
          17.29,
          17.29,
          17.29,
          17.29,
          17.29,
          14.48,
          14.48,
          14.48,
          14.48,
          14.48,
          19.16,
          19.16,
          19.16,
          19.16,
          19.16,
          16.12,
          16.12,
          16.12,
          16.12,
          16.12,
          16.32,
          16.32,
          16.32,
          16.32,
          16.32,
          14.12,
          14.12,
          14.12,
          14.12,
          14.12,
          13.49,
          13.49,
          13.49,
          13.49,
          13.49,
          17.23,
          17.23,
          17.23,
          17.23,
          17.23,
          14.59,
          14.59,
          14.59,
          14.59,
          14.59,
          15.35,
          15.35,
          15.35,
          15.35,
          15.35,
          8.29,
          8.29,
          8.29,
          8.29,
          8.29,
          15.42,
          15.42,
          15.42,
          15.42,
          15.42,
          6.3,
          6.3,
          6.3,
          6.3,
          6.3,
          17.174,
          17.174,
          17.174,
          17.174,
          17.174,
          17.5,
          17.5,
          17.5,
          17.5,
          17.5,
          13.51,
          13.51,
          13.51,
          13.51,
          13.51,
          14.02,
          14.02,
          14.02,
          14.02,
          14.02,
          6.48,
          6.48,
          6.48,
          6.48,
          6.48,
          8.28,
          8.28,
          8.28,
          8.28,
          8.28,
          7.39,
          7.39,
          7.39,
          7.39,
          7.39,
          19.11,
          19.11,
          19.11,
          19.11,
          19.11,
          16.25,
          16.25,
          16.25,
          16.25,
          16.25,
          13.01,
          13.01,
          13.01,
          13.01,
          13.01,
          16.26,
          16.26,
          16.26,
          16.26,
          16.26,
          14.2,
          14.2,
          14.2,
          14.2,
          14.2,
          14.25,
          14.25,
          14.25,
          14.25,
          14.25,
          18.07,
          18.07,
          18.07,
          18.07,
          18.07,
          7.53,
          7.53,
          7.53,
          7.53,
          7.53,
          14,
          14,
          14,
          14,
          14,
          11.49,
          11.49,
          11.49,
          11.49,
          11.49,
          9.56,
          9.56,
          9.56,
          9.56,
          9.56,
          13.3,
          13.3,
          13.3,
          13.3,
          13.3,
          12.4,
          12.4,
          12.4,
          12.4,
          12.4,
          16.4,
          16.4,
          16.4,
          16.4,
          16.4,
          13.8222,
          13.8222,
          13.8222,
          13.8222,
          13.8222,
          17.1,
          17.1,
          17.1,
          17.1,
          17.1,
          13.32,
          13.32,
          13.32,
          13.32,
          13.32,
          13.5498,
          13.5498,
          13.5498,
          13.5498,
          13.5498,
          13.24,
          13.24,
          13.24,
          13.24,
          13.24,
          14.3,
          14.3,
          14.3,
          14.3,
          14.3,
          6.43,
          6.43,
          6.43,
          6.43,
          6.43,
          15.8,
          15.8,
          15.8,
          15.8,
          15.8,
          14.53,
          14.53,
          14.53,
          14.53,
          14.53,
          7.13,
          7.13,
          7.13,
          7.13,
          7.13,
          17.0076,
          17.0076,
          17.0076,
          17.0076,
          17.0076,
          14.4745,
          14.4745,
          14.4745,
          14.4745,
          14.4745,
          9.6,
          9.6,
          9.6,
          9.6,
          9.6,
          14.5,
          14.5,
          14.5,
          14.5,
          14.5,
          16.52,
          16.52,
          16.52,
          16.52,
          16.52,
          7.33,
          7.33,
          7.33,
          7.33,
          7.33,
          12.2428,
          12.2428,
          12.2428,
          12.2428,
          12.2428,
          15.15,
          15.15,
          15.15,
          15.15,
          15.15,
          17.29,
          17.29,
          17.29,
          17.29,
          17.29,
          15.3835,
          15.3835,
          15.3835,
          15.3835,
          15.3835,
          17.36,
          17.36,
          17.36,
          17.36,
          17.36,
          6.5411,
          6.5411,
          6.5411,
          6.5411,
          6.5411,
          15.5,
          15.5,
          15.5,
          15.5,
          15.5
         ],
         "lon": [
          104.38,
          104.38,
          104.38,
          104.38,
          104.38,
          100.31,
          100.31,
          100.31,
          100.31,
          100.31,
          100.35,
          100.35,
          100.35,
          100.35,
          100.35,
          103.37,
          103.37,
          103.37,
          103.37,
          103.37,
          103,
          103,
          103,
          103,
          103,
          101.05,
          101.05,
          101.05,
          101.05,
          101.05,
          100.08,
          100.08,
          100.08,
          100.08,
          100.08,
          102.02,
          102.02,
          102.02,
          102.02,
          102.02,
          102.12,
          102.12,
          102.12,
          102.12,
          102.12,
          98.59,
          98.59,
          98.59,
          98.59,
          98.59,
          99.5,
          99.5,
          99.5,
          99.5,
          99.5,
          101.01,
          101.01,
          101.01,
          101.01,
          101.01,
          99.14,
          99.14,
          99.14,
          99.14,
          99.14,
          103.3,
          103.3,
          103.3,
          103.3,
          103.3,
          99.3,
          99.3,
          99.3,
          99.3,
          99.3,
          99.31,
          99.31,
          99.31,
          99.31,
          99.31,
          102.47,
          102.47,
          102.47,
          102.47,
          102.47,
          98.55,
          98.55,
          98.55,
          98.55,
          98.55,
          99.32,
          99.32,
          99.32,
          99.32,
          99.32,
          99.02,
          99.02,
          99.02,
          99.02,
          99.02,
          101.35,
          101.35,
          101.35,
          101.35,
          101.35,
          100.37,
          100.37,
          100.37,
          100.37,
          100.37,
          97.56,
          97.56,
          97.56,
          97.56,
          97.56,
          103.16,
          103.16,
          103.16,
          103.16,
          103.16,
          104.43,
          104.43,
          104.43,
          104.43,
          104.43,
          101.13,
          101.13,
          101.13,
          101.13,
          101.13,
          100.03,
          100.03,
          100.03,
          100.03,
          100.03,
          104.43,
          104.43,
          104.43,
          104.43,
          104.43,
          102.12,
          102.12,
          102.12,
          102.12,
          102.12,
          100.1,
          100.1,
          100.1,
          100.1,
          100.1,
          100,
          100,
          100,
          100,
          100,
          100.09,
          100.09,
          100.09,
          100.09,
          100.09,
          101.48,
          101.48,
          101.48,
          101.48,
          101.48,
          102.4495,
          102.4495,
          102.4495,
          102.4495,
          102.4495,
          102.46,
          102.46,
          102.46,
          102.46,
          102.46,
          100.34,
          100.34,
          100.34,
          100.34,
          100.34,
          100.52,
          100.52,
          100.52,
          100.52,
          100.52,
          101.15,
          101.15,
          101.15,
          101.15,
          101.15,
          98.3,
          98.3,
          98.3,
          98.3,
          98.3,
          100.06,
          100.06,
          100.06,
          100.06,
          100.06,
          99.55,
          99.55,
          99.55,
          99.55,
          99.55,
          101.08,
          101.08,
          101.08,
          101.08,
          101.08,
          99.55,
          99.55,
          99.55,
          99.55,
          99.55,
          100.22,
          100.22,
          100.22,
          100.22,
          100.22,
          104,
          104,
          104,
          104,
          104,
          100.3,
          100.3,
          100.3,
          100.3,
          100.3,
          100.09,
          100.09,
          100.09,
          100.09,
          100.09,
          98.24,
          98.24,
          98.24,
          98.24,
          98.24,
          101.25,
          101.25,
          101.25,
          101.25,
          101.25,
          99.48,
          99.48,
          99.48,
          99.48,
          99.48,
          98.4,
          98.4,
          98.4,
          98.4,
          98.4,
          99.54,
          99.54,
          99.54,
          99.54,
          99.54,
          101.2,
          101.2,
          101.2,
          101.2,
          101.2,
          103.4,
          103.4,
          103.4,
          103.4,
          103.4,
          102.066,
          102.066,
          102.066,
          102.066,
          102.066,
          104.9,
          104.9,
          104.9,
          104.9,
          104.9,
          100.4,
          100.4,
          100.4,
          100.4,
          100.4,
          100.2741,
          100.2741,
          100.2741,
          100.2741,
          100.2741,
          100.1,
          100.1,
          100.1,
          100.1,
          100.1,
          100.55,
          100.55,
          100.55,
          100.55,
          100.55,
          100.2,
          100.2,
          100.2,
          100.2,
          100.2,
          104.23,
          104.23,
          104.23,
          104.23,
          104.23,
          100.25,
          100.25,
          100.25,
          100.25,
          100.25,
          100.37,
          100.37,
          100.37,
          100.37,
          100.37,
          99.8264,
          99.8264,
          99.8264,
          99.8264,
          99.8264,
          100.1177,
          100.1177,
          100.1177,
          100.1177,
          100.1177,
          99.2,
          99.2,
          99.2,
          99.2,
          99.2,
          103.34,
          103.34,
          103.34,
          103.34,
          103.34,
          99.8,
          99.8,
          99.8,
          99.8,
          99.8,
          99.38,
          99.38,
          99.38,
          99.38,
          99.38,
          102.5175,
          102.5175,
          102.5175,
          102.5175,
          102.5175,
          104.5,
          104.5,
          104.5,
          104.5,
          104.5,
          102.46,
          102.46,
          102.46,
          102.46,
          102.46,
          100.0246,
          100.0246,
          100.0246,
          100.0246,
          100.0246,
          100.5,
          100.5,
          100.5,
          100.5,
          100.5,
          101.2804,
          101.2804,
          101.2804,
          101.2804,
          101.2804,
          104.1,
          104.1,
          104.1,
          104.1,
          104.1
         ],
         "name": "",
         "radius": 15,
         "subplot": "mapbox",
         "type": "densitymapbox",
         "z": [
          676,
          137,
          199,
          549,
          166,
          286,
          267,
          258,
          281,
          483,
          14932,
          9036,
          9012,
          14020,
          5820,
          1266,
          210,
          386,
          873,
          683,
          1500,
          622,
          1479,
          3860,
          1330,
          792,
          442,
          1578,
          1143,
          213,
          274,
          195,
          164,
          341,
          709,
          1222,
          273,
          773,
          2690,
          2496,
          1420,
          359,
          418,
          1961,
          660,
          9508,
          2194,
          1558,
          3893,
          3273,
          2394,
          1797,
          2938,
          5471,
          1640,
          1648,
          704,
          2748,
          3763,
          2308,
          492,
          336,
          287,
          593,
          295,
          1566,
          608,
          653,
          1329,
          799,
          352,
          507,
          918,
          487,
          300,
          392,
          131,
          590,
          903,
          360,
          1600,
          435,
          1374,
          3550,
          3168,
          1128,
          515,
          962,
          597,
          222,
          1496,
          302,
          326,
          881,
          954,
          1072,
          281,
          256,
          333,
          171,
          1376,
          364,
          488,
          1755,
          926,
          870,
          204,
          1231,
          1280,
          1046,
          2268,
          495,
          580,
          415,
          1601,
          1232,
          452,
          671,
          1355,
          1400,
          1772,
          558,
          462,
          1576,
          438,
          158,
          36,
          644,
          354,
          114,
          1508,
          1099,
          3252,
          2362,
          926,
          814,
          143,
          155,
          1038,
          452,
          3262,
          1718,
          3661,
          9719,
          6202,
          1236,
          563,
          2940,
          1397,
          1230,
          4566,
          2884,
          3973,
          4388,
          899,
          424,
          375,
          436,
          449,
          294,
          3512,
          1091,
          785,
          2100,
          627,
          442,
          135,
          337,
          466,
          297,
          354,
          165,
          189,
          738,
          527,
          1202,
          1048,
          2377,
          1486,
          726,
          806,
          372,
          1963,
          644,
          366,
          4640,
          914,
          668,
          1285,
          541,
          726,
          328,
          529,
          712,
          242,
          2942,
          999,
          634,
          898,
          183,
          404,
          82,
          173,
          409,
          240,
          1792,
          524,
          868,
          2274,
          1310,
          988,
          1071,
          916,
          973,
          368,
          660,
          552,
          1275,
          323,
          383,
          1146,
          613,
          1269,
          692,
          900,
          1070,
          485,
          1297,
          703,
          558,
          234,
          55,
          401,
          418,
          205,
          1000,
          779,
          930,
          585,
          177,
          578,
          467,
          538,
          1467,
          556,
          638,
          397,
          463,
          565,
          206,
          258,
          184,
          216,
          194,
          150,
          782,
          593,
          1763,
          2048,
          1006,
          1820,
          637,
          1645,
          2733,
          2357,
          2366,
          615,
          1390,
          3802,
          1637,
          462,
          457,
          420,
          1503,
          517,
          726,
          290,
          268,
          918,
          335,
          1898,
          850,
          1530,
          1325,
          735,
          844,
          773,
          1450,
          1276,
          533,
          138,
          150,
          233,
          261,
          69,
          494,
          225,
          578,
          917,
          608,
          696,
          73,
          110,
          171,
          52,
          2480,
          676,
          2097,
          2595,
          1028,
          12,
          13,
          55,
          195,
          313,
          11000,
          3009,
          2181,
          3136,
          1252,
          624,
          216,
          681,
          692,
          701,
          710,
          568,
          1526,
          708,
          736,
          1056,
          943,
          1163,
          553,
          367,
          4460,
          1280,
          2241,
          3787,
          2487,
          1408,
          1288,
          1214,
          1337,
          752,
          1554,
          351,
          638,
          703,
          510,
          476,
          96,
          484,
          635,
          183,
          4310,
          777,
          2053,
          7583,
          2425,
          352,
          248,
          424,
          1628,
          941,
          342,
          117,
          622,
          689,
          247,
          466,
          243,
          274,
          588,
          587,
          1690,
          290,
          504,
          1456,
          436,
          686,
          187,
          409,
          870,
          338
         ]
        }
       ],
       "layout": {
        "coloraxis": {
         "colorbar": {
          "title": {
           "text": "patient_count"
          }
         },
         "colorscale": [
          [
           0,
           "#0d0887"
          ],
          [
           0.1111111111111111,
           "#46039f"
          ],
          [
           0.2222222222222222,
           "#7201a8"
          ],
          [
           0.3333333333333333,
           "#9c179e"
          ],
          [
           0.4444444444444444,
           "#bd3786"
          ],
          [
           0.5555555555555556,
           "#d8576b"
          ],
          [
           0.6666666666666666,
           "#ed7953"
          ],
          [
           0.7777777777777778,
           "#fb9f3a"
          ],
          [
           0.8888888888888888,
           "#fdca26"
          ],
          [
           1,
           "#f0f921"
          ]
         ]
        },
        "legend": {
         "tracegroupgap": 0
        },
        "mapbox": {
         "center": {
          "lat": 13,
          "lon": 100
         },
         "domain": {
          "x": [
           0,
           1
          ],
          "y": [
           0,
           1
          ]
         },
         "style": "stamen-terrain",
         "zoom": 5
        },
        "margin": {
         "t": 60
        },
        "template": {
         "data": {
          "bar": [
           {
            "error_x": {
             "color": "#2a3f5f"
            },
            "error_y": {
             "color": "#2a3f5f"
            },
            "marker": {
             "line": {
              "color": "#E5ECF6",
              "width": 0.5
             },
             "pattern": {
              "fillmode": "overlay",
              "size": 10,
              "solidity": 0.2
             }
            },
            "type": "bar"
           }
          ],
          "barpolar": [
           {
            "marker": {
             "line": {
              "color": "#E5ECF6",
              "width": 0.5
             },
             "pattern": {
              "fillmode": "overlay",
              "size": 10,
              "solidity": 0.2
             }
            },
            "type": "barpolar"
           }
          ],
          "carpet": [
           {
            "aaxis": {
             "endlinecolor": "#2a3f5f",
             "gridcolor": "white",
             "linecolor": "white",
             "minorgridcolor": "white",
             "startlinecolor": "#2a3f5f"
            },
            "baxis": {
             "endlinecolor": "#2a3f5f",
             "gridcolor": "white",
             "linecolor": "white",
             "minorgridcolor": "white",
             "startlinecolor": "#2a3f5f"
            },
            "type": "carpet"
           }
          ],
          "choropleth": [
           {
            "colorbar": {
             "outlinewidth": 0,
             "ticks": ""
            },
            "type": "choropleth"
           }
          ],
          "contour": [
           {
            "colorbar": {
             "outlinewidth": 0,
             "ticks": ""
            },
            "colorscale": [
             [
              0,
              "#0d0887"
             ],
             [
              0.1111111111111111,
              "#46039f"
             ],
             [
              0.2222222222222222,
              "#7201a8"
             ],
             [
              0.3333333333333333,
              "#9c179e"
             ],
             [
              0.4444444444444444,
              "#bd3786"
             ],
             [
              0.5555555555555556,
              "#d8576b"
             ],
             [
              0.6666666666666666,
              "#ed7953"
             ],
             [
              0.7777777777777778,
              "#fb9f3a"
             ],
             [
              0.8888888888888888,
              "#fdca26"
             ],
             [
              1,
              "#f0f921"
             ]
            ],
            "type": "contour"
           }
          ],
          "contourcarpet": [
           {
            "colorbar": {
             "outlinewidth": 0,
             "ticks": ""
            },
            "type": "contourcarpet"
           }
          ],
          "heatmap": [
           {
            "colorbar": {
             "outlinewidth": 0,
             "ticks": ""
            },
            "colorscale": [
             [
              0,
              "#0d0887"
             ],
             [
              0.1111111111111111,
              "#46039f"
             ],
             [
              0.2222222222222222,
              "#7201a8"
             ],
             [
              0.3333333333333333,
              "#9c179e"
             ],
             [
              0.4444444444444444,
              "#bd3786"
             ],
             [
              0.5555555555555556,
              "#d8576b"
             ],
             [
              0.6666666666666666,
              "#ed7953"
             ],
             [
              0.7777777777777778,
              "#fb9f3a"
             ],
             [
              0.8888888888888888,
              "#fdca26"
             ],
             [
              1,
              "#f0f921"
             ]
            ],
            "type": "heatmap"
           }
          ],
          "heatmapgl": [
           {
            "colorbar": {
             "outlinewidth": 0,
             "ticks": ""
            },
            "colorscale": [
             [
              0,
              "#0d0887"
             ],
             [
              0.1111111111111111,
              "#46039f"
             ],
             [
              0.2222222222222222,
              "#7201a8"
             ],
             [
              0.3333333333333333,
              "#9c179e"
             ],
             [
              0.4444444444444444,
              "#bd3786"
             ],
             [
              0.5555555555555556,
              "#d8576b"
             ],
             [
              0.6666666666666666,
              "#ed7953"
             ],
             [
              0.7777777777777778,
              "#fb9f3a"
             ],
             [
              0.8888888888888888,
              "#fdca26"
             ],
             [
              1,
              "#f0f921"
             ]
            ],
            "type": "heatmapgl"
           }
          ],
          "histogram": [
           {
            "marker": {
             "pattern": {
              "fillmode": "overlay",
              "size": 10,
              "solidity": 0.2
             }
            },
            "type": "histogram"
           }
          ],
          "histogram2d": [
           {
            "colorbar": {
             "outlinewidth": 0,
             "ticks": ""
            },
            "colorscale": [
             [
              0,
              "#0d0887"
             ],
             [
              0.1111111111111111,
              "#46039f"
             ],
             [
              0.2222222222222222,
              "#7201a8"
             ],
             [
              0.3333333333333333,
              "#9c179e"
             ],
             [
              0.4444444444444444,
              "#bd3786"
             ],
             [
              0.5555555555555556,
              "#d8576b"
             ],
             [
              0.6666666666666666,
              "#ed7953"
             ],
             [
              0.7777777777777778,
              "#fb9f3a"
             ],
             [
              0.8888888888888888,
              "#fdca26"
             ],
             [
              1,
              "#f0f921"
             ]
            ],
            "type": "histogram2d"
           }
          ],
          "histogram2dcontour": [
           {
            "colorbar": {
             "outlinewidth": 0,
             "ticks": ""
            },
            "colorscale": [
             [
              0,
              "#0d0887"
             ],
             [
              0.1111111111111111,
              "#46039f"
             ],
             [
              0.2222222222222222,
              "#7201a8"
             ],
             [
              0.3333333333333333,
              "#9c179e"
             ],
             [
              0.4444444444444444,
              "#bd3786"
             ],
             [
              0.5555555555555556,
              "#d8576b"
             ],
             [
              0.6666666666666666,
              "#ed7953"
             ],
             [
              0.7777777777777778,
              "#fb9f3a"
             ],
             [
              0.8888888888888888,
              "#fdca26"
             ],
             [
              1,
              "#f0f921"
             ]
            ],
            "type": "histogram2dcontour"
           }
          ],
          "mesh3d": [
           {
            "colorbar": {
             "outlinewidth": 0,
             "ticks": ""
            },
            "type": "mesh3d"
           }
          ],
          "parcoords": [
           {
            "line": {
             "colorbar": {
              "outlinewidth": 0,
              "ticks": ""
             }
            },
            "type": "parcoords"
           }
          ],
          "pie": [
           {
            "automargin": true,
            "type": "pie"
           }
          ],
          "scatter": [
           {
            "marker": {
             "colorbar": {
              "outlinewidth": 0,
              "ticks": ""
             }
            },
            "type": "scatter"
           }
          ],
          "scatter3d": [
           {
            "line": {
             "colorbar": {
              "outlinewidth": 0,
              "ticks": ""
             }
            },
            "marker": {
             "colorbar": {
              "outlinewidth": 0,
              "ticks": ""
             }
            },
            "type": "scatter3d"
           }
          ],
          "scattercarpet": [
           {
            "marker": {
             "colorbar": {
              "outlinewidth": 0,
              "ticks": ""
             }
            },
            "type": "scattercarpet"
           }
          ],
          "scattergeo": [
           {
            "marker": {
             "colorbar": {
              "outlinewidth": 0,
              "ticks": ""
             }
            },
            "type": "scattergeo"
           }
          ],
          "scattergl": [
           {
            "marker": {
             "colorbar": {
              "outlinewidth": 0,
              "ticks": ""
             }
            },
            "type": "scattergl"
           }
          ],
          "scattermapbox": [
           {
            "marker": {
             "colorbar": {
              "outlinewidth": 0,
              "ticks": ""
             }
            },
            "type": "scattermapbox"
           }
          ],
          "scatterpolar": [
           {
            "marker": {
             "colorbar": {
              "outlinewidth": 0,
              "ticks": ""
             }
            },
            "type": "scatterpolar"
           }
          ],
          "scatterpolargl": [
           {
            "marker": {
             "colorbar": {
              "outlinewidth": 0,
              "ticks": ""
             }
            },
            "type": "scatterpolargl"
           }
          ],
          "scatterternary": [
           {
            "marker": {
             "colorbar": {
              "outlinewidth": 0,
              "ticks": ""
             }
            },
            "type": "scatterternary"
           }
          ],
          "surface": [
           {
            "colorbar": {
             "outlinewidth": 0,
             "ticks": ""
            },
            "colorscale": [
             [
              0,
              "#0d0887"
             ],
             [
              0.1111111111111111,
              "#46039f"
             ],
             [
              0.2222222222222222,
              "#7201a8"
             ],
             [
              0.3333333333333333,
              "#9c179e"
             ],
             [
              0.4444444444444444,
              "#bd3786"
             ],
             [
              0.5555555555555556,
              "#d8576b"
             ],
             [
              0.6666666666666666,
              "#ed7953"
             ],
             [
              0.7777777777777778,
              "#fb9f3a"
             ],
             [
              0.8888888888888888,
              "#fdca26"
             ],
             [
              1,
              "#f0f921"
             ]
            ],
            "type": "surface"
           }
          ],
          "table": [
           {
            "cells": {
             "fill": {
              "color": "#EBF0F8"
             },
             "line": {
              "color": "white"
             }
            },
            "header": {
             "fill": {
              "color": "#C8D4E3"
             },
             "line": {
              "color": "white"
             }
            },
            "type": "table"
           }
          ]
         },
         "layout": {
          "annotationdefaults": {
           "arrowcolor": "#2a3f5f",
           "arrowhead": 0,
           "arrowwidth": 1
          },
          "autotypenumbers": "strict",
          "coloraxis": {
           "colorbar": {
            "outlinewidth": 0,
            "ticks": ""
           }
          },
          "colorscale": {
           "diverging": [
            [
             0,
             "#8e0152"
            ],
            [
             0.1,
             "#c51b7d"
            ],
            [
             0.2,
             "#de77ae"
            ],
            [
             0.3,
             "#f1b6da"
            ],
            [
             0.4,
             "#fde0ef"
            ],
            [
             0.5,
             "#f7f7f7"
            ],
            [
             0.6,
             "#e6f5d0"
            ],
            [
             0.7,
             "#b8e186"
            ],
            [
             0.8,
             "#7fbc41"
            ],
            [
             0.9,
             "#4d9221"
            ],
            [
             1,
             "#276419"
            ]
           ],
           "sequential": [
            [
             0,
             "#0d0887"
            ],
            [
             0.1111111111111111,
             "#46039f"
            ],
            [
             0.2222222222222222,
             "#7201a8"
            ],
            [
             0.3333333333333333,
             "#9c179e"
            ],
            [
             0.4444444444444444,
             "#bd3786"
            ],
            [
             0.5555555555555556,
             "#d8576b"
            ],
            [
             0.6666666666666666,
             "#ed7953"
            ],
            [
             0.7777777777777778,
             "#fb9f3a"
            ],
            [
             0.8888888888888888,
             "#fdca26"
            ],
            [
             1,
             "#f0f921"
            ]
           ],
           "sequentialminus": [
            [
             0,
             "#0d0887"
            ],
            [
             0.1111111111111111,
             "#46039f"
            ],
            [
             0.2222222222222222,
             "#7201a8"
            ],
            [
             0.3333333333333333,
             "#9c179e"
            ],
            [
             0.4444444444444444,
             "#bd3786"
            ],
            [
             0.5555555555555556,
             "#d8576b"
            ],
            [
             0.6666666666666666,
             "#ed7953"
            ],
            [
             0.7777777777777778,
             "#fb9f3a"
            ],
            [
             0.8888888888888888,
             "#fdca26"
            ],
            [
             1,
             "#f0f921"
            ]
           ]
          },
          "colorway": [
           "#636efa",
           "#EF553B",
           "#00cc96",
           "#ab63fa",
           "#FFA15A",
           "#19d3f3",
           "#FF6692",
           "#B6E880",
           "#FF97FF",
           "#FECB52"
          ],
          "font": {
           "color": "#2a3f5f"
          },
          "geo": {
           "bgcolor": "white",
           "lakecolor": "white",
           "landcolor": "#E5ECF6",
           "showlakes": true,
           "showland": true,
           "subunitcolor": "white"
          },
          "hoverlabel": {
           "align": "left"
          },
          "hovermode": "closest",
          "mapbox": {
           "style": "light"
          },
          "paper_bgcolor": "white",
          "plot_bgcolor": "#E5ECF6",
          "polar": {
           "angularaxis": {
            "gridcolor": "white",
            "linecolor": "white",
            "ticks": ""
           },
           "bgcolor": "#E5ECF6",
           "radialaxis": {
            "gridcolor": "white",
            "linecolor": "white",
            "ticks": ""
           }
          },
          "scene": {
           "xaxis": {
            "backgroundcolor": "#E5ECF6",
            "gridcolor": "white",
            "gridwidth": 2,
            "linecolor": "white",
            "showbackground": true,
            "ticks": "",
            "zerolinecolor": "white"
           },
           "yaxis": {
            "backgroundcolor": "#E5ECF6",
            "gridcolor": "white",
            "gridwidth": 2,
            "linecolor": "white",
            "showbackground": true,
            "ticks": "",
            "zerolinecolor": "white"
           },
           "zaxis": {
            "backgroundcolor": "#E5ECF6",
            "gridcolor": "white",
            "gridwidth": 2,
            "linecolor": "white",
            "showbackground": true,
            "ticks": "",
            "zerolinecolor": "white"
           }
          },
          "shapedefaults": {
           "line": {
            "color": "#2a3f5f"
           }
          },
          "ternary": {
           "aaxis": {
            "gridcolor": "white",
            "linecolor": "white",
            "ticks": ""
           },
           "baxis": {
            "gridcolor": "white",
            "linecolor": "white",
            "ticks": ""
           },
           "bgcolor": "#E5ECF6",
           "caxis": {
            "gridcolor": "white",
            "linecolor": "white",
            "ticks": ""
           }
          },
          "title": {
           "x": 0.05
          },
          "xaxis": {
           "automargin": true,
           "gridcolor": "white",
           "linecolor": "white",
           "ticks": "",
           "title": {
            "standoff": 15
           },
           "zerolinecolor": "white",
           "zerolinewidth": 2
          },
          "yaxis": {
           "automargin": true,
           "gridcolor": "white",
           "linecolor": "white",
           "ticks": "",
           "title": {
            "standoff": 15
           },
           "zerolinecolor": "white",
           "zerolinewidth": 2
          }
         }
        }
       }
      },
      "text/html": [
       "<div>                            <div id=\"ea1df4ba-e05d-463f-98e0-9ff285d1d277\" class=\"plotly-graph-div\" style=\"height:525px; width:100%;\"></div>            <script type=\"text/javascript\">                require([\"plotly\"], function(Plotly) {                    window.PLOTLYENV=window.PLOTLYENV || {};                                    if (document.getElementById(\"ea1df4ba-e05d-463f-98e0-9ff285d1d277\")) {                    Plotly.newPlot(                        \"ea1df4ba-e05d-463f-98e0-9ff285d1d277\",                        [{\"coloraxis\":\"coloraxis\",\"hovertemplate\":\"patient_count=%{z}<br>latitude=%{lat}<br>longitude=%{lon}<extra></extra>\",\"lat\":[15.51,15.51,15.51,15.51,15.51,14.35,14.35,14.35,14.35,14.35,13.45,13.45,13.45,13.45,13.45,18.23,18.23,18.23,18.23,18.23,15.0,15.0,15.0,15.0,15.0,13.42,13.42,13.42,13.42,13.42,15.11,15.11,15.11,15.11,15.11,15.48,15.48,15.48,15.48,15.48,12.38,12.38,12.38,12.38,12.38,18.47,18.47,18.47,18.47,18.47,19.52,19.52,19.52,19.52,19.52,13.21,13.21,13.21,13.21,13.21,10.35,10.35,10.35,10.35,10.35,16.26,16.26,16.26,16.26,16.26,16.28,16.28,16.28,16.28,16.28,14.02,14.02,14.02,14.02,14.02,16.3,16.3,16.3,16.3,16.3,8.04,8.04,8.04,8.04,8.04,18.16,18.16,18.16,18.16,18.16,18.4,18.4,18.4,18.4,18.4,17.29,17.29,17.29,17.29,17.29,14.48,14.48,14.48,14.48,14.48,19.16,19.16,19.16,19.16,19.16,16.12,16.12,16.12,16.12,16.12,16.32,16.32,16.32,16.32,16.32,14.12,14.12,14.12,14.12,14.12,13.49,13.49,13.49,13.49,13.49,17.23,17.23,17.23,17.23,17.23,14.59,14.59,14.59,14.59,14.59,15.35,15.35,15.35,15.35,15.35,8.29,8.29,8.29,8.29,8.29,15.42,15.42,15.42,15.42,15.42,6.3,6.3,6.3,6.3,6.3,17.174,17.174,17.174,17.174,17.174,17.5,17.5,17.5,17.5,17.5,13.51,13.51,13.51,13.51,13.51,14.02,14.02,14.02,14.02,14.02,6.48,6.48,6.48,6.48,6.48,8.28,8.28,8.28,8.28,8.28,7.39,7.39,7.39,7.39,7.39,19.11,19.11,19.11,19.11,19.11,16.25,16.25,16.25,16.25,16.25,13.01,13.01,13.01,13.01,13.01,16.26,16.26,16.26,16.26,16.26,14.2,14.2,14.2,14.2,14.2,14.25,14.25,14.25,14.25,14.25,18.07,18.07,18.07,18.07,18.07,7.53,7.53,7.53,7.53,7.53,14.0,14.0,14.0,14.0,14.0,11.49,11.49,11.49,11.49,11.49,9.56,9.56,9.56,9.56,9.56,13.3,13.3,13.3,13.3,13.3,12.4,12.4,12.4,12.4,12.4,16.4,16.4,16.4,16.4,16.4,13.8222,13.8222,13.8222,13.8222,13.8222,17.1,17.1,17.1,17.1,17.1,13.32,13.32,13.32,13.32,13.32,13.5498,13.5498,13.5498,13.5498,13.5498,13.24,13.24,13.24,13.24,13.24,14.3,14.3,14.3,14.3,14.3,6.43,6.43,6.43,6.43,6.43,15.8,15.8,15.8,15.8,15.8,14.53,14.53,14.53,14.53,14.53,7.13,7.13,7.13,7.13,7.13,17.0076,17.0076,17.0076,17.0076,17.0076,14.4745,14.4745,14.4745,14.4745,14.4745,9.6,9.6,9.6,9.6,9.6,14.5,14.5,14.5,14.5,14.5,16.52,16.52,16.52,16.52,16.52,7.33,7.33,7.33,7.33,7.33,12.2428,12.2428,12.2428,12.2428,12.2428,15.15,15.15,15.15,15.15,15.15,17.29,17.29,17.29,17.29,17.29,15.3835,15.3835,15.3835,15.3835,15.3835,17.36,17.36,17.36,17.36,17.36,6.5411,6.5411,6.5411,6.5411,6.5411,15.5,15.5,15.5,15.5,15.5],\"lon\":[104.38,104.38,104.38,104.38,104.38,100.31,100.31,100.31,100.31,100.31,100.35,100.35,100.35,100.35,100.35,103.37,103.37,103.37,103.37,103.37,103.0,103.0,103.0,103.0,103.0,101.05,101.05,101.05,101.05,101.05,100.08,100.08,100.08,100.08,100.08,102.02,102.02,102.02,102.02,102.02,102.12,102.12,102.12,102.12,102.12,98.59,98.59,98.59,98.59,98.59,99.5,99.5,99.5,99.5,99.5,101.01,101.01,101.01,101.01,101.01,99.14,99.14,99.14,99.14,99.14,103.3,103.3,103.3,103.3,103.3,99.3,99.3,99.3,99.3,99.3,99.31,99.31,99.31,99.31,99.31,102.47,102.47,102.47,102.47,102.47,98.55,98.55,98.55,98.55,98.55,99.32,99.32,99.32,99.32,99.32,99.02,99.02,99.02,99.02,99.02,101.35,101.35,101.35,101.35,101.35,100.37,100.37,100.37,100.37,100.37,97.56,97.56,97.56,97.56,97.56,103.16,103.16,103.16,103.16,103.16,104.43,104.43,104.43,104.43,104.43,101.13,101.13,101.13,101.13,101.13,100.03,100.03,100.03,100.03,100.03,104.43,104.43,104.43,104.43,104.43,102.12,102.12,102.12,102.12,102.12,100.1,100.1,100.1,100.1,100.1,100.0,100.0,100.0,100.0,100.0,100.09,100.09,100.09,100.09,100.09,101.48,101.48,101.48,101.48,101.48,102.4495,102.4495,102.4495,102.4495,102.4495,102.46,102.46,102.46,102.46,102.46,100.34,100.34,100.34,100.34,100.34,100.52,100.52,100.52,100.52,100.52,101.15,101.15,101.15,101.15,101.15,98.3,98.3,98.3,98.3,98.3,100.06,100.06,100.06,100.06,100.06,99.55,99.55,99.55,99.55,99.55,101.08,101.08,101.08,101.08,101.08,99.55,99.55,99.55,99.55,99.55,100.22,100.22,100.22,100.22,100.22,104.0,104.0,104.0,104.0,104.0,100.3,100.3,100.3,100.3,100.3,100.09,100.09,100.09,100.09,100.09,98.24,98.24,98.24,98.24,98.24,101.25,101.25,101.25,101.25,101.25,99.48,99.48,99.48,99.48,99.48,98.4,98.4,98.4,98.4,98.4,99.54,99.54,99.54,99.54,99.54,101.2,101.2,101.2,101.2,101.2,103.4,103.4,103.4,103.4,103.4,102.066,102.066,102.066,102.066,102.066,104.9,104.9,104.9,104.9,104.9,100.4,100.4,100.4,100.4,100.4,100.2741,100.2741,100.2741,100.2741,100.2741,100.1,100.1,100.1,100.1,100.1,100.55,100.55,100.55,100.55,100.55,100.2,100.2,100.2,100.2,100.2,104.23,104.23,104.23,104.23,104.23,100.25,100.25,100.25,100.25,100.25,100.37,100.37,100.37,100.37,100.37,99.8264,99.8264,99.8264,99.8264,99.8264,100.1177,100.1177,100.1177,100.1177,100.1177,99.2,99.2,99.2,99.2,99.2,103.34,103.34,103.34,103.34,103.34,99.8,99.8,99.8,99.8,99.8,99.38,99.38,99.38,99.38,99.38,102.5175,102.5175,102.5175,102.5175,102.5175,104.5,104.5,104.5,104.5,104.5,102.46,102.46,102.46,102.46,102.46,100.0246,100.0246,100.0246,100.0246,100.0246,100.5,100.5,100.5,100.5,100.5,101.2804,101.2804,101.2804,101.2804,101.2804,104.1,104.1,104.1,104.1,104.1],\"name\":\"\",\"radius\":15,\"subplot\":\"mapbox\",\"type\":\"densitymapbox\",\"z\":[676,137,199,549,166,286,267,258,281,483,14932,9036,9012,14020,5820,1266,210,386,873,683,1500,622,1479,3860,1330,792,442,1578,1143,213,274,195,164,341,709,1222,273,773,2690,2496,1420,359,418,1961,660,9508,2194,1558,3893,3273,2394,1797,2938,5471,1640,1648,704,2748,3763,2308,492,336,287,593,295,1566,608,653,1329,799,352,507,918,487,300,392,131,590,903,360,1600,435,1374,3550,3168,1128,515,962,597,222,1496,302,326,881,954,1072,281,256,333,171,1376,364,488,1755,926,870,204,1231,1280,1046,2268,495,580,415,1601,1232,452,671,1355,1400,1772,558,462,1576,438,158,36,644,354,114,1508,1099,3252,2362,926,814,143,155,1038,452,3262,1718,3661,9719,6202,1236,563,2940,1397,1230,4566,2884,3973,4388,899,424,375,436,449,294,3512,1091,785,2100,627,442,135,337,466,297,354,165,189,738,527,1202,1048,2377,1486,726,806,372,1963,644,366,4640,914,668,1285,541,726,328,529,712,242,2942,999,634,898,183,404,82,173,409,240,1792,524,868,2274,1310,988,1071,916,973,368,660,552,1275,323,383,1146,613,1269,692,900,1070,485,1297,703,558,234,55,401,418,205,1000,779,930,585,177,578,467,538,1467,556,638,397,463,565,206,258,184,216,194,150,782,593,1763,2048,1006,1820,637,1645,2733,2357,2366,615,1390,3802,1637,462,457,420,1503,517,726,290,268,918,335,1898,850,1530,1325,735,844,773,1450,1276,533,138,150,233,261,69,494,225,578,917,608,696,73,110,171,52,2480,676,2097,2595,1028,12,13,55,195,313,11000,3009,2181,3136,1252,624,216,681,692,701,710,568,1526,708,736,1056,943,1163,553,367,4460,1280,2241,3787,2487,1408,1288,1214,1337,752,1554,351,638,703,510,476,96,484,635,183,4310,777,2053,7583,2425,352,248,424,1628,941,342,117,622,689,247,466,243,274,588,587,1690,290,504,1456,436,686,187,409,870,338]}],                        {\"coloraxis\":{\"colorbar\":{\"title\":{\"text\":\"patient_count\"}},\"colorscale\":[[0.0,\"#0d0887\"],[0.1111111111111111,\"#46039f\"],[0.2222222222222222,\"#7201a8\"],[0.3333333333333333,\"#9c179e\"],[0.4444444444444444,\"#bd3786\"],[0.5555555555555556,\"#d8576b\"],[0.6666666666666666,\"#ed7953\"],[0.7777777777777778,\"#fb9f3a\"],[0.8888888888888888,\"#fdca26\"],[1.0,\"#f0f921\"]]},\"legend\":{\"tracegroupgap\":0},\"mapbox\":{\"center\":{\"lat\":13,\"lon\":100},\"domain\":{\"x\":[0.0,1.0],\"y\":[0.0,1.0]},\"style\":\"stamen-terrain\",\"zoom\":5},\"margin\":{\"t\":60},\"template\":{\"data\":{\"bar\":[{\"error_x\":{\"color\":\"#2a3f5f\"},\"error_y\":{\"color\":\"#2a3f5f\"},\"marker\":{\"line\":{\"color\":\"#E5ECF6\",\"width\":0.5},\"pattern\":{\"fillmode\":\"overlay\",\"size\":10,\"solidity\":0.2}},\"type\":\"bar\"}],\"barpolar\":[{\"marker\":{\"line\":{\"color\":\"#E5ECF6\",\"width\":0.5},\"pattern\":{\"fillmode\":\"overlay\",\"size\":10,\"solidity\":0.2}},\"type\":\"barpolar\"}],\"carpet\":[{\"aaxis\":{\"endlinecolor\":\"#2a3f5f\",\"gridcolor\":\"white\",\"linecolor\":\"white\",\"minorgridcolor\":\"white\",\"startlinecolor\":\"#2a3f5f\"},\"baxis\":{\"endlinecolor\":\"#2a3f5f\",\"gridcolor\":\"white\",\"linecolor\":\"white\",\"minorgridcolor\":\"white\",\"startlinecolor\":\"#2a3f5f\"},\"type\":\"carpet\"}],\"choropleth\":[{\"colorbar\":{\"outlinewidth\":0,\"ticks\":\"\"},\"type\":\"choropleth\"}],\"contour\":[{\"colorbar\":{\"outlinewidth\":0,\"ticks\":\"\"},\"colorscale\":[[0.0,\"#0d0887\"],[0.1111111111111111,\"#46039f\"],[0.2222222222222222,\"#7201a8\"],[0.3333333333333333,\"#9c179e\"],[0.4444444444444444,\"#bd3786\"],[0.5555555555555556,\"#d8576b\"],[0.6666666666666666,\"#ed7953\"],[0.7777777777777778,\"#fb9f3a\"],[0.8888888888888888,\"#fdca26\"],[1.0,\"#f0f921\"]],\"type\":\"contour\"}],\"contourcarpet\":[{\"colorbar\":{\"outlinewidth\":0,\"ticks\":\"\"},\"type\":\"contourcarpet\"}],\"heatmap\":[{\"colorbar\":{\"outlinewidth\":0,\"ticks\":\"\"},\"colorscale\":[[0.0,\"#0d0887\"],[0.1111111111111111,\"#46039f\"],[0.2222222222222222,\"#7201a8\"],[0.3333333333333333,\"#9c179e\"],[0.4444444444444444,\"#bd3786\"],[0.5555555555555556,\"#d8576b\"],[0.6666666666666666,\"#ed7953\"],[0.7777777777777778,\"#fb9f3a\"],[0.8888888888888888,\"#fdca26\"],[1.0,\"#f0f921\"]],\"type\":\"heatmap\"}],\"heatmapgl\":[{\"colorbar\":{\"outlinewidth\":0,\"ticks\":\"\"},\"colorscale\":[[0.0,\"#0d0887\"],[0.1111111111111111,\"#46039f\"],[0.2222222222222222,\"#7201a8\"],[0.3333333333333333,\"#9c179e\"],[0.4444444444444444,\"#bd3786\"],[0.5555555555555556,\"#d8576b\"],[0.6666666666666666,\"#ed7953\"],[0.7777777777777778,\"#fb9f3a\"],[0.8888888888888888,\"#fdca26\"],[1.0,\"#f0f921\"]],\"type\":\"heatmapgl\"}],\"histogram\":[{\"marker\":{\"pattern\":{\"fillmode\":\"overlay\",\"size\":10,\"solidity\":0.2}},\"type\":\"histogram\"}],\"histogram2d\":[{\"colorbar\":{\"outlinewidth\":0,\"ticks\":\"\"},\"colorscale\":[[0.0,\"#0d0887\"],[0.1111111111111111,\"#46039f\"],[0.2222222222222222,\"#7201a8\"],[0.3333333333333333,\"#9c179e\"],[0.4444444444444444,\"#bd3786\"],[0.5555555555555556,\"#d8576b\"],[0.6666666666666666,\"#ed7953\"],[0.7777777777777778,\"#fb9f3a\"],[0.8888888888888888,\"#fdca26\"],[1.0,\"#f0f921\"]],\"type\":\"histogram2d\"}],\"histogram2dcontour\":[{\"colorbar\":{\"outlinewidth\":0,\"ticks\":\"\"},\"colorscale\":[[0.0,\"#0d0887\"],[0.1111111111111111,\"#46039f\"],[0.2222222222222222,\"#7201a8\"],[0.3333333333333333,\"#9c179e\"],[0.4444444444444444,\"#bd3786\"],[0.5555555555555556,\"#d8576b\"],[0.6666666666666666,\"#ed7953\"],[0.7777777777777778,\"#fb9f3a\"],[0.8888888888888888,\"#fdca26\"],[1.0,\"#f0f921\"]],\"type\":\"histogram2dcontour\"}],\"mesh3d\":[{\"colorbar\":{\"outlinewidth\":0,\"ticks\":\"\"},\"type\":\"mesh3d\"}],\"parcoords\":[{\"line\":{\"colorbar\":{\"outlinewidth\":0,\"ticks\":\"\"}},\"type\":\"parcoords\"}],\"pie\":[{\"automargin\":true,\"type\":\"pie\"}],\"scatter\":[{\"marker\":{\"colorbar\":{\"outlinewidth\":0,\"ticks\":\"\"}},\"type\":\"scatter\"}],\"scatter3d\":[{\"line\":{\"colorbar\":{\"outlinewidth\":0,\"ticks\":\"\"}},\"marker\":{\"colorbar\":{\"outlinewidth\":0,\"ticks\":\"\"}},\"type\":\"scatter3d\"}],\"scattercarpet\":[{\"marker\":{\"colorbar\":{\"outlinewidth\":0,\"ticks\":\"\"}},\"type\":\"scattercarpet\"}],\"scattergeo\":[{\"marker\":{\"colorbar\":{\"outlinewidth\":0,\"ticks\":\"\"}},\"type\":\"scattergeo\"}],\"scattergl\":[{\"marker\":{\"colorbar\":{\"outlinewidth\":0,\"ticks\":\"\"}},\"type\":\"scattergl\"}],\"scattermapbox\":[{\"marker\":{\"colorbar\":{\"outlinewidth\":0,\"ticks\":\"\"}},\"type\":\"scattermapbox\"}],\"scatterpolar\":[{\"marker\":{\"colorbar\":{\"outlinewidth\":0,\"ticks\":\"\"}},\"type\":\"scatterpolar\"}],\"scatterpolargl\":[{\"marker\":{\"colorbar\":{\"outlinewidth\":0,\"ticks\":\"\"}},\"type\":\"scatterpolargl\"}],\"scatterternary\":[{\"marker\":{\"colorbar\":{\"outlinewidth\":0,\"ticks\":\"\"}},\"type\":\"scatterternary\"}],\"surface\":[{\"colorbar\":{\"outlinewidth\":0,\"ticks\":\"\"},\"colorscale\":[[0.0,\"#0d0887\"],[0.1111111111111111,\"#46039f\"],[0.2222222222222222,\"#7201a8\"],[0.3333333333333333,\"#9c179e\"],[0.4444444444444444,\"#bd3786\"],[0.5555555555555556,\"#d8576b\"],[0.6666666666666666,\"#ed7953\"],[0.7777777777777778,\"#fb9f3a\"],[0.8888888888888888,\"#fdca26\"],[1.0,\"#f0f921\"]],\"type\":\"surface\"}],\"table\":[{\"cells\":{\"fill\":{\"color\":\"#EBF0F8\"},\"line\":{\"color\":\"white\"}},\"header\":{\"fill\":{\"color\":\"#C8D4E3\"},\"line\":{\"color\":\"white\"}},\"type\":\"table\"}]},\"layout\":{\"annotationdefaults\":{\"arrowcolor\":\"#2a3f5f\",\"arrowhead\":0,\"arrowwidth\":1},\"autotypenumbers\":\"strict\",\"coloraxis\":{\"colorbar\":{\"outlinewidth\":0,\"ticks\":\"\"}},\"colorscale\":{\"diverging\":[[0,\"#8e0152\"],[0.1,\"#c51b7d\"],[0.2,\"#de77ae\"],[0.3,\"#f1b6da\"],[0.4,\"#fde0ef\"],[0.5,\"#f7f7f7\"],[0.6,\"#e6f5d0\"],[0.7,\"#b8e186\"],[0.8,\"#7fbc41\"],[0.9,\"#4d9221\"],[1,\"#276419\"]],\"sequential\":[[0.0,\"#0d0887\"],[0.1111111111111111,\"#46039f\"],[0.2222222222222222,\"#7201a8\"],[0.3333333333333333,\"#9c179e\"],[0.4444444444444444,\"#bd3786\"],[0.5555555555555556,\"#d8576b\"],[0.6666666666666666,\"#ed7953\"],[0.7777777777777778,\"#fb9f3a\"],[0.8888888888888888,\"#fdca26\"],[1.0,\"#f0f921\"]],\"sequentialminus\":[[0.0,\"#0d0887\"],[0.1111111111111111,\"#46039f\"],[0.2222222222222222,\"#7201a8\"],[0.3333333333333333,\"#9c179e\"],[0.4444444444444444,\"#bd3786\"],[0.5555555555555556,\"#d8576b\"],[0.6666666666666666,\"#ed7953\"],[0.7777777777777778,\"#fb9f3a\"],[0.8888888888888888,\"#fdca26\"],[1.0,\"#f0f921\"]]},\"colorway\":[\"#636efa\",\"#EF553B\",\"#00cc96\",\"#ab63fa\",\"#FFA15A\",\"#19d3f3\",\"#FF6692\",\"#B6E880\",\"#FF97FF\",\"#FECB52\"],\"font\":{\"color\":\"#2a3f5f\"},\"geo\":{\"bgcolor\":\"white\",\"lakecolor\":\"white\",\"landcolor\":\"#E5ECF6\",\"showlakes\":true,\"showland\":true,\"subunitcolor\":\"white\"},\"hoverlabel\":{\"align\":\"left\"},\"hovermode\":\"closest\",\"mapbox\":{\"style\":\"light\"},\"paper_bgcolor\":\"white\",\"plot_bgcolor\":\"#E5ECF6\",\"polar\":{\"angularaxis\":{\"gridcolor\":\"white\",\"linecolor\":\"white\",\"ticks\":\"\"},\"bgcolor\":\"#E5ECF6\",\"radialaxis\":{\"gridcolor\":\"white\",\"linecolor\":\"white\",\"ticks\":\"\"}},\"scene\":{\"xaxis\":{\"backgroundcolor\":\"#E5ECF6\",\"gridcolor\":\"white\",\"gridwidth\":2,\"linecolor\":\"white\",\"showbackground\":true,\"ticks\":\"\",\"zerolinecolor\":\"white\"},\"yaxis\":{\"backgroundcolor\":\"#E5ECF6\",\"gridcolor\":\"white\",\"gridwidth\":2,\"linecolor\":\"white\",\"showbackground\":true,\"ticks\":\"\",\"zerolinecolor\":\"white\"},\"zaxis\":{\"backgroundcolor\":\"#E5ECF6\",\"gridcolor\":\"white\",\"gridwidth\":2,\"linecolor\":\"white\",\"showbackground\":true,\"ticks\":\"\",\"zerolinecolor\":\"white\"}},\"shapedefaults\":{\"line\":{\"color\":\"#2a3f5f\"}},\"ternary\":{\"aaxis\":{\"gridcolor\":\"white\",\"linecolor\":\"white\",\"ticks\":\"\"},\"baxis\":{\"gridcolor\":\"white\",\"linecolor\":\"white\",\"ticks\":\"\"},\"bgcolor\":\"#E5ECF6\",\"caxis\":{\"gridcolor\":\"white\",\"linecolor\":\"white\",\"ticks\":\"\"}},\"title\":{\"x\":0.05},\"xaxis\":{\"automargin\":true,\"gridcolor\":\"white\",\"linecolor\":\"white\",\"ticks\":\"\",\"title\":{\"standoff\":15},\"zerolinecolor\":\"white\",\"zerolinewidth\":2},\"yaxis\":{\"automargin\":true,\"gridcolor\":\"white\",\"linecolor\":\"white\",\"ticks\":\"\",\"title\":{\"standoff\":15},\"zerolinecolor\":\"white\",\"zerolinewidth\":2}}}},                        {\"responsive\": true}                    ).then(function(){\n",
       "                            \n",
       "var gd = document.getElementById('ea1df4ba-e05d-463f-98e0-9ff285d1d277');\n",
       "var x = new MutationObserver(function (mutations, observer) {{\n",
       "        var display = window.getComputedStyle(gd).display;\n",
       "        if (!display || display === 'none') {{\n",
       "            console.log([gd, 'removed!']);\n",
       "            Plotly.purge(gd);\n",
       "            observer.disconnect();\n",
       "        }}\n",
       "}});\n",
       "\n",
       "// Listen for the removal of the full notebook cells\n",
       "var notebookContainer = gd.closest('#notebook-container');\n",
       "if (notebookContainer) {{\n",
       "    x.observe(notebookContainer, {childList: true});\n",
       "}}\n",
       "\n",
       "// Listen for the clearing of the current output cell\n",
       "var outputEl = gd.closest('.output');\n",
       "if (outputEl) {{\n",
       "    x.observe(outputEl, {childList: true});\n",
       "}}\n",
       "\n",
       "                        })                };                });            </script>        </div>"
      ]
     },
     "metadata": {},
     "output_type": "display_data"
    }
   ],
   "source": [
    "fig1 = px.density_mapbox(heatmap_df_2020, lat='latitude', lon='longitude', z='patient_count', radius=15,\n",
    "                        center=dict(lat=13, lon=100), zoom=5,\n",
    "                        mapbox_style=\"stamen-terrain\")\n",
    "fig1.show()"
   ]
  },
  {
   "cell_type": "code",
   "execution_count": 22,
   "id": "c61091e4",
   "metadata": {},
   "outputs": [
    {
     "data": {
      "application/vnd.plotly.v1+json": {
       "config": {
        "plotlyServerURL": "https://plot.ly"
       },
       "data": [
        {
         "coloraxis": "coloraxis",
         "hovertemplate": "rain_ml=%{z}<br>latitude=%{lat}<br>longitude=%{lon}<extra></extra>",
         "lat": [
          15.51,
          15.51,
          15.51,
          15.51,
          15.51,
          14.35,
          14.35,
          14.35,
          14.35,
          14.35,
          13.45,
          13.45,
          13.45,
          13.45,
          13.45,
          18.23,
          18.23,
          18.23,
          18.23,
          18.23,
          15,
          15,
          15,
          15,
          15,
          13.42,
          13.42,
          13.42,
          13.42,
          13.42,
          15.11,
          15.11,
          15.11,
          15.11,
          15.11,
          15.48,
          15.48,
          15.48,
          15.48,
          15.48,
          12.38,
          12.38,
          12.38,
          12.38,
          12.38,
          18.47,
          18.47,
          18.47,
          18.47,
          18.47,
          19.52,
          19.52,
          19.52,
          19.52,
          19.52,
          13.21,
          13.21,
          13.21,
          13.21,
          13.21,
          10.35,
          10.35,
          10.35,
          10.35,
          10.35,
          16.26,
          16.26,
          16.26,
          16.26,
          16.26,
          16.28,
          16.28,
          16.28,
          16.28,
          16.28,
          14.02,
          14.02,
          14.02,
          14.02,
          14.02,
          16.3,
          16.3,
          16.3,
          16.3,
          16.3,
          8.04,
          8.04,
          8.04,
          8.04,
          8.04,
          18.16,
          18.16,
          18.16,
          18.16,
          18.16,
          18.4,
          18.4,
          18.4,
          18.4,
          18.4,
          17.29,
          17.29,
          17.29,
          17.29,
          17.29,
          14.48,
          14.48,
          14.48,
          14.48,
          14.48,
          19.16,
          19.16,
          19.16,
          19.16,
          19.16,
          16.12,
          16.12,
          16.12,
          16.12,
          16.12,
          16.32,
          16.32,
          16.32,
          16.32,
          16.32,
          14.12,
          14.12,
          14.12,
          14.12,
          14.12,
          13.49,
          13.49,
          13.49,
          13.49,
          13.49,
          17.23,
          17.23,
          17.23,
          17.23,
          17.23,
          14.59,
          14.59,
          14.59,
          14.59,
          14.59,
          15.35,
          15.35,
          15.35,
          15.35,
          15.35,
          8.29,
          8.29,
          8.29,
          8.29,
          8.29,
          15.42,
          15.42,
          15.42,
          15.42,
          15.42,
          6.3,
          6.3,
          6.3,
          6.3,
          6.3,
          17.174,
          17.174,
          17.174,
          17.174,
          17.174,
          17.5,
          17.5,
          17.5,
          17.5,
          17.5,
          13.51,
          13.51,
          13.51,
          13.51,
          13.51,
          14.02,
          14.02,
          14.02,
          14.02,
          14.02,
          6.48,
          6.48,
          6.48,
          6.48,
          6.48,
          8.28,
          8.28,
          8.28,
          8.28,
          8.28,
          7.39,
          7.39,
          7.39,
          7.39,
          7.39,
          19.11,
          19.11,
          19.11,
          19.11,
          19.11,
          16.25,
          16.25,
          16.25,
          16.25,
          16.25,
          13.01,
          13.01,
          13.01,
          13.01,
          13.01,
          16.26,
          16.26,
          16.26,
          16.26,
          16.26,
          14.2,
          14.2,
          14.2,
          14.2,
          14.2,
          14.25,
          14.25,
          14.25,
          14.25,
          14.25,
          18.07,
          18.07,
          18.07,
          18.07,
          18.07,
          7.53,
          7.53,
          7.53,
          7.53,
          7.53,
          14,
          14,
          14,
          14,
          14,
          11.49,
          11.49,
          11.49,
          11.49,
          11.49,
          9.56,
          9.56,
          9.56,
          9.56,
          9.56,
          13.3,
          13.3,
          13.3,
          13.3,
          13.3,
          12.4,
          12.4,
          12.4,
          12.4,
          12.4,
          16.4,
          16.4,
          16.4,
          16.4,
          16.4,
          13.8222,
          13.8222,
          13.8222,
          13.8222,
          13.8222,
          17.1,
          17.1,
          17.1,
          17.1,
          17.1,
          13.32,
          13.32,
          13.32,
          13.32,
          13.32,
          13.5498,
          13.5498,
          13.5498,
          13.5498,
          13.5498,
          13.24,
          13.24,
          13.24,
          13.24,
          13.24,
          14.3,
          14.3,
          14.3,
          14.3,
          14.3,
          6.43,
          6.43,
          6.43,
          6.43,
          6.43,
          15.8,
          15.8,
          15.8,
          15.8,
          15.8,
          14.53,
          14.53,
          14.53,
          14.53,
          14.53,
          7.13,
          7.13,
          7.13,
          7.13,
          7.13,
          17.0076,
          17.0076,
          17.0076,
          17.0076,
          17.0076,
          14.4745,
          14.4745,
          14.4745,
          14.4745,
          14.4745,
          9.6,
          9.6,
          9.6,
          9.6,
          9.6,
          14.5,
          14.5,
          14.5,
          14.5,
          14.5,
          16.52,
          16.52,
          16.52,
          16.52,
          16.52,
          7.33,
          7.33,
          7.33,
          7.33,
          7.33,
          12.2428,
          12.2428,
          12.2428,
          12.2428,
          12.2428,
          15.15,
          15.15,
          15.15,
          15.15,
          15.15,
          17.29,
          17.29,
          17.29,
          17.29,
          17.29,
          15.3835,
          15.3835,
          15.3835,
          15.3835,
          15.3835,
          17.36,
          17.36,
          17.36,
          17.36,
          17.36,
          6.5411,
          6.5411,
          6.5411,
          6.5411,
          6.5411,
          15.5,
          15.5,
          15.5,
          15.5,
          15.5
         ],
         "lon": [
          104.38,
          104.38,
          104.38,
          104.38,
          104.38,
          100.31,
          100.31,
          100.31,
          100.31,
          100.31,
          100.35,
          100.35,
          100.35,
          100.35,
          100.35,
          103.37,
          103.37,
          103.37,
          103.37,
          103.37,
          103,
          103,
          103,
          103,
          103,
          101.05,
          101.05,
          101.05,
          101.05,
          101.05,
          100.08,
          100.08,
          100.08,
          100.08,
          100.08,
          102.02,
          102.02,
          102.02,
          102.02,
          102.02,
          102.12,
          102.12,
          102.12,
          102.12,
          102.12,
          98.59,
          98.59,
          98.59,
          98.59,
          98.59,
          99.5,
          99.5,
          99.5,
          99.5,
          99.5,
          101.01,
          101.01,
          101.01,
          101.01,
          101.01,
          99.14,
          99.14,
          99.14,
          99.14,
          99.14,
          103.3,
          103.3,
          103.3,
          103.3,
          103.3,
          99.3,
          99.3,
          99.3,
          99.3,
          99.3,
          99.31,
          99.31,
          99.31,
          99.31,
          99.31,
          102.47,
          102.47,
          102.47,
          102.47,
          102.47,
          98.55,
          98.55,
          98.55,
          98.55,
          98.55,
          99.32,
          99.32,
          99.32,
          99.32,
          99.32,
          99.02,
          99.02,
          99.02,
          99.02,
          99.02,
          101.35,
          101.35,
          101.35,
          101.35,
          101.35,
          100.37,
          100.37,
          100.37,
          100.37,
          100.37,
          97.56,
          97.56,
          97.56,
          97.56,
          97.56,
          103.16,
          103.16,
          103.16,
          103.16,
          103.16,
          104.43,
          104.43,
          104.43,
          104.43,
          104.43,
          101.13,
          101.13,
          101.13,
          101.13,
          101.13,
          100.03,
          100.03,
          100.03,
          100.03,
          100.03,
          104.43,
          104.43,
          104.43,
          104.43,
          104.43,
          102.12,
          102.12,
          102.12,
          102.12,
          102.12,
          100.1,
          100.1,
          100.1,
          100.1,
          100.1,
          100,
          100,
          100,
          100,
          100,
          100.09,
          100.09,
          100.09,
          100.09,
          100.09,
          101.48,
          101.48,
          101.48,
          101.48,
          101.48,
          102.4495,
          102.4495,
          102.4495,
          102.4495,
          102.4495,
          102.46,
          102.46,
          102.46,
          102.46,
          102.46,
          100.34,
          100.34,
          100.34,
          100.34,
          100.34,
          100.52,
          100.52,
          100.52,
          100.52,
          100.52,
          101.15,
          101.15,
          101.15,
          101.15,
          101.15,
          98.3,
          98.3,
          98.3,
          98.3,
          98.3,
          100.06,
          100.06,
          100.06,
          100.06,
          100.06,
          99.55,
          99.55,
          99.55,
          99.55,
          99.55,
          101.08,
          101.08,
          101.08,
          101.08,
          101.08,
          99.55,
          99.55,
          99.55,
          99.55,
          99.55,
          100.22,
          100.22,
          100.22,
          100.22,
          100.22,
          104,
          104,
          104,
          104,
          104,
          100.3,
          100.3,
          100.3,
          100.3,
          100.3,
          100.09,
          100.09,
          100.09,
          100.09,
          100.09,
          98.24,
          98.24,
          98.24,
          98.24,
          98.24,
          101.25,
          101.25,
          101.25,
          101.25,
          101.25,
          99.48,
          99.48,
          99.48,
          99.48,
          99.48,
          98.4,
          98.4,
          98.4,
          98.4,
          98.4,
          99.54,
          99.54,
          99.54,
          99.54,
          99.54,
          101.2,
          101.2,
          101.2,
          101.2,
          101.2,
          103.4,
          103.4,
          103.4,
          103.4,
          103.4,
          102.066,
          102.066,
          102.066,
          102.066,
          102.066,
          104.9,
          104.9,
          104.9,
          104.9,
          104.9,
          100.4,
          100.4,
          100.4,
          100.4,
          100.4,
          100.2741,
          100.2741,
          100.2741,
          100.2741,
          100.2741,
          100.1,
          100.1,
          100.1,
          100.1,
          100.1,
          100.55,
          100.55,
          100.55,
          100.55,
          100.55,
          100.2,
          100.2,
          100.2,
          100.2,
          100.2,
          104.23,
          104.23,
          104.23,
          104.23,
          104.23,
          100.25,
          100.25,
          100.25,
          100.25,
          100.25,
          100.37,
          100.37,
          100.37,
          100.37,
          100.37,
          99.8264,
          99.8264,
          99.8264,
          99.8264,
          99.8264,
          100.1177,
          100.1177,
          100.1177,
          100.1177,
          100.1177,
          99.2,
          99.2,
          99.2,
          99.2,
          99.2,
          103.34,
          103.34,
          103.34,
          103.34,
          103.34,
          99.8,
          99.8,
          99.8,
          99.8,
          99.8,
          99.38,
          99.38,
          99.38,
          99.38,
          99.38,
          102.5175,
          102.5175,
          102.5175,
          102.5175,
          102.5175,
          104.5,
          104.5,
          104.5,
          104.5,
          104.5,
          102.46,
          102.46,
          102.46,
          102.46,
          102.46,
          100.0246,
          100.0246,
          100.0246,
          100.0246,
          100.0246,
          100.5,
          100.5,
          100.5,
          100.5,
          100.5,
          101.2804,
          101.2804,
          101.2804,
          101.2804,
          101.2804,
          104.1,
          104.1,
          104.1,
          104.1,
          104.1
         ],
         "name": "",
         "radius": 15,
         "subplot": "mapbox",
         "type": "densitymapbox",
         "z": [
          1638,
          1638,
          1638,
          1638,
          1638,
          1638,
          1638,
          1638,
          1638,
          1638,
          1638,
          1638,
          1638,
          1638,
          1638,
          1638,
          1638,
          1638,
          1638,
          1638,
          1370.7,
          1873.8,
          831.6,
          1261.7,
          1638,
          1319.4,
          1865.3,
          1884.7,
          920.5,
          1638,
          1182.3,
          1195.9,
          791.7,
          739,
          1638,
          1234.8,
          1135.9,
          911.6,
          774.8,
          1638,
          3400.6,
          3681.6,
          2341.3,
          2538,
          1638,
          1179.3,
          1419.6,
          972.4,
          972.1,
          1638,
          1875.8,
          2244.7,
          1928.5,
          1012.8,
          1638,
          1463.2,
          1462.6,
          1332.8,
          1081.8,
          1638,
          1778.2,
          2489,
          2027,
          1764.5,
          1638,
          1463.2,
          1713.9,
          1108.6,
          1299.6,
          1638,
          1168.9,
          1863.8,
          1129.6,
          1041.7,
          1638,
          1194.8,
          1230.5,
          769.2,
          687.4,
          1638,
          1368.1,
          1426.6,
          1304.8,
          1068.6,
          1638,
          2348,
          2711.2,
          2203.4,
          1474.1,
          1638,
          1096.2,
          1511.6,
          1170.2,
          1238.9,
          1638,
          1313.4,
          1489.5,
          1121.2,
          923.5,
          1638,
          1406.9,
          1522,
          1073.7,
          624.9,
          1638,
          1123.1,
          1282.4,
          1281.4,
          790.1,
          1638,
          1119.8,
          1285,
          1169.1,
          1135.4,
          1638,
          1728.9,
          1890.8,
          1225.1,
          1228.2,
          1638,
          1307.7,
          2056.8,
          1929,
          1587,
          1638,
          1638,
          1638,
          1638,
          1638,
          1638,
          789.7,
          1228,
          1043,
          694.1,
          1638,
          2254.9,
          2663.9,
          2666.9,
          2178.1,
          1638,
          1090.1,
          1652.8,
          962.3,
          639,
          1638,
          1538.8,
          1760.5,
          883.8,
          975.4,
          1638,
          2448.9,
          4478.3,
          2218.8,
          2130.8,
          1638,
          1412.7,
          1205.3,
          1064.8,
          1275,
          1638,
          2726.2,
          4802.4,
          2784.4,
          2089.2,
          1638,
          1541.8,
          1608.2,
          1308.7,
          1024,
          1638,
          1955,
          2087.3,
          1667.4,
          1544.6,
          1638,
          1638,
          1638,
          1638,
          1638,
          1638,
          1027.5,
          1575.8,
          1475.4,
          837,
          1638,
          1781.4,
          3093.8,
          1993.4,
          1464,
          1638,
          1638,
          1638,
          1638,
          1638,
          1638,
          2114.2,
          3596.1,
          1840.6,
          1702.9,
          1638,
          1071.4,
          1286,
          1448.7,
          740.2,
          1638,
          1039.2,
          1373.7,
          998.2,
          880.8,
          1638,
          1133,
          1499.6,
          1033.9,
          585.6,
          1638,
          1170,
          1542.7,
          1054.4,
          837.6,
          1638,
          1380.9,
          1621.1,
          1140.2,
          867.6,
          1638,
          1028.7,
          1369.8,
          1023.7,
          575.8,
          1638,
          1342.6,
          1411.9,
          1023.5,
          999.9,
          1638,
          2536.5,
          2766.4,
          2069.3,
          1688.8,
          1638,
          1662.5,
          1895.3,
          1970.2,
          1341.4,
          1638,
          1084,
          1474.5,
          1422.4,
          855.1,
          1638,
          4924.9,
          4692.8,
          4760.5,
          3828.7,
          1638,
          1243.2,
          1207.9,
          1006.5,
          956.1,
          1638,
          1308.5,
          1659.2,
          941.6,
          946,
          1638,
          1440.8,
          1759.1,
          1224.6,
          1530.7,
          1638,
          1638,
          1638,
          1638,
          1638,
          1638,
          1349.3,
          2422.9,
          1560,
          1213,
          1638,
          2082.7,
          1650.9,
          1498.9,
          962.6,
          1638,
          1638,
          1638,
          1638,
          1638,
          1638,
          1638,
          1638,
          1638,
          1638,
          1638,
          1638,
          1638,
          1638,
          1638,
          1638,
          1940,
          3039,
          2224.6,
          1905.7,
          1638,
          1310.6,
          1663.4,
          1435.6,
          1194.3,
          1638,
          1638,
          1638,
          1638,
          1638,
          1638,
          2191.5,
          3424.7,
          1989.7,
          1370.8,
          1638,
          1272,
          1694.3,
          880.1,
          736.2,
          1638,
          1090.9,
          1357.9,
          863.2,
          513.2,
          1638,
          1447.2,
          1631.8,
          1611.8,
          1233.1,
          1638,
          1406.2,
          1512,
          1125.1,
          1194.2,
          1638,
          1150.5,
          1402.7,
          926.7,
          871.6,
          1638,
          2559.8,
          3221.6,
          2143.2,
          2035.5,
          1638,
          5669.6,
          4530.6,
          4800.4,
          5287.3,
          1638,
          1905.8,
          1794.9,
          1731.6,
          1697.7,
          1638,
          1477,
          1860.2,
          1423.7,
          1285.7,
          1638,
          1638,
          1638,
          1638,
          1638,
          1638,
          1355.8,
          1552.1,
          1329.9,
          842.8,
          1638,
          1715,
          3667,
          2240.3,
          2097.2,
          1638,
          1638,
          1638,
          1638,
          1638,
          1638
         ]
        }
       ],
       "layout": {
        "coloraxis": {
         "colorbar": {
          "title": {
           "text": "rain_ml"
          }
         },
         "colorscale": [
          [
           0,
           "#0d0887"
          ],
          [
           0.1111111111111111,
           "#46039f"
          ],
          [
           0.2222222222222222,
           "#7201a8"
          ],
          [
           0.3333333333333333,
           "#9c179e"
          ],
          [
           0.4444444444444444,
           "#bd3786"
          ],
          [
           0.5555555555555556,
           "#d8576b"
          ],
          [
           0.6666666666666666,
           "#ed7953"
          ],
          [
           0.7777777777777778,
           "#fb9f3a"
          ],
          [
           0.8888888888888888,
           "#fdca26"
          ],
          [
           1,
           "#f0f921"
          ]
         ]
        },
        "legend": {
         "tracegroupgap": 0
        },
        "mapbox": {
         "center": {
          "lat": 13,
          "lon": 100
         },
         "domain": {
          "x": [
           0,
           1
          ],
          "y": [
           0,
           1
          ]
         },
         "style": "stamen-watercolor",
         "zoom": 5
        },
        "margin": {
         "t": 60
        },
        "template": {
         "data": {
          "bar": [
           {
            "error_x": {
             "color": "#2a3f5f"
            },
            "error_y": {
             "color": "#2a3f5f"
            },
            "marker": {
             "line": {
              "color": "#E5ECF6",
              "width": 0.5
             },
             "pattern": {
              "fillmode": "overlay",
              "size": 10,
              "solidity": 0.2
             }
            },
            "type": "bar"
           }
          ],
          "barpolar": [
           {
            "marker": {
             "line": {
              "color": "#E5ECF6",
              "width": 0.5
             },
             "pattern": {
              "fillmode": "overlay",
              "size": 10,
              "solidity": 0.2
             }
            },
            "type": "barpolar"
           }
          ],
          "carpet": [
           {
            "aaxis": {
             "endlinecolor": "#2a3f5f",
             "gridcolor": "white",
             "linecolor": "white",
             "minorgridcolor": "white",
             "startlinecolor": "#2a3f5f"
            },
            "baxis": {
             "endlinecolor": "#2a3f5f",
             "gridcolor": "white",
             "linecolor": "white",
             "minorgridcolor": "white",
             "startlinecolor": "#2a3f5f"
            },
            "type": "carpet"
           }
          ],
          "choropleth": [
           {
            "colorbar": {
             "outlinewidth": 0,
             "ticks": ""
            },
            "type": "choropleth"
           }
          ],
          "contour": [
           {
            "colorbar": {
             "outlinewidth": 0,
             "ticks": ""
            },
            "colorscale": [
             [
              0,
              "#0d0887"
             ],
             [
              0.1111111111111111,
              "#46039f"
             ],
             [
              0.2222222222222222,
              "#7201a8"
             ],
             [
              0.3333333333333333,
              "#9c179e"
             ],
             [
              0.4444444444444444,
              "#bd3786"
             ],
             [
              0.5555555555555556,
              "#d8576b"
             ],
             [
              0.6666666666666666,
              "#ed7953"
             ],
             [
              0.7777777777777778,
              "#fb9f3a"
             ],
             [
              0.8888888888888888,
              "#fdca26"
             ],
             [
              1,
              "#f0f921"
             ]
            ],
            "type": "contour"
           }
          ],
          "contourcarpet": [
           {
            "colorbar": {
             "outlinewidth": 0,
             "ticks": ""
            },
            "type": "contourcarpet"
           }
          ],
          "heatmap": [
           {
            "colorbar": {
             "outlinewidth": 0,
             "ticks": ""
            },
            "colorscale": [
             [
              0,
              "#0d0887"
             ],
             [
              0.1111111111111111,
              "#46039f"
             ],
             [
              0.2222222222222222,
              "#7201a8"
             ],
             [
              0.3333333333333333,
              "#9c179e"
             ],
             [
              0.4444444444444444,
              "#bd3786"
             ],
             [
              0.5555555555555556,
              "#d8576b"
             ],
             [
              0.6666666666666666,
              "#ed7953"
             ],
             [
              0.7777777777777778,
              "#fb9f3a"
             ],
             [
              0.8888888888888888,
              "#fdca26"
             ],
             [
              1,
              "#f0f921"
             ]
            ],
            "type": "heatmap"
           }
          ],
          "heatmapgl": [
           {
            "colorbar": {
             "outlinewidth": 0,
             "ticks": ""
            },
            "colorscale": [
             [
              0,
              "#0d0887"
             ],
             [
              0.1111111111111111,
              "#46039f"
             ],
             [
              0.2222222222222222,
              "#7201a8"
             ],
             [
              0.3333333333333333,
              "#9c179e"
             ],
             [
              0.4444444444444444,
              "#bd3786"
             ],
             [
              0.5555555555555556,
              "#d8576b"
             ],
             [
              0.6666666666666666,
              "#ed7953"
             ],
             [
              0.7777777777777778,
              "#fb9f3a"
             ],
             [
              0.8888888888888888,
              "#fdca26"
             ],
             [
              1,
              "#f0f921"
             ]
            ],
            "type": "heatmapgl"
           }
          ],
          "histogram": [
           {
            "marker": {
             "pattern": {
              "fillmode": "overlay",
              "size": 10,
              "solidity": 0.2
             }
            },
            "type": "histogram"
           }
          ],
          "histogram2d": [
           {
            "colorbar": {
             "outlinewidth": 0,
             "ticks": ""
            },
            "colorscale": [
             [
              0,
              "#0d0887"
             ],
             [
              0.1111111111111111,
              "#46039f"
             ],
             [
              0.2222222222222222,
              "#7201a8"
             ],
             [
              0.3333333333333333,
              "#9c179e"
             ],
             [
              0.4444444444444444,
              "#bd3786"
             ],
             [
              0.5555555555555556,
              "#d8576b"
             ],
             [
              0.6666666666666666,
              "#ed7953"
             ],
             [
              0.7777777777777778,
              "#fb9f3a"
             ],
             [
              0.8888888888888888,
              "#fdca26"
             ],
             [
              1,
              "#f0f921"
             ]
            ],
            "type": "histogram2d"
           }
          ],
          "histogram2dcontour": [
           {
            "colorbar": {
             "outlinewidth": 0,
             "ticks": ""
            },
            "colorscale": [
             [
              0,
              "#0d0887"
             ],
             [
              0.1111111111111111,
              "#46039f"
             ],
             [
              0.2222222222222222,
              "#7201a8"
             ],
             [
              0.3333333333333333,
              "#9c179e"
             ],
             [
              0.4444444444444444,
              "#bd3786"
             ],
             [
              0.5555555555555556,
              "#d8576b"
             ],
             [
              0.6666666666666666,
              "#ed7953"
             ],
             [
              0.7777777777777778,
              "#fb9f3a"
             ],
             [
              0.8888888888888888,
              "#fdca26"
             ],
             [
              1,
              "#f0f921"
             ]
            ],
            "type": "histogram2dcontour"
           }
          ],
          "mesh3d": [
           {
            "colorbar": {
             "outlinewidth": 0,
             "ticks": ""
            },
            "type": "mesh3d"
           }
          ],
          "parcoords": [
           {
            "line": {
             "colorbar": {
              "outlinewidth": 0,
              "ticks": ""
             }
            },
            "type": "parcoords"
           }
          ],
          "pie": [
           {
            "automargin": true,
            "type": "pie"
           }
          ],
          "scatter": [
           {
            "marker": {
             "colorbar": {
              "outlinewidth": 0,
              "ticks": ""
             }
            },
            "type": "scatter"
           }
          ],
          "scatter3d": [
           {
            "line": {
             "colorbar": {
              "outlinewidth": 0,
              "ticks": ""
             }
            },
            "marker": {
             "colorbar": {
              "outlinewidth": 0,
              "ticks": ""
             }
            },
            "type": "scatter3d"
           }
          ],
          "scattercarpet": [
           {
            "marker": {
             "colorbar": {
              "outlinewidth": 0,
              "ticks": ""
             }
            },
            "type": "scattercarpet"
           }
          ],
          "scattergeo": [
           {
            "marker": {
             "colorbar": {
              "outlinewidth": 0,
              "ticks": ""
             }
            },
            "type": "scattergeo"
           }
          ],
          "scattergl": [
           {
            "marker": {
             "colorbar": {
              "outlinewidth": 0,
              "ticks": ""
             }
            },
            "type": "scattergl"
           }
          ],
          "scattermapbox": [
           {
            "marker": {
             "colorbar": {
              "outlinewidth": 0,
              "ticks": ""
             }
            },
            "type": "scattermapbox"
           }
          ],
          "scatterpolar": [
           {
            "marker": {
             "colorbar": {
              "outlinewidth": 0,
              "ticks": ""
             }
            },
            "type": "scatterpolar"
           }
          ],
          "scatterpolargl": [
           {
            "marker": {
             "colorbar": {
              "outlinewidth": 0,
              "ticks": ""
             }
            },
            "type": "scatterpolargl"
           }
          ],
          "scatterternary": [
           {
            "marker": {
             "colorbar": {
              "outlinewidth": 0,
              "ticks": ""
             }
            },
            "type": "scatterternary"
           }
          ],
          "surface": [
           {
            "colorbar": {
             "outlinewidth": 0,
             "ticks": ""
            },
            "colorscale": [
             [
              0,
              "#0d0887"
             ],
             [
              0.1111111111111111,
              "#46039f"
             ],
             [
              0.2222222222222222,
              "#7201a8"
             ],
             [
              0.3333333333333333,
              "#9c179e"
             ],
             [
              0.4444444444444444,
              "#bd3786"
             ],
             [
              0.5555555555555556,
              "#d8576b"
             ],
             [
              0.6666666666666666,
              "#ed7953"
             ],
             [
              0.7777777777777778,
              "#fb9f3a"
             ],
             [
              0.8888888888888888,
              "#fdca26"
             ],
             [
              1,
              "#f0f921"
             ]
            ],
            "type": "surface"
           }
          ],
          "table": [
           {
            "cells": {
             "fill": {
              "color": "#EBF0F8"
             },
             "line": {
              "color": "white"
             }
            },
            "header": {
             "fill": {
              "color": "#C8D4E3"
             },
             "line": {
              "color": "white"
             }
            },
            "type": "table"
           }
          ]
         },
         "layout": {
          "annotationdefaults": {
           "arrowcolor": "#2a3f5f",
           "arrowhead": 0,
           "arrowwidth": 1
          },
          "autotypenumbers": "strict",
          "coloraxis": {
           "colorbar": {
            "outlinewidth": 0,
            "ticks": ""
           }
          },
          "colorscale": {
           "diverging": [
            [
             0,
             "#8e0152"
            ],
            [
             0.1,
             "#c51b7d"
            ],
            [
             0.2,
             "#de77ae"
            ],
            [
             0.3,
             "#f1b6da"
            ],
            [
             0.4,
             "#fde0ef"
            ],
            [
             0.5,
             "#f7f7f7"
            ],
            [
             0.6,
             "#e6f5d0"
            ],
            [
             0.7,
             "#b8e186"
            ],
            [
             0.8,
             "#7fbc41"
            ],
            [
             0.9,
             "#4d9221"
            ],
            [
             1,
             "#276419"
            ]
           ],
           "sequential": [
            [
             0,
             "#0d0887"
            ],
            [
             0.1111111111111111,
             "#46039f"
            ],
            [
             0.2222222222222222,
             "#7201a8"
            ],
            [
             0.3333333333333333,
             "#9c179e"
            ],
            [
             0.4444444444444444,
             "#bd3786"
            ],
            [
             0.5555555555555556,
             "#d8576b"
            ],
            [
             0.6666666666666666,
             "#ed7953"
            ],
            [
             0.7777777777777778,
             "#fb9f3a"
            ],
            [
             0.8888888888888888,
             "#fdca26"
            ],
            [
             1,
             "#f0f921"
            ]
           ],
           "sequentialminus": [
            [
             0,
             "#0d0887"
            ],
            [
             0.1111111111111111,
             "#46039f"
            ],
            [
             0.2222222222222222,
             "#7201a8"
            ],
            [
             0.3333333333333333,
             "#9c179e"
            ],
            [
             0.4444444444444444,
             "#bd3786"
            ],
            [
             0.5555555555555556,
             "#d8576b"
            ],
            [
             0.6666666666666666,
             "#ed7953"
            ],
            [
             0.7777777777777778,
             "#fb9f3a"
            ],
            [
             0.8888888888888888,
             "#fdca26"
            ],
            [
             1,
             "#f0f921"
            ]
           ]
          },
          "colorway": [
           "#636efa",
           "#EF553B",
           "#00cc96",
           "#ab63fa",
           "#FFA15A",
           "#19d3f3",
           "#FF6692",
           "#B6E880",
           "#FF97FF",
           "#FECB52"
          ],
          "font": {
           "color": "#2a3f5f"
          },
          "geo": {
           "bgcolor": "white",
           "lakecolor": "white",
           "landcolor": "#E5ECF6",
           "showlakes": true,
           "showland": true,
           "subunitcolor": "white"
          },
          "hoverlabel": {
           "align": "left"
          },
          "hovermode": "closest",
          "mapbox": {
           "style": "light"
          },
          "paper_bgcolor": "white",
          "plot_bgcolor": "#E5ECF6",
          "polar": {
           "angularaxis": {
            "gridcolor": "white",
            "linecolor": "white",
            "ticks": ""
           },
           "bgcolor": "#E5ECF6",
           "radialaxis": {
            "gridcolor": "white",
            "linecolor": "white",
            "ticks": ""
           }
          },
          "scene": {
           "xaxis": {
            "backgroundcolor": "#E5ECF6",
            "gridcolor": "white",
            "gridwidth": 2,
            "linecolor": "white",
            "showbackground": true,
            "ticks": "",
            "zerolinecolor": "white"
           },
           "yaxis": {
            "backgroundcolor": "#E5ECF6",
            "gridcolor": "white",
            "gridwidth": 2,
            "linecolor": "white",
            "showbackground": true,
            "ticks": "",
            "zerolinecolor": "white"
           },
           "zaxis": {
            "backgroundcolor": "#E5ECF6",
            "gridcolor": "white",
            "gridwidth": 2,
            "linecolor": "white",
            "showbackground": true,
            "ticks": "",
            "zerolinecolor": "white"
           }
          },
          "shapedefaults": {
           "line": {
            "color": "#2a3f5f"
           }
          },
          "ternary": {
           "aaxis": {
            "gridcolor": "white",
            "linecolor": "white",
            "ticks": ""
           },
           "baxis": {
            "gridcolor": "white",
            "linecolor": "white",
            "ticks": ""
           },
           "bgcolor": "#E5ECF6",
           "caxis": {
            "gridcolor": "white",
            "linecolor": "white",
            "ticks": ""
           }
          },
          "title": {
           "x": 0.05
          },
          "xaxis": {
           "automargin": true,
           "gridcolor": "white",
           "linecolor": "white",
           "ticks": "",
           "title": {
            "standoff": 15
           },
           "zerolinecolor": "white",
           "zerolinewidth": 2
          },
          "yaxis": {
           "automargin": true,
           "gridcolor": "white",
           "linecolor": "white",
           "ticks": "",
           "title": {
            "standoff": 15
           },
           "zerolinecolor": "white",
           "zerolinewidth": 2
          }
         }
        }
       }
      },
      "text/html": [
       "<div>                            <div id=\"5221c9c5-9415-45ef-b432-c0a66612bbe5\" class=\"plotly-graph-div\" style=\"height:525px; width:100%;\"></div>            <script type=\"text/javascript\">                require([\"plotly\"], function(Plotly) {                    window.PLOTLYENV=window.PLOTLYENV || {};                                    if (document.getElementById(\"5221c9c5-9415-45ef-b432-c0a66612bbe5\")) {                    Plotly.newPlot(                        \"5221c9c5-9415-45ef-b432-c0a66612bbe5\",                        [{\"coloraxis\":\"coloraxis\",\"hovertemplate\":\"rain_ml=%{z}<br>latitude=%{lat}<br>longitude=%{lon}<extra></extra>\",\"lat\":[15.51,15.51,15.51,15.51,15.51,14.35,14.35,14.35,14.35,14.35,13.45,13.45,13.45,13.45,13.45,18.23,18.23,18.23,18.23,18.23,15.0,15.0,15.0,15.0,15.0,13.42,13.42,13.42,13.42,13.42,15.11,15.11,15.11,15.11,15.11,15.48,15.48,15.48,15.48,15.48,12.38,12.38,12.38,12.38,12.38,18.47,18.47,18.47,18.47,18.47,19.52,19.52,19.52,19.52,19.52,13.21,13.21,13.21,13.21,13.21,10.35,10.35,10.35,10.35,10.35,16.26,16.26,16.26,16.26,16.26,16.28,16.28,16.28,16.28,16.28,14.02,14.02,14.02,14.02,14.02,16.3,16.3,16.3,16.3,16.3,8.04,8.04,8.04,8.04,8.04,18.16,18.16,18.16,18.16,18.16,18.4,18.4,18.4,18.4,18.4,17.29,17.29,17.29,17.29,17.29,14.48,14.48,14.48,14.48,14.48,19.16,19.16,19.16,19.16,19.16,16.12,16.12,16.12,16.12,16.12,16.32,16.32,16.32,16.32,16.32,14.12,14.12,14.12,14.12,14.12,13.49,13.49,13.49,13.49,13.49,17.23,17.23,17.23,17.23,17.23,14.59,14.59,14.59,14.59,14.59,15.35,15.35,15.35,15.35,15.35,8.29,8.29,8.29,8.29,8.29,15.42,15.42,15.42,15.42,15.42,6.3,6.3,6.3,6.3,6.3,17.174,17.174,17.174,17.174,17.174,17.5,17.5,17.5,17.5,17.5,13.51,13.51,13.51,13.51,13.51,14.02,14.02,14.02,14.02,14.02,6.48,6.48,6.48,6.48,6.48,8.28,8.28,8.28,8.28,8.28,7.39,7.39,7.39,7.39,7.39,19.11,19.11,19.11,19.11,19.11,16.25,16.25,16.25,16.25,16.25,13.01,13.01,13.01,13.01,13.01,16.26,16.26,16.26,16.26,16.26,14.2,14.2,14.2,14.2,14.2,14.25,14.25,14.25,14.25,14.25,18.07,18.07,18.07,18.07,18.07,7.53,7.53,7.53,7.53,7.53,14.0,14.0,14.0,14.0,14.0,11.49,11.49,11.49,11.49,11.49,9.56,9.56,9.56,9.56,9.56,13.3,13.3,13.3,13.3,13.3,12.4,12.4,12.4,12.4,12.4,16.4,16.4,16.4,16.4,16.4,13.8222,13.8222,13.8222,13.8222,13.8222,17.1,17.1,17.1,17.1,17.1,13.32,13.32,13.32,13.32,13.32,13.5498,13.5498,13.5498,13.5498,13.5498,13.24,13.24,13.24,13.24,13.24,14.3,14.3,14.3,14.3,14.3,6.43,6.43,6.43,6.43,6.43,15.8,15.8,15.8,15.8,15.8,14.53,14.53,14.53,14.53,14.53,7.13,7.13,7.13,7.13,7.13,17.0076,17.0076,17.0076,17.0076,17.0076,14.4745,14.4745,14.4745,14.4745,14.4745,9.6,9.6,9.6,9.6,9.6,14.5,14.5,14.5,14.5,14.5,16.52,16.52,16.52,16.52,16.52,7.33,7.33,7.33,7.33,7.33,12.2428,12.2428,12.2428,12.2428,12.2428,15.15,15.15,15.15,15.15,15.15,17.29,17.29,17.29,17.29,17.29,15.3835,15.3835,15.3835,15.3835,15.3835,17.36,17.36,17.36,17.36,17.36,6.5411,6.5411,6.5411,6.5411,6.5411,15.5,15.5,15.5,15.5,15.5],\"lon\":[104.38,104.38,104.38,104.38,104.38,100.31,100.31,100.31,100.31,100.31,100.35,100.35,100.35,100.35,100.35,103.37,103.37,103.37,103.37,103.37,103.0,103.0,103.0,103.0,103.0,101.05,101.05,101.05,101.05,101.05,100.08,100.08,100.08,100.08,100.08,102.02,102.02,102.02,102.02,102.02,102.12,102.12,102.12,102.12,102.12,98.59,98.59,98.59,98.59,98.59,99.5,99.5,99.5,99.5,99.5,101.01,101.01,101.01,101.01,101.01,99.14,99.14,99.14,99.14,99.14,103.3,103.3,103.3,103.3,103.3,99.3,99.3,99.3,99.3,99.3,99.31,99.31,99.31,99.31,99.31,102.47,102.47,102.47,102.47,102.47,98.55,98.55,98.55,98.55,98.55,99.32,99.32,99.32,99.32,99.32,99.02,99.02,99.02,99.02,99.02,101.35,101.35,101.35,101.35,101.35,100.37,100.37,100.37,100.37,100.37,97.56,97.56,97.56,97.56,97.56,103.16,103.16,103.16,103.16,103.16,104.43,104.43,104.43,104.43,104.43,101.13,101.13,101.13,101.13,101.13,100.03,100.03,100.03,100.03,100.03,104.43,104.43,104.43,104.43,104.43,102.12,102.12,102.12,102.12,102.12,100.1,100.1,100.1,100.1,100.1,100.0,100.0,100.0,100.0,100.0,100.09,100.09,100.09,100.09,100.09,101.48,101.48,101.48,101.48,101.48,102.4495,102.4495,102.4495,102.4495,102.4495,102.46,102.46,102.46,102.46,102.46,100.34,100.34,100.34,100.34,100.34,100.52,100.52,100.52,100.52,100.52,101.15,101.15,101.15,101.15,101.15,98.3,98.3,98.3,98.3,98.3,100.06,100.06,100.06,100.06,100.06,99.55,99.55,99.55,99.55,99.55,101.08,101.08,101.08,101.08,101.08,99.55,99.55,99.55,99.55,99.55,100.22,100.22,100.22,100.22,100.22,104.0,104.0,104.0,104.0,104.0,100.3,100.3,100.3,100.3,100.3,100.09,100.09,100.09,100.09,100.09,98.24,98.24,98.24,98.24,98.24,101.25,101.25,101.25,101.25,101.25,99.48,99.48,99.48,99.48,99.48,98.4,98.4,98.4,98.4,98.4,99.54,99.54,99.54,99.54,99.54,101.2,101.2,101.2,101.2,101.2,103.4,103.4,103.4,103.4,103.4,102.066,102.066,102.066,102.066,102.066,104.9,104.9,104.9,104.9,104.9,100.4,100.4,100.4,100.4,100.4,100.2741,100.2741,100.2741,100.2741,100.2741,100.1,100.1,100.1,100.1,100.1,100.55,100.55,100.55,100.55,100.55,100.2,100.2,100.2,100.2,100.2,104.23,104.23,104.23,104.23,104.23,100.25,100.25,100.25,100.25,100.25,100.37,100.37,100.37,100.37,100.37,99.8264,99.8264,99.8264,99.8264,99.8264,100.1177,100.1177,100.1177,100.1177,100.1177,99.2,99.2,99.2,99.2,99.2,103.34,103.34,103.34,103.34,103.34,99.8,99.8,99.8,99.8,99.8,99.38,99.38,99.38,99.38,99.38,102.5175,102.5175,102.5175,102.5175,102.5175,104.5,104.5,104.5,104.5,104.5,102.46,102.46,102.46,102.46,102.46,100.0246,100.0246,100.0246,100.0246,100.0246,100.5,100.5,100.5,100.5,100.5,101.2804,101.2804,101.2804,101.2804,101.2804,104.1,104.1,104.1,104.1,104.1],\"name\":\"\",\"radius\":15,\"subplot\":\"mapbox\",\"type\":\"densitymapbox\",\"z\":[1638.0,1638.0,1638.0,1638.0,1638.0,1638.0,1638.0,1638.0,1638.0,1638.0,1638.0,1638.0,1638.0,1638.0,1638.0,1638.0,1638.0,1638.0,1638.0,1638.0,1370.7,1873.8,831.6,1261.7,1638.0,1319.4,1865.3,1884.7,920.5,1638.0,1182.3,1195.9,791.7,739.0,1638.0,1234.8,1135.9,911.6,774.8,1638.0,3400.6,3681.6,2341.3,2538.0,1638.0,1179.3,1419.6,972.4,972.1,1638.0,1875.8,2244.7,1928.5,1012.8,1638.0,1463.2,1462.6,1332.8,1081.8,1638.0,1778.2,2489.0,2027.0,1764.5,1638.0,1463.2,1713.9,1108.6,1299.6,1638.0,1168.9,1863.8,1129.6,1041.7,1638.0,1194.8,1230.5,769.2,687.4,1638.0,1368.1,1426.6,1304.8,1068.6,1638.0,2348.0,2711.2,2203.4,1474.1,1638.0,1096.2,1511.6,1170.2,1238.9,1638.0,1313.4,1489.5,1121.2,923.5,1638.0,1406.9,1522.0,1073.7,624.9,1638.0,1123.1,1282.4,1281.4,790.1,1638.0,1119.8,1285.0,1169.1,1135.4,1638.0,1728.9,1890.8,1225.1,1228.2,1638.0,1307.7,2056.8,1929.0,1587.0,1638.0,1638.0,1638.0,1638.0,1638.0,1638.0,789.7,1228.0,1043.0,694.1,1638.0,2254.9,2663.9,2666.9,2178.1,1638.0,1090.1,1652.8,962.3,639.0,1638.0,1538.8,1760.5,883.8,975.4,1638.0,2448.9,4478.3,2218.8,2130.8,1638.0,1412.7,1205.3,1064.8,1275.0,1638.0,2726.2,4802.4,2784.4,2089.2,1638.0,1541.8,1608.2,1308.7,1024.0,1638.0,1955.0,2087.3,1667.4,1544.6,1638.0,1638.0,1638.0,1638.0,1638.0,1638.0,1027.5,1575.8,1475.4,837.0,1638.0,1781.4,3093.8,1993.4,1464.0,1638.0,1638.0,1638.0,1638.0,1638.0,1638.0,2114.2,3596.1,1840.6,1702.9,1638.0,1071.4,1286.0,1448.7,740.2,1638.0,1039.2,1373.7,998.2,880.8,1638.0,1133.0,1499.6,1033.9,585.6,1638.0,1170.0,1542.7,1054.4,837.6,1638.0,1380.9,1621.1,1140.2,867.6,1638.0,1028.7,1369.8,1023.7,575.8,1638.0,1342.6,1411.9,1023.5,999.9,1638.0,2536.5,2766.4,2069.3,1688.8,1638.0,1662.5,1895.3,1970.2,1341.4,1638.0,1084.0,1474.5,1422.4,855.1,1638.0,4924.9,4692.8,4760.5,3828.7,1638.0,1243.2,1207.9,1006.5,956.1,1638.0,1308.5,1659.2,941.6,946.0,1638.0,1440.8,1759.1,1224.6,1530.7,1638.0,1638.0,1638.0,1638.0,1638.0,1638.0,1349.3,2422.9,1560.0,1213.0,1638.0,2082.7,1650.9,1498.9,962.6,1638.0,1638.0,1638.0,1638.0,1638.0,1638.0,1638.0,1638.0,1638.0,1638.0,1638.0,1638.0,1638.0,1638.0,1638.0,1638.0,1940.0,3039.0,2224.6,1905.7,1638.0,1310.6,1663.4,1435.6,1194.3,1638.0,1638.0,1638.0,1638.0,1638.0,1638.0,2191.5,3424.7,1989.7,1370.8,1638.0,1272.0,1694.3,880.1,736.2,1638.0,1090.9,1357.9,863.2,513.2,1638.0,1447.2,1631.8,1611.8,1233.1,1638.0,1406.2,1512.0,1125.1,1194.2,1638.0,1150.5,1402.7,926.7,871.6,1638.0,2559.8,3221.6,2143.2,2035.5,1638.0,5669.6,4530.6,4800.4,5287.3,1638.0,1905.8,1794.9,1731.6,1697.7,1638.0,1477.0,1860.2,1423.7,1285.7,1638.0,1638.0,1638.0,1638.0,1638.0,1638.0,1355.8,1552.1,1329.9,842.8,1638.0,1715.0,3667.0,2240.3,2097.2,1638.0,1638.0,1638.0,1638.0,1638.0,1638.0]}],                        {\"coloraxis\":{\"colorbar\":{\"title\":{\"text\":\"rain_ml\"}},\"colorscale\":[[0.0,\"#0d0887\"],[0.1111111111111111,\"#46039f\"],[0.2222222222222222,\"#7201a8\"],[0.3333333333333333,\"#9c179e\"],[0.4444444444444444,\"#bd3786\"],[0.5555555555555556,\"#d8576b\"],[0.6666666666666666,\"#ed7953\"],[0.7777777777777778,\"#fb9f3a\"],[0.8888888888888888,\"#fdca26\"],[1.0,\"#f0f921\"]]},\"legend\":{\"tracegroupgap\":0},\"mapbox\":{\"center\":{\"lat\":13,\"lon\":100},\"domain\":{\"x\":[0.0,1.0],\"y\":[0.0,1.0]},\"style\":\"stamen-watercolor\",\"zoom\":5},\"margin\":{\"t\":60},\"template\":{\"data\":{\"bar\":[{\"error_x\":{\"color\":\"#2a3f5f\"},\"error_y\":{\"color\":\"#2a3f5f\"},\"marker\":{\"line\":{\"color\":\"#E5ECF6\",\"width\":0.5},\"pattern\":{\"fillmode\":\"overlay\",\"size\":10,\"solidity\":0.2}},\"type\":\"bar\"}],\"barpolar\":[{\"marker\":{\"line\":{\"color\":\"#E5ECF6\",\"width\":0.5},\"pattern\":{\"fillmode\":\"overlay\",\"size\":10,\"solidity\":0.2}},\"type\":\"barpolar\"}],\"carpet\":[{\"aaxis\":{\"endlinecolor\":\"#2a3f5f\",\"gridcolor\":\"white\",\"linecolor\":\"white\",\"minorgridcolor\":\"white\",\"startlinecolor\":\"#2a3f5f\"},\"baxis\":{\"endlinecolor\":\"#2a3f5f\",\"gridcolor\":\"white\",\"linecolor\":\"white\",\"minorgridcolor\":\"white\",\"startlinecolor\":\"#2a3f5f\"},\"type\":\"carpet\"}],\"choropleth\":[{\"colorbar\":{\"outlinewidth\":0,\"ticks\":\"\"},\"type\":\"choropleth\"}],\"contour\":[{\"colorbar\":{\"outlinewidth\":0,\"ticks\":\"\"},\"colorscale\":[[0.0,\"#0d0887\"],[0.1111111111111111,\"#46039f\"],[0.2222222222222222,\"#7201a8\"],[0.3333333333333333,\"#9c179e\"],[0.4444444444444444,\"#bd3786\"],[0.5555555555555556,\"#d8576b\"],[0.6666666666666666,\"#ed7953\"],[0.7777777777777778,\"#fb9f3a\"],[0.8888888888888888,\"#fdca26\"],[1.0,\"#f0f921\"]],\"type\":\"contour\"}],\"contourcarpet\":[{\"colorbar\":{\"outlinewidth\":0,\"ticks\":\"\"},\"type\":\"contourcarpet\"}],\"heatmap\":[{\"colorbar\":{\"outlinewidth\":0,\"ticks\":\"\"},\"colorscale\":[[0.0,\"#0d0887\"],[0.1111111111111111,\"#46039f\"],[0.2222222222222222,\"#7201a8\"],[0.3333333333333333,\"#9c179e\"],[0.4444444444444444,\"#bd3786\"],[0.5555555555555556,\"#d8576b\"],[0.6666666666666666,\"#ed7953\"],[0.7777777777777778,\"#fb9f3a\"],[0.8888888888888888,\"#fdca26\"],[1.0,\"#f0f921\"]],\"type\":\"heatmap\"}],\"heatmapgl\":[{\"colorbar\":{\"outlinewidth\":0,\"ticks\":\"\"},\"colorscale\":[[0.0,\"#0d0887\"],[0.1111111111111111,\"#46039f\"],[0.2222222222222222,\"#7201a8\"],[0.3333333333333333,\"#9c179e\"],[0.4444444444444444,\"#bd3786\"],[0.5555555555555556,\"#d8576b\"],[0.6666666666666666,\"#ed7953\"],[0.7777777777777778,\"#fb9f3a\"],[0.8888888888888888,\"#fdca26\"],[1.0,\"#f0f921\"]],\"type\":\"heatmapgl\"}],\"histogram\":[{\"marker\":{\"pattern\":{\"fillmode\":\"overlay\",\"size\":10,\"solidity\":0.2}},\"type\":\"histogram\"}],\"histogram2d\":[{\"colorbar\":{\"outlinewidth\":0,\"ticks\":\"\"},\"colorscale\":[[0.0,\"#0d0887\"],[0.1111111111111111,\"#46039f\"],[0.2222222222222222,\"#7201a8\"],[0.3333333333333333,\"#9c179e\"],[0.4444444444444444,\"#bd3786\"],[0.5555555555555556,\"#d8576b\"],[0.6666666666666666,\"#ed7953\"],[0.7777777777777778,\"#fb9f3a\"],[0.8888888888888888,\"#fdca26\"],[1.0,\"#f0f921\"]],\"type\":\"histogram2d\"}],\"histogram2dcontour\":[{\"colorbar\":{\"outlinewidth\":0,\"ticks\":\"\"},\"colorscale\":[[0.0,\"#0d0887\"],[0.1111111111111111,\"#46039f\"],[0.2222222222222222,\"#7201a8\"],[0.3333333333333333,\"#9c179e\"],[0.4444444444444444,\"#bd3786\"],[0.5555555555555556,\"#d8576b\"],[0.6666666666666666,\"#ed7953\"],[0.7777777777777778,\"#fb9f3a\"],[0.8888888888888888,\"#fdca26\"],[1.0,\"#f0f921\"]],\"type\":\"histogram2dcontour\"}],\"mesh3d\":[{\"colorbar\":{\"outlinewidth\":0,\"ticks\":\"\"},\"type\":\"mesh3d\"}],\"parcoords\":[{\"line\":{\"colorbar\":{\"outlinewidth\":0,\"ticks\":\"\"}},\"type\":\"parcoords\"}],\"pie\":[{\"automargin\":true,\"type\":\"pie\"}],\"scatter\":[{\"marker\":{\"colorbar\":{\"outlinewidth\":0,\"ticks\":\"\"}},\"type\":\"scatter\"}],\"scatter3d\":[{\"line\":{\"colorbar\":{\"outlinewidth\":0,\"ticks\":\"\"}},\"marker\":{\"colorbar\":{\"outlinewidth\":0,\"ticks\":\"\"}},\"type\":\"scatter3d\"}],\"scattercarpet\":[{\"marker\":{\"colorbar\":{\"outlinewidth\":0,\"ticks\":\"\"}},\"type\":\"scattercarpet\"}],\"scattergeo\":[{\"marker\":{\"colorbar\":{\"outlinewidth\":0,\"ticks\":\"\"}},\"type\":\"scattergeo\"}],\"scattergl\":[{\"marker\":{\"colorbar\":{\"outlinewidth\":0,\"ticks\":\"\"}},\"type\":\"scattergl\"}],\"scattermapbox\":[{\"marker\":{\"colorbar\":{\"outlinewidth\":0,\"ticks\":\"\"}},\"type\":\"scattermapbox\"}],\"scatterpolar\":[{\"marker\":{\"colorbar\":{\"outlinewidth\":0,\"ticks\":\"\"}},\"type\":\"scatterpolar\"}],\"scatterpolargl\":[{\"marker\":{\"colorbar\":{\"outlinewidth\":0,\"ticks\":\"\"}},\"type\":\"scatterpolargl\"}],\"scatterternary\":[{\"marker\":{\"colorbar\":{\"outlinewidth\":0,\"ticks\":\"\"}},\"type\":\"scatterternary\"}],\"surface\":[{\"colorbar\":{\"outlinewidth\":0,\"ticks\":\"\"},\"colorscale\":[[0.0,\"#0d0887\"],[0.1111111111111111,\"#46039f\"],[0.2222222222222222,\"#7201a8\"],[0.3333333333333333,\"#9c179e\"],[0.4444444444444444,\"#bd3786\"],[0.5555555555555556,\"#d8576b\"],[0.6666666666666666,\"#ed7953\"],[0.7777777777777778,\"#fb9f3a\"],[0.8888888888888888,\"#fdca26\"],[1.0,\"#f0f921\"]],\"type\":\"surface\"}],\"table\":[{\"cells\":{\"fill\":{\"color\":\"#EBF0F8\"},\"line\":{\"color\":\"white\"}},\"header\":{\"fill\":{\"color\":\"#C8D4E3\"},\"line\":{\"color\":\"white\"}},\"type\":\"table\"}]},\"layout\":{\"annotationdefaults\":{\"arrowcolor\":\"#2a3f5f\",\"arrowhead\":0,\"arrowwidth\":1},\"autotypenumbers\":\"strict\",\"coloraxis\":{\"colorbar\":{\"outlinewidth\":0,\"ticks\":\"\"}},\"colorscale\":{\"diverging\":[[0,\"#8e0152\"],[0.1,\"#c51b7d\"],[0.2,\"#de77ae\"],[0.3,\"#f1b6da\"],[0.4,\"#fde0ef\"],[0.5,\"#f7f7f7\"],[0.6,\"#e6f5d0\"],[0.7,\"#b8e186\"],[0.8,\"#7fbc41\"],[0.9,\"#4d9221\"],[1,\"#276419\"]],\"sequential\":[[0.0,\"#0d0887\"],[0.1111111111111111,\"#46039f\"],[0.2222222222222222,\"#7201a8\"],[0.3333333333333333,\"#9c179e\"],[0.4444444444444444,\"#bd3786\"],[0.5555555555555556,\"#d8576b\"],[0.6666666666666666,\"#ed7953\"],[0.7777777777777778,\"#fb9f3a\"],[0.8888888888888888,\"#fdca26\"],[1.0,\"#f0f921\"]],\"sequentialminus\":[[0.0,\"#0d0887\"],[0.1111111111111111,\"#46039f\"],[0.2222222222222222,\"#7201a8\"],[0.3333333333333333,\"#9c179e\"],[0.4444444444444444,\"#bd3786\"],[0.5555555555555556,\"#d8576b\"],[0.6666666666666666,\"#ed7953\"],[0.7777777777777778,\"#fb9f3a\"],[0.8888888888888888,\"#fdca26\"],[1.0,\"#f0f921\"]]},\"colorway\":[\"#636efa\",\"#EF553B\",\"#00cc96\",\"#ab63fa\",\"#FFA15A\",\"#19d3f3\",\"#FF6692\",\"#B6E880\",\"#FF97FF\",\"#FECB52\"],\"font\":{\"color\":\"#2a3f5f\"},\"geo\":{\"bgcolor\":\"white\",\"lakecolor\":\"white\",\"landcolor\":\"#E5ECF6\",\"showlakes\":true,\"showland\":true,\"subunitcolor\":\"white\"},\"hoverlabel\":{\"align\":\"left\"},\"hovermode\":\"closest\",\"mapbox\":{\"style\":\"light\"},\"paper_bgcolor\":\"white\",\"plot_bgcolor\":\"#E5ECF6\",\"polar\":{\"angularaxis\":{\"gridcolor\":\"white\",\"linecolor\":\"white\",\"ticks\":\"\"},\"bgcolor\":\"#E5ECF6\",\"radialaxis\":{\"gridcolor\":\"white\",\"linecolor\":\"white\",\"ticks\":\"\"}},\"scene\":{\"xaxis\":{\"backgroundcolor\":\"#E5ECF6\",\"gridcolor\":\"white\",\"gridwidth\":2,\"linecolor\":\"white\",\"showbackground\":true,\"ticks\":\"\",\"zerolinecolor\":\"white\"},\"yaxis\":{\"backgroundcolor\":\"#E5ECF6\",\"gridcolor\":\"white\",\"gridwidth\":2,\"linecolor\":\"white\",\"showbackground\":true,\"ticks\":\"\",\"zerolinecolor\":\"white\"},\"zaxis\":{\"backgroundcolor\":\"#E5ECF6\",\"gridcolor\":\"white\",\"gridwidth\":2,\"linecolor\":\"white\",\"showbackground\":true,\"ticks\":\"\",\"zerolinecolor\":\"white\"}},\"shapedefaults\":{\"line\":{\"color\":\"#2a3f5f\"}},\"ternary\":{\"aaxis\":{\"gridcolor\":\"white\",\"linecolor\":\"white\",\"ticks\":\"\"},\"baxis\":{\"gridcolor\":\"white\",\"linecolor\":\"white\",\"ticks\":\"\"},\"bgcolor\":\"#E5ECF6\",\"caxis\":{\"gridcolor\":\"white\",\"linecolor\":\"white\",\"ticks\":\"\"}},\"title\":{\"x\":0.05},\"xaxis\":{\"automargin\":true,\"gridcolor\":\"white\",\"linecolor\":\"white\",\"ticks\":\"\",\"title\":{\"standoff\":15},\"zerolinecolor\":\"white\",\"zerolinewidth\":2},\"yaxis\":{\"automargin\":true,\"gridcolor\":\"white\",\"linecolor\":\"white\",\"ticks\":\"\",\"title\":{\"standoff\":15},\"zerolinecolor\":\"white\",\"zerolinewidth\":2}}}},                        {\"responsive\": true}                    ).then(function(){\n",
       "                            \n",
       "var gd = document.getElementById('5221c9c5-9415-45ef-b432-c0a66612bbe5');\n",
       "var x = new MutationObserver(function (mutations, observer) {{\n",
       "        var display = window.getComputedStyle(gd).display;\n",
       "        if (!display || display === 'none') {{\n",
       "            console.log([gd, 'removed!']);\n",
       "            Plotly.purge(gd);\n",
       "            observer.disconnect();\n",
       "        }}\n",
       "}});\n",
       "\n",
       "// Listen for the removal of the full notebook cells\n",
       "var notebookContainer = gd.closest('#notebook-container');\n",
       "if (notebookContainer) {{\n",
       "    x.observe(notebookContainer, {childList: true});\n",
       "}}\n",
       "\n",
       "// Listen for the clearing of the current output cell\n",
       "var outputEl = gd.closest('.output');\n",
       "if (outputEl) {{\n",
       "    x.observe(outputEl, {childList: true});\n",
       "}}\n",
       "\n",
       "                        })                };                });            </script>        </div>"
      ]
     },
     "metadata": {},
     "output_type": "display_data"
    }
   ],
   "source": [
    "fig2 = px.density_mapbox(heatmap_df_2020, lat='latitude', lon='longitude', z='rain_ml', radius=15,\n",
    "                        center=dict(lat=13, lon=100), zoom=5,\n",
    "                        mapbox_style=\"stamen-watercolor\")\n",
    "fig2.show()"
   ]
  },
  {
   "cell_type": "code",
   "execution_count": null,
   "id": "e2d7f7e6",
   "metadata": {},
   "outputs": [],
   "source": []
  }
 ],
 "metadata": {
  "kernelspec": {
   "display_name": "Python 3 (ipykernel)",
   "language": "python",
   "name": "python3"
  },
  "language_info": {
   "codemirror_mode": {
    "name": "ipython",
    "version": 3
   },
   "file_extension": ".py",
   "mimetype": "text/x-python",
   "name": "python",
   "nbconvert_exporter": "python",
   "pygments_lexer": "ipython3",
   "version": "3.8.8"
  }
 },
 "nbformat": 4,
 "nbformat_minor": 5
}
